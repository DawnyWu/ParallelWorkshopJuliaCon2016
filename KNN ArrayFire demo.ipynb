{
 "cells": [
  {
   "cell_type": "markdown",
   "metadata": {},
   "source": [
    "## Character recognition \n",
    "\n",
    "This demo extends the kaggle [competition](https://www.kaggle.com/c/street-view-getting-started-with-julia/details/julia-tutorial). In this demo, we train using images of characters obtained from google view, and also classify test images which are of various sizes. Firstly k-Nearest Neighbor is used to identify the characters. \n",
    "\n",
    "#### Some key takeaways:\n",
    "* Ease of prototyping deployable models. \n",
    "* How to gain from vectorizations using **ArrayFire**.\n",
    "\n",
    "The following data has been placed in the /data directory\n",
    "\n",
    "* testResized/\n",
    "* trainResized/\n",
    "* sampleSubmission.csv\n",
    "* trainLabels.csv\n",
    "\n",
    "First, let's load all the packages we need."
   ]
  },
  {
   "cell_type": "code",
   "execution_count": 1,
   "metadata": {
    "collapsed": false
   },
   "outputs": [
    {
     "name": "stderr",
     "output_type": "stream",
     "text": [
      "INFO: Recompiling stale cache file /home/juser/.julia/lib/v0.4/DataStructures.ji for module DataStructures.\n",
      "INFO: Recompiling stale cache file /home/juser/.julia/lib/v0.4/Gadfly.ji for module Gadfly.\n",
      "INFO: Recompiling stale cache file /home/juser/.julia/lib/v0.4/Compose.ji for module Compose.\n"
     ]
    },
    {
     "data": {
      "text/html": [
       "<script charset=\"utf-8\">(function ($, undefined) {\n",
       "\n",
       "    function createElem(tag, attr, content) {\n",
       "\t// TODO: remove jQuery dependency\n",
       "\tvar el = $(\"<\" + tag + \"/>\").attr(attr);\n",
       "\tif (content) {\n",
       "\t    el.append(content);\n",
       "\t}\n",
       "\treturn el[0];\n",
       "    }\n",
       "\n",
       "    // A widget must expose an id field which identifies it to the backend,\n",
       "    // an elem attribute which is will be added to the DOM, and\n",
       "    // a getState() method which returns the value to be sent to the backend\n",
       "    // a sendUpdate() method which sends its current value to the backend\n",
       "    var Widget = {\n",
       "\tid: undefined,\n",
       "\telem: undefined,\n",
       "\tlabel: undefined,\n",
       "\tgetState: function () {\n",
       "\t    return this.elem.value;\n",
       "\t},\n",
       "\tsendUpdate: undefined\n",
       "    };\n",
       "\n",
       "    var Slider = function (typ, id, init) {\n",
       "\tvar attr = { type:  \"range\",\n",
       "\t\t     value: init.value,\n",
       "\t\t     min:   init.min,\n",
       "\t\t     max:   init.max,\n",
       "\t\t     step:  init.step },\n",
       "\t    elem = createElem(\"input\", attr),\n",
       "\t    self = this;\n",
       "\n",
       "\telem.onchange = function () {\n",
       "\t    self.sendUpdate();\n",
       "\t}\n",
       "\n",
       "\tthis.id = id;\n",
       "\tthis.elem = elem;\n",
       "\tthis.label = init.label;\n",
       "\n",
       "\tInputWidgets.commInitializer(this); // Initialize communication\n",
       "    }\n",
       "    Slider.prototype = Widget;\n",
       "\n",
       "    var Checkbox = function (typ, id, init) {\n",
       "\tvar attr = { type: \"checkbox\",\n",
       "\t\t     checked: init.value },\n",
       "\t    elem = createElem(\"input\", attr),\n",
       "\t    self = this;\n",
       "\n",
       "\tthis.getState = function () {\n",
       "\t    return elem.checked;\n",
       "\t}\n",
       "\telem.onchange = function () {\n",
       "\t    self.sendUpdate();\n",
       "\t}\n",
       "\n",
       "\tthis.id = id;\n",
       "\tthis.elem = elem;\n",
       "\tthis.label = init.label;\n",
       "\n",
       "\tInputWidgets.commInitializer(this);\n",
       "    }\n",
       "    Checkbox.prototype = Widget;\n",
       "\n",
       "    var Button = function (typ, id, init) {\n",
       "\tvar attr = { type:    \"button\",\n",
       "\t\t     value:   init.label },\n",
       "\t    elem = createElem(\"input\", attr),\n",
       "\t    self = this;\n",
       "\tthis.getState = function () {\n",
       "\t    return null;\n",
       "\t}\n",
       "\telem.onclick = function () {\n",
       "\t    self.sendUpdate();\n",
       "\t}\n",
       "\n",
       "\tthis.id = id;\n",
       "\tthis.elem = elem;\n",
       "\tthis.label = init.label;\n",
       "\n",
       "\tInputWidgets.commInitializer(this);\n",
       "    }\n",
       "    Button.prototype = Widget;\n",
       "\n",
       "    var Text = function (typ, id, init) {\n",
       "\tvar attr = { type:  \"text\",\n",
       "\t\t     placeholder: init.label,\n",
       "\t\t     value: init.value },\n",
       "\t    elem = createElem(\"input\", attr),\n",
       "\t    self = this;\n",
       "\tthis.getState = function () {\n",
       "\t    return elem.value;\n",
       "\t}\n",
       "\telem.onkeyup = function () {\n",
       "\t    self.sendUpdate();\n",
       "\t}\n",
       "\n",
       "\tthis.id = id;\n",
       "\tthis.elem = elem;\n",
       "\tthis.label = init.label;\n",
       "\n",
       "\tInputWidgets.commInitializer(this);\n",
       "    }\n",
       "    Text.prototype = Widget;\n",
       "\n",
       "    var Textarea = function (typ, id, init) {\n",
       "\tvar attr = { placeholder: init.label },\n",
       "\t    elem = createElem(\"textarea\", attr, init.value),\n",
       "\t    self = this;\n",
       "\tthis.getState = function () {\n",
       "\t    return elem.value;\n",
       "\t}\n",
       "\telem.onchange = function () {\n",
       "\t    self.sendUpdate();\n",
       "\t}\n",
       "\n",
       "\tthis.id = id;\n",
       "\tthis.elem = elem;\n",
       "\tthis.label = init.label;\n",
       "\n",
       "\tInputWidgets.commInitializer(this);\n",
       "    }\n",
       "    Textarea.prototype = Widget;\n",
       "\n",
       "    // RadioButtons\n",
       "    // Dropdown\n",
       "    // HTML\n",
       "    // Latex\n",
       "\n",
       "    var InputWidgets = {\n",
       "\tSlider: Slider,\n",
       "\tCheckbox: Checkbox,\n",
       "\tButton: Button,\n",
       "\tText: Text,\n",
       "\tTextarea: Textarea,\n",
       "\tdebug: false,\n",
       "\tlog: function () {\n",
       "\t    if (InputWidgets.debug) {\n",
       "\t\tconsole.log.apply(console, arguments);\n",
       "\t    }\n",
       "\t},\n",
       "\t// a central way to initalize communication\n",
       "\t// for widgets.\n",
       "\tcommInitializer: function (widget) {\n",
       "\t    widget.sendUpdate = function () {};\n",
       "\t}\n",
       "    };\n",
       "\n",
       "    window.InputWidgets = InputWidgets;\n",
       "\n",
       "})(jQuery, undefined);\n",
       "</script>"
      ]
     },
     "metadata": {},
     "output_type": "display_data"
    },
    {
     "data": {
      "text/html": [
       "<div id=\"interact-js-shim\">\n",
       "    <script charset=\"utf-8\">\n",
       "(function (IPython, $, _, MathJax, Widgets) {\n",
       "    $.event.special.destroyed = {\n",
       "\tremove: function(o) {\n",
       "\t    if (o.handler) {\n",
       "\t\to.handler.apply(this, arguments)\n",
       "\t    }\n",
       "\t}\n",
       "    }\n",
       "\n",
       "    var OutputArea = IPython.version >= \"4.0.0\" ? require(\"notebook/js/outputarea\").OutputArea : IPython.OutputArea;\n",
       "\n",
       "    var redrawValue = function (container, type, val) {\n",
       "\tvar selector = $(\"<div/>\");\n",
       "\tvar oa = new OutputArea(_.extend(selector, {\n",
       "\t    selector: selector,\n",
       "\t    prompt_area: true,\n",
       "\t    events: IPython.events,\n",
       "\t    keyboard_manager: IPython.keyboard_manager\n",
       "\t})); // Hack to work with IPython 2.1.0\n",
       "\n",
       "\tswitch (type) {\n",
       "\tcase \"image/png\":\n",
       "            var _src = 'data:' + type + ';base64,' + val;\n",
       "\t    $(container).find(\"img\").attr('src', _src);\n",
       "\t    break;\n",
       "\tdefault:\n",
       "\t    var toinsert = OutputArea.append_map[type].apply(\n",
       "\t\toa, [val, {}, selector]\n",
       "\t    );\n",
       "\t    $(container).empty().append(toinsert.contents());\n",
       "\t    selector.remove();\n",
       "\t}\n",
       "\tif (type === \"text/latex\" && MathJax) {\n",
       "\t    MathJax.Hub.Queue([\"Typeset\", MathJax.Hub, toinsert.get(0)]);\n",
       "\t}\n",
       "    }\n",
       "\n",
       "\n",
       "    $(document).ready(function() {\n",
       "\tWidgets.debug = false; // log messages etc in console.\n",
       "\tfunction initComm(evt, data) {\n",
       "\t    var comm_manager = data.kernel.comm_manager;\n",
       "        //_.extend(comm_manager.targets, require(\"widgets/js/widget\"))\n",
       "\t    comm_manager.register_target(\"Signal\", function (comm) {\n",
       "            comm.on_msg(function (msg) {\n",
       "                //Widgets.log(\"message received\", msg);\n",
       "                var val = msg.content.data.value;\n",
       "                $(\".signal-\" + comm.comm_id).each(function() {\n",
       "                var type = $(this).data(\"type\");\n",
       "                if (val[type]) {\n",
       "                    redrawValue(this, type, val[type], type);\n",
       "                }\n",
       "                });\n",
       "                delete val;\n",
       "                delete msg.content.data.value;\n",
       "            });\n",
       "\t    });\n",
       "\n",
       "\t    // coordingate with Comm and redraw Signals\n",
       "\t    // XXX: Test using Reactive here to improve performance\n",
       "\t    $([IPython.events]).on(\n",
       "\t\t'output_appended.OutputArea', function (event, type, value, md, toinsert) {\n",
       "\t\t    if (md && md.reactive) {\n",
       "                // console.log(md.comm_id);\n",
       "                toinsert.addClass(\"signal-\" + md.comm_id);\n",
       "                toinsert.data(\"type\", type);\n",
       "                // Signal back indicating the mimetype required\n",
       "                var comm_manager = IPython.notebook.kernel.comm_manager;\n",
       "                var comm = comm_manager.comms[md.comm_id];\n",
       "                comm.then(function (c) {\n",
       "                    c.send({action: \"subscribe_mime\",\n",
       "                       mime: type});\n",
       "                    toinsert.bind(\"destroyed\", function() {\n",
       "                        c.send({action: \"unsubscribe_mime\",\n",
       "                               mime: type});\n",
       "                    });\n",
       "                })\n",
       "\t\t    }\n",
       "\t    });\n",
       "\t}\n",
       "\n",
       "\ttry {\n",
       "\t    // try to initialize right away. otherwise, wait on the status_started event.\n",
       "\t    initComm(undefined, IPython.notebook);\n",
       "\t} catch (e) {\n",
       "\t    $([IPython.events]).on('kernel_created.Kernel kernel_created.Session', initComm);\n",
       "\t}\n",
       "    });\n",
       "})(IPython, jQuery, _, MathJax, InputWidgets);\n",
       "</script>\n",
       "    <script>\n",
       "        window.interactLoadedFlag = true\n",
       "       $(\"#interact-js-shim\").bind(\"destroyed\", function () {\n",
       "           if (window.interactLoadedFlag) {\n",
       "               console.warn(\"JavaScript required by Interact will be removed if you remove this cell or run using Interact more than once.\")\n",
       "           }\n",
       "       })\n",
       "       $([IPython.events]).on(\"kernel_starting.Kernel kernel_restarting.Kernel\", function () { window.interactLoadedFlag = false })\n",
       "   </script>\n",
       "</div>"
      ]
     },
     "metadata": {},
     "output_type": "display_data"
    },
    {
     "name": "stderr",
     "output_type": "stream",
     "text": [
      "WARNING: New definition \n",
      "    +(AbstractArray, Images.AbstractImageDirect) at /home/juser/.julia/v0.4/Images/src/algorithms.jl:20\n",
      "is ambiguous with: \n",
      "    +(DataArrays.DataArray, AbstractArray) at /opt/julia_packages/.julia/v0.4/DataArrays/src/operators.jl:276.\n",
      "To fix, define \n",
      "    +(DataArrays.DataArray, Images.AbstractImageDirect)\n",
      "before the new definition.\n",
      "WARNING: New definition \n",
      "    +(AbstractArray, Images.AbstractImageDirect) at /home/juser/.julia/v0.4/Images/src/algorithms.jl:20\n",
      "is ambiguous with: \n",
      "    +(DataArrays.AbstractDataArray, AbstractArray) at /opt/julia_packages/.julia/v0.4/DataArrays/src/operators.jl:300.\n",
      "To fix, define \n",
      "    +(DataArrays.AbstractDataArray, Images.AbstractImageDirect)\n",
      "before the new definition.\n",
      "WARNING: New definition \n",
      "    convert(Type{Array{#T<:ColorTypes.Colorant, N<:Any}}, AbstractArray{#S<:Any, #n<:Any}) at /home/juser/.julia/v0.4/Images/src/core.jl:400\n",
      "is ambiguous with: \n",
      "    convert(Type{Array{#S<:Any, N<:Any}}, DataArrays.DataArray{#T<:Any, #N<:Any}) at /opt/julia_packages/.julia/v0.4/DataArrays/src/dataarray.jl:367.\n",
      "To fix, define \n",
      "    convert(Type{Array{#T<:ColorTypes.Colorant, N<:Any}}, DataArrays.DataArray{#T<:Any, #N<:Any})\n",
      "before the new definition.\n",
      "WARNING: New definition \n",
      "    .<(Images.AbstractImageDirect{Bool, N<:Any}, AbstractArray{Bool, N<:Any}) at /home/juser/.julia/v0.4/Images/src/algorithms.jl:177\n",
      "is ambiguous with: \n",
      "    .<(AbstractArray{Bool, N<:Any}, Union{DataArrays.DataArray{Bool, N<:Any}, DataArrays.PooledDataArray{Bool, R<:Integer, N<:Any}}) at /opt/julia_packages/.julia/v0.4/DataArrays/src/broadcast.jl:338.\n",
      "To fix, define \n",
      "    .<(Images.AbstractImageDirect{Bool, N<:Any}, Union{DataArrays.DataArray{Bool, N<:Any}, DataArrays.PooledDataArray{Bool, R<:Integer, N<:Any}})\n",
      "before the new definition.\n",
      "WARNING: New definition \n",
      "    .<(Images.AbstractImageDirect, AbstractArray) at /home/juser/.julia/v0.4/Images/src/algorithms.jl:178\n",
      "is ambiguous with: \n",
      "    .<(AbstractArray{Bool, N<:Any}, Union{DataArrays.DataArray{Bool, N<:Any}, DataArrays.PooledDataArray{Bool, R<:Integer, N<:Any}}) at /opt/julia_packages/.julia/v0.4/DataArrays/src/broadcast.jl:338.\n",
      "To fix, define \n",
      "    .<(Images.AbstractImageDirect{Bool, N<:Any}, Union{DataArrays.DataArray{Bool, N<:Any}, DataArrays.PooledDataArray{Bool, R<:Integer, N<:Any}})\n",
      "before the new definition.\n",
      "WARNING: New definition \n",
      "    .<(Images.AbstractImageDirect, AbstractArray) at /home/juser/.julia/v0.4/Images/src/algorithms.jl:178\n",
      "is ambiguous with: \n",
      "    .<(AbstractArray, Union{DataArrays.DataArray, DataArrays.PooledDataArray}) at /opt/julia_packages/.julia/v0.4/DataArrays/src/broadcast.jl:280.\n",
      "To fix, define \n",
      "    .<(Images.AbstractImageDirect, Union{DataArrays.DataArray, DataArrays.PooledDataArray})\n",
      "before the new definition.\n",
      "WARNING: New definition \n",
      "    .+(Images.AbstractImageDirect, AbstractArray) at /home/juser/.julia/v0.4/Images/src/algorithms.jl:22\n",
      "is ambiguous with: \n",
      "    .+(AbstractArray, Union{DataArrays.DataArray, DataArrays.PooledDataArray}, AbstractArray...) at /opt/julia_packages/.julia/v0.4/DataArrays/src/broadcast.jl:292.\n",
      "To fix, define \n",
      "    .+(Images.AbstractImageDirect, Union{DataArrays.DataArray, DataArrays.PooledDataArray})\n",
      "before the new definition.\n",
      "WARNING: New definition \n",
      "    -(Images.AbstractImageDirect, AbstractArray) at /home/juser/.julia/v0.4/Images/src/algorithms.jl:35\n",
      "is ambiguous with: \n",
      "    -(AbstractArray, DataArrays.DataArray) at /opt/julia_packages/.julia/v0.4/DataArrays/src/operators.jl:276.\n",
      "To fix, define \n",
      "    -(Images.AbstractImageDirect, DataArrays.DataArray)\n",
      "before the new definition.\n",
      "WARNING: New definition \n",
      "    -(Images.AbstractImageDirect, AbstractArray) at /home/juser/.julia/v0.4/Images/src/algorithms.jl:35\n",
      "is ambiguous with: \n",
      "    -(AbstractArray, DataArrays.AbstractDataArray) at /opt/julia_packages/.julia/v0.4/DataArrays/src/operators.jl:300.\n",
      "To fix, define \n",
      "    -(Images.AbstractImageDirect, DataArrays.AbstractDataArray)\n",
      "before the new definition.\n",
      "WARNING: New definition \n",
      "    -(AbstractArray, Images.AbstractImageDirect) at /home/juser/.julia/v0.4/Images/src/algorithms.jl:37\n",
      "is ambiguous with: \n",
      "    -(DataArrays.DataArray, AbstractArray) at /opt/julia_packages/.julia/v0.4/DataArrays/src/operators.jl:276.\n",
      "To fix, define \n",
      "    -(DataArrays.DataArray, Images.AbstractImageDirect)\n",
      "before the new definition.\n",
      "WARNING: New definition \n",
      "    -(AbstractArray, Images.AbstractImageDirect) at /home/juser/.julia/v0.4/Images/src/algorithms.jl:37\n",
      "is ambiguous with: \n",
      "    -(DataArrays.AbstractDataArray, AbstractArray) at /opt/julia_packages/.julia/v0.4/DataArrays/src/operators.jl:300.\n",
      "To fix, define \n",
      "    -(DataArrays.AbstractDataArray, Images.AbstractImageDirect)\n",
      "before the new definition.\n",
      "WARNING: New definition \n",
      "    .>(Images.AbstractImageDirect, AbstractArray) at /home/juser/.julia/v0.4/Images/src/algorithms.jl:179\n",
      "is ambiguous with: \n",
      "    .>(AbstractArray{Bool, N<:Any}, Union{DataArrays.DataArray{Bool, N<:Any}, DataArrays.PooledDataArray{Bool, R<:Integer, N<:Any}}) at /opt/julia_packages/.julia/v0.4/DataArrays/src/broadcast.jl:338.\n",
      "To fix, define \n",
      "    .>(Images.AbstractImageDirect{Bool, N<:Any}, Union{DataArrays.DataArray{Bool, N<:Any}, DataArrays.PooledDataArray{Bool, R<:Integer, N<:Any}})\n",
      "before the new definition.\n",
      "WARNING: New definition \n",
      "    .>(Images.AbstractImageDirect, AbstractArray) at /home/juser/.julia/v0.4/Images/src/algorithms.jl:179\n",
      "is ambiguous with: \n",
      "    .>(AbstractArray, Union{DataArrays.DataArray, DataArrays.PooledDataArray}) at /opt/julia_packages/.julia/v0.4/DataArrays/src/broadcast.jl:280.\n",
      "To fix, define \n",
      "    .>(Images.AbstractImageDirect, Union{DataArrays.DataArray, DataArrays.PooledDataArray})\n",
      "before the new definition.\n",
      "WARNING: New definition \n",
      "    .-(Images.AbstractImageDirect, AbstractArray) at /home/juser/.julia/v0.4/Images/src/algorithms.jl:40\n",
      "is ambiguous with: \n",
      "    .-(AbstractArray, Union{DataArrays.DataArray, DataArrays.PooledDataArray}) at /opt/julia_packages/.julia/v0.4/DataArrays/src/broadcast.jl:280.\n",
      "To fix, define \n",
      "    .-(Images.AbstractImageDirect, Union{DataArrays.DataArray, DataArrays.PooledDataArray})\n",
      "before the new definition.\n",
      "WARNING: New definition \n",
      "    .*(Images.AbstractImageDirect, AbstractArray) at /home/juser/.julia/v0.4/Images/src/algorithms.jl:51\n",
      "is ambiguous with: \n",
      "    .*(AbstractArray, Union{DataArrays.DataArray, DataArrays.PooledDataArray}, AbstractArray...) at /opt/julia_packages/.julia/v0.4/DataArrays/src/broadcast.jl:290.\n",
      "To fix, define \n",
      "    .*(Images.AbstractImageDirect, Union{DataArrays.DataArray, DataArrays.PooledDataArray})\n",
      "before the new definition.\n",
      "WARNING: New definition \n",
      "    .*(AbstractArray, Images.AbstractImageDirect) at /home/juser/.julia/v0.4/Images/src/algorithms.jl:52\n",
      "is ambiguous with: \n",
      "    .*(Union{DataArrays.DataArray, DataArrays.PooledDataArray}, AbstractArray...) at /opt/julia_packages/.julia/v0.4/DataArrays/src/broadcast.jl:290.\n",
      "To fix, define \n",
      "    .*(Union{DataArrays.DataArray, DataArrays.PooledDataArray}, Images.AbstractImageDirect)\n",
      "before the new definition.\n",
      "WARNING: New definition \n",
      "    ./(Images.AbstractImageDirect, AbstractArray) at /home/juser/.julia/v0.4/Images/src/algorithms.jl:55\n",
      "is ambiguous with: \n",
      "    ./(AbstractArray, Union{DataArrays.DataArray, DataArrays.PooledDataArray}) at /opt/julia_packages/.julia/v0.4/DataArrays/src/broadcast.jl:280.\n",
      "To fix, define \n",
      "    ./(Images.AbstractImageDirect, Union{DataArrays.DataArray, DataArrays.PooledDataArray})\n",
      "before the new definition.\n",
      "WARNING: New definition \n",
      "    .==(Images.AbstractImageDirect{Bool, N<:Any}, AbstractArray{Bool, N<:Any}) at /home/juser/.julia/v0.4/Images/src/algorithms.jl:181\n",
      "is ambiguous with: \n",
      "    .==(AbstractArray{Bool, N<:Any}, Union{DataArrays.DataArray{Bool, N<:Any}, DataArrays.PooledDataArray{Bool, R<:Integer, N<:Any}}) at /opt/julia_packages/.julia/v0.4/DataArrays/src/broadcast.jl:338.\n",
      "To fix, define \n",
      "    .==(Images.AbstractImageDirect{Bool, N<:Any}, Union{DataArrays.DataArray{Bool, N<:Any}, DataArrays.PooledDataArray{Bool, R<:Integer, N<:Any}})\n",
      "before the new definition.\n",
      "WARNING: New definition \n",
      "    .==(Images.AbstractImageDirect, AbstractArray) at /home/juser/.julia/v0.4/Images/src/algorithms.jl:182\n",
      "is ambiguous with: \n",
      "    .==(AbstractArray{Bool, N<:Any}, Union{DataArrays.DataArray{Bool, N<:Any}, DataArrays.PooledDataArray{Bool, R<:Integer, N<:Any}}) at /opt/julia_packages/.julia/v0.4/DataArrays/src/broadcast.jl:338.\n",
      "To fix, define \n",
      "    .==(Images.AbstractImageDirect{Bool, N<:Any}, Union{DataArrays.DataArray{Bool, N<:Any}, DataArrays.PooledDataArray{Bool, R<:Integer, N<:Any}})\n",
      "before the new definition.\n",
      "WARNING: New definition \n",
      "    .==(Images.AbstractImageDirect, AbstractArray) at /home/juser/.julia/v0.4/Images/src/algorithms.jl:182\n",
      "is ambiguous with: \n",
      "    .==(AbstractArray, Union{DataArrays.DataArray, DataArrays.PooledDataArray}) at /opt/julia_packages/.julia/v0.4/DataArrays/src/broadcast.jl:280.\n",
      "To fix, define \n",
      "    .==(Images.AbstractImageDirect, Union{DataArrays.DataArray, DataArrays.PooledDataArray})\n",
      "before the new definition.\n"
     ]
    }
   ],
   "source": [
    "using DataFrames\n",
    "using Gadfly\n",
    "using Images\n",
    "using Interact\n",
    "using Colors\n",
    "using ArrayFire"
   ]
  },
  {
   "cell_type": "markdown",
   "metadata": {},
   "source": [
    "Set a few paths:\n",
    "* The Datapath\n",
    "* Image sizes: we're going to be working with images of sizes 20x20. You might see them as vectors of 400 though, but more on that later."
   ]
  },
  {
   "cell_type": "code",
   "execution_count": 2,
   "metadata": {
    "collapsed": false
   },
   "outputs": [
    {
     "data": {
      "text/plain": [
       "400"
      ]
     },
     "execution_count": 2,
     "metadata": {},
     "output_type": "execute_result"
    }
   ],
   "source": [
    "path = \"/data/characters/\"\n",
    "imageSize = 400"
   ]
  },
  {
   "cell_type": "markdown",
   "metadata": {},
   "source": [
    "## Training\n",
    "First, read the training labels! Now, there are two columns, `ID` and `Class`. `ID` represents the picture `ID.Bmp`, and `Class` represents the _correct_ classification. We're going to use this to train our model.  "
   ]
  },
  {
   "cell_type": "code",
   "execution_count": 3,
   "metadata": {
    "collapsed": false
   },
   "outputs": [
    {
     "data": {
      "text/html": [
       "<table class=\"data-frame\"><tr><th></th><th>ID</th><th>Class</th></tr><tr><th>1</th><td>1</td><td>n</td></tr><tr><th>2</th><td>2</td><td>8</td></tr><tr><th>3</th><td>3</td><td>T</td></tr><tr><th>4</th><td>4</td><td>I</td></tr><tr><th>5</th><td>5</td><td>R</td></tr><tr><th>6</th><td>6</td><td>W</td></tr><tr><th>7</th><td>7</td><td>L</td></tr><tr><th>8</th><td>8</td><td>l</td></tr><tr><th>9</th><td>9</td><td>K</td></tr><tr><th>10</th><td>10</td><td>G</td></tr><tr><th>11</th><td>11</td><td>A</td></tr><tr><th>12</th><td>12</td><td>A</td></tr><tr><th>13</th><td>13</td><td>C</td></tr><tr><th>14</th><td>14</td><td>u</td></tr><tr><th>15</th><td>15</td><td>t</td></tr><tr><th>16</th><td>16</td><td>A</td></tr><tr><th>17</th><td>17</td><td>N</td></tr><tr><th>18</th><td>18</td><td>I</td></tr><tr><th>19</th><td>19</td><td>O</td></tr><tr><th>20</th><td>20</td><td>k</td></tr><tr><th>21</th><td>21</td><td>l</td></tr><tr><th>22</th><td>22</td><td>D</td></tr><tr><th>23</th><td>23</td><td>T</td></tr><tr><th>24</th><td>24</td><td>u</td></tr><tr><th>25</th><td>25</td><td>w</td></tr><tr><th>26</th><td>26</td><td>N</td></tr><tr><th>27</th><td>27</td><td>E</td></tr><tr><th>28</th><td>28</td><td>E</td></tr><tr><th>29</th><td>29</td><td>H</td></tr><tr><th>30</th><td>30</td><td>e</td></tr><tr><th>&vellip;</th><td>&vellip;</td><td>&vellip;</td></tr></table>"
      ],
      "text/plain": [
       "1000×2 DataFrames.DataFrame\n",
       "│ Row  │ ID   │ Class │\n",
       "├──────┼──────┼───────┤\n",
       "│ 1    │ 1    │ \"n\"   │\n",
       "│ 2    │ 2    │ \"8\"   │\n",
       "│ 3    │ 3    │ \"T\"   │\n",
       "│ 4    │ 4    │ \"I\"   │\n",
       "│ 5    │ 5    │ \"R\"   │\n",
       "│ 6    │ 6    │ \"W\"   │\n",
       "│ 7    │ 7    │ \"L\"   │\n",
       "│ 8    │ 8    │ \"l\"   │\n",
       "│ 9    │ 9    │ \"K\"   │\n",
       "│ 10   │ 10   │ \"G\"   │\n",
       "│ 11   │ 11   │ \"A\"   │\n",
       "⋮\n",
       "│ 989  │ 989  │ \"T\"   │\n",
       "│ 990  │ 990  │ \"4\"   │\n",
       "│ 991  │ 991  │ \"0\"   │\n",
       "│ 992  │ 992  │ \"O\"   │\n",
       "│ 993  │ 993  │ \"O\"   │\n",
       "│ 994  │ 994  │ \"e\"   │\n",
       "│ 995  │ 995  │ \"G\"   │\n",
       "│ 996  │ 996  │ \"J\"   │\n",
       "│ 997  │ 997  │ \"e\"   │\n",
       "│ 998  │ 998  │ \"N\"   │\n",
       "│ 999  │ 999  │ \"e\"   │\n",
       "│ 1000 │ 1000 │ \"E\"   │"
      ]
     },
     "execution_count": 3,
     "metadata": {},
     "output_type": "execute_result"
    }
   ],
   "source": [
    "# Read training set \n",
    "trainLabels = readtable(\"$(path)/trainLabels.csv\")\n",
    "trainLabels = trainLabels[1:1000,:]"
   ]
  },
  {
   "cell_type": "markdown",
   "metadata": {},
   "source": [
    "What's the size of our training set?\n"
   ]
  },
  {
   "cell_type": "code",
   "execution_count": 4,
   "metadata": {
    "collapsed": false
   },
   "outputs": [
    {
     "data": {
      "text/plain": [
       "(1000,2)"
      ]
     },
     "execution_count": 4,
     "metadata": {},
     "output_type": "execute_result"
    }
   ],
   "source": [
    "size(trainLabels)"
   ]
  },
  {
   "cell_type": "markdown",
   "metadata": {},
   "source": [
    "Let us now examine our training set's contents. Run the following code to generate a histogram of the data."
   ]
  },
  {
   "cell_type": "code",
   "execution_count": 5,
   "metadata": {
    "collapsed": false
   },
   "outputs": [
    {
     "data": {
      "image/svg+xml": [
       "<?xml version=\"1.0\" encoding=\"UTF-8\"?>\n",
       "<svg xmlns=\"http://www.w3.org/2000/svg\"\n",
       "     xmlns:xlink=\"http://www.w3.org/1999/xlink\"\n",
       "     xmlns:gadfly=\"http://www.gadflyjl.org/ns\"\n",
       "     version=\"1.2\"\n",
       "     width=\"300mm\" height=\"100mm\" viewBox=\"0 0 300 100\"\n",
       "     stroke=\"none\"\n",
       "     fill=\"#000000\"\n",
       "     stroke-width=\"0.3\"\n",
       "     font-size=\"3.88\"\n",
       ">\n",
       "<g class=\"plotroot yscalable\" id=\"img-9b9cc760-1\">\n",
       "  <g font-size=\"3.88\" font-family=\"'PT Sans','Helvetica Neue','Helvetica',sans-serif\" fill=\"#564A55\" stroke=\"#000000\" stroke-opacity=\"0.000\" id=\"img-9b9cc760-2\">\n",
       "    <text x=\"157.32\" y=\"88.39\" text-anchor=\"middle\" dy=\"0.6em\">Characters</text>\n",
       "  </g>\n",
       "  <g class=\"guide xlabels\" font-size=\"2.82\" font-family=\"'PT Sans Caption','Helvetica Neue','Helvetica',sans-serif\" fill=\"#6C606B\" id=\"img-9b9cc760-3\">\n",
       "    <text x=\"21.85\" y=\"81.72\" text-anchor=\"middle\" dy=\"0.6em\">0</text>\n",
       "    <text x=\"26.29\" y=\"81.72\" text-anchor=\"middle\" dy=\"0.6em\">1</text>\n",
       "    <text x=\"30.74\" y=\"81.72\" text-anchor=\"middle\" dy=\"0.6em\">2</text>\n",
       "    <text x=\"35.18\" y=\"81.72\" text-anchor=\"middle\" dy=\"0.6em\">3</text>\n",
       "    <text x=\"39.62\" y=\"81.72\" text-anchor=\"middle\" dy=\"0.6em\">4</text>\n",
       "    <text x=\"44.06\" y=\"81.72\" text-anchor=\"middle\" dy=\"0.6em\">5</text>\n",
       "    <text x=\"48.5\" y=\"81.72\" text-anchor=\"middle\" dy=\"0.6em\">6</text>\n",
       "    <text x=\"52.94\" y=\"81.72\" text-anchor=\"middle\" dy=\"0.6em\">7</text>\n",
       "    <text x=\"57.38\" y=\"81.72\" text-anchor=\"middle\" dy=\"0.6em\">8</text>\n",
       "    <text x=\"61.83\" y=\"81.72\" text-anchor=\"middle\" dy=\"0.6em\">9</text>\n",
       "    <text x=\"66.27\" y=\"81.72\" text-anchor=\"middle\" dy=\"0.6em\">A</text>\n",
       "    <text x=\"70.71\" y=\"81.72\" text-anchor=\"middle\" dy=\"0.6em\">B</text>\n",
       "    <text x=\"75.15\" y=\"81.72\" text-anchor=\"middle\" dy=\"0.6em\">C</text>\n",
       "    <text x=\"79.59\" y=\"81.72\" text-anchor=\"middle\" dy=\"0.6em\">D</text>\n",
       "    <text x=\"84.03\" y=\"81.72\" text-anchor=\"middle\" dy=\"0.6em\">E</text>\n",
       "    <text x=\"88.47\" y=\"81.72\" text-anchor=\"middle\" dy=\"0.6em\">F</text>\n",
       "    <text x=\"92.92\" y=\"81.72\" text-anchor=\"middle\" dy=\"0.6em\">G</text>\n",
       "    <text x=\"97.36\" y=\"81.72\" text-anchor=\"middle\" dy=\"0.6em\">H</text>\n",
       "    <text x=\"101.8\" y=\"81.72\" text-anchor=\"middle\" dy=\"0.6em\">I</text>\n",
       "    <text x=\"106.24\" y=\"81.72\" text-anchor=\"middle\" dy=\"0.6em\">J</text>\n",
       "    <text x=\"110.68\" y=\"81.72\" text-anchor=\"middle\" dy=\"0.6em\">K</text>\n",
       "    <text x=\"115.12\" y=\"81.72\" text-anchor=\"middle\" dy=\"0.6em\">L</text>\n",
       "    <text x=\"119.56\" y=\"81.72\" text-anchor=\"middle\" dy=\"0.6em\">M</text>\n",
       "    <text x=\"124.01\" y=\"81.72\" text-anchor=\"middle\" dy=\"0.6em\">N</text>\n",
       "    <text x=\"128.45\" y=\"81.72\" text-anchor=\"middle\" dy=\"0.6em\">O</text>\n",
       "    <text x=\"132.89\" y=\"81.72\" text-anchor=\"middle\" dy=\"0.6em\">P</text>\n",
       "    <text x=\"137.33\" y=\"81.72\" text-anchor=\"middle\" dy=\"0.6em\">Q</text>\n",
       "    <text x=\"141.77\" y=\"81.72\" text-anchor=\"middle\" dy=\"0.6em\">R</text>\n",
       "    <text x=\"146.21\" y=\"81.72\" text-anchor=\"middle\" dy=\"0.6em\">S</text>\n",
       "    <text x=\"150.65\" y=\"81.72\" text-anchor=\"middle\" dy=\"0.6em\">T</text>\n",
       "    <text x=\"155.1\" y=\"81.72\" text-anchor=\"middle\" dy=\"0.6em\">U</text>\n",
       "    <text x=\"159.54\" y=\"81.72\" text-anchor=\"middle\" dy=\"0.6em\">V</text>\n",
       "    <text x=\"163.98\" y=\"81.72\" text-anchor=\"middle\" dy=\"0.6em\">W</text>\n",
       "    <text x=\"168.42\" y=\"81.72\" text-anchor=\"middle\" dy=\"0.6em\">X</text>\n",
       "    <text x=\"172.86\" y=\"81.72\" text-anchor=\"middle\" dy=\"0.6em\">Y</text>\n",
       "    <text x=\"177.3\" y=\"81.72\" text-anchor=\"middle\" dy=\"0.6em\">Z</text>\n",
       "    <text x=\"181.74\" y=\"81.72\" text-anchor=\"middle\" dy=\"0.6em\">a</text>\n",
       "    <text x=\"186.19\" y=\"81.72\" text-anchor=\"middle\" dy=\"0.6em\">b</text>\n",
       "    <text x=\"190.63\" y=\"81.72\" text-anchor=\"middle\" dy=\"0.6em\">c</text>\n",
       "    <text x=\"195.07\" y=\"81.72\" text-anchor=\"middle\" dy=\"0.6em\">d</text>\n",
       "    <text x=\"199.51\" y=\"81.72\" text-anchor=\"middle\" dy=\"0.6em\">e</text>\n",
       "    <text x=\"203.95\" y=\"81.72\" text-anchor=\"middle\" dy=\"0.6em\">f</text>\n",
       "    <text x=\"208.39\" y=\"81.72\" text-anchor=\"middle\" dy=\"0.6em\">g</text>\n",
       "    <text x=\"212.83\" y=\"81.72\" text-anchor=\"middle\" dy=\"0.6em\">h</text>\n",
       "    <text x=\"217.28\" y=\"81.72\" text-anchor=\"middle\" dy=\"0.6em\">i</text>\n",
       "    <text x=\"221.72\" y=\"81.72\" text-anchor=\"middle\" dy=\"0.6em\">j</text>\n",
       "    <text x=\"226.16\" y=\"81.72\" text-anchor=\"middle\" dy=\"0.6em\">k</text>\n",
       "    <text x=\"230.6\" y=\"81.72\" text-anchor=\"middle\" dy=\"0.6em\">l</text>\n",
       "    <text x=\"235.04\" y=\"81.72\" text-anchor=\"middle\" dy=\"0.6em\">m</text>\n",
       "    <text x=\"239.48\" y=\"81.72\" text-anchor=\"middle\" dy=\"0.6em\">n</text>\n",
       "    <text x=\"243.92\" y=\"81.72\" text-anchor=\"middle\" dy=\"0.6em\">o</text>\n",
       "    <text x=\"248.37\" y=\"81.72\" text-anchor=\"middle\" dy=\"0.6em\">p</text>\n",
       "    <text x=\"252.81\" y=\"81.72\" text-anchor=\"middle\" dy=\"0.6em\">q</text>\n",
       "    <text x=\"257.25\" y=\"81.72\" text-anchor=\"middle\" dy=\"0.6em\">r</text>\n",
       "    <text x=\"261.69\" y=\"81.72\" text-anchor=\"middle\" dy=\"0.6em\">s</text>\n",
       "    <text x=\"266.13\" y=\"81.72\" text-anchor=\"middle\" dy=\"0.6em\">t</text>\n",
       "    <text x=\"270.57\" y=\"81.72\" text-anchor=\"middle\" dy=\"0.6em\">u</text>\n",
       "    <text x=\"275.01\" y=\"81.72\" text-anchor=\"middle\" dy=\"0.6em\">v</text>\n",
       "    <text x=\"279.46\" y=\"81.72\" text-anchor=\"middle\" dy=\"0.6em\">w</text>\n",
       "    <text x=\"283.9\" y=\"81.72\" text-anchor=\"middle\" dy=\"0.6em\">x</text>\n",
       "    <text x=\"288.34\" y=\"81.72\" text-anchor=\"middle\" dy=\"0.6em\">y</text>\n",
       "    <text x=\"292.78\" y=\"81.72\" text-anchor=\"middle\" dy=\"0.6em\">z</text>\n",
       "  </g>\n",
       "<g clip-path=\"url(#img-9b9cc760-4)\">\n",
       "  <g id=\"img-9b9cc760-5\">\n",
       "    <g pointer-events=\"visible\" opacity=\"1\" fill=\"#000000\" fill-opacity=\"0.000\" stroke=\"#000000\" stroke-opacity=\"0.000\" class=\"guide background\" id=\"img-9b9cc760-6\">\n",
       "      <rect x=\"19.63\" y=\"12.61\" width=\"275.37\" height=\"68.1\"/>\n",
       "    </g>\n",
       "    <g class=\"guide ygridlines xfixed\" stroke-dasharray=\"0.5,0.5\" stroke-width=\"0.2\" stroke=\"#D0D0E0\" id=\"img-9b9cc760-7\">\n",
       "      <path fill=\"none\" d=\"M19.63,78.72 L 295 78.72\"/>\n",
       "      <path fill=\"none\" d=\"M19.63,62.69 L 295 62.69\"/>\n",
       "      <path fill=\"none\" d=\"M19.63,46.66 L 295 46.66\"/>\n",
       "      <path fill=\"none\" d=\"M19.63,30.64 L 295 30.64\"/>\n",
       "      <path fill=\"none\" d=\"M19.63,14.61 L 295 14.61\"/>\n",
       "    </g>\n",
       "    <g class=\"guide xgridlines yfixed\" stroke-dasharray=\"0.5,0.5\" stroke-width=\"0.2\" stroke=\"#D0D0E0\" id=\"img-9b9cc760-8\">\n",
       "      <path fill=\"none\" d=\"M24.07,12.61 L 24.07 80.72\"/>\n",
       "      <path fill=\"none\" d=\"M28.51,12.61 L 28.51 80.72\"/>\n",
       "      <path fill=\"none\" d=\"M32.96,12.61 L 32.96 80.72\"/>\n",
       "      <path fill=\"none\" d=\"M37.4,12.61 L 37.4 80.72\"/>\n",
       "      <path fill=\"none\" d=\"M41.84,12.61 L 41.84 80.72\"/>\n",
       "      <path fill=\"none\" d=\"M46.28,12.61 L 46.28 80.72\"/>\n",
       "      <path fill=\"none\" d=\"M50.72,12.61 L 50.72 80.72\"/>\n",
       "      <path fill=\"none\" d=\"M55.16,12.61 L 55.16 80.72\"/>\n",
       "      <path fill=\"none\" d=\"M59.6,12.61 L 59.6 80.72\"/>\n",
       "      <path fill=\"none\" d=\"M64.05,12.61 L 64.05 80.72\"/>\n",
       "      <path fill=\"none\" d=\"M68.49,12.61 L 68.49 80.72\"/>\n",
       "      <path fill=\"none\" d=\"M72.93,12.61 L 72.93 80.72\"/>\n",
       "      <path fill=\"none\" d=\"M77.37,12.61 L 77.37 80.72\"/>\n",
       "      <path fill=\"none\" d=\"M81.81,12.61 L 81.81 80.72\"/>\n",
       "      <path fill=\"none\" d=\"M86.25,12.61 L 86.25 80.72\"/>\n",
       "      <path fill=\"none\" d=\"M90.69,12.61 L 90.69 80.72\"/>\n",
       "      <path fill=\"none\" d=\"M95.14,12.61 L 95.14 80.72\"/>\n",
       "      <path fill=\"none\" d=\"M99.58,12.61 L 99.58 80.72\"/>\n",
       "      <path fill=\"none\" d=\"M104.02,12.61 L 104.02 80.72\"/>\n",
       "      <path fill=\"none\" d=\"M108.46,12.61 L 108.46 80.72\"/>\n",
       "      <path fill=\"none\" d=\"M112.9,12.61 L 112.9 80.72\"/>\n",
       "      <path fill=\"none\" d=\"M117.34,12.61 L 117.34 80.72\"/>\n",
       "      <path fill=\"none\" d=\"M121.78,12.61 L 121.78 80.72\"/>\n",
       "      <path fill=\"none\" d=\"M126.23,12.61 L 126.23 80.72\"/>\n",
       "      <path fill=\"none\" d=\"M130.67,12.61 L 130.67 80.72\"/>\n",
       "      <path fill=\"none\" d=\"M135.11,12.61 L 135.11 80.72\"/>\n",
       "      <path fill=\"none\" d=\"M139.55,12.61 L 139.55 80.72\"/>\n",
       "      <path fill=\"none\" d=\"M143.99,12.61 L 143.99 80.72\"/>\n",
       "      <path fill=\"none\" d=\"M148.43,12.61 L 148.43 80.72\"/>\n",
       "      <path fill=\"none\" d=\"M152.87,12.61 L 152.87 80.72\"/>\n",
       "      <path fill=\"none\" d=\"M157.32,12.61 L 157.32 80.72\"/>\n",
       "      <path fill=\"none\" d=\"M161.76,12.61 L 161.76 80.72\"/>\n",
       "      <path fill=\"none\" d=\"M166.2,12.61 L 166.2 80.72\"/>\n",
       "      <path fill=\"none\" d=\"M170.64,12.61 L 170.64 80.72\"/>\n",
       "      <path fill=\"none\" d=\"M175.08,12.61 L 175.08 80.72\"/>\n",
       "      <path fill=\"none\" d=\"M179.52,12.61 L 179.52 80.72\"/>\n",
       "      <path fill=\"none\" d=\"M183.96,12.61 L 183.96 80.72\"/>\n",
       "      <path fill=\"none\" d=\"M188.41,12.61 L 188.41 80.72\"/>\n",
       "      <path fill=\"none\" d=\"M192.85,12.61 L 192.85 80.72\"/>\n",
       "      <path fill=\"none\" d=\"M197.29,12.61 L 197.29 80.72\"/>\n",
       "      <path fill=\"none\" d=\"M201.73,12.61 L 201.73 80.72\"/>\n",
       "      <path fill=\"none\" d=\"M206.17,12.61 L 206.17 80.72\"/>\n",
       "      <path fill=\"none\" d=\"M210.61,12.61 L 210.61 80.72\"/>\n",
       "      <path fill=\"none\" d=\"M215.05,12.61 L 215.05 80.72\"/>\n",
       "      <path fill=\"none\" d=\"M219.5,12.61 L 219.5 80.72\"/>\n",
       "      <path fill=\"none\" d=\"M223.94,12.61 L 223.94 80.72\"/>\n",
       "      <path fill=\"none\" d=\"M228.38,12.61 L 228.38 80.72\"/>\n",
       "      <path fill=\"none\" d=\"M232.82,12.61 L 232.82 80.72\"/>\n",
       "      <path fill=\"none\" d=\"M237.26,12.61 L 237.26 80.72\"/>\n",
       "      <path fill=\"none\" d=\"M241.7,12.61 L 241.7 80.72\"/>\n",
       "      <path fill=\"none\" d=\"M246.14,12.61 L 246.14 80.72\"/>\n",
       "      <path fill=\"none\" d=\"M250.59,12.61 L 250.59 80.72\"/>\n",
       "      <path fill=\"none\" d=\"M255.03,12.61 L 255.03 80.72\"/>\n",
       "      <path fill=\"none\" d=\"M259.47,12.61 L 259.47 80.72\"/>\n",
       "      <path fill=\"none\" d=\"M263.91,12.61 L 263.91 80.72\"/>\n",
       "      <path fill=\"none\" d=\"M268.35,12.61 L 268.35 80.72\"/>\n",
       "      <path fill=\"none\" d=\"M272.79,12.61 L 272.79 80.72\"/>\n",
       "      <path fill=\"none\" d=\"M277.23,12.61 L 277.23 80.72\"/>\n",
       "      <path fill=\"none\" d=\"M281.68,12.61 L 281.68 80.72\"/>\n",
       "      <path fill=\"none\" d=\"M286.12,12.61 L 286.12 80.72\"/>\n",
       "      <path fill=\"none\" d=\"M290.56,12.61 L 290.56 80.72\"/>\n",
       "    </g>\n",
       "    <g class=\"plotpanel\" id=\"img-9b9cc760-9\">\n",
       "      <g shape-rendering=\"crispEdges\" stroke-width=\"0.3\" id=\"img-9b9cc760-10\">\n",
       "        <g stroke=\"#000000\" stroke-opacity=\"0.000\" class=\"geometry\" id=\"img-9b9cc760-11\">\n",
       "          <rect x=\"290.53\" y=\"77.43\" width=\"4.49\" height=\"1.28\" fill=\"#00B3D0\"/>\n",
       "          <rect x=\"286.09\" y=\"76.15\" width=\"4.49\" height=\"2.56\" fill=\"#EC975F\"/>\n",
       "          <rect x=\"281.65\" y=\"77.43\" width=\"4.49\" height=\"1.28\" fill=\"#FFB279\"/>\n",
       "          <rect x=\"277.21\" y=\"75.51\" width=\"4.49\" height=\"3.21\" fill=\"#00D0C2\"/>\n",
       "          <rect x=\"272.77\" y=\"76.79\" width=\"4.49\" height=\"1.92\" fill=\"#FF8CFA\"/>\n",
       "          <rect x=\"268.33\" y=\"72.95\" width=\"4.49\" height=\"5.77\" fill=\"#FF8AC9\"/>\n",
       "          <rect x=\"263.89\" y=\"65.89\" width=\"4.49\" height=\"12.82\" fill=\"#E1B32A\"/>\n",
       "          <rect x=\"259.44\" y=\"73.59\" width=\"4.49\" height=\"5.13\" fill=\"#E38ED9\"/>\n",
       "          <rect x=\"255\" y=\"64.61\" width=\"4.49\" height=\"14.1\" fill=\"#8AAA16\"/>\n",
       "          <rect x=\"250.56\" y=\"76.15\" width=\"4.49\" height=\"2.56\" fill=\"#A3D57C\"/>\n",
       "          <rect x=\"246.12\" y=\"72.95\" width=\"4.49\" height=\"5.77\" fill=\"#DB8D17\"/>\n",
       "          <rect x=\"241.68\" y=\"72.3\" width=\"4.49\" height=\"6.41\" fill=\"#F88F6F\"/>\n",
       "          <rect x=\"237.24\" y=\"66.54\" width=\"4.49\" height=\"12.18\" fill=\"#27D0AB\"/>\n",
       "          <rect x=\"232.8\" y=\"74.23\" width=\"4.49\" height=\"4.49\" fill=\"#9CB4FF\"/>\n",
       "          <rect x=\"228.35\" y=\"70.38\" width=\"4.49\" height=\"8.33\" fill=\"#F08031\"/>\n",
       "          <rect x=\"223.91\" y=\"73.59\" width=\"4.49\" height=\"5.13\" fill=\"#68DCA2\"/>\n",
       "          <rect x=\"219.47\" y=\"76.15\" width=\"4.49\" height=\"2.56\" fill=\"#88B962\"/>\n",
       "          <rect x=\"215.03\" y=\"64.61\" width=\"4.49\" height=\"14.1\" fill=\"#A6C537\"/>\n",
       "          <rect x=\"210.59\" y=\"76.79\" width=\"4.49\" height=\"1.92\" fill=\"#FFB445\"/>\n",
       "          <rect x=\"206.15\" y=\"74.87\" width=\"4.49\" height=\"3.85\" fill=\"#66B032\"/>\n",
       "          <rect x=\"201.71\" y=\"74.23\" width=\"4.49\" height=\"4.49\" fill=\"#00B0FE\"/>\n",
       "          <rect x=\"197.26\" y=\"58.84\" width=\"4.49\" height=\"19.87\" fill=\"#B7AE38\"/>\n",
       "          <rect x=\"192.82\" y=\"75.51\" width=\"4.49\" height=\"3.21\" fill=\"#00C4E9\"/>\n",
       "          <rect x=\"188.38\" y=\"76.15\" width=\"4.49\" height=\"2.56\" fill=\"#6CBD73\"/>\n",
       "          <rect x=\"183.94\" y=\"76.79\" width=\"4.49\" height=\"1.92\" fill=\"#CE9247\"/>\n",
       "          <rect x=\"179.5\" y=\"64.61\" width=\"4.49\" height=\"14.1\" fill=\"#00D0D8\"/>\n",
       "          <rect x=\"175.06\" y=\"75.51\" width=\"4.49\" height=\"3.21\" fill=\"#DAB45B\"/>\n",
       "          <rect x=\"170.62\" y=\"74.87\" width=\"4.49\" height=\"3.85\" fill=\"#00B573\"/>\n",
       "          <rect x=\"166.17\" y=\"75.51\" width=\"4.49\" height=\"3.21\" fill=\"#E799FF\"/>\n",
       "          <rect x=\"161.73\" y=\"69.74\" width=\"4.49\" height=\"8.97\" fill=\"#FF928B\"/>\n",
       "          <rect x=\"157.29\" y=\"73.59\" width=\"4.49\" height=\"5.13\" fill=\"#82CC4D\"/>\n",
       "          <rect x=\"152.85\" y=\"72.3\" width=\"4.49\" height=\"6.41\" fill=\"#FF734A\"/>\n",
       "          <rect x=\"148.41\" y=\"46.02\" width=\"4.49\" height=\"32.69\" fill=\"#C483E9\"/>\n",
       "          <rect x=\"143.97\" y=\"54.36\" width=\"4.49\" height=\"24.36\" fill=\"#FF5F82\"/>\n",
       "          <rect x=\"139.53\" y=\"48.59\" width=\"4.49\" height=\"30.13\" fill=\"#FFA0C8\"/>\n",
       "          <rect x=\"135.08\" y=\"78.07\" width=\"4.49\" height=\"0.64\" fill=\"#BCCF6F\"/>\n",
       "          <rect x=\"130.64\" y=\"64.61\" width=\"4.49\" height=\"14.1\" fill=\"#00D485\"/>\n",
       "          <rect x=\"126.2\" y=\"46.66\" width=\"4.49\" height=\"32.05\" fill=\"#A08CFF\"/>\n",
       "          <rect x=\"121.76\" y=\"49.87\" width=\"4.49\" height=\"28.85\" fill=\"#00BBAA\"/>\n",
       "          <rect x=\"117.32\" y=\"63.33\" width=\"4.49\" height=\"15.38\" fill=\"#82CAFF\"/>\n",
       "          <rect x=\"112.88\" y=\"59.48\" width=\"4.49\" height=\"19.23\" fill=\"#FFAA89\"/>\n",
       "          <rect x=\"108.44\" y=\"73.59\" width=\"4.49\" height=\"5.13\" fill=\"#FFA9F6\"/>\n",
       "          <rect x=\"103.99\" y=\"72.95\" width=\"4.49\" height=\"5.77\" fill=\"#00E5B2\"/>\n",
       "          <rect x=\"99.55\" y=\"52.43\" width=\"4.49\" height=\"26.28\" fill=\"#9E9E9E\"/>\n",
       "          <rect x=\"95.11\" y=\"60.77\" width=\"4.49\" height=\"17.95\" fill=\"#32B44E\"/>\n",
       "          <rect x=\"90.67\" y=\"65.25\" width=\"4.49\" height=\"13.46\" fill=\"#FF93A4\"/>\n",
       "          <rect x=\"86.23\" y=\"72.3\" width=\"4.49\" height=\"6.41\" fill=\"#C39800\"/>\n",
       "          <rect x=\"81.79\" y=\"38.33\" width=\"4.49\" height=\"40.39\" fill=\"#00E4FF\"/>\n",
       "          <rect x=\"77.35\" y=\"62.69\" width=\"4.49\" height=\"16.03\" fill=\"#6299FF\"/>\n",
       "          <rect x=\"72.9\" y=\"61.41\" width=\"4.49\" height=\"17.31\" fill=\"#00B4BC\"/>\n",
       "          <rect x=\"68.46\" y=\"75.51\" width=\"4.49\" height=\"3.21\" fill=\"#FF9A4B\"/>\n",
       "          <rect x=\"64.02\" y=\"26.15\" width=\"4.49\" height=\"52.56\" fill=\"#93A649\"/>\n",
       "          <rect x=\"59.58\" y=\"74.23\" width=\"4.49\" height=\"4.49\" fill=\"#E870DD\"/>\n",
       "          <rect x=\"55.14\" y=\"77.43\" width=\"4.49\" height=\"1.28\" fill=\"#00E6D3\"/>\n",
       "          <rect x=\"50.7\" y=\"76.15\" width=\"4.49\" height=\"2.56\" fill=\"#63DF75\"/>\n",
       "          <rect x=\"46.26\" y=\"72.95\" width=\"4.49\" height=\"5.77\" fill=\"#C6C6C6\"/>\n",
       "          <rect x=\"41.81\" y=\"73.59\" width=\"4.49\" height=\"5.13\" fill=\"#FF6765\"/>\n",
       "          <rect x=\"37.37\" y=\"75.51\" width=\"4.49\" height=\"3.21\" fill=\"#BEA9FF\"/>\n",
       "          <rect x=\"32.93\" y=\"75.51\" width=\"4.49\" height=\"3.21\" fill=\"#00B78D\"/>\n",
       "          <rect x=\"28.49\" y=\"71.02\" width=\"4.49\" height=\"7.69\" fill=\"#FF6DAE\"/>\n",
       "          <rect x=\"24.05\" y=\"75.51\" width=\"4.49\" height=\"3.21\" fill=\"#D4CA3A\"/>\n",
       "          <rect x=\"19.61\" y=\"68.46\" width=\"4.49\" height=\"10.26\" fill=\"#00BFFF\"/>\n",
       "        </g>\n",
       "      </g>\n",
       "    </g>\n",
       "  </g>\n",
       "</g>\n",
       "  <g class=\"guide ylabels\" font-size=\"2.82\" font-family=\"'PT Sans Caption','Helvetica Neue','Helvetica',sans-serif\" fill=\"#6C606B\" id=\"img-9b9cc760-12\">\n",
       "    <text x=\"18.63\" y=\"78.72\" text-anchor=\"end\" dy=\"0.35em\">0</text>\n",
       "    <text x=\"18.63\" y=\"62.69\" text-anchor=\"end\" dy=\"0.35em\">25</text>\n",
       "    <text x=\"18.63\" y=\"46.66\" text-anchor=\"end\" dy=\"0.35em\">50</text>\n",
       "    <text x=\"18.63\" y=\"30.64\" text-anchor=\"end\" dy=\"0.35em\">75</text>\n",
       "    <text x=\"18.63\" y=\"14.61\" text-anchor=\"end\" dy=\"0.35em\">100</text>\n",
       "  </g>\n",
       "  <g font-size=\"3.88\" font-family=\"'PT Sans','Helvetica Neue','Helvetica',sans-serif\" fill=\"#564A55\" stroke=\"#000000\" stroke-opacity=\"0.000\" id=\"img-9b9cc760-13\">\n",
       "    <text x=\"8.81\" y=\"44.66\" text-anchor=\"middle\" dy=\"0.35em\" transform=\"rotate(-90, 8.81, 46.66)\"># of samples</text>\n",
       "  </g>\n",
       "  <g font-size=\"3.88\" font-family=\"'PT Sans','Helvetica Neue','Helvetica',sans-serif\" fill=\"#564A55\" stroke=\"#000000\" stroke-opacity=\"0.000\" id=\"img-9b9cc760-14\">\n",
       "    <text x=\"157.32\" y=\"10.61\" text-anchor=\"middle\">Distribution of training data</text>\n",
       "  </g>\n",
       "</g>\n",
       "<defs>\n",
       "  <clipPath id=\"img-9b9cc760-4\">\n",
       "  <path d=\"M19.63,12.61 L 295 12.61 295 80.72 19.63 80.72\" />\n",
       "</clipPath>\n",
       "</defs>\n",
       "</svg>\n"
      ],
      "text/html": [
       "<?xml version=\"1.0\" encoding=\"UTF-8\"?>\n",
       "<svg xmlns=\"http://www.w3.org/2000/svg\"\n",
       "     xmlns:xlink=\"http://www.w3.org/1999/xlink\"\n",
       "     xmlns:gadfly=\"http://www.gadflyjl.org/ns\"\n",
       "     version=\"1.2\"\n",
       "     width=\"300mm\" height=\"100mm\" viewBox=\"0 0 300 100\"\n",
       "     stroke=\"none\"\n",
       "     fill=\"#000000\"\n",
       "     stroke-width=\"0.3\"\n",
       "     font-size=\"3.88\"\n",
       ">\n",
       "<g class=\"plotroot yscalable\" id=\"img-9b9cc760-1\">\n",
       "  <g font-size=\"3.88\" font-family=\"'PT Sans','Helvetica Neue','Helvetica',sans-serif\" fill=\"#564A55\" stroke=\"#000000\" stroke-opacity=\"0.000\" id=\"img-9b9cc760-2\">\n",
       "    <text x=\"157.32\" y=\"88.39\" text-anchor=\"middle\" dy=\"0.6em\">Characters</text>\n",
       "  </g>\n",
       "  <g class=\"guide xlabels\" font-size=\"2.82\" font-family=\"'PT Sans Caption','Helvetica Neue','Helvetica',sans-serif\" fill=\"#6C606B\" id=\"img-9b9cc760-3\">\n",
       "    <text x=\"21.85\" y=\"81.72\" text-anchor=\"middle\" dy=\"0.6em\">0</text>\n",
       "    <text x=\"26.29\" y=\"81.72\" text-anchor=\"middle\" dy=\"0.6em\">1</text>\n",
       "    <text x=\"30.74\" y=\"81.72\" text-anchor=\"middle\" dy=\"0.6em\">2</text>\n",
       "    <text x=\"35.18\" y=\"81.72\" text-anchor=\"middle\" dy=\"0.6em\">3</text>\n",
       "    <text x=\"39.62\" y=\"81.72\" text-anchor=\"middle\" dy=\"0.6em\">4</text>\n",
       "    <text x=\"44.06\" y=\"81.72\" text-anchor=\"middle\" dy=\"0.6em\">5</text>\n",
       "    <text x=\"48.5\" y=\"81.72\" text-anchor=\"middle\" dy=\"0.6em\">6</text>\n",
       "    <text x=\"52.94\" y=\"81.72\" text-anchor=\"middle\" dy=\"0.6em\">7</text>\n",
       "    <text x=\"57.38\" y=\"81.72\" text-anchor=\"middle\" dy=\"0.6em\">8</text>\n",
       "    <text x=\"61.83\" y=\"81.72\" text-anchor=\"middle\" dy=\"0.6em\">9</text>\n",
       "    <text x=\"66.27\" y=\"81.72\" text-anchor=\"middle\" dy=\"0.6em\">A</text>\n",
       "    <text x=\"70.71\" y=\"81.72\" text-anchor=\"middle\" dy=\"0.6em\">B</text>\n",
       "    <text x=\"75.15\" y=\"81.72\" text-anchor=\"middle\" dy=\"0.6em\">C</text>\n",
       "    <text x=\"79.59\" y=\"81.72\" text-anchor=\"middle\" dy=\"0.6em\">D</text>\n",
       "    <text x=\"84.03\" y=\"81.72\" text-anchor=\"middle\" dy=\"0.6em\">E</text>\n",
       "    <text x=\"88.47\" y=\"81.72\" text-anchor=\"middle\" dy=\"0.6em\">F</text>\n",
       "    <text x=\"92.92\" y=\"81.72\" text-anchor=\"middle\" dy=\"0.6em\">G</text>\n",
       "    <text x=\"97.36\" y=\"81.72\" text-anchor=\"middle\" dy=\"0.6em\">H</text>\n",
       "    <text x=\"101.8\" y=\"81.72\" text-anchor=\"middle\" dy=\"0.6em\">I</text>\n",
       "    <text x=\"106.24\" y=\"81.72\" text-anchor=\"middle\" dy=\"0.6em\">J</text>\n",
       "    <text x=\"110.68\" y=\"81.72\" text-anchor=\"middle\" dy=\"0.6em\">K</text>\n",
       "    <text x=\"115.12\" y=\"81.72\" text-anchor=\"middle\" dy=\"0.6em\">L</text>\n",
       "    <text x=\"119.56\" y=\"81.72\" text-anchor=\"middle\" dy=\"0.6em\">M</text>\n",
       "    <text x=\"124.01\" y=\"81.72\" text-anchor=\"middle\" dy=\"0.6em\">N</text>\n",
       "    <text x=\"128.45\" y=\"81.72\" text-anchor=\"middle\" dy=\"0.6em\">O</text>\n",
       "    <text x=\"132.89\" y=\"81.72\" text-anchor=\"middle\" dy=\"0.6em\">P</text>\n",
       "    <text x=\"137.33\" y=\"81.72\" text-anchor=\"middle\" dy=\"0.6em\">Q</text>\n",
       "    <text x=\"141.77\" y=\"81.72\" text-anchor=\"middle\" dy=\"0.6em\">R</text>\n",
       "    <text x=\"146.21\" y=\"81.72\" text-anchor=\"middle\" dy=\"0.6em\">S</text>\n",
       "    <text x=\"150.65\" y=\"81.72\" text-anchor=\"middle\" dy=\"0.6em\">T</text>\n",
       "    <text x=\"155.1\" y=\"81.72\" text-anchor=\"middle\" dy=\"0.6em\">U</text>\n",
       "    <text x=\"159.54\" y=\"81.72\" text-anchor=\"middle\" dy=\"0.6em\">V</text>\n",
       "    <text x=\"163.98\" y=\"81.72\" text-anchor=\"middle\" dy=\"0.6em\">W</text>\n",
       "    <text x=\"168.42\" y=\"81.72\" text-anchor=\"middle\" dy=\"0.6em\">X</text>\n",
       "    <text x=\"172.86\" y=\"81.72\" text-anchor=\"middle\" dy=\"0.6em\">Y</text>\n",
       "    <text x=\"177.3\" y=\"81.72\" text-anchor=\"middle\" dy=\"0.6em\">Z</text>\n",
       "    <text x=\"181.74\" y=\"81.72\" text-anchor=\"middle\" dy=\"0.6em\">a</text>\n",
       "    <text x=\"186.19\" y=\"81.72\" text-anchor=\"middle\" dy=\"0.6em\">b</text>\n",
       "    <text x=\"190.63\" y=\"81.72\" text-anchor=\"middle\" dy=\"0.6em\">c</text>\n",
       "    <text x=\"195.07\" y=\"81.72\" text-anchor=\"middle\" dy=\"0.6em\">d</text>\n",
       "    <text x=\"199.51\" y=\"81.72\" text-anchor=\"middle\" dy=\"0.6em\">e</text>\n",
       "    <text x=\"203.95\" y=\"81.72\" text-anchor=\"middle\" dy=\"0.6em\">f</text>\n",
       "    <text x=\"208.39\" y=\"81.72\" text-anchor=\"middle\" dy=\"0.6em\">g</text>\n",
       "    <text x=\"212.83\" y=\"81.72\" text-anchor=\"middle\" dy=\"0.6em\">h</text>\n",
       "    <text x=\"217.28\" y=\"81.72\" text-anchor=\"middle\" dy=\"0.6em\">i</text>\n",
       "    <text x=\"221.72\" y=\"81.72\" text-anchor=\"middle\" dy=\"0.6em\">j</text>\n",
       "    <text x=\"226.16\" y=\"81.72\" text-anchor=\"middle\" dy=\"0.6em\">k</text>\n",
       "    <text x=\"230.6\" y=\"81.72\" text-anchor=\"middle\" dy=\"0.6em\">l</text>\n",
       "    <text x=\"235.04\" y=\"81.72\" text-anchor=\"middle\" dy=\"0.6em\">m</text>\n",
       "    <text x=\"239.48\" y=\"81.72\" text-anchor=\"middle\" dy=\"0.6em\">n</text>\n",
       "    <text x=\"243.92\" y=\"81.72\" text-anchor=\"middle\" dy=\"0.6em\">o</text>\n",
       "    <text x=\"248.37\" y=\"81.72\" text-anchor=\"middle\" dy=\"0.6em\">p</text>\n",
       "    <text x=\"252.81\" y=\"81.72\" text-anchor=\"middle\" dy=\"0.6em\">q</text>\n",
       "    <text x=\"257.25\" y=\"81.72\" text-anchor=\"middle\" dy=\"0.6em\">r</text>\n",
       "    <text x=\"261.69\" y=\"81.72\" text-anchor=\"middle\" dy=\"0.6em\">s</text>\n",
       "    <text x=\"266.13\" y=\"81.72\" text-anchor=\"middle\" dy=\"0.6em\">t</text>\n",
       "    <text x=\"270.57\" y=\"81.72\" text-anchor=\"middle\" dy=\"0.6em\">u</text>\n",
       "    <text x=\"275.01\" y=\"81.72\" text-anchor=\"middle\" dy=\"0.6em\">v</text>\n",
       "    <text x=\"279.46\" y=\"81.72\" text-anchor=\"middle\" dy=\"0.6em\">w</text>\n",
       "    <text x=\"283.9\" y=\"81.72\" text-anchor=\"middle\" dy=\"0.6em\">x</text>\n",
       "    <text x=\"288.34\" y=\"81.72\" text-anchor=\"middle\" dy=\"0.6em\">y</text>\n",
       "    <text x=\"292.78\" y=\"81.72\" text-anchor=\"middle\" dy=\"0.6em\">z</text>\n",
       "  </g>\n",
       "<g clip-path=\"url(#img-9b9cc760-4)\">\n",
       "  <g id=\"img-9b9cc760-5\">\n",
       "    <g pointer-events=\"visible\" opacity=\"1\" fill=\"#000000\" fill-opacity=\"0.000\" stroke=\"#000000\" stroke-opacity=\"0.000\" class=\"guide background\" id=\"img-9b9cc760-6\">\n",
       "      <rect x=\"19.63\" y=\"12.61\" width=\"275.37\" height=\"68.1\"/>\n",
       "    </g>\n",
       "    <g class=\"guide ygridlines xfixed\" stroke-dasharray=\"0.5,0.5\" stroke-width=\"0.2\" stroke=\"#D0D0E0\" id=\"img-9b9cc760-7\">\n",
       "      <path fill=\"none\" d=\"M19.63,78.72 L 295 78.72\"/>\n",
       "      <path fill=\"none\" d=\"M19.63,62.69 L 295 62.69\"/>\n",
       "      <path fill=\"none\" d=\"M19.63,46.66 L 295 46.66\"/>\n",
       "      <path fill=\"none\" d=\"M19.63,30.64 L 295 30.64\"/>\n",
       "      <path fill=\"none\" d=\"M19.63,14.61 L 295 14.61\"/>\n",
       "    </g>\n",
       "    <g class=\"guide xgridlines yfixed\" stroke-dasharray=\"0.5,0.5\" stroke-width=\"0.2\" stroke=\"#D0D0E0\" id=\"img-9b9cc760-8\">\n",
       "      <path fill=\"none\" d=\"M24.07,12.61 L 24.07 80.72\"/>\n",
       "      <path fill=\"none\" d=\"M28.51,12.61 L 28.51 80.72\"/>\n",
       "      <path fill=\"none\" d=\"M32.96,12.61 L 32.96 80.72\"/>\n",
       "      <path fill=\"none\" d=\"M37.4,12.61 L 37.4 80.72\"/>\n",
       "      <path fill=\"none\" d=\"M41.84,12.61 L 41.84 80.72\"/>\n",
       "      <path fill=\"none\" d=\"M46.28,12.61 L 46.28 80.72\"/>\n",
       "      <path fill=\"none\" d=\"M50.72,12.61 L 50.72 80.72\"/>\n",
       "      <path fill=\"none\" d=\"M55.16,12.61 L 55.16 80.72\"/>\n",
       "      <path fill=\"none\" d=\"M59.6,12.61 L 59.6 80.72\"/>\n",
       "      <path fill=\"none\" d=\"M64.05,12.61 L 64.05 80.72\"/>\n",
       "      <path fill=\"none\" d=\"M68.49,12.61 L 68.49 80.72\"/>\n",
       "      <path fill=\"none\" d=\"M72.93,12.61 L 72.93 80.72\"/>\n",
       "      <path fill=\"none\" d=\"M77.37,12.61 L 77.37 80.72\"/>\n",
       "      <path fill=\"none\" d=\"M81.81,12.61 L 81.81 80.72\"/>\n",
       "      <path fill=\"none\" d=\"M86.25,12.61 L 86.25 80.72\"/>\n",
       "      <path fill=\"none\" d=\"M90.69,12.61 L 90.69 80.72\"/>\n",
       "      <path fill=\"none\" d=\"M95.14,12.61 L 95.14 80.72\"/>\n",
       "      <path fill=\"none\" d=\"M99.58,12.61 L 99.58 80.72\"/>\n",
       "      <path fill=\"none\" d=\"M104.02,12.61 L 104.02 80.72\"/>\n",
       "      <path fill=\"none\" d=\"M108.46,12.61 L 108.46 80.72\"/>\n",
       "      <path fill=\"none\" d=\"M112.9,12.61 L 112.9 80.72\"/>\n",
       "      <path fill=\"none\" d=\"M117.34,12.61 L 117.34 80.72\"/>\n",
       "      <path fill=\"none\" d=\"M121.78,12.61 L 121.78 80.72\"/>\n",
       "      <path fill=\"none\" d=\"M126.23,12.61 L 126.23 80.72\"/>\n",
       "      <path fill=\"none\" d=\"M130.67,12.61 L 130.67 80.72\"/>\n",
       "      <path fill=\"none\" d=\"M135.11,12.61 L 135.11 80.72\"/>\n",
       "      <path fill=\"none\" d=\"M139.55,12.61 L 139.55 80.72\"/>\n",
       "      <path fill=\"none\" d=\"M143.99,12.61 L 143.99 80.72\"/>\n",
       "      <path fill=\"none\" d=\"M148.43,12.61 L 148.43 80.72\"/>\n",
       "      <path fill=\"none\" d=\"M152.87,12.61 L 152.87 80.72\"/>\n",
       "      <path fill=\"none\" d=\"M157.32,12.61 L 157.32 80.72\"/>\n",
       "      <path fill=\"none\" d=\"M161.76,12.61 L 161.76 80.72\"/>\n",
       "      <path fill=\"none\" d=\"M166.2,12.61 L 166.2 80.72\"/>\n",
       "      <path fill=\"none\" d=\"M170.64,12.61 L 170.64 80.72\"/>\n",
       "      <path fill=\"none\" d=\"M175.08,12.61 L 175.08 80.72\"/>\n",
       "      <path fill=\"none\" d=\"M179.52,12.61 L 179.52 80.72\"/>\n",
       "      <path fill=\"none\" d=\"M183.96,12.61 L 183.96 80.72\"/>\n",
       "      <path fill=\"none\" d=\"M188.41,12.61 L 188.41 80.72\"/>\n",
       "      <path fill=\"none\" d=\"M192.85,12.61 L 192.85 80.72\"/>\n",
       "      <path fill=\"none\" d=\"M197.29,12.61 L 197.29 80.72\"/>\n",
       "      <path fill=\"none\" d=\"M201.73,12.61 L 201.73 80.72\"/>\n",
       "      <path fill=\"none\" d=\"M206.17,12.61 L 206.17 80.72\"/>\n",
       "      <path fill=\"none\" d=\"M210.61,12.61 L 210.61 80.72\"/>\n",
       "      <path fill=\"none\" d=\"M215.05,12.61 L 215.05 80.72\"/>\n",
       "      <path fill=\"none\" d=\"M219.5,12.61 L 219.5 80.72\"/>\n",
       "      <path fill=\"none\" d=\"M223.94,12.61 L 223.94 80.72\"/>\n",
       "      <path fill=\"none\" d=\"M228.38,12.61 L 228.38 80.72\"/>\n",
       "      <path fill=\"none\" d=\"M232.82,12.61 L 232.82 80.72\"/>\n",
       "      <path fill=\"none\" d=\"M237.26,12.61 L 237.26 80.72\"/>\n",
       "      <path fill=\"none\" d=\"M241.7,12.61 L 241.7 80.72\"/>\n",
       "      <path fill=\"none\" d=\"M246.14,12.61 L 246.14 80.72\"/>\n",
       "      <path fill=\"none\" d=\"M250.59,12.61 L 250.59 80.72\"/>\n",
       "      <path fill=\"none\" d=\"M255.03,12.61 L 255.03 80.72\"/>\n",
       "      <path fill=\"none\" d=\"M259.47,12.61 L 259.47 80.72\"/>\n",
       "      <path fill=\"none\" d=\"M263.91,12.61 L 263.91 80.72\"/>\n",
       "      <path fill=\"none\" d=\"M268.35,12.61 L 268.35 80.72\"/>\n",
       "      <path fill=\"none\" d=\"M272.79,12.61 L 272.79 80.72\"/>\n",
       "      <path fill=\"none\" d=\"M277.23,12.61 L 277.23 80.72\"/>\n",
       "      <path fill=\"none\" d=\"M281.68,12.61 L 281.68 80.72\"/>\n",
       "      <path fill=\"none\" d=\"M286.12,12.61 L 286.12 80.72\"/>\n",
       "      <path fill=\"none\" d=\"M290.56,12.61 L 290.56 80.72\"/>\n",
       "    </g>\n",
       "    <g class=\"plotpanel\" id=\"img-9b9cc760-9\">\n",
       "      <g shape-rendering=\"crispEdges\" stroke-width=\"0.3\" id=\"img-9b9cc760-10\">\n",
       "        <g stroke=\"#000000\" stroke-opacity=\"0.000\" class=\"geometry\" id=\"img-9b9cc760-11\">\n",
       "          <rect x=\"290.53\" y=\"77.43\" width=\"4.49\" height=\"1.28\" fill=\"#00B3D0\"/>\n",
       "          <rect x=\"286.09\" y=\"76.15\" width=\"4.49\" height=\"2.56\" fill=\"#EC975F\"/>\n",
       "          <rect x=\"281.65\" y=\"77.43\" width=\"4.49\" height=\"1.28\" fill=\"#FFB279\"/>\n",
       "          <rect x=\"277.21\" y=\"75.51\" width=\"4.49\" height=\"3.21\" fill=\"#00D0C2\"/>\n",
       "          <rect x=\"272.77\" y=\"76.79\" width=\"4.49\" height=\"1.92\" fill=\"#FF8CFA\"/>\n",
       "          <rect x=\"268.33\" y=\"72.95\" width=\"4.49\" height=\"5.77\" fill=\"#FF8AC9\"/>\n",
       "          <rect x=\"263.89\" y=\"65.89\" width=\"4.49\" height=\"12.82\" fill=\"#E1B32A\"/>\n",
       "          <rect x=\"259.44\" y=\"73.59\" width=\"4.49\" height=\"5.13\" fill=\"#E38ED9\"/>\n",
       "          <rect x=\"255\" y=\"64.61\" width=\"4.49\" height=\"14.1\" fill=\"#8AAA16\"/>\n",
       "          <rect x=\"250.56\" y=\"76.15\" width=\"4.49\" height=\"2.56\" fill=\"#A3D57C\"/>\n",
       "          <rect x=\"246.12\" y=\"72.95\" width=\"4.49\" height=\"5.77\" fill=\"#DB8D17\"/>\n",
       "          <rect x=\"241.68\" y=\"72.3\" width=\"4.49\" height=\"6.41\" fill=\"#F88F6F\"/>\n",
       "          <rect x=\"237.24\" y=\"66.54\" width=\"4.49\" height=\"12.18\" fill=\"#27D0AB\"/>\n",
       "          <rect x=\"232.8\" y=\"74.23\" width=\"4.49\" height=\"4.49\" fill=\"#9CB4FF\"/>\n",
       "          <rect x=\"228.35\" y=\"70.38\" width=\"4.49\" height=\"8.33\" fill=\"#F08031\"/>\n",
       "          <rect x=\"223.91\" y=\"73.59\" width=\"4.49\" height=\"5.13\" fill=\"#68DCA2\"/>\n",
       "          <rect x=\"219.47\" y=\"76.15\" width=\"4.49\" height=\"2.56\" fill=\"#88B962\"/>\n",
       "          <rect x=\"215.03\" y=\"64.61\" width=\"4.49\" height=\"14.1\" fill=\"#A6C537\"/>\n",
       "          <rect x=\"210.59\" y=\"76.79\" width=\"4.49\" height=\"1.92\" fill=\"#FFB445\"/>\n",
       "          <rect x=\"206.15\" y=\"74.87\" width=\"4.49\" height=\"3.85\" fill=\"#66B032\"/>\n",
       "          <rect x=\"201.71\" y=\"74.23\" width=\"4.49\" height=\"4.49\" fill=\"#00B0FE\"/>\n",
       "          <rect x=\"197.26\" y=\"58.84\" width=\"4.49\" height=\"19.87\" fill=\"#B7AE38\"/>\n",
       "          <rect x=\"192.82\" y=\"75.51\" width=\"4.49\" height=\"3.21\" fill=\"#00C4E9\"/>\n",
       "          <rect x=\"188.38\" y=\"76.15\" width=\"4.49\" height=\"2.56\" fill=\"#6CBD73\"/>\n",
       "          <rect x=\"183.94\" y=\"76.79\" width=\"4.49\" height=\"1.92\" fill=\"#CE9247\"/>\n",
       "          <rect x=\"179.5\" y=\"64.61\" width=\"4.49\" height=\"14.1\" fill=\"#00D0D8\"/>\n",
       "          <rect x=\"175.06\" y=\"75.51\" width=\"4.49\" height=\"3.21\" fill=\"#DAB45B\"/>\n",
       "          <rect x=\"170.62\" y=\"74.87\" width=\"4.49\" height=\"3.85\" fill=\"#00B573\"/>\n",
       "          <rect x=\"166.17\" y=\"75.51\" width=\"4.49\" height=\"3.21\" fill=\"#E799FF\"/>\n",
       "          <rect x=\"161.73\" y=\"69.74\" width=\"4.49\" height=\"8.97\" fill=\"#FF928B\"/>\n",
       "          <rect x=\"157.29\" y=\"73.59\" width=\"4.49\" height=\"5.13\" fill=\"#82CC4D\"/>\n",
       "          <rect x=\"152.85\" y=\"72.3\" width=\"4.49\" height=\"6.41\" fill=\"#FF734A\"/>\n",
       "          <rect x=\"148.41\" y=\"46.02\" width=\"4.49\" height=\"32.69\" fill=\"#C483E9\"/>\n",
       "          <rect x=\"143.97\" y=\"54.36\" width=\"4.49\" height=\"24.36\" fill=\"#FF5F82\"/>\n",
       "          <rect x=\"139.53\" y=\"48.59\" width=\"4.49\" height=\"30.13\" fill=\"#FFA0C8\"/>\n",
       "          <rect x=\"135.08\" y=\"78.07\" width=\"4.49\" height=\"0.64\" fill=\"#BCCF6F\"/>\n",
       "          <rect x=\"130.64\" y=\"64.61\" width=\"4.49\" height=\"14.1\" fill=\"#00D485\"/>\n",
       "          <rect x=\"126.2\" y=\"46.66\" width=\"4.49\" height=\"32.05\" fill=\"#A08CFF\"/>\n",
       "          <rect x=\"121.76\" y=\"49.87\" width=\"4.49\" height=\"28.85\" fill=\"#00BBAA\"/>\n",
       "          <rect x=\"117.32\" y=\"63.33\" width=\"4.49\" height=\"15.38\" fill=\"#82CAFF\"/>\n",
       "          <rect x=\"112.88\" y=\"59.48\" width=\"4.49\" height=\"19.23\" fill=\"#FFAA89\"/>\n",
       "          <rect x=\"108.44\" y=\"73.59\" width=\"4.49\" height=\"5.13\" fill=\"#FFA9F6\"/>\n",
       "          <rect x=\"103.99\" y=\"72.95\" width=\"4.49\" height=\"5.77\" fill=\"#00E5B2\"/>\n",
       "          <rect x=\"99.55\" y=\"52.43\" width=\"4.49\" height=\"26.28\" fill=\"#9E9E9E\"/>\n",
       "          <rect x=\"95.11\" y=\"60.77\" width=\"4.49\" height=\"17.95\" fill=\"#32B44E\"/>\n",
       "          <rect x=\"90.67\" y=\"65.25\" width=\"4.49\" height=\"13.46\" fill=\"#FF93A4\"/>\n",
       "          <rect x=\"86.23\" y=\"72.3\" width=\"4.49\" height=\"6.41\" fill=\"#C39800\"/>\n",
       "          <rect x=\"81.79\" y=\"38.33\" width=\"4.49\" height=\"40.39\" fill=\"#00E4FF\"/>\n",
       "          <rect x=\"77.35\" y=\"62.69\" width=\"4.49\" height=\"16.03\" fill=\"#6299FF\"/>\n",
       "          <rect x=\"72.9\" y=\"61.41\" width=\"4.49\" height=\"17.31\" fill=\"#00B4BC\"/>\n",
       "          <rect x=\"68.46\" y=\"75.51\" width=\"4.49\" height=\"3.21\" fill=\"#FF9A4B\"/>\n",
       "          <rect x=\"64.02\" y=\"26.15\" width=\"4.49\" height=\"52.56\" fill=\"#93A649\"/>\n",
       "          <rect x=\"59.58\" y=\"74.23\" width=\"4.49\" height=\"4.49\" fill=\"#E870DD\"/>\n",
       "          <rect x=\"55.14\" y=\"77.43\" width=\"4.49\" height=\"1.28\" fill=\"#00E6D3\"/>\n",
       "          <rect x=\"50.7\" y=\"76.15\" width=\"4.49\" height=\"2.56\" fill=\"#63DF75\"/>\n",
       "          <rect x=\"46.26\" y=\"72.95\" width=\"4.49\" height=\"5.77\" fill=\"#C6C6C6\"/>\n",
       "          <rect x=\"41.81\" y=\"73.59\" width=\"4.49\" height=\"5.13\" fill=\"#FF6765\"/>\n",
       "          <rect x=\"37.37\" y=\"75.51\" width=\"4.49\" height=\"3.21\" fill=\"#BEA9FF\"/>\n",
       "          <rect x=\"32.93\" y=\"75.51\" width=\"4.49\" height=\"3.21\" fill=\"#00B78D\"/>\n",
       "          <rect x=\"28.49\" y=\"71.02\" width=\"4.49\" height=\"7.69\" fill=\"#FF6DAE\"/>\n",
       "          <rect x=\"24.05\" y=\"75.51\" width=\"4.49\" height=\"3.21\" fill=\"#D4CA3A\"/>\n",
       "          <rect x=\"19.61\" y=\"68.46\" width=\"4.49\" height=\"10.26\" fill=\"#00BFFF\"/>\n",
       "        </g>\n",
       "      </g>\n",
       "    </g>\n",
       "  </g>\n",
       "</g>\n",
       "  <g class=\"guide ylabels\" font-size=\"2.82\" font-family=\"'PT Sans Caption','Helvetica Neue','Helvetica',sans-serif\" fill=\"#6C606B\" id=\"img-9b9cc760-12\">\n",
       "    <text x=\"18.63\" y=\"78.72\" text-anchor=\"end\" dy=\"0.35em\">0</text>\n",
       "    <text x=\"18.63\" y=\"62.69\" text-anchor=\"end\" dy=\"0.35em\">25</text>\n",
       "    <text x=\"18.63\" y=\"46.66\" text-anchor=\"end\" dy=\"0.35em\">50</text>\n",
       "    <text x=\"18.63\" y=\"30.64\" text-anchor=\"end\" dy=\"0.35em\">75</text>\n",
       "    <text x=\"18.63\" y=\"14.61\" text-anchor=\"end\" dy=\"0.35em\">100</text>\n",
       "  </g>\n",
       "  <g font-size=\"3.88\" font-family=\"'PT Sans','Helvetica Neue','Helvetica',sans-serif\" fill=\"#564A55\" stroke=\"#000000\" stroke-opacity=\"0.000\" id=\"img-9b9cc760-13\">\n",
       "    <text x=\"8.81\" y=\"44.66\" text-anchor=\"middle\" dy=\"0.35em\" transform=\"rotate(-90, 8.81, 46.66)\"># of samples</text>\n",
       "  </g>\n",
       "  <g font-size=\"3.88\" font-family=\"'PT Sans','Helvetica Neue','Helvetica',sans-serif\" fill=\"#564A55\" stroke=\"#000000\" stroke-opacity=\"0.000\" id=\"img-9b9cc760-14\">\n",
       "    <text x=\"157.32\" y=\"10.61\" text-anchor=\"middle\">Distribution of training data</text>\n",
       "  </g>\n",
       "</g>\n",
       "<defs>\n",
       "  <clipPath id=\"img-9b9cc760-4\">\n",
       "  <path d=\"M19.63,12.61 L 295 12.61 295 80.72 19.63 80.72\" />\n",
       "</clipPath>\n",
       "</defs>\n",
       "</svg>\n"
      ],
      "text/plain": [
       "Compose.SVG(300.0mm,100.0mm,IOBuffer(data=UInt8[...], readable=true, writable=true, seekable=true, append=false, size=16089, maxsize=Inf, ptr=16090, mark=-1),nothing,\"img-9b9cc760\",0,Compose.SVGPropertyFrame[],Dict{Type{T},Union{Compose.Property{P<:Compose.PropertyPrimitive},Void}}(Compose.Property{Compose.FillPrimitive}=>nothing),Dict{Compose.ClipPrimitive{P<:NTuple{N,Measures.Measure}},ASCIIString}(Compose.ClipPrimitive{Tuple{Measures.Length{:mm,Float64},Measures.Length{:mm,Float64}}}([(19.63166666666666mm,12.611666666666665mm),(295.0mm,12.611666666666665mm),(295.0mm,80.715mm),(19.63166666666666mm,80.715mm)])=>\"img-9b9cc760-4\"),Tuple{Compose.FormPrimitive,ASCIIString}[],Set{AbstractString}(),true,false,nothing,true,\"img-9b9cc760-14\",false,14,AbstractString[\"/opt/julia_packages/.julia/v0.4/Gadfly/src/gadfly.js\"],Tuple{AbstractString,AbstractString}[(\"Snap.svg\",\"Snap\"),(\"Gadfly\",\"Gadfly\")],AbstractString[\"fig.select(\\\"#img-9b9cc760-5\\\")\\n   .init_gadfly();\"],false,:none)"
      ]
     },
     "metadata": {},
     "output_type": "display_data"
    }
   ],
   "source": [
    "counts=by(trainLabels, :Class, nrow);\n",
    "p1=Gadfly.plot(x = counts[:Class], y=counts[:x1], color = counts[:Class], Theme(key_position = :none), Guide.xlabel(\"Characters\"), Guide.ylabel(\"# of samples\"), Geom.bar, Guide.title(\"Distribution of training data\"))\n",
    "draw(SVG(30cm, 10cm), p1)"
   ]
  },
  {
   "cell_type": "markdown",
   "metadata": {},
   "source": [
    "You can also scroll through the images!"
   ]
  },
  {
   "cell_type": "code",
   "execution_count": 6,
   "metadata": {
    "collapsed": false
   },
   "outputs": [
    {
     "data": {
      "text/html": [],
      "text/plain": [
       "Interact.Slider{Int64}(Signal{Int64}(500, nactions=0),\"i\",500,1:1000,true)"
      ]
     },
     "metadata": {},
     "output_type": "display_data"
    },
    {
     "data": {
      "image/png": "[encoded data removed]",
      "text/plain": [
       "RGB Images.Image with:\n",
       "  data: 20x20 Array{ColorTypes.RGB{FixedPointNumbers.UFixed{UInt8,8}},2}\n",
       "  properties:\n",
       "    colorspace: sRGB\n",
       "    spatialorder:  x y"
      ]
     },
     "execution_count": 6,
     "metadata": {
      "comm_id": "fce32480-6e70-4781-956f-0b46a1e3a575",
      "reactive": true
     },
     "output_type": "execute_result"
    }
   ],
   "source": [
    "@manipulate for i = 1:size(trainLabels,1)\n",
    "    load(\"$(path)/trainResized/$i.Bmp\")\n",
    "end"
   ]
  },
  {
   "cell_type": "markdown",
   "metadata": {},
   "source": [
    "But we haven't really read the training data yet. Only the labels. \n",
    "\n",
    "Now, load each image, convert into grayscale, and build a large training data matrix. Each row represents an image"
   ]
  },
  {
   "cell_type": "code",
   "execution_count": 7,
   "metadata": {
    "collapsed": false
   },
   "outputs": [
    {
     "data": {
      "text/plain": [
       "1000x400 Array{Float64,2}:\n",
       " 0.243137   0.25098    0.34902    …  0.278431   0.270588   0.278431 \n",
       " 0.462745   0.462745   0.462745      0.458824   0.454902   0.454902 \n",
       " 0.317647   0.384314   0.384314      0.372549   0.341176   0.305882 \n",
       " 0.301961   0.364706   0.560784      0.564706   0.572549   0.54902  \n",
       " 0.0862745  0.0862745  0.0823529     0.0705882  0.0745098  0.0745098\n",
       " 0.419608   0.419608   0.419608   …  0.407843   0.407843   0.415686 \n",
       " 0.286275   0.278431   0.278431      0.278431   0.278431   0.282353 \n",
       " 0.243137   0.203922   0.215686      0.243137   0.254902   0.254902 \n",
       " 0.247059   0.235294   0.235294      0.235294   0.239216   0.235294 \n",
       " 0.784314   0.784314   0.772549      0.964706   0.952941   0.945098 \n",
       " 0.364706   0.360784   0.356863   …  0.45098    0.439216   0.45098  \n",
       " 0.266667   0.254902   0.258824      0.270588   0.270588   0.262745 \n",
       " 0.235294   0.219608   0.219608      0.313725   0.196078   0.117647 \n",
       " ⋮                                ⋱                                 \n",
       " 0.290196   0.294118   0.313725      0.4        0.4        0.419608 \n",
       " 0.388235   0.454902   0.466667      0.564706   0.439216   0.462745 \n",
       " 0.129412   0.176471   0.172549   …  0.156863   0.160784   0.117647 \n",
       " 0.623529   0.627451   0.627451      0.384314   0.470588   0.517647 \n",
       " 0.835294   0.823529   0.839216      0.745098   0.662745   0.643137 \n",
       " 0.52549    0.494118   0.458824      0.52549    0.486275   0.352941 \n",
       " 0.85098    0.85098    0.854902      0.843137   0.847059   0.85098  \n",
       " 0.517647   0.564706   0.596078   …  0.160784   0.160784   0.156863 \n",
       " 0.572549   0.572549   0.572549      0.572549   0.572549   0.568627 \n",
       " 0.294118   0.25098    0.247059      0.215686   0.227451   0.239216 \n",
       " 0.65098    0.65098    0.654902      0.619608   0.639216   0.643137 \n",
       " 0.862745   0.87451    0.854902      0.878431   0.866667   0.862745 "
      ]
     },
     "execution_count": 7,
     "metadata": {},
     "output_type": "execute_result"
    }
   ],
   "source": [
    "function read_data_sv(typeData::AbstractString, trainLabels::DataFrame, imageSize)\n",
    "    x = zeros(size(trainLabels, 1), imageSize)\n",
    "    for (index, idImage) in enumerate(trainLabels[:ID])\n",
    "    nameFile = \"$(path)/$(typeData)Resized/$(idImage).Bmp\"\n",
    "        img = load(nameFile)\n",
    "        img = float(convert(Image{Gray}, img))\n",
    "        x[index, :] = reshape(img, 1, imageSize)\n",
    "    end\n",
    "    x\n",
    "end\n",
    "train_data = read_data_sv(\"train\", trainLabels, imageSize)"
   ]
  },
  {
   "cell_type": "markdown",
   "metadata": {},
   "source": [
    "## Tempering the Data"
   ]
  },
  {
   "cell_type": "markdown",
   "metadata": {},
   "source": [
    "All the labels are strings. Let's convert them into character labels and then convert to integer labels. "
   ]
  },
  {
   "cell_type": "code",
   "execution_count": 8,
   "metadata": {
    "collapsed": false
   },
   "outputs": [
    {
     "data": {
      "text/plain": [
       "1000-element Array{Int64,1}:\n",
       " 110\n",
       "  56\n",
       "  84\n",
       "  73\n",
       "  82\n",
       "  87\n",
       "  76\n",
       " 108\n",
       "  75\n",
       "  71\n",
       "  65\n",
       "  65\n",
       "  67\n",
       "   ⋮\n",
       "  84\n",
       "  52\n",
       "  48\n",
       "  79\n",
       "  79\n",
       " 101\n",
       "  71\n",
       "  74\n",
       " 101\n",
       "  78\n",
       " 101\n",
       "  69"
      ]
     },
     "execution_count": 8,
     "metadata": {},
     "output_type": "execute_result"
    }
   ],
   "source": [
    "chars = map(x -> x[1], trainLabels[:Class])\n",
    "trainLabelsInt = map(Int, chars) \n",
    "trainLabelsInt = Array(trainLabelsInt)"
   ]
  },
  {
   "cell_type": "markdown",
   "metadata": {},
   "source": [
    "Transpose the images, so that the columns represent each image. Note that every entry in the our training labels corresponds to a column in this matrix. For example, the first label is an 'n', and so is the first image. Scroll back up and check that the training labels match the images. \n"
   ]
  },
  {
   "cell_type": "code",
   "execution_count": 9,
   "metadata": {
    "collapsed": false
   },
   "outputs": [
    {
     "data": {
      "text/plain": [
       "400x1000 Array{Float64,2}:\n",
       " 0.243137  0.462745  0.317647  0.301961  …  0.294118  0.65098   0.862745\n",
       " 0.25098   0.462745  0.384314  0.364706     0.25098   0.65098   0.87451 \n",
       " 0.34902   0.462745  0.384314  0.560784     0.247059  0.654902  0.854902\n",
       " 0.258824  0.462745  0.364706  0.576471     0.282353  0.654902  0.882353\n",
       " 0.266667  0.470588  0.372549  0.533333     0.309804  0.65098   0.866667\n",
       " 0.254902  0.462745  0.376471  0.541176  …  0.301961  0.654902  0.862745\n",
       " 0.258824  0.462745  0.372549  0.54902      0.290196  0.65098   0.862745\n",
       " 0.290196  0.466667  0.376471  0.541176     0.282353  0.654902  0.878431\n",
       " 0.258824  0.462745  0.388235  0.533333     0.262745  0.647059  0.878431\n",
       " 0.27451   0.466667  0.4       0.545098     0.25098   0.65098   0.878431\n",
       " 0.262745  0.47451   0.392157  0.541176  …  0.25098   0.65098   0.87451 \n",
       " 0.278431  0.470588  0.392157  0.552941     0.270588  0.65098   0.886275\n",
       " 0.270588  0.462745  0.392157  0.545098     0.278431  0.662745  0.878431\n",
       " ⋮                                       ⋱                              \n",
       " 0.27451   0.458824  0.380392  0.529412     0.188235  0.286275  0.854902\n",
       " 0.282353  0.45098   0.34902   0.533333     0.196078  0.282353  0.878431\n",
       " 0.266667  0.458824  0.32549   0.52549   …  0.207843  0.262745  0.866667\n",
       " 0.282353  0.45098   0.419608  0.541176     0.219608  0.270588  0.866667\n",
       " 0.282353  0.45098   0.509804  0.576471     0.207843  0.278431  0.862745\n",
       " 0.305882  0.45098   0.537255  0.564706     0.2       0.270588  0.858824\n",
       " 0.278431  0.447059  0.556863  0.564706     0.192157  0.254902  0.905882\n",
       " 0.270588  0.45098   0.54902   0.560784  …  0.2       0.294118  0.878431\n",
       " 0.301961  0.431373  0.501961  0.545098     0.211765  0.47451   0.890196\n",
       " 0.278431  0.458824  0.372549  0.564706     0.215686  0.619608  0.878431\n",
       " 0.270588  0.454902  0.341176  0.572549     0.227451  0.639216  0.866667\n",
       " 0.278431  0.454902  0.305882  0.54902      0.239216  0.643137  0.862745"
      ]
     },
     "execution_count": 9,
     "metadata": {},
     "output_type": "execute_result"
    }
   ],
   "source": [
    "train_data = train_data'"
   ]
  },
  {
   "cell_type": "markdown",
   "metadata": {},
   "source": [
    "## The Algorithm\n",
    "\n",
    "The algorithm we're using here is a very simple, rudimentary K nearest neighbors (KNN). The idea is to take a particular image, and see which \"k\" images it is closest to. \n",
    "\n",
    "** Objective ** : To find the right value of \"k\" such that our model matches the training set.\n",
    "\n",
    "Some questions: \n",
    "* What does \"closest\" mean? How do you measure distance between two images?\n",
    "* How exactly do you find the right value of \"k\"?\n",
    "* What exactly is our \"model\"?\n",
    "\n",
    "The following function takes a particular image and finds the distance between the image under consideration and all the others. Note that each image is now a vector of 400 instead of the original 20x20, making it simpler to calculate distances."
   ]
  },
  {
   "cell_type": "code",
   "execution_count": 10,
   "metadata": {
    "collapsed": false
   },
   "outputs": [
    {
     "data": {
      "text/plain": [
       "get_all_distances (generic function with 1 method)"
      ]
     },
     "execution_count": 10,
     "metadata": {},
     "output_type": "execute_result"
    }
   ],
   "source": [
    "function get_all_distances(imageI::AbstractArray, x::AbstractArray)\n",
    "    diff = imageI .- x\n",
    "    distances = vec(sum(diff .* diff,1))\n",
    "end"
   ]
  },
  {
   "cell_type": "markdown",
   "metadata": {},
   "source": [
    "Find the \"k\" closest neighbors. Once you get all the distances, consider the first \"k\" distances as your closest distances. (Why do you thinking we're taking `2:k+1` instead of `1:k` ?)"
   ]
  },
  {
   "cell_type": "code",
   "execution_count": 11,
   "metadata": {
    "collapsed": false
   },
   "outputs": [
    {
     "data": {
      "text/plain": [
       "get_k_nearest_neighbors (generic function with 3 methods)"
      ]
     },
     "execution_count": 11,
     "metadata": {},
     "output_type": "execute_result"
    }
   ],
   "source": [
    "function get_k_nearest_neighbors(x::AbstractArray, imageI::AbstractArray, k::Int = 3, train = true)\n",
    "    nRows, nCols = size(x)\n",
    "    distances = get_all_distances(imageI, x)\n",
    "    sortedNeighbors = sortperm(distances)\n",
    "    if train\n",
    "        return kNearestNeighbors = Array(sortedNeighbors[2:k+1])\n",
    "    else\n",
    "        return kNearestNeighbors = Array(sortedNeighbors[1:k])  \n",
    "    end\n",
    "end\n"
   ]
  },
  {
   "cell_type": "markdown",
   "metadata": {},
   "source": [
    "Finally, assign the most \"popular\" character amongst the \"k\" least distances to the image under question. "
   ]
  },
  {
   "cell_type": "code",
   "execution_count": 12,
   "metadata": {
    "collapsed": false
   },
   "outputs": [
    {
     "data": {
      "text/plain": [
       "assign_label (generic function with 1 method)"
      ]
     },
     "execution_count": 12,
     "metadata": {},
     "output_type": "execute_result"
    }
   ],
   "source": [
    "function assign_label(x::AbstractArray, y::AbstractArray{Int64}, imageI::AbstractArray, k, train::Bool)\n",
    "    kNearestNeighbors = get_k_nearest_neighbors(x, imageI, k, train)\n",
    "    counts = Dict{Int, Int}()\n",
    "    highestCount = 0\n",
    "    mostPopularLabel = 0\n",
    "    for n in kNearestNeighbors\n",
    "        labelOfN = y[n]\n",
    "        if !haskey(counts, labelOfN)\n",
    "            counts[labelOfN] = 0\n",
    "        end\n",
    "        counts[labelOfN] += 1\n",
    "        if counts[labelOfN] > highestCount\n",
    "            highestCount = counts[labelOfN]\n",
    "            mostPopularLabel = labelOfN\n",
    "        end\n",
    "     end\n",
    "    mostPopularLabel\n",
    "end"
   ]
  },
  {
   "cell_type": "markdown",
   "metadata": {},
   "source": [
    "Let's run this now. What's the training accuracy? \n",
    "\n",
    "Make this better:\n",
    "* More training samples\n",
    "* A better model! \n"
   ]
  },
  {
   "cell_type": "code",
   "execution_count": 13,
   "metadata": {
    "collapsed": false
   },
   "outputs": [
    {
     "name": "stdout",
     "output_type": "stream",
     "text": [
      "  2.590069 seconds (453.42 k allocations: 5.998 GB, 25.24% gc time)\n"
     ]
    },
    {
     "data": {
      "text/plain": [
       "0.258"
      ]
     },
     "execution_count": 13,
     "metadata": {},
     "output_type": "execute_result"
    }
   ],
   "source": [
    "k = 3\n",
    "checks = trues(size(train_data, 2))\n",
    "@time for i = 1:size(train_data, 2)\n",
    "    imageI = train_data[:,i]\n",
    "    checks[i]  = (assign_label(train_data, trainLabelsInt, imageI, k, true) == trainLabelsInt[i])\n",
    "end\n",
    "accuracy = length(find(checks)) / length(checks)"
   ]
  },
  {
   "cell_type": "markdown",
   "metadata": {},
   "source": [
    "## Test cases\n",
    "\n",
    "Let's read the test labels now. "
   ]
  },
  {
   "cell_type": "code",
   "execution_count": 14,
   "metadata": {
    "collapsed": false
   },
   "outputs": [
    {
     "data": {
      "text/html": [
       "<table class=\"data-frame\"><tr><th></th><th>ID</th><th>Class</th></tr><tr><th>1</th><td>6284</td><td>A</td></tr><tr><th>2</th><td>6285</td><td>A</td></tr><tr><th>3</th><td>6286</td><td>A</td></tr><tr><th>4</th><td>6287</td><td>A</td></tr><tr><th>5</th><td>6288</td><td>A</td></tr><tr><th>6</th><td>6289</td><td>A</td></tr><tr><th>7</th><td>6290</td><td>A</td></tr><tr><th>8</th><td>6291</td><td>A</td></tr><tr><th>9</th><td>6292</td><td>A</td></tr><tr><th>10</th><td>6293</td><td>A</td></tr><tr><th>11</th><td>6294</td><td>A</td></tr><tr><th>12</th><td>6295</td><td>A</td></tr><tr><th>13</th><td>6296</td><td>A</td></tr><tr><th>14</th><td>6297</td><td>A</td></tr><tr><th>15</th><td>6298</td><td>A</td></tr><tr><th>16</th><td>6299</td><td>A</td></tr><tr><th>17</th><td>6300</td><td>A</td></tr><tr><th>18</th><td>6301</td><td>A</td></tr><tr><th>19</th><td>6302</td><td>A</td></tr><tr><th>20</th><td>6303</td><td>A</td></tr><tr><th>21</th><td>6304</td><td>A</td></tr><tr><th>22</th><td>6305</td><td>A</td></tr><tr><th>23</th><td>6306</td><td>A</td></tr><tr><th>24</th><td>6307</td><td>A</td></tr><tr><th>25</th><td>6308</td><td>A</td></tr><tr><th>26</th><td>6309</td><td>A</td></tr><tr><th>27</th><td>6310</td><td>A</td></tr><tr><th>28</th><td>6311</td><td>A</td></tr><tr><th>29</th><td>6312</td><td>A</td></tr><tr><th>30</th><td>6313</td><td>A</td></tr><tr><th>&vellip;</th><td>&vellip;</td><td>&vellip;</td></tr></table>"
      ],
      "text/plain": [
       "1000×2 DataFrames.DataFrame\n",
       "│ Row  │ ID   │ Class │\n",
       "├──────┼──────┼───────┤\n",
       "│ 1    │ 6284 │ \"A\"   │\n",
       "│ 2    │ 6285 │ \"A\"   │\n",
       "│ 3    │ 6286 │ \"A\"   │\n",
       "│ 4    │ 6287 │ \"A\"   │\n",
       "│ 5    │ 6288 │ \"A\"   │\n",
       "│ 6    │ 6289 │ \"A\"   │\n",
       "│ 7    │ 6290 │ \"A\"   │\n",
       "│ 8    │ 6291 │ \"A\"   │\n",
       "│ 9    │ 6292 │ \"A\"   │\n",
       "│ 10   │ 6293 │ \"A\"   │\n",
       "│ 11   │ 6294 │ \"A\"   │\n",
       "⋮\n",
       "│ 989  │ 7272 │ \"A\"   │\n",
       "│ 990  │ 7273 │ \"A\"   │\n",
       "│ 991  │ 7274 │ \"A\"   │\n",
       "│ 992  │ 7275 │ \"A\"   │\n",
       "│ 993  │ 7276 │ \"A\"   │\n",
       "│ 994  │ 7277 │ \"A\"   │\n",
       "│ 995  │ 7278 │ \"A\"   │\n",
       "│ 996  │ 7279 │ \"A\"   │\n",
       "│ 997  │ 7280 │ \"A\"   │\n",
       "│ 998  │ 7281 │ \"A\"   │\n",
       "│ 999  │ 7282 │ \"A\"   │\n",
       "│ 1000 │ 7283 │ \"A\"   │"
      ]
     },
     "execution_count": 14,
     "metadata": {},
     "output_type": "execute_result"
    }
   ],
   "source": [
    "testLabels = readtable(\"$(path)/testLabels.csv\")\n",
    "testLabels = testLabels[1:1000,:]"
   ]
  },
  {
   "cell_type": "code",
   "execution_count": 15,
   "metadata": {
    "collapsed": false
   },
   "outputs": [
    {
     "data": {
      "text/plain": [
       "(1000,2)"
      ]
     },
     "execution_count": 15,
     "metadata": {},
     "output_type": "execute_result"
    }
   ],
   "source": [
    "size(testLabels)"
   ]
  },
  {
   "cell_type": "markdown",
   "metadata": {},
   "source": [
    "Read the test data. We're going to take every test image and then find which training image it is closest to, and then assign it to that particular class. "
   ]
  },
  {
   "cell_type": "code",
   "execution_count": 16,
   "metadata": {
    "collapsed": false
   },
   "outputs": [
    {
     "data": {
      "text/plain": [
       "1000x400 Array{Float64,2}:\n",
       " 0.45098    0.447059   0.443137   …  0.486275   0.482353   0.470588 \n",
       " 0.282353   0.286275   0.309804      0.431373   0.282353   0.294118 \n",
       " 0.113725   0.152941   0.156863      0.145098   0.145098   0.101961 \n",
       " 0.592157   0.545098   0.564706      0.556863   0.588235   0.592157 \n",
       " 0.501961   0.52549    0.552941      0.572549   0.588235   0.541176 \n",
       " 0.552941   0.54902    0.54902    …  0.533333   0.509804   0.501961 \n",
       " 0.141176   0.180392   0.192157      0.14902    0.164706   0.156863 \n",
       " 0.862745   0.866667   0.843137      0.862745   0.905882   0.882353 \n",
       " 0.705882   0.694118   0.686275      0.643137   0.670588   0.701961 \n",
       " 0.866667   0.866667   0.866667      0.878431   0.886275   0.905882 \n",
       " 0.231373   0.2        0.203922   …  0.215686   0.227451   0.239216 \n",
       " 0.737255   0.74902    0.776471      0.776471   0.780392   0.780392 \n",
       " 0.47451    0.47451    0.494118      0.454902   0.478431   0.478431 \n",
       " ⋮                                ⋱                                 \n",
       " 0.72549    0.72549    0.72549       0.658824   0.513725   0.443137 \n",
       " 0.0705882  0.0588235  0.0627451     0.0862745  0.0901961  0.0862745\n",
       " 0.580392   0.627451   0.592157   …  0.592157   0.6        0.592157 \n",
       " 0.607843   0.615686   0.611765      0.627451   0.631373   0.627451 \n",
       " 0.713725   0.752941   0.752941      0.776471   0.796078   0.721569 \n",
       " 0.231373   0.219608   0.227451      0.239216   0.247059   0.235294 \n",
       " 0.584314   0.580392   0.568627      0.576471   0.623529   0.596078 \n",
       " 0.521569   0.654902   0.662745   …  0.537255   0.52549    0.411765 \n",
       " 0.505882   0.513725   0.509804      0.462745   0.47451    0.47451  \n",
       " 0.305882   0.282353   0.313725      0.352941   0.364706   0.364706 \n",
       " 0.564706   0.611765   0.607843      0.603922   0.603922   0.556863 \n",
       " 0.490196   0.498039   0.482353      0.580392   0.572549   0.564706 "
      ]
     },
     "execution_count": 16,
     "metadata": {},
     "output_type": "execute_result"
    }
   ],
   "source": [
    "test_data = read_data_sv(\"test\", testLabels, imageSize)"
   ]
  },
  {
   "cell_type": "code",
   "execution_count": 17,
   "metadata": {
    "collapsed": false
   },
   "outputs": [
    {
     "data": {
      "text/plain": [
       "400x1000 Array{Float64,2}:\n",
       " 0.45098   0.282353  0.113725  0.592157  …  0.305882  0.564706  0.490196\n",
       " 0.447059  0.286275  0.152941  0.545098     0.282353  0.611765  0.498039\n",
       " 0.443137  0.309804  0.156863  0.564706     0.313725  0.607843  0.482353\n",
       " 0.443137  0.301961  0.156863  0.529412     0.32549   0.615686  0.498039\n",
       " 0.435294  0.309804  0.156863  0.568627     0.243137  0.623529  0.482353\n",
       " 0.431373  0.341176  0.156863  0.607843  …  0.278431  0.619608  0.529412\n",
       " 0.458824  0.34902   0.160784  0.568627     0.262745  0.623529  0.498039\n",
       " 0.462745  0.333333  0.160784  0.576471     0.278431  0.619608  0.54902 \n",
       " 0.447059  0.341176  0.160784  0.537255     0.301961  0.615686  0.517647\n",
       " 0.462745  0.364706  0.156863  0.560784     0.243137  0.607843  0.533333\n",
       " 0.458824  0.364706  0.156863  0.580392  …  0.290196  0.607843  0.529412\n",
       " 0.458824  0.376471  0.156863  0.592157     0.294118  0.611765  0.545098\n",
       " 0.458824  0.388235  0.156863  0.592157     0.301961  0.611765  0.54902 \n",
       " ⋮                                       ⋱                              \n",
       " 0.466667  0.45098   0.160784  0.494118     0.431373  0.592157  0.568627\n",
       " 0.47451   0.458824  0.156863  0.380392     0.384314  0.596078  0.580392\n",
       " 0.494118  0.443137  0.156863  0.258824  …  0.313725  0.603922  0.568627\n",
       " 0.486275  0.443137  0.152941  0.290196     0.341176  0.611765  0.564706\n",
       " 0.482353  0.443137  0.14902   0.239216     0.333333  0.619608  0.576471\n",
       " 0.47451   0.447059  0.145098  0.235294     0.392157  0.619608  0.572549\n",
       " 0.47451   0.447059  0.145098  0.258824     0.317647  0.615686  0.572549\n",
       " 0.486275  0.439216  0.145098  0.247059  …  0.321569  0.603922  0.568627\n",
       " 0.490196  0.45098   0.145098  0.388235     0.415686  0.6       0.568627\n",
       " 0.486275  0.431373  0.145098  0.556863     0.352941  0.603922  0.580392\n",
       " 0.482353  0.282353  0.145098  0.588235     0.364706  0.603922  0.572549\n",
       " 0.470588  0.294118  0.101961  0.592157     0.364706  0.556863  0.564706"
      ]
     },
     "execution_count": 17,
     "metadata": {},
     "output_type": "execute_result"
    }
   ],
   "source": [
    "test_data = test_data'"
   ]
  },
  {
   "cell_type": "markdown",
   "metadata": {},
   "source": [
    "Let's now run our test data and get our predictions. "
   ]
  },
  {
   "cell_type": "code",
   "execution_count": 18,
   "metadata": {
    "collapsed": false
   },
   "outputs": [
    {
     "name": "stdout",
     "output_type": "stream",
     "text": [
      "  2.118690 seconds (62.23 k allocations: 5.981 GB, 30.43% gc time)\n"
     ]
    }
   ],
   "source": [
    "x = test_data\n",
    "xT = train_data\n",
    "yT = trainLabelsInt\n",
    "k = 3\n",
    "prediction = zeros(Int,size(x,2))\n",
    "@time for i = 1:size(x,2)\n",
    "    imageI = x[:,i]\n",
    "    prediction[i]  = assign_label(xT, yT, imageI, k, false)\n",
    "end"
   ]
  },
  {
   "cell_type": "code",
   "execution_count": 19,
   "metadata": {
    "collapsed": false
   },
   "outputs": [
    {
     "data": {
      "text/plain": [
       "1000-element Array{Char,1}:\n",
       " 'P'\n",
       " 'A'\n",
       " 'r'\n",
       " 'I'\n",
       " 'E'\n",
       " 'I'\n",
       " 'g'\n",
       " 'I'\n",
       " '6'\n",
       " 'R'\n",
       " 'N'\n",
       " 'R'\n",
       " 'N'\n",
       " ⋮  \n",
       " 'R'\n",
       " 'R'\n",
       " 'R'\n",
       " 'N'\n",
       " 'i'\n",
       " 'E'\n",
       " 'R'\n",
       " 'l'\n",
       " 't'\n",
       " 'm'\n",
       " 'A'\n",
       " 'T'"
      ]
     },
     "execution_count": 19,
     "metadata": {},
     "output_type": "execute_result"
    }
   ],
   "source": [
    "prediction = map(Char, prediction)"
   ]
  },
  {
   "cell_type": "code",
   "execution_count": 20,
   "metadata": {
    "collapsed": false
   },
   "outputs": [
    {
     "data": {
      "text/html": [],
      "text/plain": [
       "Interact.Slider{Int64}(Signal{Int64}(500, nactions=0),\"i\",500,1:1000,true)"
      ]
     },
     "metadata": {},
     "output_type": "display_data"
    },
    {
     "data": {
      "image/png": "[encoded data removed]",
      "text/plain": [
       "RGB Images.Image with:\n",
       "  data: 20x20 Array{ColorTypes.RGB{FixedPointNumbers.UFixed{UInt8,8}},2}\n",
       "  properties:\n",
       "    colorspace: sRGB\n",
       "    spatialorder:  x y"
      ]
     },
     "execution_count": 20,
     "metadata": {
      "comm_id": "cf1db410-7d30-4283-827a-88407c2977fd",
      "reactive": true
     },
     "output_type": "execute_result"
    }
   ],
   "source": [
    "@manipulate for i = 1:1000\n",
    "    load(\"$path/testResized/$(6283+i).Bmp\")\n",
    "end"
   ]
  },
  {
   "cell_type": "markdown",
   "metadata": {},
   "source": [
    "In Julia, it's always a good idea to profile your code for bottlenecks, and try and improve the slowest region. "
   ]
  },
  {
   "cell_type": "code",
   "execution_count": 21,
   "metadata": {
    "collapsed": false
   },
   "outputs": [
    {
     "name": "stdout",
     "output_type": "stream",
     "text": [
      "3 task.jl; anonymous; line: 447\n",
      " 3 ...4/IJulia/src/IJulia.jl; eventloop; line: 143\n",
      "  3 ...src/execute_request.jl; execute_request_0x535c5df2; line: 183\n",
      "   3 loading.jl; include_string; line: 282\n",
      "    3 profile.jl; anonymous; line: 16\n",
      "     3 In[12]; assign_label; line: 2\n",
      "      3 In[11]; get_k_nearest_neighbors; line: 3\n",
      "       2 In[10]; get_all_distances; line: 2\n",
      "        2 broadcast.jl; broadcast!; line: 246\n",
      "         2 broadcast.jl; _F_; line: 97\n",
      "       1 In[10]; get_all_distances; line: 3\n",
      "        1 broadcast.jl; broadcast!; line: 246\n",
      "         1 broadcast.jl; _F_; line: 97\n"
     ]
    }
   ],
   "source": [
    "Profile.clear()\n",
    "@profile assign_label(xT, yT, test_data[:,1], 3, false)\n",
    "Profile.print()"
   ]
  },
  {
   "cell_type": "markdown",
   "metadata": {},
   "source": [
    "And now we use ArrayFire to speed it up! Remember, we can use the same code! "
   ]
  },
  {
   "cell_type": "code",
   "execution_count": 23,
   "metadata": {
    "collapsed": false
   },
   "outputs": [
    {
     "ename": "LoadError",
     "evalue": "LoadError: \"ArrayFire Error (101) : Device out of memory\"\nwhile loading In[23], in expression starting on line 6",
     "output_type": "error",
     "traceback": [
      "LoadError: \"ArrayFire Error (101) : Device out of memory\"\nwhile loading In[23], in expression starting on line 6",
      "",
      " in af_sum at /home/juser/.julia/v0.4/ArrayFire/src/wrap.jl:8",
      " in sum at /home/juser/.julia/v0.4/ArrayFire/src/vector.jl:71",
      " in get_all_distances at In[10]:3",
      " in get_k_nearest_neighbors at In[11]:3",
      " in assign_label at In[12]:2",
      " [inlined code] from In[23]:8",
      " in anonymous at no file:0"
     ]
    }
   ],
   "source": [
    "x = AFArray(test_data)\n",
    "xT = AFArray(train_data)\n",
    "yT = AFArray(trainLabelsInt)\n",
    "k = 3\n",
    "prediction = zeros(Int,size(x,2))\n",
    "@time for i = 1:size(x,2)\n",
    "    imageI = x[:,i]\n",
    "    prediction[i]  = assign_label(xT, yT, imageI, k, false)\n",
    "end"
   ]
  },
  {
   "cell_type": "code",
   "execution_count": 24,
   "metadata": {
    "collapsed": false
   },
   "outputs": [
    {
     "name": "stdout",
     "output_type": "stream",
     "text": [
      "ArrayFire v3.3.2 (CUDA, 64-bit Linux, build f65dd97)\n",
      "Platform: CUDA Toolkit 7.5, Driver: 352.93\n",
      "[0] GRID K520, 4096 MB, CUDA Compute 3.0\n"
     ]
    }
   ],
   "source": [
    "AFInfo()"
   ]
  },
  {
   "cell_type": "code",
   "execution_count": null,
   "metadata": {
    "collapsed": true
   },
   "outputs": [],
   "source": []
  }
 ],
 "metadata": {
  "kernelspec": {
   "display_name": "Julia 0.4.5",
   "language": "julia",
   "name": "julia-0.4"
  },
  "language_info": {
   "file_extension": ".jl",
   "mimetype": "application/julia",
   "name": "julia",
   "version": "0.4.5"
  }
 },
 "nbformat": 4,
 "nbformat_minor": 0
}
