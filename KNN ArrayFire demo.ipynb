{
 "cells": [
  {
   "cell_type": "markdown",
   "metadata": {},
   "source": [
    "## Character recognition \n",
    "\n",
    "This demo extends the kaggle [competition](https://www.kaggle.com/c/street-view-getting-started-with-julia/details/julia-tutorial). In this demo, we train using images of characters obtained from google view, and also classify test images which are of various sizes. Firstly k-Nearest Neighbor is used to identify the characters. \n",
    "\n",
    "#### Some key takeaways:\n",
    "* Ease of prototyping deployable models. \n",
    "* How to gain from vectorizations using **ArrayFire**.\n",
    "\n",
    "The following data has been placed in the /data directory\n",
    "\n",
    "* testResized/\n",
    "* trainResized/\n",
    "* sampleSubmission.csv\n",
    "* trainLabels.csv\n",
    "\n",
    "First, let's load all the packages we need."
   ]
  },
  {
   "cell_type": "code",
   "execution_count": 1,
   "metadata": {
    "collapsed": false
   },
   "outputs": [
    {
     "data": {
      "text/html": [
       "<script charset=\"utf-8\">(function ($, undefined) {\n",
       "\n",
       "    function createElem(tag, attr, content) {\n",
       "\t// TODO: remove jQuery dependency\n",
       "\tvar el = $(\"<\" + tag + \"/>\").attr(attr);\n",
       "\tif (content) {\n",
       "\t    el.append(content);\n",
       "\t}\n",
       "\treturn el[0];\n",
       "    }\n",
       "\n",
       "    // A widget must expose an id field which identifies it to the backend,\n",
       "    // an elem attribute which is will be added to the DOM, and\n",
       "    // a getState() method which returns the value to be sent to the backend\n",
       "    // a sendUpdate() method which sends its current value to the backend\n",
       "    var Widget = {\n",
       "\tid: undefined,\n",
       "\telem: undefined,\n",
       "\tlabel: undefined,\n",
       "\tgetState: function () {\n",
       "\t    return this.elem.value;\n",
       "\t},\n",
       "\tsendUpdate: undefined\n",
       "    };\n",
       "\n",
       "    var Slider = function (typ, id, init) {\n",
       "\tvar attr = { type:  \"range\",\n",
       "\t\t     value: init.value,\n",
       "\t\t     min:   init.min,\n",
       "\t\t     max:   init.max,\n",
       "\t\t     step:  init.step },\n",
       "\t    elem = createElem(\"input\", attr),\n",
       "\t    self = this;\n",
       "\n",
       "\telem.onchange = function () {\n",
       "\t    self.sendUpdate();\n",
       "\t}\n",
       "\n",
       "\tthis.id = id;\n",
       "\tthis.elem = elem;\n",
       "\tthis.label = init.label;\n",
       "\n",
       "\tInputWidgets.commInitializer(this); // Initialize communication\n",
       "    }\n",
       "    Slider.prototype = Widget;\n",
       "\n",
       "    var Checkbox = function (typ, id, init) {\n",
       "\tvar attr = { type: \"checkbox\",\n",
       "\t\t     checked: init.value },\n",
       "\t    elem = createElem(\"input\", attr),\n",
       "\t    self = this;\n",
       "\n",
       "\tthis.getState = function () {\n",
       "\t    return elem.checked;\n",
       "\t}\n",
       "\telem.onchange = function () {\n",
       "\t    self.sendUpdate();\n",
       "\t}\n",
       "\n",
       "\tthis.id = id;\n",
       "\tthis.elem = elem;\n",
       "\tthis.label = init.label;\n",
       "\n",
       "\tInputWidgets.commInitializer(this);\n",
       "    }\n",
       "    Checkbox.prototype = Widget;\n",
       "\n",
       "    var Button = function (typ, id, init) {\n",
       "\tvar attr = { type:    \"button\",\n",
       "\t\t     value:   init.label },\n",
       "\t    elem = createElem(\"input\", attr),\n",
       "\t    self = this;\n",
       "\tthis.getState = function () {\n",
       "\t    return null;\n",
       "\t}\n",
       "\telem.onclick = function () {\n",
       "\t    self.sendUpdate();\n",
       "\t}\n",
       "\n",
       "\tthis.id = id;\n",
       "\tthis.elem = elem;\n",
       "\tthis.label = init.label;\n",
       "\n",
       "\tInputWidgets.commInitializer(this);\n",
       "    }\n",
       "    Button.prototype = Widget;\n",
       "\n",
       "    var Text = function (typ, id, init) {\n",
       "\tvar attr = { type:  \"text\",\n",
       "\t\t     placeholder: init.label,\n",
       "\t\t     value: init.value },\n",
       "\t    elem = createElem(\"input\", attr),\n",
       "\t    self = this;\n",
       "\tthis.getState = function () {\n",
       "\t    return elem.value;\n",
       "\t}\n",
       "\telem.onkeyup = function () {\n",
       "\t    self.sendUpdate();\n",
       "\t}\n",
       "\n",
       "\tthis.id = id;\n",
       "\tthis.elem = elem;\n",
       "\tthis.label = init.label;\n",
       "\n",
       "\tInputWidgets.commInitializer(this);\n",
       "    }\n",
       "    Text.prototype = Widget;\n",
       "\n",
       "    var Textarea = function (typ, id, init) {\n",
       "\tvar attr = { placeholder: init.label },\n",
       "\t    elem = createElem(\"textarea\", attr, init.value),\n",
       "\t    self = this;\n",
       "\tthis.getState = function () {\n",
       "\t    return elem.value;\n",
       "\t}\n",
       "\telem.onchange = function () {\n",
       "\t    self.sendUpdate();\n",
       "\t}\n",
       "\n",
       "\tthis.id = id;\n",
       "\tthis.elem = elem;\n",
       "\tthis.label = init.label;\n",
       "\n",
       "\tInputWidgets.commInitializer(this);\n",
       "    }\n",
       "    Textarea.prototype = Widget;\n",
       "\n",
       "    // RadioButtons\n",
       "    // Dropdown\n",
       "    // HTML\n",
       "    // Latex\n",
       "\n",
       "    var InputWidgets = {\n",
       "\tSlider: Slider,\n",
       "\tCheckbox: Checkbox,\n",
       "\tButton: Button,\n",
       "\tText: Text,\n",
       "\tTextarea: Textarea,\n",
       "\tdebug: false,\n",
       "\tlog: function () {\n",
       "\t    if (InputWidgets.debug) {\n",
       "\t\tconsole.log.apply(console, arguments);\n",
       "\t    }\n",
       "\t},\n",
       "\t// a central way to initalize communication\n",
       "\t// for widgets.\n",
       "\tcommInitializer: function (widget) {\n",
       "\t    widget.sendUpdate = function () {};\n",
       "\t}\n",
       "    };\n",
       "\n",
       "    window.InputWidgets = InputWidgets;\n",
       "\n",
       "})(jQuery, undefined);\n",
       "</script>"
      ]
     },
     "metadata": {},
     "output_type": "display_data"
    },
    {
     "data": {
      "text/html": [
       "<div id=\"interact-js-shim\">\n",
       "    <script charset=\"utf-8\">\n",
       "(function (IPython, $, _, MathJax, Widgets) {\n",
       "    $.event.special.destroyed = {\n",
       "\tremove: function(o) {\n",
       "\t    if (o.handler) {\n",
       "\t\to.handler.apply(this, arguments)\n",
       "\t    }\n",
       "\t}\n",
       "    }\n",
       "\n",
       "    var OutputArea = IPython.version >= \"4.0.0\" ? require(\"notebook/js/outputarea\").OutputArea : IPython.OutputArea;\n",
       "\n",
       "    var redrawValue = function (container, type, val) {\n",
       "\tvar selector = $(\"<div/>\");\n",
       "\tvar oa = new OutputArea(_.extend(selector, {\n",
       "\t    selector: selector,\n",
       "\t    prompt_area: true,\n",
       "\t    events: IPython.events,\n",
       "\t    keyboard_manager: IPython.keyboard_manager\n",
       "\t})); // Hack to work with IPython 2.1.0\n",
       "\n",
       "\tswitch (type) {\n",
       "\tcase \"image/png\":\n",
       "            var _src = 'data:' + type + ';base64,' + val;\n",
       "\t    $(container).find(\"img\").attr('src', _src);\n",
       "\t    break;\n",
       "\tdefault:\n",
       "\t    var toinsert = OutputArea.append_map[type].apply(\n",
       "\t\toa, [val, {}, selector]\n",
       "\t    );\n",
       "\t    $(container).empty().append(toinsert.contents());\n",
       "\t    selector.remove();\n",
       "\t}\n",
       "\tif (type === \"text/latex\" && MathJax) {\n",
       "\t    MathJax.Hub.Queue([\"Typeset\", MathJax.Hub, toinsert.get(0)]);\n",
       "\t}\n",
       "    }\n",
       "\n",
       "\n",
       "    $(document).ready(function() {\n",
       "\tWidgets.debug = false; // log messages etc in console.\n",
       "\tfunction initComm(evt, data) {\n",
       "\t    var comm_manager = data.kernel.comm_manager;\n",
       "        //_.extend(comm_manager.targets, require(\"widgets/js/widget\"))\n",
       "\t    comm_manager.register_target(\"Signal\", function (comm) {\n",
       "            comm.on_msg(function (msg) {\n",
       "                //Widgets.log(\"message received\", msg);\n",
       "                var val = msg.content.data.value;\n",
       "                $(\".signal-\" + comm.comm_id).each(function() {\n",
       "                var type = $(this).data(\"type\");\n",
       "                if (val[type]) {\n",
       "                    redrawValue(this, type, val[type], type);\n",
       "                }\n",
       "                });\n",
       "                delete val;\n",
       "                delete msg.content.data.value;\n",
       "            });\n",
       "\t    });\n",
       "\n",
       "\t    // coordingate with Comm and redraw Signals\n",
       "\t    // XXX: Test using Reactive here to improve performance\n",
       "\t    $([IPython.events]).on(\n",
       "\t\t'output_appended.OutputArea', function (event, type, value, md, toinsert) {\n",
       "\t\t    if (md && md.reactive) {\n",
       "                // console.log(md.comm_id);\n",
       "                toinsert.addClass(\"signal-\" + md.comm_id);\n",
       "                toinsert.data(\"type\", type);\n",
       "                // Signal back indicating the mimetype required\n",
       "                var comm_manager = IPython.notebook.kernel.comm_manager;\n",
       "                var comm = comm_manager.comms[md.comm_id];\n",
       "                comm.then(function (c) {\n",
       "                    c.send({action: \"subscribe_mime\",\n",
       "                       mime: type});\n",
       "                    toinsert.bind(\"destroyed\", function() {\n",
       "                        c.send({action: \"unsubscribe_mime\",\n",
       "                               mime: type});\n",
       "                    });\n",
       "                })\n",
       "\t\t    }\n",
       "\t    });\n",
       "\t}\n",
       "\n",
       "\ttry {\n",
       "\t    // try to initialize right away. otherwise, wait on the status_started event.\n",
       "\t    initComm(undefined, IPython.notebook);\n",
       "\t} catch (e) {\n",
       "\t    $([IPython.events]).on('kernel_created.Kernel kernel_created.Session', initComm);\n",
       "\t}\n",
       "    });\n",
       "})(IPython, jQuery, _, MathJax, InputWidgets);\n",
       "</script>\n",
       "    <script>\n",
       "        window.interactLoadedFlag = true\n",
       "       $(\"#interact-js-shim\").bind(\"destroyed\", function () {\n",
       "           if (window.interactLoadedFlag) {\n",
       "               console.warn(\"JavaScript required by Interact will be removed if you remove this cell or run using Interact more than once.\")\n",
       "           }\n",
       "       })\n",
       "       $([IPython.events]).on(\"kernel_starting.Kernel kernel_restarting.Kernel\", function () { window.interactLoadedFlag = false })\n",
       "   </script>\n",
       "</div>"
      ]
     },
     "metadata": {},
     "output_type": "display_data"
    },
    {
     "name": "stderr",
     "output_type": "stream",
     "text": [
      "WARNING: New definition \n",
      "    convert(Type{Array{#T<:ColorTypes.Colorant, N<:Any}}, AbstractArray{#S<:Any, #n<:Any}) at /home/ubuntu/.julia/v0.4/Images/src/core.jl:400\n",
      "is ambiguous with: \n",
      "    convert(Type{Array{#S<:Any, N<:Any}}, DataArrays.DataArray{#T<:Any, #N<:Any}) at /home/ubuntu/.julia/v0.4/DataArrays/src/dataarray.jl:357.\n",
      "To fix, define \n",
      "    convert(Type{Array{#T<:ColorTypes.Colorant, N<:Any}}, DataArrays.DataArray{#T<:Any, #N<:Any})\n",
      "before the new definition.\n",
      "WARNING: New definition \n",
      "    -(Images.AbstractImageDirect, AbstractArray) at /home/ubuntu/.julia/v0.4/Images/src/algorithms.jl:35\n",
      "is ambiguous with: \n",
      "    -(AbstractArray, DataArrays.DataArray) at /home/ubuntu/.julia/v0.4/DataArrays/src/operators.jl:264.\n",
      "To fix, define \n",
      "    -(Images.AbstractImageDirect, DataArrays.DataArray)\n",
      "before the new definition.\n",
      "WARNING: New definition \n",
      "    -(Images.AbstractImageDirect, AbstractArray) at /home/ubuntu/.julia/v0.4/Images/src/algorithms.jl:35\n",
      "is ambiguous with: \n",
      "    -(AbstractArray, DataArrays.AbstractDataArray) at /home/ubuntu/.julia/v0.4/DataArrays/src/operators.jl:287.\n",
      "To fix, define \n",
      "    -(Images.AbstractImageDirect, DataArrays.AbstractDataArray)\n",
      "before the new definition.\n",
      "WARNING: New definition \n",
      "    -(AbstractArray, Images.AbstractImageDirect) at /home/ubuntu/.julia/v0.4/Images/src/algorithms.jl:37\n",
      "is ambiguous with: \n",
      "    -(DataArrays.DataArray, AbstractArray) at /home/ubuntu/.julia/v0.4/DataArrays/src/operators.jl:264.\n",
      "To fix, define \n",
      "    -(DataArrays.DataArray, Images.AbstractImageDirect)\n",
      "before the new definition.\n",
      "WARNING: New definition \n",
      "    -(AbstractArray, Images.AbstractImageDirect) at /home/ubuntu/.julia/v0.4/Images/src/algorithms.jl:37\n",
      "is ambiguous with: \n",
      "    -(DataArrays.AbstractDataArray, AbstractArray) at /home/ubuntu/.julia/v0.4/DataArrays/src/operators.jl:287.\n",
      "To fix, define \n",
      "    -(DataArrays.AbstractDataArray, Images.AbstractImageDirect)\n",
      "before the new definition.\n",
      "WARNING: New definition \n",
      "    .==(Images.AbstractImageDirect{Bool, N<:Any}, AbstractArray{Bool, N<:Any}) at /home/ubuntu/.julia/v0.4/Images/src/algorithms.jl:181\n",
      "is ambiguous with: \n",
      "    .==(AbstractArray{Bool, N<:Any}, Union{DataArrays.DataArray{Bool, N<:Any}, DataArrays.PooledDataArray{Bool, R<:Integer, N<:Any}}) at /home/ubuntu/.julia/v0.4/DataArrays/src/broadcast.jl:339.\n",
      "To fix, define \n",
      "    .==(Images.AbstractImageDirect{Bool, N<:Any}, Union{DataArrays.DataArray{Bool, N<:Any}, DataArrays.PooledDataArray{Bool, R<:Integer, N<:Any}})\n",
      "before the new definition.\n",
      "WARNING: New definition \n",
      "    .==(Images.AbstractImageDirect, AbstractArray) at /home/ubuntu/.julia/v0.4/Images/src/algorithms.jl:182\n",
      "is ambiguous with: \n",
      "    .==(AbstractArray{Bool, N<:Any}, Union{DataArrays.DataArray{Bool, N<:Any}, DataArrays.PooledDataArray{Bool, R<:Integer, N<:Any}}) at /home/ubuntu/.julia/v0.4/DataArrays/src/broadcast.jl:339.\n",
      "To fix, define \n",
      "    .==(Images.AbstractImageDirect{Bool, N<:Any}, Union{DataArrays.DataArray{Bool, N<:Any}, DataArrays.PooledDataArray{Bool, R<:Integer, N<:Any}})\n",
      "before the new definition.\n",
      "WARNING: New definition \n",
      "    .==(Images.AbstractImageDirect, AbstractArray) at /home/ubuntu/.julia/v0.4/Images/src/algorithms.jl:182\n",
      "is ambiguous with: \n",
      "    .==(AbstractArray, Union{DataArrays.PooledDataArray, DataArrays.DataArray}) at /home/ubuntu/.julia/v0.4/DataArrays/src/broadcast.jl:294.\n",
      "To fix, define \n",
      "    .==(Images.AbstractImageDirect, Union{DataArrays.PooledDataArray, DataArrays.DataArray})\n",
      "before the new definition.\n",
      "WARNING: New definition \n",
      "    +(AbstractArray, Images.AbstractImageDirect) at /home/ubuntu/.julia/v0.4/Images/src/algorithms.jl:20\n",
      "is ambiguous with: \n",
      "    +(DataArrays.DataArray, AbstractArray) at /home/ubuntu/.julia/v0.4/DataArrays/src/operators.jl:264.\n",
      "To fix, define \n",
      "    +(DataArrays.DataArray, Images.AbstractImageDirect)\n",
      "before the new definition.\n",
      "WARNING: New definition \n",
      "    +(AbstractArray, Images.AbstractImageDirect) at /home/ubuntu/.julia/v0.4/Images/src/algorithms.jl:20\n",
      "is ambiguous with: \n",
      "    +(DataArrays.AbstractDataArray, AbstractArray) at /home/ubuntu/.julia/v0.4/DataArrays/src/operators.jl:287.\n",
      "To fix, define \n",
      "    +(DataArrays.AbstractDataArray, Images.AbstractImageDirect)\n",
      "before the new definition.\n",
      "WARNING: New definition \n",
      "    .-(Images.AbstractImageDirect, AbstractArray) at /home/ubuntu/.julia/v0.4/Images/src/algorithms.jl:40\n",
      "is ambiguous with: \n",
      "    .-(AbstractArray, Union{DataArrays.PooledDataArray, DataArrays.DataArray}) at /home/ubuntu/.julia/v0.4/DataArrays/src/broadcast.jl:294.\n",
      "To fix, define \n",
      "    .-(Images.AbstractImageDirect, Union{DataArrays.PooledDataArray, DataArrays.DataArray})\n",
      "before the new definition.\n",
      "WARNING: New definition \n",
      "    .>(Images.AbstractImageDirect, AbstractArray) at /home/ubuntu/.julia/v0.4/Images/src/algorithms.jl:179\n",
      "is ambiguous with: \n",
      "    .>(AbstractArray{Bool, N<:Any}, Union{DataArrays.DataArray{Bool, N<:Any}, DataArrays.PooledDataArray{Bool, R<:Integer, N<:Any}}) at /home/ubuntu/.julia/v0.4/DataArrays/src/broadcast.jl:339.\n",
      "To fix, define \n",
      "    .>(Images.AbstractImageDirect{Bool, N<:Any}, Union{DataArrays.DataArray{Bool, N<:Any}, DataArrays.PooledDataArray{Bool, R<:Integer, N<:Any}})\n",
      "before the new definition.\n",
      "WARNING: New definition \n",
      "    .>(Images.AbstractImageDirect, AbstractArray) at /home/ubuntu/.julia/v0.4/Images/src/algorithms.jl:179\n",
      "is ambiguous with: \n",
      "    .>(AbstractArray, Union{DataArrays.PooledDataArray, DataArrays.DataArray}) at /home/ubuntu/.julia/v0.4/DataArrays/src/broadcast.jl:294.\n",
      "To fix, define \n",
      "    .>(Images.AbstractImageDirect, Union{DataArrays.PooledDataArray, DataArrays.DataArray})\n",
      "before the new definition.\n",
      "WARNING: New definition \n",
      "    .<(Images.AbstractImageDirect{Bool, N<:Any}, AbstractArray{Bool, N<:Any}) at /home/ubuntu/.julia/v0.4/Images/src/algorithms.jl:177\n",
      "is ambiguous with: \n",
      "    .<(AbstractArray{Bool, N<:Any}, Union{DataArrays.DataArray{Bool, N<:Any}, DataArrays.PooledDataArray{Bool, R<:Integer, N<:Any}}) at /home/ubuntu/.julia/v0.4/DataArrays/src/broadcast.jl:339.\n",
      "To fix, define \n",
      "    .<(Images.AbstractImageDirect{Bool, N<:Any}, Union{DataArrays.DataArray{Bool, N<:Any}, DataArrays.PooledDataArray{Bool, R<:Integer, N<:Any}})\n",
      "before the new definition.\n",
      "WARNING: New definition \n",
      "    .<(Images.AbstractImageDirect, AbstractArray) at /home/ubuntu/.julia/v0.4/Images/src/algorithms.jl:178\n",
      "is ambiguous with: \n",
      "    .<(AbstractArray{Bool, N<:Any}, Union{DataArrays.DataArray{Bool, N<:Any}, DataArrays.PooledDataArray{Bool, R<:Integer, N<:Any}}) at /home/ubuntu/.julia/v0.4/DataArrays/src/broadcast.jl:339.\n",
      "To fix, define \n",
      "    .<(Images.AbstractImageDirect{Bool, N<:Any}, Union{DataArrays.DataArray{Bool, N<:Any}, DataArrays.PooledDataArray{Bool, R<:Integer, N<:Any}})\n",
      "before the new definition.\n",
      "WARNING: New definition \n",
      "    .<(Images.AbstractImageDirect, AbstractArray) at /home/ubuntu/.julia/v0.4/Images/src/algorithms.jl:178\n",
      "is ambiguous with: \n",
      "    .<(AbstractArray, Union{DataArrays.PooledDataArray, DataArrays.DataArray}) at /home/ubuntu/.julia/v0.4/DataArrays/src/broadcast.jl:294.\n",
      "To fix, define \n",
      "    .<(Images.AbstractImageDirect, Union{DataArrays.PooledDataArray, DataArrays.DataArray})\n",
      "before the new definition.\n",
      "WARNING: New definition \n",
      "    .*(Images.AbstractImageDirect, AbstractArray) at /home/ubuntu/.julia/v0.4/Images/src/algorithms.jl:51\n",
      "is ambiguous with: \n",
      "    .*(AbstractArray, Union{DataArrays.PooledDataArray, DataArrays.DataArray}, AbstractArray...) at /home/ubuntu/.julia/v0.4/DataArrays/src/broadcast.jl:304.\n",
      "To fix, define \n",
      "    .*(Images.AbstractImageDirect, Union{DataArrays.PooledDataArray, DataArrays.DataArray})\n",
      "before the new definition.\n",
      "WARNING: New definition \n",
      "    .*(AbstractArray, Images.AbstractImageDirect) at /home/ubuntu/.julia/v0.4/Images/src/algorithms.jl:52\n",
      "is ambiguous with: \n",
      "    .*(Union{DataArrays.PooledDataArray, DataArrays.DataArray}, AbstractArray...) at /home/ubuntu/.julia/v0.4/DataArrays/src/broadcast.jl:304.\n",
      "To fix, define \n",
      "    .*(Union{DataArrays.PooledDataArray, DataArrays.DataArray}, Images.AbstractImageDirect)\n",
      "before the new definition.\n",
      "WARNING: New definition \n",
      "    ./(Images.AbstractImageDirect, AbstractArray) at /home/ubuntu/.julia/v0.4/Images/src/algorithms.jl:55\n",
      "is ambiguous with: \n",
      "    ./(AbstractArray, Union{DataArrays.PooledDataArray, DataArrays.DataArray}) at /home/ubuntu/.julia/v0.4/DataArrays/src/broadcast.jl:294.\n",
      "To fix, define \n",
      "    ./(Images.AbstractImageDirect, Union{DataArrays.PooledDataArray, DataArrays.DataArray})\n",
      "before the new definition.\n",
      "WARNING: New definition \n",
      "    .+(Images.AbstractImageDirect, AbstractArray) at /home/ubuntu/.julia/v0.4/Images/src/algorithms.jl:22\n",
      "is ambiguous with: \n",
      "    .+(AbstractArray, Union{DataArrays.PooledDataArray, DataArrays.DataArray}, AbstractArray...) at /home/ubuntu/.julia/v0.4/DataArrays/src/broadcast.jl:306.\n",
      "To fix, define \n",
      "    .+(Images.AbstractImageDirect, Union{DataArrays.PooledDataArray, DataArrays.DataArray})\n",
      "before the new definition.\n"
     ]
    }
   ],
   "source": [
    "using DataFrames\n",
    "using Gadfly\n",
    "using Images\n",
    "using Interact\n",
    "using Colors\n",
    "using ArrayFire"
   ]
  },
  {
   "cell_type": "markdown",
   "metadata": {},
   "source": [
    "Set a few paths:\n",
    "* The Datapath\n",
    "* Image sizes: we're going to be working with images of sizes 20x20. You might see them as vectors of 400 though, but more on that later."
   ]
  },
  {
   "cell_type": "code",
   "execution_count": 2,
   "metadata": {
    "collapsed": false
   },
   "outputs": [
    {
     "data": {
      "text/plain": [
       "400"
      ]
     },
     "execution_count": 2,
     "metadata": {},
     "output_type": "execute_result"
    }
   ],
   "source": [
    "path = \"$(Pkg.dir())/MLDemos/data/characters\"\n",
    "imageSize = 400"
   ]
  },
  {
   "cell_type": "markdown",
   "metadata": {},
   "source": [
    "## Training\n",
    "First, read the training labels! Now, there are two columns, `ID` and `Class`. `ID` represents the picture `ID.Bmp`, and `Class` represents the _correct_ classification. We're going to use this to train our model.  "
   ]
  },
  {
   "cell_type": "code",
   "execution_count": 3,
   "metadata": {
    "collapsed": false
   },
   "outputs": [
    {
     "data": {
      "text/html": [
       "<table class=\"data-frame\"><tr><th></th><th>ID</th><th>Class</th></tr><tr><th>1</th><td>1</td><td>n</td></tr><tr><th>2</th><td>2</td><td>8</td></tr><tr><th>3</th><td>3</td><td>T</td></tr><tr><th>4</th><td>4</td><td>I</td></tr><tr><th>5</th><td>5</td><td>R</td></tr><tr><th>6</th><td>6</td><td>W</td></tr><tr><th>7</th><td>7</td><td>L</td></tr><tr><th>8</th><td>8</td><td>l</td></tr><tr><th>9</th><td>9</td><td>K</td></tr><tr><th>10</th><td>10</td><td>G</td></tr><tr><th>11</th><td>11</td><td>A</td></tr><tr><th>12</th><td>12</td><td>A</td></tr><tr><th>13</th><td>13</td><td>C</td></tr><tr><th>14</th><td>14</td><td>u</td></tr><tr><th>15</th><td>15</td><td>t</td></tr><tr><th>16</th><td>16</td><td>A</td></tr><tr><th>17</th><td>17</td><td>N</td></tr><tr><th>18</th><td>18</td><td>I</td></tr><tr><th>19</th><td>19</td><td>O</td></tr><tr><th>20</th><td>20</td><td>k</td></tr><tr><th>21</th><td>21</td><td>l</td></tr><tr><th>22</th><td>22</td><td>D</td></tr><tr><th>23</th><td>23</td><td>T</td></tr><tr><th>24</th><td>24</td><td>u</td></tr><tr><th>25</th><td>25</td><td>w</td></tr><tr><th>26</th><td>26</td><td>N</td></tr><tr><th>27</th><td>27</td><td>E</td></tr><tr><th>28</th><td>28</td><td>E</td></tr><tr><th>29</th><td>29</td><td>H</td></tr><tr><th>30</th><td>30</td><td>e</td></tr><tr><th>&vellip;</th><td>&vellip;</td><td>&vellip;</td></tr></table>"
      ],
      "text/plain": [
       "1000×2 DataFrames.DataFrame\n",
       "│ Row  │ ID   │ Class │\n",
       "├──────┼──────┼───────┤\n",
       "│ 1    │ 1    │ \"n\"   │\n",
       "│ 2    │ 2    │ \"8\"   │\n",
       "│ 3    │ 3    │ \"T\"   │\n",
       "│ 4    │ 4    │ \"I\"   │\n",
       "│ 5    │ 5    │ \"R\"   │\n",
       "│ 6    │ 6    │ \"W\"   │\n",
       "│ 7    │ 7    │ \"L\"   │\n",
       "│ 8    │ 8    │ \"l\"   │\n",
       "│ 9    │ 9    │ \"K\"   │\n",
       "│ 10   │ 10   │ \"G\"   │\n",
       "│ 11   │ 11   │ \"A\"   │\n",
       "⋮\n",
       "│ 989  │ 989  │ \"T\"   │\n",
       "│ 990  │ 990  │ \"4\"   │\n",
       "│ 991  │ 991  │ \"0\"   │\n",
       "│ 992  │ 992  │ \"O\"   │\n",
       "│ 993  │ 993  │ \"O\"   │\n",
       "│ 994  │ 994  │ \"e\"   │\n",
       "│ 995  │ 995  │ \"G\"   │\n",
       "│ 996  │ 996  │ \"J\"   │\n",
       "│ 997  │ 997  │ \"e\"   │\n",
       "│ 998  │ 998  │ \"N\"   │\n",
       "│ 999  │ 999  │ \"e\"   │\n",
       "│ 1000 │ 1000 │ \"E\"   │"
      ]
     },
     "execution_count": 3,
     "metadata": {},
     "output_type": "execute_result"
    }
   ],
   "source": [
    "# Read training set \n",
    "trainLabels = readtable(\"$(path)/trainLabels.csv\")\n",
    "trainLabels = trainLabels[1:1000,:]"
   ]
  },
  {
   "cell_type": "markdown",
   "metadata": {},
   "source": [
    "What's the size of our training set?\n"
   ]
  },
  {
   "cell_type": "code",
   "execution_count": 4,
   "metadata": {
    "collapsed": false
   },
   "outputs": [
    {
     "data": {
      "text/plain": [
       "(1000,2)"
      ]
     },
     "execution_count": 4,
     "metadata": {},
     "output_type": "execute_result"
    }
   ],
   "source": [
    "size(trainLabels)"
   ]
  },
  {
   "cell_type": "markdown",
   "metadata": {},
   "source": [
    "Let us now examine our training set's contents. Run the following code to generate a histogram of the data."
   ]
  },
  {
   "cell_type": "code",
   "execution_count": 5,
   "metadata": {
    "collapsed": false
   },
   "outputs": [
    {
     "data": {
      "image/svg+xml": [
       "<?xml version=\"1.0\" encoding=\"UTF-8\"?>\n",
       "<svg xmlns=\"http://www.w3.org/2000/svg\"\n",
       "     xmlns:xlink=\"http://www.w3.org/1999/xlink\"\n",
       "     xmlns:gadfly=\"http://www.gadflyjl.org/ns\"\n",
       "     version=\"1.2\"\n",
       "     width=\"300mm\" height=\"100mm\" viewBox=\"0 0 300 100\"\n",
       "     stroke=\"none\"\n",
       "     fill=\"#000000\"\n",
       "     stroke-width=\"0.3\"\n",
       "     font-size=\"3.88\"\n",
       ">\n",
       "<g class=\"plotroot yscalable\" id=\"img-196dd8c8-1\">\n",
       "  <g font-size=\"3.88\" font-family=\"'PT Sans','Helvetica Neue','Helvetica',sans-serif\" fill=\"#564A55\" stroke=\"#000000\" stroke-opacity=\"0.000\" id=\"img-196dd8c8-2\">\n",
       "    <text x=\"157.41\" y=\"89.18\" text-anchor=\"middle\" dy=\"0.6em\">Characters</text>\n",
       "  </g>\n",
       "  <g class=\"guide xlabels\" font-size=\"2.82\" font-family=\"'PT Sans Caption','Helvetica Neue','Helvetica',sans-serif\" fill=\"#6C606B\" id=\"img-196dd8c8-3\">\n",
       "    <text x=\"22.04\" y=\"82\" text-anchor=\"middle\" dy=\"0.6em\">0</text>\n",
       "    <text x=\"26.48\" y=\"82\" text-anchor=\"middle\" dy=\"0.6em\">1</text>\n",
       "    <text x=\"30.92\" y=\"82\" text-anchor=\"middle\" dy=\"0.6em\">2</text>\n",
       "    <text x=\"35.35\" y=\"82\" text-anchor=\"middle\" dy=\"0.6em\">3</text>\n",
       "    <text x=\"39.79\" y=\"82\" text-anchor=\"middle\" dy=\"0.6em\">4</text>\n",
       "    <text x=\"44.23\" y=\"82\" text-anchor=\"middle\" dy=\"0.6em\">5</text>\n",
       "    <text x=\"48.67\" y=\"82\" text-anchor=\"middle\" dy=\"0.6em\">6</text>\n",
       "    <text x=\"53.11\" y=\"82\" text-anchor=\"middle\" dy=\"0.6em\">7</text>\n",
       "    <text x=\"57.55\" y=\"82\" text-anchor=\"middle\" dy=\"0.6em\">8</text>\n",
       "    <text x=\"61.98\" y=\"82\" text-anchor=\"middle\" dy=\"0.6em\">9</text>\n",
       "    <text x=\"66.42\" y=\"82\" text-anchor=\"middle\" dy=\"0.6em\">A</text>\n",
       "    <text x=\"70.86\" y=\"82\" text-anchor=\"middle\" dy=\"0.6em\">B</text>\n",
       "    <text x=\"75.3\" y=\"82\" text-anchor=\"middle\" dy=\"0.6em\">C</text>\n",
       "    <text x=\"79.74\" y=\"82\" text-anchor=\"middle\" dy=\"0.6em\">D</text>\n",
       "    <text x=\"84.18\" y=\"82\" text-anchor=\"middle\" dy=\"0.6em\">E</text>\n",
       "    <text x=\"88.61\" y=\"82\" text-anchor=\"middle\" dy=\"0.6em\">F</text>\n",
       "    <text x=\"93.05\" y=\"82\" text-anchor=\"middle\" dy=\"0.6em\">G</text>\n",
       "    <text x=\"97.49\" y=\"82\" text-anchor=\"middle\" dy=\"0.6em\">H</text>\n",
       "    <text x=\"101.93\" y=\"82\" text-anchor=\"middle\" dy=\"0.6em\">I</text>\n",
       "    <text x=\"106.37\" y=\"82\" text-anchor=\"middle\" dy=\"0.6em\">J</text>\n",
       "    <text x=\"110.81\" y=\"82\" text-anchor=\"middle\" dy=\"0.6em\">K</text>\n",
       "    <text x=\"115.24\" y=\"82\" text-anchor=\"middle\" dy=\"0.6em\">L</text>\n",
       "    <text x=\"119.68\" y=\"82\" text-anchor=\"middle\" dy=\"0.6em\">M</text>\n",
       "    <text x=\"124.12\" y=\"82\" text-anchor=\"middle\" dy=\"0.6em\">N</text>\n",
       "    <text x=\"128.56\" y=\"82\" text-anchor=\"middle\" dy=\"0.6em\">O</text>\n",
       "    <text x=\"133\" y=\"82\" text-anchor=\"middle\" dy=\"0.6em\">P</text>\n",
       "    <text x=\"137.44\" y=\"82\" text-anchor=\"middle\" dy=\"0.6em\">Q</text>\n",
       "    <text x=\"141.88\" y=\"82\" text-anchor=\"middle\" dy=\"0.6em\">R</text>\n",
       "    <text x=\"146.31\" y=\"82\" text-anchor=\"middle\" dy=\"0.6em\">S</text>\n",
       "    <text x=\"150.75\" y=\"82\" text-anchor=\"middle\" dy=\"0.6em\">T</text>\n",
       "    <text x=\"155.19\" y=\"82\" text-anchor=\"middle\" dy=\"0.6em\">U</text>\n",
       "    <text x=\"159.63\" y=\"82\" text-anchor=\"middle\" dy=\"0.6em\">V</text>\n",
       "    <text x=\"164.07\" y=\"82\" text-anchor=\"middle\" dy=\"0.6em\">W</text>\n",
       "    <text x=\"168.51\" y=\"82\" text-anchor=\"middle\" dy=\"0.6em\">X</text>\n",
       "    <text x=\"172.94\" y=\"82\" text-anchor=\"middle\" dy=\"0.6em\">Y</text>\n",
       "    <text x=\"177.38\" y=\"82\" text-anchor=\"middle\" dy=\"0.6em\">Z</text>\n",
       "    <text x=\"181.82\" y=\"82\" text-anchor=\"middle\" dy=\"0.6em\">a</text>\n",
       "    <text x=\"186.26\" y=\"82\" text-anchor=\"middle\" dy=\"0.6em\">b</text>\n",
       "    <text x=\"190.7\" y=\"82\" text-anchor=\"middle\" dy=\"0.6em\">c</text>\n",
       "    <text x=\"195.14\" y=\"82\" text-anchor=\"middle\" dy=\"0.6em\">d</text>\n",
       "    <text x=\"199.57\" y=\"82\" text-anchor=\"middle\" dy=\"0.6em\">e</text>\n",
       "    <text x=\"204.01\" y=\"82\" text-anchor=\"middle\" dy=\"0.6em\">f</text>\n",
       "    <text x=\"208.45\" y=\"82\" text-anchor=\"middle\" dy=\"0.6em\">g</text>\n",
       "    <text x=\"212.89\" y=\"82\" text-anchor=\"middle\" dy=\"0.6em\">h</text>\n",
       "    <text x=\"217.33\" y=\"82\" text-anchor=\"middle\" dy=\"0.6em\">i</text>\n",
       "    <text x=\"221.77\" y=\"82\" text-anchor=\"middle\" dy=\"0.6em\">j</text>\n",
       "    <text x=\"226.2\" y=\"82\" text-anchor=\"middle\" dy=\"0.6em\">k</text>\n",
       "    <text x=\"230.64\" y=\"82\" text-anchor=\"middle\" dy=\"0.6em\">l</text>\n",
       "    <text x=\"235.08\" y=\"82\" text-anchor=\"middle\" dy=\"0.6em\">m</text>\n",
       "    <text x=\"239.52\" y=\"82\" text-anchor=\"middle\" dy=\"0.6em\">n</text>\n",
       "    <text x=\"243.96\" y=\"82\" text-anchor=\"middle\" dy=\"0.6em\">o</text>\n",
       "    <text x=\"248.4\" y=\"82\" text-anchor=\"middle\" dy=\"0.6em\">p</text>\n",
       "    <text x=\"252.84\" y=\"82\" text-anchor=\"middle\" dy=\"0.6em\">q</text>\n",
       "    <text x=\"257.27\" y=\"82\" text-anchor=\"middle\" dy=\"0.6em\">r</text>\n",
       "    <text x=\"261.71\" y=\"82\" text-anchor=\"middle\" dy=\"0.6em\">s</text>\n",
       "    <text x=\"266.15\" y=\"82\" text-anchor=\"middle\" dy=\"0.6em\">t</text>\n",
       "    <text x=\"270.59\" y=\"82\" text-anchor=\"middle\" dy=\"0.6em\">u</text>\n",
       "    <text x=\"275.03\" y=\"82\" text-anchor=\"middle\" dy=\"0.6em\">v</text>\n",
       "    <text x=\"279.47\" y=\"82\" text-anchor=\"middle\" dy=\"0.6em\">w</text>\n",
       "    <text x=\"283.9\" y=\"82\" text-anchor=\"middle\" dy=\"0.6em\">x</text>\n",
       "    <text x=\"288.34\" y=\"82\" text-anchor=\"middle\" dy=\"0.6em\">y</text>\n",
       "    <text x=\"292.78\" y=\"82\" text-anchor=\"middle\" dy=\"0.6em\">z</text>\n",
       "  </g>\n",
       "<g clip-path=\"url(#img-196dd8c8-4)\">\n",
       "  <g id=\"img-196dd8c8-5\">\n",
       "    <g pointer-events=\"visible\" opacity=\"1\" fill=\"#000000\" fill-opacity=\"0.000\" stroke=\"#000000\" stroke-opacity=\"0.000\" class=\"guide background\" id=\"img-196dd8c8-6\">\n",
       "      <rect x=\"19.82\" y=\"12.53\" width=\"275.18\" height=\"68.48\"/>\n",
       "    </g>\n",
       "    <g class=\"guide ygridlines xfixed\" stroke-dasharray=\"0.5,0.5\" stroke-width=\"0.2\" stroke=\"#D0D0E0\" id=\"img-196dd8c8-7\">\n",
       "      <path fill=\"none\" d=\"M19.82,79 L 295 79\"/>\n",
       "      <path fill=\"none\" d=\"M19.82,62.88 L 295 62.88\"/>\n",
       "      <path fill=\"none\" d=\"M19.82,46.77 L 295 46.77\"/>\n",
       "      <path fill=\"none\" d=\"M19.82,30.65 L 295 30.65\"/>\n",
       "      <path fill=\"none\" d=\"M19.82,14.53 L 295 14.53\"/>\n",
       "    </g>\n",
       "    <g class=\"guide xgridlines yfixed\" stroke-dasharray=\"0.5,0.5\" stroke-width=\"0.2\" stroke=\"#D0D0E0\" id=\"img-196dd8c8-8\">\n",
       "      <path fill=\"none\" d=\"M24.26,12.53 L 24.26 81\"/>\n",
       "      <path fill=\"none\" d=\"M28.7,12.53 L 28.7 81\"/>\n",
       "      <path fill=\"none\" d=\"M33.13,12.53 L 33.13 81\"/>\n",
       "      <path fill=\"none\" d=\"M37.57,12.53 L 37.57 81\"/>\n",
       "      <path fill=\"none\" d=\"M42.01,12.53 L 42.01 81\"/>\n",
       "      <path fill=\"none\" d=\"M46.45,12.53 L 46.45 81\"/>\n",
       "      <path fill=\"none\" d=\"M50.89,12.53 L 50.89 81\"/>\n",
       "      <path fill=\"none\" d=\"M55.33,12.53 L 55.33 81\"/>\n",
       "      <path fill=\"none\" d=\"M59.77,12.53 L 59.77 81\"/>\n",
       "      <path fill=\"none\" d=\"M64.2,12.53 L 64.2 81\"/>\n",
       "      <path fill=\"none\" d=\"M68.64,12.53 L 68.64 81\"/>\n",
       "      <path fill=\"none\" d=\"M73.08,12.53 L 73.08 81\"/>\n",
       "      <path fill=\"none\" d=\"M77.52,12.53 L 77.52 81\"/>\n",
       "      <path fill=\"none\" d=\"M81.96,12.53 L 81.96 81\"/>\n",
       "      <path fill=\"none\" d=\"M86.4,12.53 L 86.4 81\"/>\n",
       "      <path fill=\"none\" d=\"M90.83,12.53 L 90.83 81\"/>\n",
       "      <path fill=\"none\" d=\"M95.27,12.53 L 95.27 81\"/>\n",
       "      <path fill=\"none\" d=\"M99.71,12.53 L 99.71 81\"/>\n",
       "      <path fill=\"none\" d=\"M104.15,12.53 L 104.15 81\"/>\n",
       "      <path fill=\"none\" d=\"M108.59,12.53 L 108.59 81\"/>\n",
       "      <path fill=\"none\" d=\"M113.03,12.53 L 113.03 81\"/>\n",
       "      <path fill=\"none\" d=\"M117.46,12.53 L 117.46 81\"/>\n",
       "      <path fill=\"none\" d=\"M121.9,12.53 L 121.9 81\"/>\n",
       "      <path fill=\"none\" d=\"M126.34,12.53 L 126.34 81\"/>\n",
       "      <path fill=\"none\" d=\"M130.78,12.53 L 130.78 81\"/>\n",
       "      <path fill=\"none\" d=\"M135.22,12.53 L 135.22 81\"/>\n",
       "      <path fill=\"none\" d=\"M139.66,12.53 L 139.66 81\"/>\n",
       "      <path fill=\"none\" d=\"M144.09,12.53 L 144.09 81\"/>\n",
       "      <path fill=\"none\" d=\"M148.53,12.53 L 148.53 81\"/>\n",
       "      <path fill=\"none\" d=\"M152.97,12.53 L 152.97 81\"/>\n",
       "      <path fill=\"none\" d=\"M157.41,12.53 L 157.41 81\"/>\n",
       "      <path fill=\"none\" d=\"M161.85,12.53 L 161.85 81\"/>\n",
       "      <path fill=\"none\" d=\"M166.29,12.53 L 166.29 81\"/>\n",
       "      <path fill=\"none\" d=\"M170.72,12.53 L 170.72 81\"/>\n",
       "      <path fill=\"none\" d=\"M175.16,12.53 L 175.16 81\"/>\n",
       "      <path fill=\"none\" d=\"M179.6,12.53 L 179.6 81\"/>\n",
       "      <path fill=\"none\" d=\"M184.04,12.53 L 184.04 81\"/>\n",
       "      <path fill=\"none\" d=\"M188.48,12.53 L 188.48 81\"/>\n",
       "      <path fill=\"none\" d=\"M192.92,12.53 L 192.92 81\"/>\n",
       "      <path fill=\"none\" d=\"M197.36,12.53 L 197.36 81\"/>\n",
       "      <path fill=\"none\" d=\"M201.79,12.53 L 201.79 81\"/>\n",
       "      <path fill=\"none\" d=\"M206.23,12.53 L 206.23 81\"/>\n",
       "      <path fill=\"none\" d=\"M210.67,12.53 L 210.67 81\"/>\n",
       "      <path fill=\"none\" d=\"M215.11,12.53 L 215.11 81\"/>\n",
       "      <path fill=\"none\" d=\"M219.55,12.53 L 219.55 81\"/>\n",
       "      <path fill=\"none\" d=\"M223.99,12.53 L 223.99 81\"/>\n",
       "      <path fill=\"none\" d=\"M228.42,12.53 L 228.42 81\"/>\n",
       "      <path fill=\"none\" d=\"M232.86,12.53 L 232.86 81\"/>\n",
       "      <path fill=\"none\" d=\"M237.3,12.53 L 237.3 81\"/>\n",
       "      <path fill=\"none\" d=\"M241.74,12.53 L 241.74 81\"/>\n",
       "      <path fill=\"none\" d=\"M246.18,12.53 L 246.18 81\"/>\n",
       "      <path fill=\"none\" d=\"M250.62,12.53 L 250.62 81\"/>\n",
       "      <path fill=\"none\" d=\"M255.05,12.53 L 255.05 81\"/>\n",
       "      <path fill=\"none\" d=\"M259.49,12.53 L 259.49 81\"/>\n",
       "      <path fill=\"none\" d=\"M263.93,12.53 L 263.93 81\"/>\n",
       "      <path fill=\"none\" d=\"M268.37,12.53 L 268.37 81\"/>\n",
       "      <path fill=\"none\" d=\"M272.81,12.53 L 272.81 81\"/>\n",
       "      <path fill=\"none\" d=\"M277.25,12.53 L 277.25 81\"/>\n",
       "      <path fill=\"none\" d=\"M281.68,12.53 L 281.68 81\"/>\n",
       "      <path fill=\"none\" d=\"M286.12,12.53 L 286.12 81\"/>\n",
       "      <path fill=\"none\" d=\"M290.56,12.53 L 290.56 81\"/>\n",
       "    </g>\n",
       "    <g class=\"plotpanel\" id=\"img-196dd8c8-9\">\n",
       "      <g shape-rendering=\"crispEdges\" stroke-width=\"0.3\" id=\"img-196dd8c8-10\">\n",
       "        <g stroke=\"#000000\" stroke-opacity=\"0.000\" class=\"geometry\" id=\"img-196dd8c8-11\">\n",
       "          <rect x=\"290.54\" y=\"77.71\" width=\"4.49\" height=\"1.29\" fill=\"#00B3D0\"/>\n",
       "          <rect x=\"286.1\" y=\"76.42\" width=\"4.49\" height=\"2.58\" fill=\"#EC975F\"/>\n",
       "          <rect x=\"281.66\" y=\"77.71\" width=\"4.49\" height=\"1.29\" fill=\"#FFB279\"/>\n",
       "          <rect x=\"277.22\" y=\"75.78\" width=\"4.49\" height=\"3.22\" fill=\"#00D0C2\"/>\n",
       "          <rect x=\"272.78\" y=\"77.07\" width=\"4.49\" height=\"1.93\" fill=\"#FF8CFA\"/>\n",
       "          <rect x=\"268.34\" y=\"73.2\" width=\"4.49\" height=\"5.8\" fill=\"#FF8AC9\"/>\n",
       "          <rect x=\"263.91\" y=\"66.11\" width=\"4.49\" height=\"12.9\" fill=\"#E1B32A\"/>\n",
       "          <rect x=\"259.47\" y=\"73.84\" width=\"4.49\" height=\"5.16\" fill=\"#E38ED9\"/>\n",
       "          <rect x=\"255.03\" y=\"64.82\" width=\"4.49\" height=\"14.18\" fill=\"#8AAA16\"/>\n",
       "          <rect x=\"250.59\" y=\"76.42\" width=\"4.49\" height=\"2.58\" fill=\"#A3D57C\"/>\n",
       "          <rect x=\"246.15\" y=\"73.2\" width=\"4.49\" height=\"5.8\" fill=\"#DB8D17\"/>\n",
       "          <rect x=\"241.71\" y=\"72.56\" width=\"4.49\" height=\"6.45\" fill=\"#F88F6F\"/>\n",
       "          <rect x=\"237.28\" y=\"66.75\" width=\"4.49\" height=\"12.25\" fill=\"#27D0AB\"/>\n",
       "          <rect x=\"232.84\" y=\"74.49\" width=\"4.49\" height=\"4.51\" fill=\"#9CB4FF\"/>\n",
       "          <rect x=\"228.4\" y=\"70.62\" width=\"4.49\" height=\"8.38\" fill=\"#F08031\"/>\n",
       "          <rect x=\"223.96\" y=\"73.84\" width=\"4.49\" height=\"5.16\" fill=\"#68DCA2\"/>\n",
       "          <rect x=\"219.52\" y=\"76.42\" width=\"4.49\" height=\"2.58\" fill=\"#88B962\"/>\n",
       "          <rect x=\"215.08\" y=\"64.82\" width=\"4.49\" height=\"14.18\" fill=\"#A6C537\"/>\n",
       "          <rect x=\"210.65\" y=\"77.07\" width=\"4.49\" height=\"1.93\" fill=\"#FFB445\"/>\n",
       "          <rect x=\"206.21\" y=\"75.13\" width=\"4.49\" height=\"3.87\" fill=\"#66B032\"/>\n",
       "          <rect x=\"201.77\" y=\"74.49\" width=\"4.49\" height=\"4.51\" fill=\"#00B0FE\"/>\n",
       "          <rect x=\"197.33\" y=\"59.02\" width=\"4.49\" height=\"19.99\" fill=\"#B7AE38\"/>\n",
       "          <rect x=\"192.89\" y=\"75.78\" width=\"4.49\" height=\"3.22\" fill=\"#00C4E9\"/>\n",
       "          <rect x=\"188.45\" y=\"76.42\" width=\"4.49\" height=\"2.58\" fill=\"#6CBD73\"/>\n",
       "          <rect x=\"184.02\" y=\"77.07\" width=\"4.49\" height=\"1.93\" fill=\"#CE9247\"/>\n",
       "          <rect x=\"179.58\" y=\"64.82\" width=\"4.49\" height=\"14.18\" fill=\"#00D0D8\"/>\n",
       "          <rect x=\"175.14\" y=\"75.78\" width=\"4.49\" height=\"3.22\" fill=\"#DAB45B\"/>\n",
       "          <rect x=\"170.7\" y=\"75.13\" width=\"4.49\" height=\"3.87\" fill=\"#00B573\"/>\n",
       "          <rect x=\"166.26\" y=\"75.78\" width=\"4.49\" height=\"3.22\" fill=\"#E799FF\"/>\n",
       "          <rect x=\"161.82\" y=\"69.98\" width=\"4.49\" height=\"9.03\" fill=\"#FF928B\"/>\n",
       "          <rect x=\"157.38\" y=\"73.84\" width=\"4.49\" height=\"5.16\" fill=\"#82CC4D\"/>\n",
       "          <rect x=\"152.95\" y=\"72.56\" width=\"4.49\" height=\"6.45\" fill=\"#FF734A\"/>\n",
       "          <rect x=\"148.51\" y=\"46.12\" width=\"4.49\" height=\"32.88\" fill=\"#C483E9\"/>\n",
       "          <rect x=\"144.07\" y=\"54.5\" width=\"4.49\" height=\"24.5\" fill=\"#FF5F82\"/>\n",
       "          <rect x=\"139.63\" y=\"48.7\" width=\"4.49\" height=\"30.3\" fill=\"#FFA0C8\"/>\n",
       "          <rect x=\"135.19\" y=\"78.36\" width=\"4.49\" height=\"0.64\" fill=\"#BCCF6F\"/>\n",
       "          <rect x=\"130.75\" y=\"64.82\" width=\"4.49\" height=\"14.18\" fill=\"#00D485\"/>\n",
       "          <rect x=\"126.32\" y=\"46.77\" width=\"4.49\" height=\"32.24\" fill=\"#A08CFF\"/>\n",
       "          <rect x=\"121.88\" y=\"49.99\" width=\"4.49\" height=\"29.01\" fill=\"#00BBAA\"/>\n",
       "          <rect x=\"117.44\" y=\"63.53\" width=\"4.49\" height=\"15.47\" fill=\"#82CAFF\"/>\n",
       "          <rect x=\"113\" y=\"59.66\" width=\"4.49\" height=\"19.34\" fill=\"#FFAA89\"/>\n",
       "          <rect x=\"108.56\" y=\"73.84\" width=\"4.49\" height=\"5.16\" fill=\"#FFA9F6\"/>\n",
       "          <rect x=\"104.12\" y=\"73.2\" width=\"4.49\" height=\"5.8\" fill=\"#00E5B2\"/>\n",
       "          <rect x=\"99.69\" y=\"52.57\" width=\"4.49\" height=\"26.43\" fill=\"#9E9E9E\"/>\n",
       "          <rect x=\"95.25\" y=\"60.95\" width=\"4.49\" height=\"18.05\" fill=\"#32B44E\"/>\n",
       "          <rect x=\"90.81\" y=\"65.46\" width=\"4.49\" height=\"13.54\" fill=\"#FF93A4\"/>\n",
       "          <rect x=\"86.37\" y=\"72.56\" width=\"4.49\" height=\"6.45\" fill=\"#C39800\"/>\n",
       "          <rect x=\"81.93\" y=\"38.38\" width=\"4.49\" height=\"40.62\" fill=\"#00E4FF\"/>\n",
       "          <rect x=\"77.49\" y=\"62.88\" width=\"4.49\" height=\"16.12\" fill=\"#6299FF\"/>\n",
       "          <rect x=\"73.06\" y=\"61.59\" width=\"4.49\" height=\"17.41\" fill=\"#00B4BC\"/>\n",
       "          <rect x=\"68.62\" y=\"75.78\" width=\"4.49\" height=\"3.22\" fill=\"#FF9A4B\"/>\n",
       "          <rect x=\"64.18\" y=\"26.13\" width=\"4.49\" height=\"52.87\" fill=\"#93A649\"/>\n",
       "          <rect x=\"59.74\" y=\"74.49\" width=\"4.49\" height=\"4.51\" fill=\"#E870DD\"/>\n",
       "          <rect x=\"55.3\" y=\"77.71\" width=\"4.49\" height=\"1.29\" fill=\"#00E6D3\"/>\n",
       "          <rect x=\"50.86\" y=\"76.42\" width=\"4.49\" height=\"2.58\" fill=\"#63DF75\"/>\n",
       "          <rect x=\"46.42\" y=\"73.2\" width=\"4.49\" height=\"5.8\" fill=\"#C6C6C6\"/>\n",
       "          <rect x=\"41.99\" y=\"73.84\" width=\"4.49\" height=\"5.16\" fill=\"#FF6765\"/>\n",
       "          <rect x=\"37.55\" y=\"75.78\" width=\"4.49\" height=\"3.22\" fill=\"#BEA9FF\"/>\n",
       "          <rect x=\"33.11\" y=\"75.78\" width=\"4.49\" height=\"3.22\" fill=\"#00B78D\"/>\n",
       "          <rect x=\"28.67\" y=\"71.27\" width=\"4.49\" height=\"7.74\" fill=\"#FF6DAE\"/>\n",
       "          <rect x=\"24.23\" y=\"75.78\" width=\"4.49\" height=\"3.22\" fill=\"#D4CA3A\"/>\n",
       "          <rect x=\"19.79\" y=\"68.69\" width=\"4.49\" height=\"10.32\" fill=\"#00BFFF\"/>\n",
       "        </g>\n",
       "      </g>\n",
       "    </g>\n",
       "  </g>\n",
       "</g>\n",
       "  <g class=\"guide ylabels\" font-size=\"2.82\" font-family=\"'PT Sans Caption','Helvetica Neue','Helvetica',sans-serif\" fill=\"#6C606B\" id=\"img-196dd8c8-12\">\n",
       "    <text x=\"18.82\" y=\"79\" text-anchor=\"end\" dy=\"0.35em\">0</text>\n",
       "    <text x=\"18.82\" y=\"62.88\" text-anchor=\"end\" dy=\"0.35em\">25</text>\n",
       "    <text x=\"18.82\" y=\"46.77\" text-anchor=\"end\" dy=\"0.35em\">50</text>\n",
       "    <text x=\"18.82\" y=\"30.65\" text-anchor=\"end\" dy=\"0.35em\">75</text>\n",
       "    <text x=\"18.82\" y=\"14.53\" text-anchor=\"end\" dy=\"0.35em\">100</text>\n",
       "  </g>\n",
       "  <g font-size=\"3.88\" font-family=\"'PT Sans','Helvetica Neue','Helvetica',sans-serif\" fill=\"#564A55\" stroke=\"#000000\" stroke-opacity=\"0.000\" id=\"img-196dd8c8-13\">\n",
       "    <text x=\"8.76\" y=\"44.77\" text-anchor=\"middle\" dy=\"0.35em\" transform=\"rotate(-90, 8.76, 46.77)\"># of samples</text>\n",
       "  </g>\n",
       "  <g font-size=\"3.88\" font-family=\"'PT Sans','Helvetica Neue','Helvetica',sans-serif\" fill=\"#564A55\" stroke=\"#000000\" stroke-opacity=\"0.000\" id=\"img-196dd8c8-14\">\n",
       "    <text x=\"157.41\" y=\"10.53\" text-anchor=\"middle\">Distribution of training data</text>\n",
       "  </g>\n",
       "</g>\n",
       "<defs>\n",
       "  <clipPath id=\"img-196dd8c8-4\">\n",
       "  <path d=\"M19.82,12.53 L 295 12.53 295 81 19.82 81\" />\n",
       "</clipPath>\n",
       "</defs>\n",
       "</svg>\n"
      ],
      "text/html": [
       "<?xml version=\"1.0\" encoding=\"UTF-8\"?>\n",
       "<svg xmlns=\"http://www.w3.org/2000/svg\"\n",
       "     xmlns:xlink=\"http://www.w3.org/1999/xlink\"\n",
       "     xmlns:gadfly=\"http://www.gadflyjl.org/ns\"\n",
       "     version=\"1.2\"\n",
       "     width=\"300mm\" height=\"100mm\" viewBox=\"0 0 300 100\"\n",
       "     stroke=\"none\"\n",
       "     fill=\"#000000\"\n",
       "     stroke-width=\"0.3\"\n",
       "     font-size=\"3.88\"\n",
       ">\n",
       "<g class=\"plotroot yscalable\" id=\"img-196dd8c8-1\">\n",
       "  <g font-size=\"3.88\" font-family=\"'PT Sans','Helvetica Neue','Helvetica',sans-serif\" fill=\"#564A55\" stroke=\"#000000\" stroke-opacity=\"0.000\" id=\"img-196dd8c8-2\">\n",
       "    <text x=\"157.41\" y=\"89.18\" text-anchor=\"middle\" dy=\"0.6em\">Characters</text>\n",
       "  </g>\n",
       "  <g class=\"guide xlabels\" font-size=\"2.82\" font-family=\"'PT Sans Caption','Helvetica Neue','Helvetica',sans-serif\" fill=\"#6C606B\" id=\"img-196dd8c8-3\">\n",
       "    <text x=\"22.04\" y=\"82\" text-anchor=\"middle\" dy=\"0.6em\">0</text>\n",
       "    <text x=\"26.48\" y=\"82\" text-anchor=\"middle\" dy=\"0.6em\">1</text>\n",
       "    <text x=\"30.92\" y=\"82\" text-anchor=\"middle\" dy=\"0.6em\">2</text>\n",
       "    <text x=\"35.35\" y=\"82\" text-anchor=\"middle\" dy=\"0.6em\">3</text>\n",
       "    <text x=\"39.79\" y=\"82\" text-anchor=\"middle\" dy=\"0.6em\">4</text>\n",
       "    <text x=\"44.23\" y=\"82\" text-anchor=\"middle\" dy=\"0.6em\">5</text>\n",
       "    <text x=\"48.67\" y=\"82\" text-anchor=\"middle\" dy=\"0.6em\">6</text>\n",
       "    <text x=\"53.11\" y=\"82\" text-anchor=\"middle\" dy=\"0.6em\">7</text>\n",
       "    <text x=\"57.55\" y=\"82\" text-anchor=\"middle\" dy=\"0.6em\">8</text>\n",
       "    <text x=\"61.98\" y=\"82\" text-anchor=\"middle\" dy=\"0.6em\">9</text>\n",
       "    <text x=\"66.42\" y=\"82\" text-anchor=\"middle\" dy=\"0.6em\">A</text>\n",
       "    <text x=\"70.86\" y=\"82\" text-anchor=\"middle\" dy=\"0.6em\">B</text>\n",
       "    <text x=\"75.3\" y=\"82\" text-anchor=\"middle\" dy=\"0.6em\">C</text>\n",
       "    <text x=\"79.74\" y=\"82\" text-anchor=\"middle\" dy=\"0.6em\">D</text>\n",
       "    <text x=\"84.18\" y=\"82\" text-anchor=\"middle\" dy=\"0.6em\">E</text>\n",
       "    <text x=\"88.61\" y=\"82\" text-anchor=\"middle\" dy=\"0.6em\">F</text>\n",
       "    <text x=\"93.05\" y=\"82\" text-anchor=\"middle\" dy=\"0.6em\">G</text>\n",
       "    <text x=\"97.49\" y=\"82\" text-anchor=\"middle\" dy=\"0.6em\">H</text>\n",
       "    <text x=\"101.93\" y=\"82\" text-anchor=\"middle\" dy=\"0.6em\">I</text>\n",
       "    <text x=\"106.37\" y=\"82\" text-anchor=\"middle\" dy=\"0.6em\">J</text>\n",
       "    <text x=\"110.81\" y=\"82\" text-anchor=\"middle\" dy=\"0.6em\">K</text>\n",
       "    <text x=\"115.24\" y=\"82\" text-anchor=\"middle\" dy=\"0.6em\">L</text>\n",
       "    <text x=\"119.68\" y=\"82\" text-anchor=\"middle\" dy=\"0.6em\">M</text>\n",
       "    <text x=\"124.12\" y=\"82\" text-anchor=\"middle\" dy=\"0.6em\">N</text>\n",
       "    <text x=\"128.56\" y=\"82\" text-anchor=\"middle\" dy=\"0.6em\">O</text>\n",
       "    <text x=\"133\" y=\"82\" text-anchor=\"middle\" dy=\"0.6em\">P</text>\n",
       "    <text x=\"137.44\" y=\"82\" text-anchor=\"middle\" dy=\"0.6em\">Q</text>\n",
       "    <text x=\"141.88\" y=\"82\" text-anchor=\"middle\" dy=\"0.6em\">R</text>\n",
       "    <text x=\"146.31\" y=\"82\" text-anchor=\"middle\" dy=\"0.6em\">S</text>\n",
       "    <text x=\"150.75\" y=\"82\" text-anchor=\"middle\" dy=\"0.6em\">T</text>\n",
       "    <text x=\"155.19\" y=\"82\" text-anchor=\"middle\" dy=\"0.6em\">U</text>\n",
       "    <text x=\"159.63\" y=\"82\" text-anchor=\"middle\" dy=\"0.6em\">V</text>\n",
       "    <text x=\"164.07\" y=\"82\" text-anchor=\"middle\" dy=\"0.6em\">W</text>\n",
       "    <text x=\"168.51\" y=\"82\" text-anchor=\"middle\" dy=\"0.6em\">X</text>\n",
       "    <text x=\"172.94\" y=\"82\" text-anchor=\"middle\" dy=\"0.6em\">Y</text>\n",
       "    <text x=\"177.38\" y=\"82\" text-anchor=\"middle\" dy=\"0.6em\">Z</text>\n",
       "    <text x=\"181.82\" y=\"82\" text-anchor=\"middle\" dy=\"0.6em\">a</text>\n",
       "    <text x=\"186.26\" y=\"82\" text-anchor=\"middle\" dy=\"0.6em\">b</text>\n",
       "    <text x=\"190.7\" y=\"82\" text-anchor=\"middle\" dy=\"0.6em\">c</text>\n",
       "    <text x=\"195.14\" y=\"82\" text-anchor=\"middle\" dy=\"0.6em\">d</text>\n",
       "    <text x=\"199.57\" y=\"82\" text-anchor=\"middle\" dy=\"0.6em\">e</text>\n",
       "    <text x=\"204.01\" y=\"82\" text-anchor=\"middle\" dy=\"0.6em\">f</text>\n",
       "    <text x=\"208.45\" y=\"82\" text-anchor=\"middle\" dy=\"0.6em\">g</text>\n",
       "    <text x=\"212.89\" y=\"82\" text-anchor=\"middle\" dy=\"0.6em\">h</text>\n",
       "    <text x=\"217.33\" y=\"82\" text-anchor=\"middle\" dy=\"0.6em\">i</text>\n",
       "    <text x=\"221.77\" y=\"82\" text-anchor=\"middle\" dy=\"0.6em\">j</text>\n",
       "    <text x=\"226.2\" y=\"82\" text-anchor=\"middle\" dy=\"0.6em\">k</text>\n",
       "    <text x=\"230.64\" y=\"82\" text-anchor=\"middle\" dy=\"0.6em\">l</text>\n",
       "    <text x=\"235.08\" y=\"82\" text-anchor=\"middle\" dy=\"0.6em\">m</text>\n",
       "    <text x=\"239.52\" y=\"82\" text-anchor=\"middle\" dy=\"0.6em\">n</text>\n",
       "    <text x=\"243.96\" y=\"82\" text-anchor=\"middle\" dy=\"0.6em\">o</text>\n",
       "    <text x=\"248.4\" y=\"82\" text-anchor=\"middle\" dy=\"0.6em\">p</text>\n",
       "    <text x=\"252.84\" y=\"82\" text-anchor=\"middle\" dy=\"0.6em\">q</text>\n",
       "    <text x=\"257.27\" y=\"82\" text-anchor=\"middle\" dy=\"0.6em\">r</text>\n",
       "    <text x=\"261.71\" y=\"82\" text-anchor=\"middle\" dy=\"0.6em\">s</text>\n",
       "    <text x=\"266.15\" y=\"82\" text-anchor=\"middle\" dy=\"0.6em\">t</text>\n",
       "    <text x=\"270.59\" y=\"82\" text-anchor=\"middle\" dy=\"0.6em\">u</text>\n",
       "    <text x=\"275.03\" y=\"82\" text-anchor=\"middle\" dy=\"0.6em\">v</text>\n",
       "    <text x=\"279.47\" y=\"82\" text-anchor=\"middle\" dy=\"0.6em\">w</text>\n",
       "    <text x=\"283.9\" y=\"82\" text-anchor=\"middle\" dy=\"0.6em\">x</text>\n",
       "    <text x=\"288.34\" y=\"82\" text-anchor=\"middle\" dy=\"0.6em\">y</text>\n",
       "    <text x=\"292.78\" y=\"82\" text-anchor=\"middle\" dy=\"0.6em\">z</text>\n",
       "  </g>\n",
       "<g clip-path=\"url(#img-196dd8c8-4)\">\n",
       "  <g id=\"img-196dd8c8-5\">\n",
       "    <g pointer-events=\"visible\" opacity=\"1\" fill=\"#000000\" fill-opacity=\"0.000\" stroke=\"#000000\" stroke-opacity=\"0.000\" class=\"guide background\" id=\"img-196dd8c8-6\">\n",
       "      <rect x=\"19.82\" y=\"12.53\" width=\"275.18\" height=\"68.48\"/>\n",
       "    </g>\n",
       "    <g class=\"guide ygridlines xfixed\" stroke-dasharray=\"0.5,0.5\" stroke-width=\"0.2\" stroke=\"#D0D0E0\" id=\"img-196dd8c8-7\">\n",
       "      <path fill=\"none\" d=\"M19.82,79 L 295 79\"/>\n",
       "      <path fill=\"none\" d=\"M19.82,62.88 L 295 62.88\"/>\n",
       "      <path fill=\"none\" d=\"M19.82,46.77 L 295 46.77\"/>\n",
       "      <path fill=\"none\" d=\"M19.82,30.65 L 295 30.65\"/>\n",
       "      <path fill=\"none\" d=\"M19.82,14.53 L 295 14.53\"/>\n",
       "    </g>\n",
       "    <g class=\"guide xgridlines yfixed\" stroke-dasharray=\"0.5,0.5\" stroke-width=\"0.2\" stroke=\"#D0D0E0\" id=\"img-196dd8c8-8\">\n",
       "      <path fill=\"none\" d=\"M24.26,12.53 L 24.26 81\"/>\n",
       "      <path fill=\"none\" d=\"M28.7,12.53 L 28.7 81\"/>\n",
       "      <path fill=\"none\" d=\"M33.13,12.53 L 33.13 81\"/>\n",
       "      <path fill=\"none\" d=\"M37.57,12.53 L 37.57 81\"/>\n",
       "      <path fill=\"none\" d=\"M42.01,12.53 L 42.01 81\"/>\n",
       "      <path fill=\"none\" d=\"M46.45,12.53 L 46.45 81\"/>\n",
       "      <path fill=\"none\" d=\"M50.89,12.53 L 50.89 81\"/>\n",
       "      <path fill=\"none\" d=\"M55.33,12.53 L 55.33 81\"/>\n",
       "      <path fill=\"none\" d=\"M59.77,12.53 L 59.77 81\"/>\n",
       "      <path fill=\"none\" d=\"M64.2,12.53 L 64.2 81\"/>\n",
       "      <path fill=\"none\" d=\"M68.64,12.53 L 68.64 81\"/>\n",
       "      <path fill=\"none\" d=\"M73.08,12.53 L 73.08 81\"/>\n",
       "      <path fill=\"none\" d=\"M77.52,12.53 L 77.52 81\"/>\n",
       "      <path fill=\"none\" d=\"M81.96,12.53 L 81.96 81\"/>\n",
       "      <path fill=\"none\" d=\"M86.4,12.53 L 86.4 81\"/>\n",
       "      <path fill=\"none\" d=\"M90.83,12.53 L 90.83 81\"/>\n",
       "      <path fill=\"none\" d=\"M95.27,12.53 L 95.27 81\"/>\n",
       "      <path fill=\"none\" d=\"M99.71,12.53 L 99.71 81\"/>\n",
       "      <path fill=\"none\" d=\"M104.15,12.53 L 104.15 81\"/>\n",
       "      <path fill=\"none\" d=\"M108.59,12.53 L 108.59 81\"/>\n",
       "      <path fill=\"none\" d=\"M113.03,12.53 L 113.03 81\"/>\n",
       "      <path fill=\"none\" d=\"M117.46,12.53 L 117.46 81\"/>\n",
       "      <path fill=\"none\" d=\"M121.9,12.53 L 121.9 81\"/>\n",
       "      <path fill=\"none\" d=\"M126.34,12.53 L 126.34 81\"/>\n",
       "      <path fill=\"none\" d=\"M130.78,12.53 L 130.78 81\"/>\n",
       "      <path fill=\"none\" d=\"M135.22,12.53 L 135.22 81\"/>\n",
       "      <path fill=\"none\" d=\"M139.66,12.53 L 139.66 81\"/>\n",
       "      <path fill=\"none\" d=\"M144.09,12.53 L 144.09 81\"/>\n",
       "      <path fill=\"none\" d=\"M148.53,12.53 L 148.53 81\"/>\n",
       "      <path fill=\"none\" d=\"M152.97,12.53 L 152.97 81\"/>\n",
       "      <path fill=\"none\" d=\"M157.41,12.53 L 157.41 81\"/>\n",
       "      <path fill=\"none\" d=\"M161.85,12.53 L 161.85 81\"/>\n",
       "      <path fill=\"none\" d=\"M166.29,12.53 L 166.29 81\"/>\n",
       "      <path fill=\"none\" d=\"M170.72,12.53 L 170.72 81\"/>\n",
       "      <path fill=\"none\" d=\"M175.16,12.53 L 175.16 81\"/>\n",
       "      <path fill=\"none\" d=\"M179.6,12.53 L 179.6 81\"/>\n",
       "      <path fill=\"none\" d=\"M184.04,12.53 L 184.04 81\"/>\n",
       "      <path fill=\"none\" d=\"M188.48,12.53 L 188.48 81\"/>\n",
       "      <path fill=\"none\" d=\"M192.92,12.53 L 192.92 81\"/>\n",
       "      <path fill=\"none\" d=\"M197.36,12.53 L 197.36 81\"/>\n",
       "      <path fill=\"none\" d=\"M201.79,12.53 L 201.79 81\"/>\n",
       "      <path fill=\"none\" d=\"M206.23,12.53 L 206.23 81\"/>\n",
       "      <path fill=\"none\" d=\"M210.67,12.53 L 210.67 81\"/>\n",
       "      <path fill=\"none\" d=\"M215.11,12.53 L 215.11 81\"/>\n",
       "      <path fill=\"none\" d=\"M219.55,12.53 L 219.55 81\"/>\n",
       "      <path fill=\"none\" d=\"M223.99,12.53 L 223.99 81\"/>\n",
       "      <path fill=\"none\" d=\"M228.42,12.53 L 228.42 81\"/>\n",
       "      <path fill=\"none\" d=\"M232.86,12.53 L 232.86 81\"/>\n",
       "      <path fill=\"none\" d=\"M237.3,12.53 L 237.3 81\"/>\n",
       "      <path fill=\"none\" d=\"M241.74,12.53 L 241.74 81\"/>\n",
       "      <path fill=\"none\" d=\"M246.18,12.53 L 246.18 81\"/>\n",
       "      <path fill=\"none\" d=\"M250.62,12.53 L 250.62 81\"/>\n",
       "      <path fill=\"none\" d=\"M255.05,12.53 L 255.05 81\"/>\n",
       "      <path fill=\"none\" d=\"M259.49,12.53 L 259.49 81\"/>\n",
       "      <path fill=\"none\" d=\"M263.93,12.53 L 263.93 81\"/>\n",
       "      <path fill=\"none\" d=\"M268.37,12.53 L 268.37 81\"/>\n",
       "      <path fill=\"none\" d=\"M272.81,12.53 L 272.81 81\"/>\n",
       "      <path fill=\"none\" d=\"M277.25,12.53 L 277.25 81\"/>\n",
       "      <path fill=\"none\" d=\"M281.68,12.53 L 281.68 81\"/>\n",
       "      <path fill=\"none\" d=\"M286.12,12.53 L 286.12 81\"/>\n",
       "      <path fill=\"none\" d=\"M290.56,12.53 L 290.56 81\"/>\n",
       "    </g>\n",
       "    <g class=\"plotpanel\" id=\"img-196dd8c8-9\">\n",
       "      <g shape-rendering=\"crispEdges\" stroke-width=\"0.3\" id=\"img-196dd8c8-10\">\n",
       "        <g stroke=\"#000000\" stroke-opacity=\"0.000\" class=\"geometry\" id=\"img-196dd8c8-11\">\n",
       "          <rect x=\"290.54\" y=\"77.71\" width=\"4.49\" height=\"1.29\" fill=\"#00B3D0\"/>\n",
       "          <rect x=\"286.1\" y=\"76.42\" width=\"4.49\" height=\"2.58\" fill=\"#EC975F\"/>\n",
       "          <rect x=\"281.66\" y=\"77.71\" width=\"4.49\" height=\"1.29\" fill=\"#FFB279\"/>\n",
       "          <rect x=\"277.22\" y=\"75.78\" width=\"4.49\" height=\"3.22\" fill=\"#00D0C2\"/>\n",
       "          <rect x=\"272.78\" y=\"77.07\" width=\"4.49\" height=\"1.93\" fill=\"#FF8CFA\"/>\n",
       "          <rect x=\"268.34\" y=\"73.2\" width=\"4.49\" height=\"5.8\" fill=\"#FF8AC9\"/>\n",
       "          <rect x=\"263.91\" y=\"66.11\" width=\"4.49\" height=\"12.9\" fill=\"#E1B32A\"/>\n",
       "          <rect x=\"259.47\" y=\"73.84\" width=\"4.49\" height=\"5.16\" fill=\"#E38ED9\"/>\n",
       "          <rect x=\"255.03\" y=\"64.82\" width=\"4.49\" height=\"14.18\" fill=\"#8AAA16\"/>\n",
       "          <rect x=\"250.59\" y=\"76.42\" width=\"4.49\" height=\"2.58\" fill=\"#A3D57C\"/>\n",
       "          <rect x=\"246.15\" y=\"73.2\" width=\"4.49\" height=\"5.8\" fill=\"#DB8D17\"/>\n",
       "          <rect x=\"241.71\" y=\"72.56\" width=\"4.49\" height=\"6.45\" fill=\"#F88F6F\"/>\n",
       "          <rect x=\"237.28\" y=\"66.75\" width=\"4.49\" height=\"12.25\" fill=\"#27D0AB\"/>\n",
       "          <rect x=\"232.84\" y=\"74.49\" width=\"4.49\" height=\"4.51\" fill=\"#9CB4FF\"/>\n",
       "          <rect x=\"228.4\" y=\"70.62\" width=\"4.49\" height=\"8.38\" fill=\"#F08031\"/>\n",
       "          <rect x=\"223.96\" y=\"73.84\" width=\"4.49\" height=\"5.16\" fill=\"#68DCA2\"/>\n",
       "          <rect x=\"219.52\" y=\"76.42\" width=\"4.49\" height=\"2.58\" fill=\"#88B962\"/>\n",
       "          <rect x=\"215.08\" y=\"64.82\" width=\"4.49\" height=\"14.18\" fill=\"#A6C537\"/>\n",
       "          <rect x=\"210.65\" y=\"77.07\" width=\"4.49\" height=\"1.93\" fill=\"#FFB445\"/>\n",
       "          <rect x=\"206.21\" y=\"75.13\" width=\"4.49\" height=\"3.87\" fill=\"#66B032\"/>\n",
       "          <rect x=\"201.77\" y=\"74.49\" width=\"4.49\" height=\"4.51\" fill=\"#00B0FE\"/>\n",
       "          <rect x=\"197.33\" y=\"59.02\" width=\"4.49\" height=\"19.99\" fill=\"#B7AE38\"/>\n",
       "          <rect x=\"192.89\" y=\"75.78\" width=\"4.49\" height=\"3.22\" fill=\"#00C4E9\"/>\n",
       "          <rect x=\"188.45\" y=\"76.42\" width=\"4.49\" height=\"2.58\" fill=\"#6CBD73\"/>\n",
       "          <rect x=\"184.02\" y=\"77.07\" width=\"4.49\" height=\"1.93\" fill=\"#CE9247\"/>\n",
       "          <rect x=\"179.58\" y=\"64.82\" width=\"4.49\" height=\"14.18\" fill=\"#00D0D8\"/>\n",
       "          <rect x=\"175.14\" y=\"75.78\" width=\"4.49\" height=\"3.22\" fill=\"#DAB45B\"/>\n",
       "          <rect x=\"170.7\" y=\"75.13\" width=\"4.49\" height=\"3.87\" fill=\"#00B573\"/>\n",
       "          <rect x=\"166.26\" y=\"75.78\" width=\"4.49\" height=\"3.22\" fill=\"#E799FF\"/>\n",
       "          <rect x=\"161.82\" y=\"69.98\" width=\"4.49\" height=\"9.03\" fill=\"#FF928B\"/>\n",
       "          <rect x=\"157.38\" y=\"73.84\" width=\"4.49\" height=\"5.16\" fill=\"#82CC4D\"/>\n",
       "          <rect x=\"152.95\" y=\"72.56\" width=\"4.49\" height=\"6.45\" fill=\"#FF734A\"/>\n",
       "          <rect x=\"148.51\" y=\"46.12\" width=\"4.49\" height=\"32.88\" fill=\"#C483E9\"/>\n",
       "          <rect x=\"144.07\" y=\"54.5\" width=\"4.49\" height=\"24.5\" fill=\"#FF5F82\"/>\n",
       "          <rect x=\"139.63\" y=\"48.7\" width=\"4.49\" height=\"30.3\" fill=\"#FFA0C8\"/>\n",
       "          <rect x=\"135.19\" y=\"78.36\" width=\"4.49\" height=\"0.64\" fill=\"#BCCF6F\"/>\n",
       "          <rect x=\"130.75\" y=\"64.82\" width=\"4.49\" height=\"14.18\" fill=\"#00D485\"/>\n",
       "          <rect x=\"126.32\" y=\"46.77\" width=\"4.49\" height=\"32.24\" fill=\"#A08CFF\"/>\n",
       "          <rect x=\"121.88\" y=\"49.99\" width=\"4.49\" height=\"29.01\" fill=\"#00BBAA\"/>\n",
       "          <rect x=\"117.44\" y=\"63.53\" width=\"4.49\" height=\"15.47\" fill=\"#82CAFF\"/>\n",
       "          <rect x=\"113\" y=\"59.66\" width=\"4.49\" height=\"19.34\" fill=\"#FFAA89\"/>\n",
       "          <rect x=\"108.56\" y=\"73.84\" width=\"4.49\" height=\"5.16\" fill=\"#FFA9F6\"/>\n",
       "          <rect x=\"104.12\" y=\"73.2\" width=\"4.49\" height=\"5.8\" fill=\"#00E5B2\"/>\n",
       "          <rect x=\"99.69\" y=\"52.57\" width=\"4.49\" height=\"26.43\" fill=\"#9E9E9E\"/>\n",
       "          <rect x=\"95.25\" y=\"60.95\" width=\"4.49\" height=\"18.05\" fill=\"#32B44E\"/>\n",
       "          <rect x=\"90.81\" y=\"65.46\" width=\"4.49\" height=\"13.54\" fill=\"#FF93A4\"/>\n",
       "          <rect x=\"86.37\" y=\"72.56\" width=\"4.49\" height=\"6.45\" fill=\"#C39800\"/>\n",
       "          <rect x=\"81.93\" y=\"38.38\" width=\"4.49\" height=\"40.62\" fill=\"#00E4FF\"/>\n",
       "          <rect x=\"77.49\" y=\"62.88\" width=\"4.49\" height=\"16.12\" fill=\"#6299FF\"/>\n",
       "          <rect x=\"73.06\" y=\"61.59\" width=\"4.49\" height=\"17.41\" fill=\"#00B4BC\"/>\n",
       "          <rect x=\"68.62\" y=\"75.78\" width=\"4.49\" height=\"3.22\" fill=\"#FF9A4B\"/>\n",
       "          <rect x=\"64.18\" y=\"26.13\" width=\"4.49\" height=\"52.87\" fill=\"#93A649\"/>\n",
       "          <rect x=\"59.74\" y=\"74.49\" width=\"4.49\" height=\"4.51\" fill=\"#E870DD\"/>\n",
       "          <rect x=\"55.3\" y=\"77.71\" width=\"4.49\" height=\"1.29\" fill=\"#00E6D3\"/>\n",
       "          <rect x=\"50.86\" y=\"76.42\" width=\"4.49\" height=\"2.58\" fill=\"#63DF75\"/>\n",
       "          <rect x=\"46.42\" y=\"73.2\" width=\"4.49\" height=\"5.8\" fill=\"#C6C6C6\"/>\n",
       "          <rect x=\"41.99\" y=\"73.84\" width=\"4.49\" height=\"5.16\" fill=\"#FF6765\"/>\n",
       "          <rect x=\"37.55\" y=\"75.78\" width=\"4.49\" height=\"3.22\" fill=\"#BEA9FF\"/>\n",
       "          <rect x=\"33.11\" y=\"75.78\" width=\"4.49\" height=\"3.22\" fill=\"#00B78D\"/>\n",
       "          <rect x=\"28.67\" y=\"71.27\" width=\"4.49\" height=\"7.74\" fill=\"#FF6DAE\"/>\n",
       "          <rect x=\"24.23\" y=\"75.78\" width=\"4.49\" height=\"3.22\" fill=\"#D4CA3A\"/>\n",
       "          <rect x=\"19.79\" y=\"68.69\" width=\"4.49\" height=\"10.32\" fill=\"#00BFFF\"/>\n",
       "        </g>\n",
       "      </g>\n",
       "    </g>\n",
       "  </g>\n",
       "</g>\n",
       "  <g class=\"guide ylabels\" font-size=\"2.82\" font-family=\"'PT Sans Caption','Helvetica Neue','Helvetica',sans-serif\" fill=\"#6C606B\" id=\"img-196dd8c8-12\">\n",
       "    <text x=\"18.82\" y=\"79\" text-anchor=\"end\" dy=\"0.35em\">0</text>\n",
       "    <text x=\"18.82\" y=\"62.88\" text-anchor=\"end\" dy=\"0.35em\">25</text>\n",
       "    <text x=\"18.82\" y=\"46.77\" text-anchor=\"end\" dy=\"0.35em\">50</text>\n",
       "    <text x=\"18.82\" y=\"30.65\" text-anchor=\"end\" dy=\"0.35em\">75</text>\n",
       "    <text x=\"18.82\" y=\"14.53\" text-anchor=\"end\" dy=\"0.35em\">100</text>\n",
       "  </g>\n",
       "  <g font-size=\"3.88\" font-family=\"'PT Sans','Helvetica Neue','Helvetica',sans-serif\" fill=\"#564A55\" stroke=\"#000000\" stroke-opacity=\"0.000\" id=\"img-196dd8c8-13\">\n",
       "    <text x=\"8.76\" y=\"44.77\" text-anchor=\"middle\" dy=\"0.35em\" transform=\"rotate(-90, 8.76, 46.77)\"># of samples</text>\n",
       "  </g>\n",
       "  <g font-size=\"3.88\" font-family=\"'PT Sans','Helvetica Neue','Helvetica',sans-serif\" fill=\"#564A55\" stroke=\"#000000\" stroke-opacity=\"0.000\" id=\"img-196dd8c8-14\">\n",
       "    <text x=\"157.41\" y=\"10.53\" text-anchor=\"middle\">Distribution of training data</text>\n",
       "  </g>\n",
       "</g>\n",
       "<defs>\n",
       "  <clipPath id=\"img-196dd8c8-4\">\n",
       "  <path d=\"M19.82,12.53 L 295 12.53 295 81 19.82 81\" />\n",
       "</clipPath>\n",
       "</defs>\n",
       "</svg>\n"
      ],
      "text/plain": [
       "Compose.SVG(300.0mm,100.0mm,IOBuffer(data=UInt8[...], readable=true, writable=true, seekable=true, append=false, size=15699, maxsize=Inf, ptr=15700, mark=-1),nothing,\"img-196dd8c8\",0,Compose.SVGPropertyFrame[],Dict{Type{T},Union{Compose.Property{P<:Compose.PropertyPrimitive},Void}}(Compose.Property{Compose.FillPrimitive}=>nothing),Dict{Compose.ClipPrimitive{P<:NTuple{N,Measures.Measure}},ASCIIString}(Compose.ClipPrimitive{Tuple{Measures.Length{:mm,Float64},Measures.Length{:mm,Float64}}}([(19.819444444444457mm,12.527777777777771mm),(295.0mm,12.527777777777771mm),(295.0mm,81.00277777777778mm),(19.819444444444457mm,81.00277777777778mm)])=>\"img-196dd8c8-4\"),Tuple{Compose.FormPrimitive,ASCIIString}[],Set{AbstractString}(),true,false,nothing,true,\"img-196dd8c8-14\",false,14,AbstractString[\"/home/ubuntu/.julia/v0.4/Gadfly/src/gadfly.js\"],Tuple{AbstractString,AbstractString}[(\"Snap.svg\",\"Snap\"),(\"Gadfly\",\"Gadfly\")],AbstractString[\"fig.select(\\\"#img-196dd8c8-5\\\")\\n   .init_gadfly();\"],false,:none)"
      ]
     },
     "metadata": {},
     "output_type": "display_data"
    },
    {
     "name": "stderr",
     "output_type": "stream",
     "text": [
      "Fontconfig warning: ignoring UTF-8: not a valid region tag\n"
     ]
    }
   ],
   "source": [
    "counts=by(trainLabels, :Class, nrow);\n",
    "p1=Gadfly.plot(x = counts[:Class], y=counts[:x1], color = counts[:Class], Theme(key_position = :none), Guide.xlabel(\"Characters\"), Guide.ylabel(\"# of samples\"), Geom.bar, Guide.title(\"Distribution of training data\"))\n",
    "draw(SVG(30cm, 10cm), p1)"
   ]
  },
  {
   "cell_type": "markdown",
   "metadata": {},
   "source": [
    "You can also scroll through the images!"
   ]
  },
  {
   "cell_type": "code",
   "execution_count": 6,
   "metadata": {
    "collapsed": false
   },
   "outputs": [
    {
     "data": {
      "text/html": [],
      "text/plain": [
       "Interact.Slider{Int64}(Signal{Int64}(500, nactions=0),\"i\",500,1:1000,true)"
      ]
     },
     "metadata": {},
     "output_type": "display_data"
    },
    {
     "data": {
      "image/png": "[encoded data removed]",
      "text/plain": [
       "RGB Images.Image with:\n",
       "  data: 20x20 Array{ColorTypes.RGB{FixedPointNumbers.UFixed{UInt8,8}},2}\n",
       "  properties:\n",
       "    colorspace: sRGB\n",
       "    spatialorder:  x y"
      ]
     },
     "execution_count": 6,
     "metadata": {
      "comm_id": "876a87dd-1b1b-4a75-97bb-2ee4cf9895d1",
      "reactive": true
     },
     "output_type": "execute_result"
    }
   ],
   "source": [
    "@manipulate for i = 1:size(trainLabels,1)\n",
    "    load(\"$(path)/trainResized/$i.Bmp\")\n",
    "end"
   ]
  },
  {
   "cell_type": "markdown",
   "metadata": {},
   "source": [
    "But we haven't really read the training data yet. Only the labels. \n",
    "\n",
    "Now, load each image, convert into grayscale, and build a large training data matrix. Each row represents an image"
   ]
  },
  {
   "cell_type": "code",
   "execution_count": 7,
   "metadata": {
    "collapsed": false
   },
   "outputs": [
    {
     "data": {
      "text/plain": [
       "1000x400 Array{Float64,2}:\n",
       " 0.243137   0.25098    0.34902    …  0.278431   0.270588   0.278431 \n",
       " 0.462745   0.462745   0.462745      0.458824   0.454902   0.454902 \n",
       " 0.317647   0.384314   0.384314      0.372549   0.341176   0.305882 \n",
       " 0.301961   0.364706   0.560784      0.564706   0.572549   0.54902  \n",
       " 0.0862745  0.0862745  0.0823529     0.0705882  0.0745098  0.0745098\n",
       " 0.419608   0.419608   0.419608   …  0.407843   0.407843   0.415686 \n",
       " 0.286275   0.278431   0.278431      0.278431   0.278431   0.282353 \n",
       " 0.243137   0.203922   0.215686      0.243137   0.254902   0.254902 \n",
       " 0.247059   0.235294   0.235294      0.235294   0.239216   0.235294 \n",
       " 0.784314   0.784314   0.772549      0.964706   0.952941   0.945098 \n",
       " 0.364706   0.360784   0.356863   …  0.45098    0.439216   0.45098  \n",
       " 0.266667   0.254902   0.258824      0.270588   0.270588   0.262745 \n",
       " 0.235294   0.219608   0.219608      0.313725   0.196078   0.117647 \n",
       " ⋮                                ⋱                                 \n",
       " 0.290196   0.294118   0.313725      0.4        0.4        0.419608 \n",
       " 0.388235   0.454902   0.466667      0.564706   0.439216   0.462745 \n",
       " 0.129412   0.176471   0.172549   …  0.156863   0.160784   0.117647 \n",
       " 0.623529   0.627451   0.627451      0.384314   0.470588   0.517647 \n",
       " 0.835294   0.823529   0.839216      0.745098   0.662745   0.643137 \n",
       " 0.52549    0.494118   0.458824      0.52549    0.486275   0.352941 \n",
       " 0.85098    0.85098    0.854902      0.843137   0.847059   0.85098  \n",
       " 0.517647   0.564706   0.596078   …  0.160784   0.160784   0.156863 \n",
       " 0.572549   0.572549   0.572549      0.572549   0.572549   0.568627 \n",
       " 0.294118   0.25098    0.247059      0.215686   0.227451   0.239216 \n",
       " 0.65098    0.65098    0.654902      0.619608   0.639216   0.643137 \n",
       " 0.862745   0.87451    0.854902      0.878431   0.866667   0.862745 "
      ]
     },
     "execution_count": 7,
     "metadata": {},
     "output_type": "execute_result"
    }
   ],
   "source": [
    "function read_data_sv(typeData::AbstractString, trainLabels::DataFrame, imageSize)\n",
    "    x = zeros(size(trainLabels, 1), imageSize)\n",
    "    for (index, idImage) in enumerate(trainLabels[:ID])\n",
    "    nameFile = \"$(path)/$(typeData)Resized/$(idImage).Bmp\"\n",
    "        img = load(nameFile)\n",
    "        img = float(convert(Image{Gray}, img))\n",
    "        x[index, :] = reshape(img, 1, imageSize)\n",
    "    end\n",
    "    x\n",
    "end\n",
    "train_data = read_data_sv(\"train\", trainLabels, imageSize)"
   ]
  },
  {
   "cell_type": "markdown",
   "metadata": {},
   "source": [
    "## Tempering the Data"
   ]
  },
  {
   "cell_type": "markdown",
   "metadata": {},
   "source": [
    "All the labels are strings. Let's convert them into character labels and then convert to integer labels. "
   ]
  },
  {
   "cell_type": "code",
   "execution_count": 8,
   "metadata": {
    "collapsed": false
   },
   "outputs": [
    {
     "data": {
      "text/plain": [
       "1000-element Array{Int64,1}:\n",
       " 110\n",
       "  56\n",
       "  84\n",
       "  73\n",
       "  82\n",
       "  87\n",
       "  76\n",
       " 108\n",
       "  75\n",
       "  71\n",
       "  65\n",
       "  65\n",
       "  67\n",
       "   ⋮\n",
       "  84\n",
       "  52\n",
       "  48\n",
       "  79\n",
       "  79\n",
       " 101\n",
       "  71\n",
       "  74\n",
       " 101\n",
       "  78\n",
       " 101\n",
       "  69"
      ]
     },
     "execution_count": 8,
     "metadata": {},
     "output_type": "execute_result"
    }
   ],
   "source": [
    "chars = map(x -> x[1], trainLabels[:Class])\n",
    "trainLabelsInt = map(Int, chars) \n",
    "trainLabelsInt = Array(trainLabelsInt)"
   ]
  },
  {
   "cell_type": "markdown",
   "metadata": {},
   "source": [
    "Transpose the images, so that the columns represent each image. Note that every entry in the our training labels corresponds to a column in this matrix. For example, the first label is an 'n', and so is the first image. Scroll back up and check that the training labels match the images. \n"
   ]
  },
  {
   "cell_type": "code",
   "execution_count": 9,
   "metadata": {
    "collapsed": false
   },
   "outputs": [
    {
     "data": {
      "text/plain": [
       "400x1000 Array{Float64,2}:\n",
       " 0.243137  0.462745  0.317647  0.301961  …  0.294118  0.65098   0.862745\n",
       " 0.25098   0.462745  0.384314  0.364706     0.25098   0.65098   0.87451 \n",
       " 0.34902   0.462745  0.384314  0.560784     0.247059  0.654902  0.854902\n",
       " 0.258824  0.462745  0.364706  0.576471     0.282353  0.654902  0.882353\n",
       " 0.266667  0.470588  0.372549  0.533333     0.309804  0.65098   0.866667\n",
       " 0.254902  0.462745  0.376471  0.541176  …  0.301961  0.654902  0.862745\n",
       " 0.258824  0.462745  0.372549  0.54902      0.290196  0.65098   0.862745\n",
       " 0.290196  0.466667  0.376471  0.541176     0.282353  0.654902  0.878431\n",
       " 0.258824  0.462745  0.388235  0.533333     0.262745  0.647059  0.878431\n",
       " 0.27451   0.466667  0.4       0.545098     0.25098   0.65098   0.878431\n",
       " 0.262745  0.47451   0.392157  0.541176  …  0.25098   0.65098   0.87451 \n",
       " 0.278431  0.470588  0.392157  0.552941     0.270588  0.65098   0.886275\n",
       " 0.270588  0.462745  0.392157  0.545098     0.278431  0.662745  0.878431\n",
       " ⋮                                       ⋱                              \n",
       " 0.27451   0.458824  0.380392  0.529412     0.188235  0.286275  0.854902\n",
       " 0.282353  0.45098   0.34902   0.533333     0.196078  0.282353  0.878431\n",
       " 0.266667  0.458824  0.32549   0.52549   …  0.207843  0.262745  0.866667\n",
       " 0.282353  0.45098   0.419608  0.541176     0.219608  0.270588  0.866667\n",
       " 0.282353  0.45098   0.509804  0.576471     0.207843  0.278431  0.862745\n",
       " 0.305882  0.45098   0.537255  0.564706     0.2       0.270588  0.858824\n",
       " 0.278431  0.447059  0.556863  0.564706     0.192157  0.254902  0.905882\n",
       " 0.270588  0.45098   0.54902   0.560784  …  0.2       0.294118  0.878431\n",
       " 0.301961  0.431373  0.501961  0.545098     0.211765  0.47451   0.890196\n",
       " 0.278431  0.458824  0.372549  0.564706     0.215686  0.619608  0.878431\n",
       " 0.270588  0.454902  0.341176  0.572549     0.227451  0.639216  0.866667\n",
       " 0.278431  0.454902  0.305882  0.54902      0.239216  0.643137  0.862745"
      ]
     },
     "execution_count": 9,
     "metadata": {},
     "output_type": "execute_result"
    }
   ],
   "source": [
    "train_data = train_data'"
   ]
  },
  {
   "cell_type": "markdown",
   "metadata": {},
   "source": [
    "## The Algorithm\n",
    "\n",
    "The algorithm we're using here is a very simple, rudimentary K nearest neighbors (KNN). The idea is to take a particular image, and see which \"k\" images it is closest to. \n",
    "\n",
    "** Objective ** : To find the right value of \"k\" such that our model matches the training set.\n",
    "\n",
    "Some questions: \n",
    "* What does \"closest\" mean? How do you measure distance between two images?\n",
    "* How exactly do you find the right value of \"k\"?\n",
    "* What exactly is our \"model\"?\n",
    "\n",
    "The following function takes a particular image and finds the distance between the image under consideration and all the others. Note that each image is now a vector of 400 instead of the original 20x20, making it simpler to calculate distances."
   ]
  },
  {
   "cell_type": "code",
   "execution_count": 23,
   "metadata": {
    "collapsed": false
   },
   "outputs": [
    {
     "data": {
      "text/plain": [
       "get_all_distances (generic function with 1 method)"
      ]
     },
     "execution_count": 23,
     "metadata": {},
     "output_type": "execute_result"
    }
   ],
   "source": [
    "function get_all_distances(imageI::AbstractArray, x::AbstractArray)\n",
    "    diff = imageI .- x\n",
    "    distances = vec(sum(diff .* diff,1))\n",
    "end"
   ]
  },
  {
   "cell_type": "markdown",
   "metadata": {},
   "source": [
    "Find the \"k\" closest neighbors. Once you get all the distances, consider the first \"k\" distances as your closest distances. (Why do you thinking we're taking `2:k+1` instead of `1:k` ?)"
   ]
  },
  {
   "cell_type": "code",
   "execution_count": 24,
   "metadata": {
    "collapsed": false
   },
   "outputs": [
    {
     "data": {
      "text/plain": [
       "get_k_nearest_neighbors (generic function with 3 methods)"
      ]
     },
     "execution_count": 24,
     "metadata": {},
     "output_type": "execute_result"
    }
   ],
   "source": [
    "function get_k_nearest_neighbors(x::AbstractArray, imageI::AbstractArray, k::Int = 3, train = true)\n",
    "    nRows, nCols = size(x)\n",
    "    distances = get_all_distances(imageI, x)\n",
    "    sortedNeighbors = sortperm(distances)\n",
    "    if train\n",
    "        return kNearestNeighbors = Array(sortedNeighbors[2:k+1])\n",
    "    else\n",
    "        return kNearestNeighbors = Array(sortedNeighbors[1:k])  \n",
    "    end\n",
    "end\n"
   ]
  },
  {
   "cell_type": "markdown",
   "metadata": {},
   "source": [
    "Finally, assign the most \"popular\" character amongst the \"k\" least distances to the image under question. "
   ]
  },
  {
   "cell_type": "code",
   "execution_count": 25,
   "metadata": {
    "collapsed": false
   },
   "outputs": [
    {
     "data": {
      "text/plain": [
       "assign_label (generic function with 1 method)"
      ]
     },
     "execution_count": 25,
     "metadata": {},
     "output_type": "execute_result"
    }
   ],
   "source": [
    "function assign_label(x::AbstractArray, y::AbstractArray{Int64}, imageI::AbstractArray, k, train::Bool)\n",
    "    kNearestNeighbors = get_k_nearest_neighbors(x, imageI, k, train)\n",
    "    counts = Dict{Int, Int}()\n",
    "    highestCount = 0\n",
    "    mostPopularLabel = 0\n",
    "    for n in kNearestNeighbors\n",
    "        labelOfN = y[n]\n",
    "        if !haskey(counts, labelOfN)\n",
    "            counts[labelOfN] = 0\n",
    "        end\n",
    "        counts[labelOfN] += 1\n",
    "        if counts[labelOfN] > highestCount\n",
    "            highestCount = counts[labelOfN]\n",
    "            mostPopularLabel = labelOfN\n",
    "        end\n",
    "     end\n",
    "    mostPopularLabel\n",
    "end"
   ]
  },
  {
   "cell_type": "markdown",
   "metadata": {},
   "source": [
    "Let's run this now. What's the training accuracy? \n",
    "\n",
    "Make this better:\n",
    "* More training samples\n",
    "* A better model! \n"
   ]
  },
  {
   "cell_type": "code",
   "execution_count": 13,
   "metadata": {
    "collapsed": false
   },
   "outputs": [
    {
     "name": "stdout",
     "output_type": "stream",
     "text": [
      "  2.490608 seconds (453.55 k allocations: 5.998 GB, 23.66% gc time)\n"
     ]
    },
    {
     "data": {
      "text/plain": [
       "0.258"
      ]
     },
     "execution_count": 13,
     "metadata": {},
     "output_type": "execute_result"
    }
   ],
   "source": [
    "k = 3\n",
    "checks = trues(size(train_data, 2))\n",
    "@time for i = 1:size(train_data, 2)\n",
    "    imageI = train_data[:,i]\n",
    "    checks[i]  = (assign_label(train_data, trainLabelsInt, imageI, k, true) == trainLabelsInt[i])\n",
    "end\n",
    "accuracy = length(find(checks)) / length(checks)"
   ]
  },
  {
   "cell_type": "markdown",
   "metadata": {},
   "source": [
    "## Test cases\n",
    "\n",
    "Let's read the test labels now. "
   ]
  },
  {
   "cell_type": "code",
   "execution_count": 14,
   "metadata": {
    "collapsed": false
   },
   "outputs": [
    {
     "data": {
      "text/html": [
       "<table class=\"data-frame\"><tr><th></th><th>ID</th><th>Class</th></tr><tr><th>1</th><td>6284</td><td>A</td></tr><tr><th>2</th><td>6285</td><td>A</td></tr><tr><th>3</th><td>6286</td><td>A</td></tr><tr><th>4</th><td>6287</td><td>A</td></tr><tr><th>5</th><td>6288</td><td>A</td></tr><tr><th>6</th><td>6289</td><td>A</td></tr><tr><th>7</th><td>6290</td><td>A</td></tr><tr><th>8</th><td>6291</td><td>A</td></tr><tr><th>9</th><td>6292</td><td>A</td></tr><tr><th>10</th><td>6293</td><td>A</td></tr><tr><th>11</th><td>6294</td><td>A</td></tr><tr><th>12</th><td>6295</td><td>A</td></tr><tr><th>13</th><td>6296</td><td>A</td></tr><tr><th>14</th><td>6297</td><td>A</td></tr><tr><th>15</th><td>6298</td><td>A</td></tr><tr><th>16</th><td>6299</td><td>A</td></tr><tr><th>17</th><td>6300</td><td>A</td></tr><tr><th>18</th><td>6301</td><td>A</td></tr><tr><th>19</th><td>6302</td><td>A</td></tr><tr><th>20</th><td>6303</td><td>A</td></tr><tr><th>21</th><td>6304</td><td>A</td></tr><tr><th>22</th><td>6305</td><td>A</td></tr><tr><th>23</th><td>6306</td><td>A</td></tr><tr><th>24</th><td>6307</td><td>A</td></tr><tr><th>25</th><td>6308</td><td>A</td></tr><tr><th>26</th><td>6309</td><td>A</td></tr><tr><th>27</th><td>6310</td><td>A</td></tr><tr><th>28</th><td>6311</td><td>A</td></tr><tr><th>29</th><td>6312</td><td>A</td></tr><tr><th>30</th><td>6313</td><td>A</td></tr><tr><th>&vellip;</th><td>&vellip;</td><td>&vellip;</td></tr></table>"
      ],
      "text/plain": [
       "1000×2 DataFrames.DataFrame\n",
       "│ Row  │ ID   │ Class │\n",
       "├──────┼──────┼───────┤\n",
       "│ 1    │ 6284 │ \"A\"   │\n",
       "│ 2    │ 6285 │ \"A\"   │\n",
       "│ 3    │ 6286 │ \"A\"   │\n",
       "│ 4    │ 6287 │ \"A\"   │\n",
       "│ 5    │ 6288 │ \"A\"   │\n",
       "│ 6    │ 6289 │ \"A\"   │\n",
       "│ 7    │ 6290 │ \"A\"   │\n",
       "│ 8    │ 6291 │ \"A\"   │\n",
       "│ 9    │ 6292 │ \"A\"   │\n",
       "│ 10   │ 6293 │ \"A\"   │\n",
       "│ 11   │ 6294 │ \"A\"   │\n",
       "⋮\n",
       "│ 989  │ 7272 │ \"A\"   │\n",
       "│ 990  │ 7273 │ \"A\"   │\n",
       "│ 991  │ 7274 │ \"A\"   │\n",
       "│ 992  │ 7275 │ \"A\"   │\n",
       "│ 993  │ 7276 │ \"A\"   │\n",
       "│ 994  │ 7277 │ \"A\"   │\n",
       "│ 995  │ 7278 │ \"A\"   │\n",
       "│ 996  │ 7279 │ \"A\"   │\n",
       "│ 997  │ 7280 │ \"A\"   │\n",
       "│ 998  │ 7281 │ \"A\"   │\n",
       "│ 999  │ 7282 │ \"A\"   │\n",
       "│ 1000 │ 7283 │ \"A\"   │"
      ]
     },
     "execution_count": 14,
     "metadata": {},
     "output_type": "execute_result"
    }
   ],
   "source": [
    "testLabels = readtable(\"$(path)/testLabels.csv\")\n",
    "testLabels = testLabels[1:1000,:]"
   ]
  },
  {
   "cell_type": "code",
   "execution_count": 15,
   "metadata": {
    "collapsed": false
   },
   "outputs": [
    {
     "data": {
      "text/plain": [
       "(1000,2)"
      ]
     },
     "execution_count": 15,
     "metadata": {},
     "output_type": "execute_result"
    }
   ],
   "source": [
    "size(testLabels)"
   ]
  },
  {
   "cell_type": "markdown",
   "metadata": {},
   "source": [
    "Read the test data. We're going to take every test image and then find which training image it is closest to, and then assign it to that particular class. "
   ]
  },
  {
   "cell_type": "code",
   "execution_count": 16,
   "metadata": {
    "collapsed": false
   },
   "outputs": [
    {
     "data": {
      "text/plain": [
       "1000x400 Array{Float64,2}:\n",
       " 0.45098    0.447059   0.443137   …  0.486275   0.482353   0.470588 \n",
       " 0.282353   0.286275   0.309804      0.431373   0.282353   0.294118 \n",
       " 0.113725   0.152941   0.156863      0.145098   0.145098   0.101961 \n",
       " 0.592157   0.545098   0.564706      0.556863   0.588235   0.592157 \n",
       " 0.501961   0.52549    0.552941      0.572549   0.588235   0.541176 \n",
       " 0.552941   0.54902    0.54902    …  0.533333   0.509804   0.501961 \n",
       " 0.141176   0.180392   0.192157      0.14902    0.164706   0.156863 \n",
       " 0.862745   0.866667   0.843137      0.862745   0.905882   0.882353 \n",
       " 0.705882   0.694118   0.686275      0.643137   0.670588   0.701961 \n",
       " 0.866667   0.866667   0.866667      0.878431   0.886275   0.905882 \n",
       " 0.231373   0.2        0.203922   …  0.215686   0.227451   0.239216 \n",
       " 0.737255   0.74902    0.776471      0.776471   0.780392   0.780392 \n",
       " 0.47451    0.47451    0.494118      0.454902   0.478431   0.478431 \n",
       " ⋮                                ⋱                                 \n",
       " 0.72549    0.72549    0.72549       0.658824   0.513725   0.443137 \n",
       " 0.0705882  0.0588235  0.0627451     0.0862745  0.0901961  0.0862745\n",
       " 0.580392   0.627451   0.592157   …  0.592157   0.6        0.592157 \n",
       " 0.607843   0.615686   0.611765      0.627451   0.631373   0.627451 \n",
       " 0.713725   0.752941   0.752941      0.776471   0.796078   0.721569 \n",
       " 0.231373   0.219608   0.227451      0.239216   0.247059   0.235294 \n",
       " 0.584314   0.580392   0.568627      0.576471   0.623529   0.596078 \n",
       " 0.521569   0.654902   0.662745   …  0.537255   0.52549    0.411765 \n",
       " 0.505882   0.513725   0.509804      0.462745   0.47451    0.47451  \n",
       " 0.305882   0.282353   0.313725      0.352941   0.364706   0.364706 \n",
       " 0.564706   0.611765   0.607843      0.603922   0.603922   0.556863 \n",
       " 0.490196   0.498039   0.482353      0.580392   0.572549   0.564706 "
      ]
     },
     "execution_count": 16,
     "metadata": {},
     "output_type": "execute_result"
    }
   ],
   "source": [
    "test_data = read_data_sv(\"test\", testLabels, imageSize)"
   ]
  },
  {
   "cell_type": "code",
   "execution_count": 17,
   "metadata": {
    "collapsed": false
   },
   "outputs": [
    {
     "data": {
      "text/plain": [
       "400x1000 Array{Float64,2}:\n",
       " 0.45098   0.282353  0.113725  0.592157  …  0.305882  0.564706  0.490196\n",
       " 0.447059  0.286275  0.152941  0.545098     0.282353  0.611765  0.498039\n",
       " 0.443137  0.309804  0.156863  0.564706     0.313725  0.607843  0.482353\n",
       " 0.443137  0.301961  0.156863  0.529412     0.32549   0.615686  0.498039\n",
       " 0.435294  0.309804  0.156863  0.568627     0.243137  0.623529  0.482353\n",
       " 0.431373  0.341176  0.156863  0.607843  …  0.278431  0.619608  0.529412\n",
       " 0.458824  0.34902   0.160784  0.568627     0.262745  0.623529  0.498039\n",
       " 0.462745  0.333333  0.160784  0.576471     0.278431  0.619608  0.54902 \n",
       " 0.447059  0.341176  0.160784  0.537255     0.301961  0.615686  0.517647\n",
       " 0.462745  0.364706  0.156863  0.560784     0.243137  0.607843  0.533333\n",
       " 0.458824  0.364706  0.156863  0.580392  …  0.290196  0.607843  0.529412\n",
       " 0.458824  0.376471  0.156863  0.592157     0.294118  0.611765  0.545098\n",
       " 0.458824  0.388235  0.156863  0.592157     0.301961  0.611765  0.54902 \n",
       " ⋮                                       ⋱                              \n",
       " 0.466667  0.45098   0.160784  0.494118     0.431373  0.592157  0.568627\n",
       " 0.47451   0.458824  0.156863  0.380392     0.384314  0.596078  0.580392\n",
       " 0.494118  0.443137  0.156863  0.258824  …  0.313725  0.603922  0.568627\n",
       " 0.486275  0.443137  0.152941  0.290196     0.341176  0.611765  0.564706\n",
       " 0.482353  0.443137  0.14902   0.239216     0.333333  0.619608  0.576471\n",
       " 0.47451   0.447059  0.145098  0.235294     0.392157  0.619608  0.572549\n",
       " 0.47451   0.447059  0.145098  0.258824     0.317647  0.615686  0.572549\n",
       " 0.486275  0.439216  0.145098  0.247059  …  0.321569  0.603922  0.568627\n",
       " 0.490196  0.45098   0.145098  0.388235     0.415686  0.6       0.568627\n",
       " 0.486275  0.431373  0.145098  0.556863     0.352941  0.603922  0.580392\n",
       " 0.482353  0.282353  0.145098  0.588235     0.364706  0.603922  0.572549\n",
       " 0.470588  0.294118  0.101961  0.592157     0.364706  0.556863  0.564706"
      ]
     },
     "execution_count": 17,
     "metadata": {},
     "output_type": "execute_result"
    }
   ],
   "source": [
    "test_data = test_data'"
   ]
  },
  {
   "cell_type": "markdown",
   "metadata": {},
   "source": [
    "Let's now run our test data and get our predictions. "
   ]
  },
  {
   "cell_type": "code",
   "execution_count": 18,
   "metadata": {
    "collapsed": false
   },
   "outputs": [
    {
     "name": "stdout",
     "output_type": "stream",
     "text": [
      "  2.043311 seconds (62.95 k allocations: 5.981 GB, 28.49% gc time)\n"
     ]
    }
   ],
   "source": [
    "x = test_data\n",
    "xT = train_data\n",
    "yT = trainLabelsInt\n",
    "k = 3\n",
    "prediction = zeros(Int,size(x,2))\n",
    "@time for i = 1:size(x,2)\n",
    "    imageI = x[:,i]\n",
    "    prediction[i]  = assign_label(xT, yT, imageI, k, false)\n",
    "end"
   ]
  },
  {
   "cell_type": "code",
   "execution_count": 19,
   "metadata": {
    "collapsed": false
   },
   "outputs": [
    {
     "data": {
      "text/plain": [
       "1000-element Array{Char,1}:\n",
       " 'P'\n",
       " 'A'\n",
       " 'r'\n",
       " 'I'\n",
       " 'E'\n",
       " 'I'\n",
       " 'g'\n",
       " 'I'\n",
       " '6'\n",
       " 'R'\n",
       " 'N'\n",
       " 'R'\n",
       " 'N'\n",
       " ⋮  \n",
       " 'R'\n",
       " 'R'\n",
       " 'R'\n",
       " 'N'\n",
       " 'i'\n",
       " 'E'\n",
       " 'R'\n",
       " 'l'\n",
       " 't'\n",
       " 'm'\n",
       " 'A'\n",
       " 'T'"
      ]
     },
     "execution_count": 19,
     "metadata": {},
     "output_type": "execute_result"
    }
   ],
   "source": [
    "prediction = map(Char, prediction)"
   ]
  },
  {
   "cell_type": "code",
   "execution_count": 26,
   "metadata": {
    "collapsed": false
   },
   "outputs": [
    {
     "data": {
      "text/html": [],
      "text/plain": [
       "Interact.Slider{Int64}(Signal{Int64}(500, nactions=0),\"i\",500,1:1000,true)"
      ]
     },
     "metadata": {},
     "output_type": "display_data"
    },
    {
     "data": {
      "image/png": "[encoded data removed]",
      "text/plain": [
       "RGB Images.Image with:\n",
       "  data: 20x20 Array{ColorTypes.RGB{FixedPointNumbers.UFixed{UInt8,8}},2}\n",
       "  properties:\n",
       "    colorspace: sRGB\n",
       "    spatialorder:  x y"
      ]
     },
     "execution_count": 26,
     "metadata": {
      "comm_id": "d4642ae1-6a50-4143-b74d-4a5997e0fe98",
      "reactive": true
     },
     "output_type": "execute_result"
    }
   ],
   "source": [
    "@manipulate for i = 1:1000\n",
    "    load(\"/home/ubuntu/.julia/v0.4/MLDemos/data/characters/testResized/$(6283+i).Bmp\")\n",
    "end"
   ]
  },
  {
   "cell_type": "markdown",
   "metadata": {},
   "source": [
    "In Julia, it's always a good idea to profile your code for bottlenecks, and try and improve the slowest region. "
   ]
  },
  {
   "cell_type": "code",
   "execution_count": 20,
   "metadata": {
    "collapsed": false
   },
   "outputs": [
    {
     "name": "stdout",
     "output_type": "stream",
     "text": [
      "2 task.jl; anonymous; line: 447\n",
      " 2 ...4/IJulia/src/IJulia.jl; eventloop; line: 143\n",
      "  2 ...src/execute_request.jl; execute_request_0x535c5df2; line: 183\n",
      "   2 loading.jl; include_string; line: 282\n",
      "    2 profile.jl; anonymous; line: 16\n",
      "     2 In[12]; assign_label; line: 2\n",
      "      2 In[11]; get_k_nearest_neighbors; line: 3\n",
      "       2 In[10]; get_all_distances; line: 3\n",
      "        2 broadcast.jl; broadcast!; line: 246\n",
      "         1 broadcast.jl; _F_; line: 97\n",
      "         1 cartesian.jl; _F_; line: 31\n"
     ]
    }
   ],
   "source": [
    "Profile.clear()\n",
    "@profile assign_label(xT, yT, test_data[:,1], 3, false)\n",
    "Profile.print()"
   ]
  },
  {
   "cell_type": "markdown",
   "metadata": {},
   "source": [
    "And now we use ArrayFire to speed it up! Remember, we can use the same code! "
   ]
  },
  {
   "cell_type": "code",
   "execution_count": 22,
   "metadata": {
    "collapsed": false
   },
   "outputs": [
    {
     "name": "stdout",
     "output_type": "stream",
     "text": [
      "  1.984852 seconds (869.78 k allocations: 31.212 MB, 0.45% gc time)\n"
     ]
    }
   ],
   "source": [
    "x = AFArray(test_data)\n",
    "xT = AFArray(train_data)\n",
    "yT = AFArray(trainLabelsInt)\n",
    "k = 3\n",
    "prediction = zeros(Int,size(x,2))\n",
    "@time for i = 1:size(x,2)\n",
    "    imageI = x[:,i]\n",
    "    prediction[i]  = assign_label(xT, yT, imageI, k, false)\n",
    "end"
   ]
  }
 ],
 "metadata": {
  "kernelspec": {
   "display_name": "Julia 0.4.5",
   "language": "julia",
   "name": "julia-0.4"
  },
  "language_info": {
   "file_extension": ".jl",
   "mimetype": "application/julia",
   "name": "julia",
   "version": "0.4.5"
  }
 },
 "nbformat": 4,
 "nbformat_minor": 0
}
