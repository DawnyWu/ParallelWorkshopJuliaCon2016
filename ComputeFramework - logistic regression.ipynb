{
 "cells": [
  {
   "cell_type": "code",
   "execution_count": 1,
   "metadata": {
    "collapsed": false
   },
   "outputs": [
    {
     "data": {
      "text/plain": [
       "8-element Array{Int64,1}:\n",
       " 2\n",
       " 3\n",
       " 4\n",
       " 5\n",
       " 6\n",
       " 7\n",
       " 8\n",
       " 9"
      ]
     },
     "execution_count": 1,
     "metadata": {},
     "output_type": "execute_result"
    }
   ],
   "source": [
    "addprocs(8)"
   ]
  },
  {
   "cell_type": "code",
   "execution_count": 2,
   "metadata": {
    "collapsed": false
   },
   "outputs": [
    {
     "data": {
      "text/plain": [
       "_gather (generic function with 2 methods)"
      ]
     },
     "execution_count": 2,
     "metadata": {},
     "output_type": "execute_result"
    }
   ],
   "source": [
    "using ComputeFramework\n",
    "using Distributions\n",
    "\n",
    "# helper function to perform gather only on CF objects\n",
    "import ComputeFramework.Computation\n",
    "\n",
    "global ctx=Context()\n",
    "\n",
    "_gather{C<:Computation, D<:Computation}(x::Tuple{C,D}) = gather(ctx, x)\n",
    "_gather(x::Tuple) = x"
   ]
  },
  {
   "cell_type": "code",
   "execution_count": 3,
   "metadata": {
    "collapsed": true
   },
   "outputs": [],
   "source": [
    "@everywhere logistic(x) = 1 / (1 + exp(-x))\n",
    "\n",
    "function initialize(X,y,λ)\n",
    "    (XtX, Xty) = _gather((X'X, X'y))\n",
    "    cholfact!(XtX + λ*I)\\(Xty)\n",
    "end\n",
    "\n",
    "@everywhere function regression(X, y; tol = 1e-12, maxIter = 30, λ = 0.0, init = initialize(X,y,λ))\n",
    "  β = init\n",
    "  μ = X*vec(β)\n",
    "  k = 0\n",
    "  for k = 1:maxIter\n",
    "      η = map(logistic, μ)\n",
    "      w = η.*(1-η)\n",
    "      r = y - η\n",
    "\n",
    "      Xw = scale(w, X)\n",
    "\n",
    "      XtX, Xtr = _gather((Xw'X, X'r))\n",
    "      Δβ = cholfact!(XtX + λ*I) \\ (Xtr .- λ*β)\n",
    "\n",
    "      β += Δβ\n",
    "\n",
    "      if (@show norm(Δβ)) < tol\n",
    "          break\n",
    "      endr\n",
    "      μ = X*β\n",
    "  end\n",
    "  if k == maxIter\n",
    "      error(\"no convergence\")\n",
    "  end\n",
    "  return β, k\n",
    "end"
   ]
  },
  {
   "cell_type": "code",
   "execution_count": 4,
   "metadata": {
    "collapsed": false
   },
   "outputs": [
    {
     "data": {
      "text/plain": [
       "1666667"
      ]
     },
     "execution_count": 4,
     "metadata": {},
     "output_type": "execute_result"
    }
   ],
   "source": [
    "# Number of rows\n",
    "N = 10^7\n",
    "N_part = 1666667"
   ]
  },
  {
   "cell_type": "code",
   "execution_count": 5,
   "metadata": {
    "collapsed": false
   },
   "outputs": [
    {
     "name": "stdout",
     "output_type": "stream",
     "text": [
      "  3.513864 seconds (2.86 M allocations: 129.427 MB, 0.90% gc time)\n",
      "  2.759677 seconds (2.09 M allocations: 172.691 MB, 2.65% gc time)\n"
     ]
    },
    {
     "data": {
      "text/plain": [
       "ComputeFramework.Computed(10000000 BitArray{1} in 6 parts)"
      ]
     },
     "execution_count": 5,
     "metadata": {},
     "output_type": "execute_result"
    }
   ],
   "source": [
    "\n",
    "x = rand(BlockPartition(N_part,10), N, 10)\n",
    "@time X = compute(x)\n",
    "\n",
    "y = (X * [9:-1:0.;]) .> Distribute(BlockPartition(N_part), rand(Logistic(), N))\n",
    "@time Y = compute(y)"
   ]
  },
  {
   "cell_type": "code",
   "execution_count": 28,
   "metadata": {
    "collapsed": false
   },
   "outputs": [
    {
     "name": "stdout",
     "output_type": "stream",
     "text": [
      "norm(Δβ) = 0.8634392139496269\n",
      "norm(Δβ) = 0.7304707586177425\n",
      "norm(Δβ) = 0.7189065313479128\n",
      "norm(Δβ) = 0.7336529085838923\n",
      "norm(Δβ) = 0.7589039220139997\n",
      "norm(Δβ) = 0.7898295368295862\n",
      "norm(Δβ) = 0.8241002660802208\n",
      "norm(Δβ) = 0.8589573676539586\n",
      "norm(Δβ) = 0.8879357061572806\n",
      "norm(Δβ) = 0.8947902021568425\n",
      "norm(Δβ) = 0.849715147713261\n",
      "norm(Δβ) = 0.7182723270852963\n",
      "norm(Δβ) = 0.4372006082705449\n",
      "norm(Δβ) = 0.11264266790268349\n",
      "norm(Δβ) = 0.005567291277316119\n",
      "norm(Δβ) = 1.2684039469830244e-5\n",
      "norm(Δβ) = 6.848122067357623e-11\n",
      "norm(Δβ) = 2.464326323531238e-12\n",
      "norm(Δβ) = 9.16125330601169e-13\n",
      "  0.010783 seconds (79.44 k allocations: 5.733 MB, 40.43% gc time)\n"
     ]
    },
    {
     "data": {
      "text/plain": [
       "([3.233866893389513,3.310758396834973,3.5603050548681554,3.4228170715408903,3.3475120256747575,3.433055426019274,3.492285096042701,3.618546208372272,3.348732338015894,2.944417951482114],19)"
      ]
     },
     "execution_count": 28,
     "metadata": {},
     "output_type": "execute_result"
    }
   ],
   "source": [
    "N_small = 2*10^3\n",
    "\n",
    "X1 = gather(X[1:N_small, :])\n",
    "Y1 = gather(Y[1:N_small])\n",
    "\n",
    "# run the sequential version on a subset to find an iniital guess\n",
    "init, k = @time regression(X1,Y1,tol=1e-12, λ=1/N_small)"
   ]
  },
  {
   "cell_type": "code",
   "execution_count": 31,
   "metadata": {
    "collapsed": false
   },
   "outputs": [
    {
     "name": "stdout",
     "output_type": "stream",
     "text": [
      "norm(Δβ) = 0.8555009854429065\n",
      "norm(Δβ) = 0.7234525658620435\n",
      "norm(Δβ) = 0.7109977977108463\n",
      "norm(Δβ) = 0.7244025208076879\n",
      "norm(Δβ) = 0.7482238363049689\n",
      "norm(Δβ) = 0.7780454572866816\n",
      "norm(Δβ) = 0.8123921414785201\n",
      "norm(Δβ) = 0.8506244591274544\n",
      "norm(Δβ) = 0.8922157016532679\n",
      "norm(Δβ) = 0.9381939785896993\n",
      "norm(Δβ) = 1.0070055416983437\n",
      "norm(Δβ) = 1.2150317609659707\n",
      "norm(Δβ) = 1.8509823663255252\n",
      "norm(Δβ) = 2.763348991500668\n",
      "norm(Δβ) = 2.9163254913186822\n",
      "norm(Δβ) = 2.088794184329865\n",
      "norm(Δβ) = 0.794583838606624\n",
      "norm(Δβ) = 0.08829764010809388\n",
      "norm(Δβ) = 0.0010138276589816589\n",
      "norm(Δβ) = 1.3929833795526373e-7\n",
      "norm(Δβ) = 5.228848055849768e-13\n",
      " 29.467062 seconds (2.10 M allocations: 133.861 MB, 0.35% gc time)\n"
     ]
    },
    {
     "data": {
      "text/plain": [
       "([9.10830145833094,10.236706198033996,8.815618895321798,4.093497607192385,3.839092840603249,4.641276635042943,3.501394497014302,0.8002262859609115,0.9588986871748054,1.4295594225438053],21)"
      ]
     },
     "execution_count": 31,
     "metadata": {},
     "output_type": "execute_result"
    }
   ],
   "source": [
    "@time regression(X,Y,tol=1e-12, λ=1/N)"
   ]
  },
  {
   "cell_type": "code",
   "execution_count": 32,
   "metadata": {
    "collapsed": false
   },
   "outputs": [
    {
     "name": "stdout",
     "output_type": "stream",
     "text": [
      "norm(Δβ) = 0.8555009854429105\n",
      "norm(Δβ) = 0.7234525658620439\n",
      "norm(Δβ) = 0.7109977977108463\n",
      "norm(Δβ) = 0.7244025208076847\n",
      "norm(Δβ) = 0.7482238363049737\n",
      "norm(Δβ) = 0.7780454572866833\n",
      "norm(Δβ) = 0.8123921414785209\n",
      "norm(Δβ) = 0.8506244591274488\n",
      "norm(Δβ) = 0.8922157016532651\n",
      "norm(Δβ) = 0.9381939785896897\n",
      "norm(Δβ) = 1.007005541698348\n",
      "norm(Δβ) = 1.2150317609660173\n",
      "norm(Δβ) = 1.8509823663254972\n",
      "norm(Δβ) = 2.763348991500565\n",
      "norm(Δβ) = 2.916325491318795\n",
      "norm(Δβ) = 2.0887941843297857\n",
      "norm(Δβ) = 0.794583838606666\n",
      "norm(Δβ) = 0.08829764010806286\n",
      "norm(Δβ) = 0.001013827658798716\n",
      "norm(Δβ) = 1.3929856521853447e-7\n",
      "norm(Δβ) = 6.273004866991971e-13\n",
      " 37.897343 seconds (420.01 M allocations: 29.803 GB, 9.39% gc time)\n"
     ]
    },
    {
     "data": {
      "text/plain": [
       "([9.10830145833111,10.236706198033634,8.815618895321794,4.09349760719224,3.8390928406031364,4.64127663504292,3.501394497014381,0.8002262859610104,0.9588986871747942,1.4295594225437944],21)"
      ]
     },
     "execution_count": 32,
     "metadata": {},
     "output_type": "execute_result"
    }
   ],
   "source": [
    "a,b= gather((X,Y))\n",
    "\n",
    "@time regression(a,b,tol=1e-12, λ=1/N)"
   ]
  },
  {
   "cell_type": "code",
   "execution_count": null,
   "metadata": {
    "collapsed": true
   },
   "outputs": [],
   "source": []
  }
 ],
 "metadata": {
  "kernelspec": {
   "display_name": "Julia 0.4.5",
   "language": "julia",
   "name": "julia-0.4"
  },
  "language_info": {
   "file_extension": ".jl",
   "mimetype": "application/julia",
   "name": "julia",
   "version": "0.4.5"
  }
 },
 "nbformat": 4,
 "nbformat_minor": 0
}
