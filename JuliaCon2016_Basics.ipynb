{
 "cells": [
  {
   "cell_type": "markdown",
   "metadata": {
    "collapsed": false,
    "slideshow": {
     "slide_type": "slide"
    }
   },
   "source": [
    "## Parallel programming constructs in Base Julia\n",
    "\n",
    "- Example used\n",
    "    - calculate pi using random numbers (circle circumscribed by a square)\n",
    "    - Area of circle / Area of square = pi / 4\n",
    "\n",
    "- Processes vs tasks\n",
    "    - Process\n",
    "        - Single thread of execution scheduled by the OS\n",
    "        - Master process\n",
    "            - Driver, orchestrates work\n",
    "            - Hosts the REPL in interactive mode, or the main script in non-interactive mode  \n",
    "        - Workers\n",
    "            - Different OS processes, typically one per core\n",
    "        - Identified by a numeric process id, not related to the OS pid\n",
    "    - Tasks are lightweight co-routines"
   ]
  },
  {
   "cell_type": "code",
   "execution_count": 1,
   "metadata": {
    "collapsed": false,
    "slideshow": {
     "slide_type": "slide"
    }
   },
   "outputs": [
    {
     "data": {
      "text/plain": [
       "serial_π (generic function with 1 method)"
      ]
     },
     "execution_count": 1,
     "metadata": {},
     "output_type": "execute_result"
    }
   ],
   "source": [
    "# First the serial version\n",
    "function serial_π(n)\n",
    "    in_circle = 0 \n",
    "    for i in 1:n\n",
    "        x = rand()\n",
    "        y = rand()\n",
    "        in_circle += Int((x^2 + y^2) < 1.0)\n",
    "    end\n",
    "    return (in_circle/n) * 4.0\n",
    "end"
   ]
  },
  {
   "cell_type": "code",
   "execution_count": 2,
   "metadata": {
    "collapsed": false
   },
   "outputs": [
    {
     "name": "stdout",
     "output_type": "stream",
     "text": [
      "  0.685635 seconds (9.35 k allocations: 448.045 KB)\n",
      "π = 3.14149488\n"
     ]
    }
   ],
   "source": [
    "println(\"π = \", @time serial_π(10^8) )"
   ]
  },
  {
   "cell_type": "markdown",
   "metadata": {},
   "source": [
    "#### Compute in parallel\n",
    "- First set up a local cluster\n",
    "- Master process + Worker processes \n",
    "- Workers may be on the same host, or different hosts\n",
    "- Workers can be launched on cluster managers like SGE, SLURM, etc\n"
   ]
  },
  {
   "cell_type": "code",
   "execution_count": 3,
   "metadata": {
    "collapsed": false
   },
   "outputs": [
    {
     "data": {
      "text/plain": [
       "5"
      ]
     },
     "execution_count": 3,
     "metadata": {},
     "output_type": "execute_result"
    }
   ],
   "source": [
    "if nprocs() == 1\n",
    "    addprocs(4)\n",
    "end\n",
    "nprocs()"
   ]
  },
  {
   "cell_type": "code",
   "execution_count": 4,
   "metadata": {
    "collapsed": false
   },
   "outputs": [
    {
     "data": {
      "text/plain": [
       "5-element Array{Int64,1}:\n",
       " 1\n",
       " 2\n",
       " 3\n",
       " 4\n",
       " 5"
      ]
     },
     "execution_count": 4,
     "metadata": {},
     "output_type": "execute_result"
    }
   ],
   "source": [
    "procs()"
   ]
  },
  {
   "cell_type": "code",
   "execution_count": 5,
   "metadata": {
    "collapsed": false
   },
   "outputs": [
    {
     "data": {
      "text/plain": [
       "4-element Array{Int64,1}:\n",
       " 2\n",
       " 3\n",
       " 4\n",
       " 5"
      ]
     },
     "execution_count": 5,
     "metadata": {},
     "output_type": "execute_result"
    }
   ],
   "source": [
    "workers()"
   ]
  },
  {
   "cell_type": "markdown",
   "metadata": {},
   "source": [
    "#### Change the serial version to execute the for loop in parallel\n",
    "    - Use @parallel for\n",
    "    - Partitions a \"for\" loop\n",
    "    - Equally partitioned among available workers\n",
    "    - Can specify a reduction operator "
   ]
  },
  {
   "cell_type": "code",
   "execution_count": 6,
   "metadata": {
    "collapsed": false,
    "slideshow": {
     "slide_type": "slide"
    }
   },
   "outputs": [
    {
     "data": {
      "text/plain": [
       "parallel_π (generic function with 1 method)"
      ]
     },
     "execution_count": 6,
     "metadata": {},
     "output_type": "execute_result"
    }
   ],
   "source": [
    "#Parallel version\n",
    "function parallel_π(n)\n",
    "    in_circle = @parallel (+) for i in 1:n       # <----- partition work\n",
    "        x = rand()\n",
    "        y = rand()\n",
    "        Int((x^2 + y^2) < 1.0)\n",
    "    end\n",
    "    return (in_circle/n) * 4.0\n",
    "end"
   ]
  },
  {
   "cell_type": "code",
   "execution_count": 7,
   "metadata": {
    "collapsed": false
   },
   "outputs": [
    {
     "name": "stdout",
     "output_type": "stream",
     "text": [
      "  1.115184 seconds (565.10 k allocations: 24.077 MB, 0.50% gc time)\n",
      "π = 3.14183892\n"
     ]
    }
   ],
   "source": [
    "println(\"π = \", @time parallel_π(10^8) )"
   ]
  },
  {
   "cell_type": "markdown",
   "metadata": {
    "collapsed": false,
    "slideshow": {
     "slide_type": "slide"
    }
   },
   "source": [
    "### Julia Tasks\n",
    "\n",
    "- What is a Julia Task?\n",
    "    - very lightweight coroutines\n",
    "    - Not threads!\n",
    "    - Internal to and scheduled by a Julia Process\n",
    "    - Runs till it performs an I/O operation or explictly yields (calls sleep() or yield() )\n",
    "    - A non-yielding task in a process prevents any other code from execution (including I/O operations)\n",
    "    - Julia process driving external services in parallel\n",
    "    - Julia master driving worker processes in a Julia cluster \n",
    "\n",
    "\n",
    "Simple example of a single Julia process driving a few external resources\n",
    "    - Calculate pi using all the machines available at JuliaCon \n"
   ]
  },
  {
   "cell_type": "markdown",
   "metadata": {},
   "source": [
    "#### pseudo-code (driver)\n",
    "\n",
    "```\n",
    "schedule a background task to\n",
    "    listen on a known port\n",
    "    while true\n",
    "       accept and store incoming connections from machines at JuliaCon\n",
    "    end\n",
    "       \n",
    "    \n",
    "function calculate_pi_in_parallel\n",
    "    send out computation requests to all connected machines\n",
    "    add each response to a queue as it arrives\n",
    "    process responses as they arrive till all responses have been recd or a timeout\n",
    "    \n",
    "```    "
   ]
  },
  {
   "cell_type": "markdown",
   "metadata": {},
   "source": [
    "#### pseudo-code (calculation service)\n",
    "\n",
    "```\n",
    "connect to orchestrator\n",
    "while true\n",
    "  wait for a request\n",
    "  compute request in parallel locally\n",
    "  send back the response\n",
    "end\n",
    "```"
   ]
  },
  {
   "cell_type": "markdown",
   "metadata": {
    "slideshow": {
     "slide_type": "slide"
    }
   },
   "source": [
    "#### Driver code for reference\n",
    "\n",
    "```\n",
    "# Calculate pi using all instances of the users at JuliaCon\n",
    "\n",
    "const clients=Set()\n",
    "\n",
    "@schedule begin\n",
    "    srvr = listen(8000)\n",
    "    while true\n",
    "        sock = accept(srvr)\n",
    "        push!(clients, sock)\n",
    "    end\n",
    "end\n",
    "\n",
    "function calc_π(n_each)\n",
    "    println(\"Processing remotely on possible $(length(clients)) clients\")\n",
    "\n",
    "    # This function will wait for a maximum of 10.0 seconds for clients to return\n",
    "    tc = Condition()\n",
    "    t0 = time()\n",
    "    @schedule (sleep(10.0); notify(tc))     # <---- exit the wait in time\n",
    "    \n",
    "    response_channel = Channel()\n",
    "    for c in clients\n",
    "        if isopen(c)\n",
    "            @async try                      # <---- execute remotely in parallel\n",
    "                serialize(c, n_each)\n",
    "                put!(response_channel, deserialize(c))\n",
    "                notify(tc)\n",
    "            catch e\n",
    "                delete!(clients, c)\n",
    "            end\n",
    "        else \n",
    "            delete!(clients, c)\n",
    "        end\n",
    "    end\n",
    "    \n",
    "    incircle = 0\n",
    "    nclients = 0\n",
    "    \n",
    "    # wait for all responses or the timeout\n",
    "    while true\n",
    "        !isready(response_channel) && wait(tc)   # Wait for a response or a timeout\n",
    "        !isready(response_channel) && break      # Still not ready, have timed out.\n",
    "        \n",
    "        incircle += take!(response_channel)\n",
    "        nclients += 1\n",
    "        \n",
    "        println(\"pi calculated from $nclients workers = \", 4*incircle/(nclients*n_each))\n",
    "        \n",
    "        nclients == length(clients) && break\n",
    "    end\n",
    "    4*incircle/(nclients*n_each)\n",
    "        \n",
    "end\n",
    "\n",
    "calc_π(10^6)\n",
    "\n",
    "```"
   ]
  },
  {
   "cell_type": "code",
   "execution_count": 8,
   "metadata": {
    "collapsed": false
   },
   "outputs": [
    {
     "data": {
      "text/plain": [
       "Task (waiting) @0x0000000113502230"
      ]
     },
     "execution_count": 8,
     "metadata": {},
     "output_type": "execute_result"
    }
   ],
   "source": [
    "\n",
    "##################################################\n",
    "# Make available your local computation resources\n",
    "##################################################\n",
    "@schedule begin\n",
    "    c = connect(\"107.23.255.102\", 8000)\n",
    "    while true\n",
    "        num_points = deserialize(c)    # <---- wait for a request    \n",
    "        \n",
    "        in_circle = @parallel (+) for i in 1:num_points\n",
    "            Int(rand()^2 + rand()^2 < 1)\n",
    "        end\n",
    "        \n",
    "        println(\"Received request for $num_points points. Response $in_circle\")\n",
    "        serialize(c, in_circle)        # <---- send back response\n",
    "    end\n",
    "end\n"
   ]
  },
  {
   "cell_type": "markdown",
   "metadata": {},
   "source": [
    "#### Using Julia Tasks and Workers together\n",
    "\n",
    "Let us build a simple distributed vector\n",
    "- architecturally similar to DistributedArrays.jl\n",
    "- create a distributed vector of random floats and implement a map function"
   ]
  },
  {
   "cell_type": "code",
   "execution_count": 9,
   "metadata": {
    "collapsed": false,
    "slideshow": {
     "slide_type": "slide"
    }
   },
   "outputs": [
    {
     "data": {
      "text/plain": [
       "getindex (generic function with 121 methods)"
      ]
     },
     "execution_count": 9,
     "metadata": {},
     "output_type": "execute_result"
    }
   ],
   "source": [
    "nprocs() == 1 && addprocs(4)\n",
    "\n",
    "type DVector\n",
    "    refs::Array{RemoteRef}  # references to localparts\n",
    "    cuts::Array{UnitRange{Int}}    # cut of vector on ith worker\n",
    "    pids::Array{Int}        # participating workers, refs[i] is on pids[i]\n",
    "    \n",
    "    function DVector(N)\n",
    "        refs=[]\n",
    "        cuts=[]\n",
    "        pids=workers()\n",
    "        localpart_len = div(N, nworkers())\n",
    "        ncut_start = 1\n",
    "        for p in pids\n",
    "            if p == pids[end]\n",
    "                localpart_len = localpart_len + rem(N, nworkers())\n",
    "            end\n",
    "            push!(refs, remotecall(p, rand, localpart_len))     # create the localpart on each worker\n",
    "                                                                # and hold a reference to it\n",
    "            \n",
    "            push!(cuts, ncut_start:ncut_start+localpart_len-1)  # Which worker has which part\n",
    "            ncut_start += localpart_len\n",
    "        end\n",
    "        return new(refs, cuts, workers())\n",
    "    end\n",
    "end\n",
    "\n",
    "function Base.convert(::Type{Array}, d::DVector)\n",
    "    A = Array(Float64, last(d.cuts[end]))\n",
    "    @sync for (i,r) in enumerate(d.refs)  # wait for all enclosed requests to finish\n",
    "        @async A[d.cuts[i]] = fetch(r)    # perform the \"fetching\" in parallel\n",
    "    end\n",
    "    A\n",
    "end\n",
    "\n",
    "function Base.getindex(d::DVector, i)\n",
    "    idx = findfirst(x -> i in x, d.cuts)  # Locate which ref has the index we need\n",
    "\n",
    "    # fetch only the single element. fetch localpart on correct worker and index locally. \n",
    "    remotecall_fetch(d.pids[idx], (li, r) -> fetch(r)[li], i-first(d.cuts[idx])+1, d.refs[idx])\n",
    "end\n"
   ]
  },
  {
   "cell_type": "code",
   "execution_count": 16,
   "metadata": {
    "collapsed": false,
    "slideshow": {
     "slide_type": "slide"
    }
   },
   "outputs": [
    {
     "data": {
      "text/plain": [
       "DVector(RemoteRef[RemoteRef{Channel{Any}}(2,1,34),RemoteRef{Channel{Any}}(3,1,35),RemoteRef{Channel{Any}}(4,1,36),RemoteRef{Channel{Any}}(5,1,37)],[1:3,4:6,7:9,10:12],[2,3,4,5])"
      ]
     },
     "execution_count": 16,
     "metadata": {},
     "output_type": "execute_result"
    }
   ],
   "source": [
    "d=DVector(12)   # As you can see the local structure only has refernces to distributed parts"
   ]
  },
  {
   "cell_type": "code",
   "execution_count": 11,
   "metadata": {
    "collapsed": false,
    "slideshow": {
     "slide_type": "slide"
    }
   },
   "outputs": [
    {
     "data": {
      "text/plain": [
       "12-element Array{Float64,1}:\n",
       " 0.268812\n",
       " 0.957128\n",
       " 0.662207\n",
       " 0.378814\n",
       " 0.950843\n",
       " 0.65333 \n",
       " 0.133321\n",
       " 0.344491\n",
       " 0.0677  \n",
       " 0.862386\n",
       " 0.602696\n",
       " 0.706003"
      ]
     },
     "execution_count": 11,
     "metadata": {},
     "output_type": "execute_result"
    }
   ],
   "source": [
    "# gather distributed parts\n",
    "Array(d)"
   ]
  },
  {
   "cell_type": "code",
   "execution_count": 12,
   "metadata": {
    "collapsed": false,
    "slideshow": {
     "slide_type": "slide"
    }
   },
   "outputs": [
    {
     "data": {
      "text/plain": [
       "0.06769998152406442"
      ]
     },
     "execution_count": 12,
     "metadata": {},
     "output_type": "execute_result"
    }
   ],
   "source": [
    "d[9]"
   ]
  },
  {
   "cell_type": "code",
   "execution_count": 13,
   "metadata": {
    "collapsed": false,
    "slideshow": {
     "slide_type": "slide"
    }
   },
   "outputs": [
    {
     "data": {
      "text/plain": [
       "map! (generic function with 13 methods)"
      ]
     },
     "execution_count": 13,
     "metadata": {},
     "output_type": "execute_result"
    }
   ],
   "source": [
    "# Implement a distributed map\n",
    "function Base.map!(f, d::DVector)\n",
    "    @sync for (i, p) in enumerate(d.pids)\n",
    "        @async remotecall_wait(p, (f,r)->(map!(f, fetch(r)); nothing), f, d.refs[i])\n",
    "    end\n",
    "    d\n",
    "end"
   ]
  },
  {
   "cell_type": "code",
   "execution_count": 14,
   "metadata": {
    "collapsed": false,
    "slideshow": {
     "slide_type": "slide"
    }
   },
   "outputs": [
    {
     "data": {
      "text/plain": [
       "DVector(RemoteRef[RemoteRef{Channel{Any}}(2,1,9),RemoteRef{Channel{Any}}(3,1,10),RemoteRef{Channel{Any}}(4,1,11),RemoteRef{Channel{Any}}(5,1,12)],[1:3,4:6,7:9,10:12],[2,3,4,5])"
      ]
     },
     "execution_count": 14,
     "metadata": {},
     "output_type": "execute_result"
    }
   ],
   "source": [
    "# Lets try it out \n",
    "map!(x->1.0, d)"
   ]
  },
  {
   "cell_type": "code",
   "execution_count": 15,
   "metadata": {
    "collapsed": false
   },
   "outputs": [
    {
     "data": {
      "text/plain": [
       "12-element Array{Float64,1}:\n",
       " 1.0\n",
       " 1.0\n",
       " 1.0\n",
       " 1.0\n",
       " 1.0\n",
       " 1.0\n",
       " 1.0\n",
       " 1.0\n",
       " 1.0\n",
       " 1.0\n",
       " 1.0\n",
       " 1.0"
      ]
     },
     "execution_count": 15,
     "metadata": {},
     "output_type": "execute_result"
    },
    {
     "name": "stdout",
     "output_type": "stream",
     "text": [
      "Received request for 1000000 points. Response 785666\n"
     ]
    }
   ],
   "source": [
    "# gather parts and display\n",
    "Array(d)"
   ]
  },
  {
   "cell_type": "markdown",
   "metadata": {
    "slideshow": {
     "slide_type": "slide"
    }
   },
   "source": [
    "Package DistributedArrays.jl has the complete implementation for distributed arrays."
   ]
  }
 ],
 "metadata": {
  "kernelspec": {
   "display_name": "Julia 0.4.5",
   "language": "julia",
   "name": "julia-0.4"
  },
  "language_info": {
   "file_extension": ".jl",
   "mimetype": "application/julia",
   "name": "julia",
   "version": "0.4.5"
  }
 },
 "nbformat": 4,
 "nbformat_minor": 0
}
