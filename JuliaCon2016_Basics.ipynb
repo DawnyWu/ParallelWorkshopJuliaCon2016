{
 "cells": [
  {
   "cell_type": "markdown",
   "metadata": {
    "collapsed": false,
    "slideshow": {
     "slide_type": "slide"
    }
   },
   "source": [
    "This workshop uses a few simple examples to show the use of parallel processing facilities available in Julia "
   ]
  },
  {
   "cell_type": "markdown",
   "metadata": {
    "slideshow": {
     "slide_type": "subslide"
    }
   },
   "source": [
    "## Approximate the value of pi - Monte Carlo method\n",
    "\n",
    "![Calculating PI](https://upload.wikimedia.org/wikipedia/commons/8/84/Pi_30K.gif)\n",
    "\n",
    "```\n",
    "Attribution : By CaitlinJo - Own work. This mathematical image was created with Mathematica, CC BY 3.0, https://commons.wikimedia.org/w/index.php?curid=14609430\n",
    "```"
   ]
  },
  {
   "cell_type": "code",
   "execution_count": null,
   "metadata": {
    "collapsed": false,
    "slideshow": {
     "slide_type": "slide"
    }
   },
   "outputs": [],
   "source": [
    "#Serial version\n",
    "\n",
    "function calc_pi(n)\n",
    "    in_circle = 0 \n",
    "    for i in 1:n\n",
    "        x = rand()\n",
    "        y = rand()\n",
    "        if (x^2 + y^2) < 1.0\n",
    "            in_circle = in_circle + 1\n",
    "        end\n",
    "    end\n",
    "    return (in_circle/n) * 4.0\n",
    "end\n",
    "\n",
    "println(\"pi = \", @time calc_pi(10^8) )\n"
   ]
  },
  {
   "cell_type": "code",
   "execution_count": null,
   "metadata": {
    "collapsed": false,
    "slideshow": {
     "slide_type": "slide"
    }
   },
   "outputs": [],
   "source": [
    "#Parallel version\n",
    "\n",
    "if nprocs() == 1 \n",
    "    addprocs(4)            # <---- Add julia workers\n",
    "end\n",
    "\n",
    "function calc_pi(n)\n",
    "    in_circle = @parallel (+) for i in 1:n       # <----- @parallel for\n",
    "        x = rand()\n",
    "        y = rand()\n",
    "        (x^2 + y^2) < 1.0 ? 1 : 0\n",
    "    end\n",
    "    return (in_circle/n) * 4.0\n",
    "end\n",
    "\n",
    "println(\"pi = \", @time calc_pi(10^8) )\n"
   ]
  },
  {
   "cell_type": "markdown",
   "metadata": {
    "slideshow": {
     "slide_type": "slide"
    }
   },
   "source": [
    "- Julia process\n",
    "    - What is a Julia process?\n",
    "        - Single thread of execution scheduled by the OS\n",
    "        - Master process\n",
    "            - Runs the REPL in interactive mode\n",
    "            - Driver process, orchestrates work\n",
    "        - Workers\n",
    "            - Do the actual work\n",
    "            - Typically one per core for computationally intensive work\n",
    "        - Identified by a numeric process id, not related to the OS pid.\n",
    "- Julia cluster\n",
    "    - Master process + Worker processes \n",
    "    - nprocs(), nworkers(), workers(), procs() - Try them out.\n",
    "    - addprocs(N), rmprocs() - Adds / removes workers \n",
    "- @parallel for\n",
    "    - Partitions a \"for\" loop\n",
    "    - Equally partitioned among available workers\n",
    "    - Can specify a reduction operator "
   ]
  },
  {
   "cell_type": "markdown",
   "metadata": {
    "collapsed": false,
    "slideshow": {
     "slide_type": "slide"
    }
   },
   "source": [
    "# Julia Tasks\n",
    "\n",
    "- What is a Julia Task?\n",
    "    - very lightweight coroutines\n",
    "    - Not threads!\n",
    "    - Internal to and scheduled by a Julia Process\n",
    "    - Tasks switch on yield() or on I/O\n",
    "- Lets try a simple example     "
   ]
  },
  {
   "cell_type": "code",
   "execution_count": null,
   "metadata": {
    "collapsed": false,
    "slideshow": {
     "slide_type": "slide"
    }
   },
   "outputs": [],
   "source": [
    "# Simple JSON validation at an external web service\n",
    "# Service hosted at http://validate.jsontest.com/\n",
    "\n",
    "# Serial example\n",
    "validate_list = [\n",
    "    \"[1,2,3]\",                  # Valid\n",
    "    \"\\\"Malformed JSON string\",  # Invalid\n",
    "    \"{\\\"foo\\\":\\\"bar\\\"}\"         # Valid\n",
    "    ] \n",
    "\n",
    "using Requests                # HTTP queries to a web service\n",
    "using JSON                    # parse responses\n",
    "\n",
    "\n",
    "function validate(list)\n",
    "    results = []\n",
    "    for s in list\n",
    "        response = Requests.post(\"http://validate.jsontest.com/\", data = Dict(\"json\" => s))\n",
    "        json_resp = JSON.parse(bytestring(response.data))\n",
    "        push!(results, (s, json_resp[\"validate\"]))\n",
    "    end\n",
    "    return results\n",
    "end\n",
    "\n",
    "results = @time validate(validate_list)\n",
    "for r in results\n",
    "    println(\"JSON string $(r[1]) is \", r[2] ? \"valid \" : \" not valid\")\n",
    "end\n"
   ]
  },
  {
   "cell_type": "code",
   "execution_count": null,
   "metadata": {
    "collapsed": false,
    "slideshow": {
     "slide_type": "slide"
    }
   },
   "outputs": [],
   "source": [
    "# Let us perform the validation in parallel\n",
    "\n",
    "function validate_in_parallel(list)\n",
    "    results = []\n",
    "    @sync begin                  # <---- Wait for all enclosed to finish\n",
    "        for s in validate_list\n",
    "            @async begin         # <----- Execute block in a new task\n",
    "                response = Requests.post(\"http://validate.jsontest.com/\", data = Dict(\"json\" => s))\n",
    "                json_resp = JSON.parse(bytestring(response.data))\n",
    "                push!(results, (s, json_resp[\"validate\"]))\n",
    "            end\n",
    "        end\n",
    "    end\n",
    "    return results\n",
    "end\n",
    "\n",
    "results = @time validate_in_parallel(validate_list)\n",
    "for r in results\n",
    "    println(\"JSON string $(r[1]) is \", r[2] ? \"valid \" : \" not valid\")\n",
    "end\n"
   ]
  },
  {
   "cell_type": "markdown",
   "metadata": {
    "slideshow": {
     "slide_type": "slide"
    }
   },
   "source": [
    "To retiterate:\n",
    "- A task runs till it performs an I/O operation or explictly yields (calls sleep() or yield() )\n",
    "- Upon yielding other runnable tasks are executed\n",
    "- A non-yielding task in a process prevents any other code from execution (including I/O operations) "
   ]
  },
  {
   "cell_type": "code",
   "execution_count": null,
   "metadata": {
    "collapsed": false
   },
   "outputs": [],
   "source": [
    "# Now consider an example that uses both Tasks and Worker processes for parallelism\n",
    "# Lets build a simple random Distributed Vector  \n",
    "\n",
    "nprocs() == 1 && addprocs(4)\n",
    "\n",
    "type DVector\n",
    "    length\n",
    "    refs                  # references to localparts\n",
    "    cuts                  # cut of vector on ith worker\n",
    "    pids                  # participating workers, refs[i] is on pids[i]\n",
    "    \n",
    "    function DVector(N)\n",
    "        refs=[]\n",
    "        cuts=[]\n",
    "        localpart_len = div(N, nworkers())\n",
    "        ncut_start = 1\n",
    "        last_worker_id = workers()[end]\n",
    "        for p in workers()\n",
    "            if p == last_worker_id\n",
    "                localpart_len = localpart_len + rem(N, nworkers())\n",
    "            end\n",
    "            push!(refs, remotecall(p, rand, localpart_len))        # <--- execute on process p\n",
    "            push!(cuts, ncut_start:ncut_start+localpart_len-1) \n",
    "            ncut_start += localpart_len\n",
    "        end\n",
    "        return new(N, refs, cuts, workers())\n",
    "    end\n",
    "end\n",
    "\n",
    "function Base.convert(::Type{Array}, d::DVector)\n",
    "    A = Array(Float64, d.length)\n",
    "    @sync begin\n",
    "        for (i,r) in enumerate(d.refs)\n",
    "            @async A[d.cuts[i]] = fetch(r)    # <--- perform the \"fetching\" in parallel\n",
    "        end\n",
    "    end\n",
    "    A\n",
    "end\n",
    "\n",
    "\n",
    "function Base.getindex(d::DVector, i)\n",
    "    ref_index = div(d.length, i) + 1\n",
    "    \n",
    "    # return the appropriate single element after fetching locally from the remote worker \n",
    "    remotecall_fetch(ref_index, (li, r) -> fetch(r)[li], d.refs[ref_index], rem(d.length, i)+1)\n",
    "end\n"
   ]
  },
  {
   "cell_type": "code",
   "execution_count": null,
   "metadata": {
    "collapsed": false
   },
   "outputs": [],
   "source": [
    "d=DVector(13)"
   ]
  },
  {
   "cell_type": "code",
   "execution_count": null,
   "metadata": {
    "collapsed": false
   },
   "outputs": [],
   "source": [
    "A=convert(Array, d)"
   ]
  },
  {
   "cell_type": "code",
   "execution_count": null,
   "metadata": {
    "collapsed": false
   },
   "outputs": [],
   "source": [
    "A[5]"
   ]
  },
  {
   "cell_type": "code",
   "execution_count": null,
   "metadata": {
    "collapsed": false
   },
   "outputs": [],
   "source": [
    "function Base.map!(f, d::DVector)\n",
    "    @sync for (i, p) in enumerate(d.pids)\n",
    "        @async remotecall_wait(p, (f,r)->(map!(f, fetch(r)); nothing), f, d.refs[i])\n",
    "    end\n",
    "    d\n",
    "end"
   ]
  },
  {
   "cell_type": "code",
   "execution_count": null,
   "metadata": {
    "collapsed": false
   },
   "outputs": [],
   "source": [
    "map!(x->1, d);"
   ]
  },
  {
   "cell_type": "markdown",
   "metadata": {},
   "source": [
    "Package DistributedArrays.jl has the complete implementation for global arrays."
   ]
  }
 ],
 "metadata": {
  "celltoolbar": "Slideshow",
  "kernelspec": {
   "display_name": "Julia 0.4.5",
   "language": "julia",
   "name": "julia-0.4"
  },
  "language_info": {
   "file_extension": ".jl",
   "mimetype": "application/julia",
   "name": "julia",
   "version": "0.4.5"
  }
 },
 "nbformat": 4,
 "nbformat_minor": 0
}
