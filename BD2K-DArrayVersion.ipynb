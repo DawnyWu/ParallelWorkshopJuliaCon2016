{
 "cells": [
  {
   "cell_type": "markdown",
   "metadata": {},
   "source": [
    "# Using DArrays for reading and manipulating data\n",
    "## Parallel Workshop JuliaCon 2016\n",
    "### DArrays basics"
   ]
  },
  {
   "cell_type": "code",
   "execution_count": 3,
   "metadata": {
    "collapsed": false
   },
   "outputs": [],
   "source": [
    "# Add processes\n",
    "addprocs(8)\n",
    "# Use package for distributed arrays\n",
    "using DistributedArrays"
   ]
  },
  {
   "cell_type": "code",
   "execution_count": 4,
   "metadata": {
    "collapsed": false
   },
   "outputs": [
    {
     "data": {
      "text/plain": [
       "8-element Array{Int64,1}:\n",
       " 1\n",
       " 2\n",
       " 3\n",
       " 4\n",
       " 5\n",
       " 6\n",
       " 7\n",
       " 8"
      ]
     },
     "execution_count": 4,
     "metadata": {},
     "output_type": "execute_result"
    }
   ],
   "source": [
    "C = Array(1:nworkers())"
   ]
  },
  {
   "cell_type": "code",
   "execution_count": 5,
   "metadata": {
    "collapsed": false
   },
   "outputs": [
    {
     "data": {
      "text/plain": [
       "8-element Array{Int64,1}:\n",
       "  1\n",
       "  4\n",
       "  9\n",
       " 16\n",
       " 25\n",
       " 36\n",
       " 49\n",
       " 64"
      ]
     },
     "execution_count": 5,
     "metadata": {},
     "output_type": "execute_result"
    }
   ],
   "source": [
    "map(t -> t*t, C)"
   ]
  },
  {
   "cell_type": "code",
   "execution_count": 6,
   "metadata": {
    "collapsed": false
   },
   "outputs": [
    {
     "data": {
      "text/plain": [
       "8-element DistributedArrays.DArray{Int64,1,Array{Int64,1}}:\n",
       " 1\n",
       " 2\n",
       " 3\n",
       " 4\n",
       " 5\n",
       " 6\n",
       " 7\n",
       " 8"
      ]
     },
     "execution_count": 6,
     "metadata": {},
     "output_type": "execute_result"
    }
   ],
   "source": [
    "D = distribute(C)"
   ]
  },
  {
   "cell_type": "code",
   "execution_count": 7,
   "metadata": {
    "collapsed": false
   },
   "outputs": [
    {
     "data": {
      "text/plain": [
       "8-element DistributedArrays.DArray{Int64,1,Array{Int64,1}}:\n",
       "  1\n",
       "  4\n",
       "  9\n",
       " 16\n",
       " 25\n",
       " 36\n",
       " 49\n",
       " 64"
      ]
     },
     "execution_count": 7,
     "metadata": {},
     "output_type": "execute_result"
    }
   ],
   "source": [
    "map(t -> t*t, D)"
   ]
  },
  {
   "cell_type": "code",
   "execution_count": null,
   "metadata": {
    "collapsed": true
   },
   "outputs": [],
   "source": [
    "map(t -> Dates.monthname((t - 1) % 12 + 1), D)"
   ]
  },
  {
   "cell_type": "code",
   "execution_count": 8,
   "metadata": {
    "collapsed": false
   },
   "outputs": [
    {
     "data": {
      "text/plain": [
       "\"January is my favorite month.February is my favorite month.March is my favorite month.April is my favorite month.May is my favorite month.June is my favorite month.July is my favorite month.August is my favorite month.\""
      ]
     },
     "execution_count": 8,
     "metadata": {},
     "output_type": "execute_result"
    }
   ],
   "source": [
    "map(t -> Dates.monthname((t - 1) % 12 + 1) |> s -> s*\" is my favorite month.\", D) |> t -> reduce(*, Array(t))"
   ]
  },
  {
   "cell_type": "code",
   "execution_count": 9,
   "metadata": {
    "collapsed": false
   },
   "outputs": [
    {
     "data": {
      "text/plain": [
       "32-element DistributedArrays.DArray{Array{Float64,2},1,Array{Array{Float64,2},1}}:\n",
       " 5x5 Array{Float64,2}:\n",
       "  0.749681    0.417828   1.32431   0.01106    0.246542\n",
       "  0.0793146  -0.442598   0.505572  0.224562  -0.556564\n",
       "  0.964229    0.453331   2.24267   1.4155     0.221317\n",
       " -0.954585    0.653496  -0.317464  0.514433   2.00375 \n",
       "  0.0449563   0.460558   0.3587    2.3126     1.97998                          \n",
       " 5x5 Array{Float64,2}:\n",
       " -0.0673469   0.308336    0.0866737   1.12114    -0.337453 \n",
       "  0.590937   -0.53924     0.604027   -0.0345528   0.589651 \n",
       "  1.24741    -1.37506    -0.780778   -1.03455     1.23955  \n",
       " -0.318958    0.666986   -1.06661    -1.31499     0.272334 \n",
       " -0.148643    0.0414206  -0.310748   -1.47092    -0.0201022\n",
       " 5x5 Array{Float64,2}:\n",
       " -0.19296    0.0781201  -0.801036   0.554971  -0.907947\n",
       " -2.52531   -1.34596    -1.20128   -0.236329  -0.91827 \n",
       "  2.06021   -0.343111    0.904802  -0.204173   0.959878\n",
       "  0.246964   1.31196     0.370966  -0.776546   1.11704 \n",
       " -1.92541   -0.379076    0.486447  -0.190984   0.188954                    \n",
       " 5x5 Array{Float64,2}:\n",
       "  1.00335      0.150682  -0.731992   -0.501302   0.314903\n",
       " -1.36561     -0.509775  -0.22058     0.949346   0.591759\n",
       "  0.00915481  -0.416028   0.0457664  -0.546271   0.156693\n",
       "  0.603252     0.32682   -0.445741    0.699924   1.42234 \n",
       "  0.0655756   -0.159764   1.18899    -0.93582   -0.162849          \n",
       " 5x5 Array{Float64,2}:\n",
       " -0.856979  -0.480212  -0.080319    0.392677   0.787576\n",
       " -1.25159   -0.358329   0.0388685   0.739196   0.972245\n",
       "  0.517445   0.257343  -0.945833   -0.611635  -0.993461\n",
       " -2.03844    2.0453    -1.27578     0.628451   0.174173\n",
       "  0.435949  -1.8405     0.787706   -0.376434  -0.714661                    \n",
       " 5x5 Array{Float64,2}:\n",
       "  1.19991     0.258797  -0.25406   -1.5223     0.128727 \n",
       " -1.72849    -0.696327  -0.885743   2.21187   -0.0664588\n",
       "  0.0819729   2.42412    1.71876    0.109357   0.747108 \n",
       " -0.315608   -1.39229   -0.108619  -1.00398    1.91478  \n",
       " -0.619373   -0.679257  -1.93017   -0.83248    0.446157                \n",
       " 5x5 Array{Float64,2}:\n",
       "  1.15594   1.21412   -2.07437   -0.573322  -1.32347  \n",
       "  0.902903  1.07288   -0.415681  -1.84021   -0.57122  \n",
       " -0.246746  2.08876   -0.872953  -0.505031  -0.0108789\n",
       " -0.150685  1.60817    0.878523   0.270193   0.24181  \n",
       "  2.76338   0.975909  -0.227637  -1.90645   -1.11781                           \n",
       " 5x5 Array{Float64,2}:\n",
       " -0.0553811   0.00455969  -0.195238  -0.793105   0.0903869\n",
       "  1.35234     0.069838    -0.30908   -0.518531   2.45101  \n",
       "  0.0761505  -0.573007    -0.499666   0.597217   2.83596  \n",
       "  0.982155    2.14775     -2.07481    0.549215  -1.17765  \n",
       " -3.1352      1.60354     -0.341524   1.1805    -0.0171565     \n",
       " 5x5 Array{Float64,2}:\n",
       "  0.134079  -0.114756   0.737821  -2.361     0.000334222\n",
       "  0.1145     0.393016   0.384161  -1.92133   0.627228   \n",
       "  0.398595  -0.414818  -0.144648  -1.23069  -1.86719    \n",
       "  0.285114  -0.933438  -0.849817   1.38184   2.61672    \n",
       " -0.267911  -0.100495   1.44955   -1.04666  -2.03004                   \n",
       " 5x5 Array{Float64,2}:\n",
       "  0.627534    -0.304139   1.0328    -0.808109    1.22727 \n",
       "  0.931182     0.538648   0.65141   -0.0468399  -0.548317\n",
       "  0.894449     2.92874   -1.55904    0.362256   -1.96348 \n",
       "  0.00140712  -1.05201   -0.322285  -0.581076   -1.67015 \n",
       " -0.827225    -1.09962    1.64792   -0.946056   -0.425702          \n",
       " 5x5 Array{Float64,2}:\n",
       "  0.165601   0.731008   0.347903   0.319971    0.271162 \n",
       "  2.07959    0.236758   0.602209  -0.229628   -0.0247758\n",
       "  0.621972   1.13681    0.232434  -0.0833038   1.01777  \n",
       "  0.339278   1.42394    1.35259   -0.687598    0.0744539\n",
       " -1.74339   -0.610543  -0.848808   0.57912    -0.0502173               \n",
       " 5x5 Array{Float64,2}:\n",
       " -2.11675     1.12357     1.00762   -0.884764  -0.613626\n",
       " -0.710472   -1.06827    -0.231558   0.402802  -0.567467\n",
       "  0.0488249  -0.207456    0.398633  -0.977136  -1.44423 \n",
       "  1.13536     0.602407   -1.24683    0.394197  -1.00777 \n",
       "  0.568996   -0.0689821  -1.86826    0.614181  -1.2649                 \n",
       " 5x5 Array{Float64,2}:\n",
       " -0.647129   0.158444  -1.61089    -1.23536    0.115031\n",
       " -0.317566   1.39606    0.665423    1.3014    -0.132114\n",
       "  0.144628   1.54616    1.60586    -0.236048  -0.787184\n",
       "  0.475094  -0.456798   0.977663   -0.772553  -1.35459 \n",
       " -0.78629    0.343861  -0.0464945  -0.231175  -0.991492                    \n",
       " ⋮                                                                                                                                                                                                                                                                                                                                \n",
       " 5x5 Array{Float64,2}:\n",
       " -1.17097    2.11392    0.233666   0.0704128   0.887389\n",
       "  1.00778    0.832334  -0.337992   1.47737     0.448895\n",
       " -0.689991   0.472      0.679514  -0.0427279   0.595426\n",
       " -0.416387   0.480373  -1.13274    2.02981    -0.488647\n",
       " -0.529206  -1.86015    1.89029    0.79998    -0.949295                    \n",
       " 5x5 Array{Float64,2}:\n",
       "  0.0981878  -1.33677    1.74707    0.653328    0.865854  \n",
       "  0.993157    0.338992   0.454926  -0.859781   -1.52561   \n",
       " -0.173495   -0.459391  -0.272796   0.0777511  -0.856575  \n",
       "  0.386446   -1.26431   -0.619717  -1.35632     1.17441   \n",
       " -1.0552      0.153728  -3.35114   -0.179362    0.00397083     \n",
       " 5x5 Array{Float64,2}:\n",
       " -0.764089   0.63395    0.17668    1.85491    1.40663 \n",
       "  0.28586    0.551406  -1.11221   -1.02235    0.609497\n",
       " -0.100374  -0.181856   1.05944    1.04315   -1.90643 \n",
       " -1.72076    2.4592     0.909287  -0.240054   0.509166\n",
       " -0.885695   1.53521    0.162288   0.188551   0.138714                         \n",
       " 5x5 Array{Float64,2}:\n",
       "  1.07572    1.90933   -0.38321    -0.666333    0.165512\n",
       " -0.498857   0.26142    0.148899   -1.50005    -0.928016\n",
       " -0.42623    0.885472  -1.55336     0.270631    0.303846\n",
       "  1.81728   -0.961121  -1.48346    -0.0370199   0.885943\n",
       "  1.20332    0.961898   0.0435321   0.116333    1.03171                \n",
       " 5x5 Array{Float64,2}:\n",
       "  0.5628     1.04321    1.01492     0.0448137  -0.278435\n",
       " -1.05325    0.946253   1.74462    -0.415045    0.756649\n",
       " -1.66237   -0.294785   0.0756697   1.06822     1.54191 \n",
       "  0.292339  -1.17454   -1.11554    -0.160806   -0.791053\n",
       " -0.432223  -0.796699  -0.605769   -0.0849836   1.88413                \n",
       " 5x5 Array{Float64,2}:\n",
       " -0.955934   -0.335876   -1.50818   -1.2172    -1.07557 \n",
       " -1.44395     0.0562973  -1.06262    0.293605   0.103662\n",
       "  0.496923   -1.61926    -0.310796  -0.435319  -0.318381\n",
       " -0.976857    0.529885   -0.976926   0.508494  -0.187158\n",
       "  0.0206439   1.37332     0.743274  -0.235479  -1.21574                \n",
       " 5x5 Array{Float64,2}:\n",
       "  0.722206   1.09914    0.906352  -0.11147     1.24209 \n",
       " -1.12219    0.280807   1.2469    -2.84647     0.463452\n",
       "  0.72828   -1.70685   -2.01945    0.0805823  -0.428445\n",
       " -0.355433  -0.380088  -0.734944   0.26697    -0.473817\n",
       "  2.24263    1.05308   -1.04136   -0.726986   -0.772693                    \n",
       " 5x5 Array{Float64,2}:\n",
       " -1.83469    1.86948     0.248011    0.10124   -0.941609\n",
       "  1.20377    0.0979507  -0.1268      0.790867   1.68364 \n",
       " -1.04876    0.950757    0.800666   -0.377347   1.03927 \n",
       "  0.123634   0.480133    0.216352    0.490569  -0.612516\n",
       " -0.148489  -0.099438   -0.0378267  -1.05968    1.19448                \n",
       " 5x5 Array{Float64,2}:\n",
       " -0.369243   0.324672   0.312337   -0.814368  -1.90966 \n",
       " -0.35824   -1.15966   -0.746592   -0.467317  -0.350478\n",
       "  1.69382   -0.105247  -0.0661559   1.62825   -1.03474 \n",
       "  1.56426    0.130258  -0.0817115   0.456536  -0.196846\n",
       " -0.900073   0.282817  -0.395127   -0.478284  -1.90457                     \n",
       " 5x5 Array{Float64,2}:\n",
       "  0.704135   0.0180707   0.466401    0.752616  -1.84082 \n",
       " -0.83555   -0.092488   -0.126794    0.57558   -0.81102 \n",
       " -1.35574    1.12409     0.0239728  -1.06902   -1.84699 \n",
       " -0.805426   0.644225   -1.2188     -0.545786   0.934347\n",
       "  0.180352   1.63422     1.39039    -0.142189   1.30133                \n",
       " 5x5 Array{Float64,2}:\n",
       " -0.329319  -0.816242   1.74908      0.0928365   0.342022\n",
       " -0.236463  -1.47257    0.00708023  -1.56535    -1.80664 \n",
       "  0.542441   0.234154  -0.664599     0.598493   -0.229445\n",
       " -0.854977   0.732     -0.576042     0.769297   -1.67024 \n",
       " -0.588191   0.531232   0.357191    -0.36116    -0.167151          \n",
       " 5x5 Array{Float64,2}:\n",
       "  2.40801    0.52753    0.0340086   0.595624   0.975938\n",
       " -0.591915   0.29193    0.315587   -0.637279  -0.479548\n",
       "  0.601975  -0.903694  -0.541936    0.345582   0.787792\n",
       "  0.233797  -0.246418   1.06302     0.571307  -1.95339 \n",
       " -0.227243  -0.131902  -2.68858     0.595216   1.37601                     "
      ]
     },
     "execution_count": 9,
     "metadata": {},
     "output_type": "execute_result"
    }
   ],
   "source": [
    "D55 = @DArray [randn(5,5) for i = 1:32]"
   ]
  },
  {
   "cell_type": "code",
   "execution_count": 10,
   "metadata": {
    "collapsed": false
   },
   "outputs": [
    {
     "data": {
      "text/plain": [
       "32-element DistributedArrays.DArray{Array{Float64,1},1,Array{Array{Float64,1},1}}:\n",
       " [4.012559085786708,3.021723174422703,1.17699429497302,0.5091840394187737,0.2016641603121387]       \n",
       " [3.050249950442779,2.2208425311369506,0.9129139369165008,0.4294787517155618,0.11358904824794219]   \n",
       " [4.378209808878133,2.083932285645457,1.511758606338584,0.7888951609767596,0.05788026504664591]     \n",
       " [2.298630165274538,2.0695245755093308,1.0909032217969403,0.7784116485315605,0.06551854058370984]   \n",
       " [3.874771908532562,2.478814183483485,1.123684832179373,0.5806970108064995,0.0848879992731654]      \n",
       " [3.986760632568916,3.4758108849221077,2.162607505507518,1.3895150851675877,0.2649968877775879]     \n",
       " [5.046341290611348,2.57492114447396,2.0705241538743215,1.0413614880811795,0.2361223871551074]      \n",
       " [4.449678187590677,3.502650431662088,3.162266567240395,1.0063730271192177,0.5179716888126966]      \n",
       " [4.863367464733277,2.748842772614798,1.2627533382659457,0.9636346920396703,0.04788508827342487]    \n",
       " [4.508890976739351,2.50299357207213,1.8399167149587172,1.0318905754423275,0.6075156194893345]      \n",
       " [3.5447512865958455,1.8151122614570303,1.1307561501804115,0.46246036258598355,0.015052835209822797]\n",
       " [3.589088620359853,2.4612500029331215,1.6139316900441967,1.3876059468124637,0.2248344796154468]    \n",
       " [3.218879182784792,2.2541241659410662,1.8940624722391621,0.985083219784418,0.21120095242147893]    \n",
       " ⋮                                                                                                  \n",
       " [3.58920551974523,2.754246478906526,2.2553443622977882,1.298931701844784,0.26300509714883596]      \n",
       " [4.072602019694758,2.698453342371358,2.0244578861924776,1.1071290844553252,0.11762699430294027]    \n",
       " [3.881459661722324,2.8768662449708096,2.212372936844551,0.706887301471159,0.04826297437307322]     \n",
       " [3.250681015080969,2.5690832259893743,1.745177079475655,1.6631673569368335,0.3214054290054474]     \n",
       " [3.3812260479459533,3.040134540738255,1.1512678347721237,0.8697211746581197,0.17965300638482895]   \n",
       " [2.982915845416877,2.4383149504646418,1.9316204782030906,0.5346340074734746,0.3247880840948715]    \n",
       " [4.048075913162277,2.9043027513144906,2.512735808873776,1.1252070323200085,0.285917730084222]      \n",
       " [3.3593151575970626,2.4049521515948733,1.6362109568475978,0.5367030181611481,0.2812953296079692]   \n",
       " [3.19895764095926,2.846927505384121,1.4481962081722388,0.7980230309598036,0.4184182957579273]      \n",
       " [3.217785446398667,2.682360867248001,2.307361110023919,0.8763960863863137,0.6825614795782511]      \n",
       " [2.886185955809533,2.6214629453957494,1.6673911235866774,0.9829980948253826,0.2134065720812969]    \n",
       " [3.8696828703693247,2.754641100696258,1.4596939474406083,0.9730513328455833,0.2487875302908983]    "
      ]
     },
     "execution_count": 10,
     "metadata": {},
     "output_type": "execute_result"
    }
   ],
   "source": [
    "Dsvd = map(svdvals, D55)"
   ]
  },
  {
   "cell_type": "markdown",
   "metadata": {},
   "source": [
    "### Reading data in parallel"
   ]
  },
  {
   "cell_type": "code",
   "execution_count": 13,
   "metadata": {
    "collapsed": false
   },
   "outputs": [
    {
     "ename": "LoadError",
     "evalue": "LoadError: SystemError: unable to read directory /data/MIMICII: No such file or directory\nwhile loading In[13], in expression starting on line 3",
     "output_type": "error",
     "traceback": [
      "LoadError: SystemError: unable to read directory /data/MIMICII: No such file or directory\nwhile loading In[13], in expression starting on line 3",
      "",
      " in _setindex! at ./dict.jl:625"
     ]
    }
   ],
   "source": [
    "# Save the path to the data directory and load a list of subdirectories with the data\n",
    "pth = \"/data/MIMICII\"\n",
    "dirs = filter(isdir, map(t -> joinpath(pth, t), readdir(pth)))"
   ]
  },
  {
   "cell_type": "code",
   "execution_count": 14,
   "metadata": {
    "collapsed": false
   },
   "outputs": [
    {
     "ename": "LoadError",
     "evalue": "LoadError: UndefVarError: dirs not defined\nwhile loading In[14], in expression starting on line 2",
     "output_type": "error",
     "traceback": [
      "LoadError: UndefVarError: dirs not defined\nwhile loading In[14], in expression starting on line 2",
      ""
     ]
    }
   ],
   "source": [
    "# Extract the data files\n",
    "fls = mapreduce(t -> map(s -> joinpath(t, s), readdir(t)), vcat, dirs)"
   ]
  },
  {
   "cell_type": "code",
   "execution_count": 12,
   "metadata": {
    "collapsed": false
   },
   "outputs": [
    {
     "ename": "LoadError",
     "evalue": "LoadError: UndefVarError: fls not defined\nwhile loading In[12], in expression starting on line 155",
     "output_type": "error",
     "traceback": [
      "LoadError: UndefVarError: fls not defined\nwhile loading In[12], in expression starting on line 155",
      ""
     ]
    }
   ],
   "source": [
    "# Size if GB\n",
    "@time sum(map(filesize, fls))/1024^3"
   ]
  },
  {
   "cell_type": "code",
   "execution_count": 8,
   "metadata": {
    "collapsed": false
   },
   "outputs": [
    {
     "name": "stdout",
     "output_type": "stream",
     "text": [
      "  0.000797 seconds (382 allocations: 25.172 KB)\n"
     ]
    },
    {
     "data": {
      "text/plain": [
       "1.6282551661133766"
      ]
     },
     "execution_count": 8,
     "metadata": {},
     "output_type": "execute_result"
    }
   ],
   "source": [
    "flsSmall = fls[1:div(length(fls), 10)]\n",
    "@time sum(map(filesize, flsSmall))/1024^3"
   ]
  },
  {
   "cell_type": "code",
   "execution_count": 9,
   "metadata": {
    "collapsed": false
   },
   "outputs": [],
   "source": [
    "# Use package for reading binary files (written in Julia)\n",
    "using MAT"
   ]
  },
  {
   "cell_type": "code",
   "execution_count": 11,
   "metadata": {
    "collapsed": false
   },
   "outputs": [
    {
     "name": "stdout",
     "output_type": "stream",
     "text": [
      "  0.409801 seconds (29.13 k allocations: 1.614 MB)\n"
     ]
    }
   ],
   "source": [
    "@time dt = map(matread, distribute(flsSmall));"
   ]
  },
  {
   "cell_type": "code",
   "execution_count": 12,
   "metadata": {
    "collapsed": false
   },
   "outputs": [
    {
     "name": "stdout",
     "output_type": "stream",
     "text": [
      "typeof(dt) = DistributedArrays.DArray{Dict{ASCIIString,Any},1,Array{Dict{ASCIIString,Any},1}}\n"
     ]
    },
    {
     "data": {
      "text/plain": [
       "Dict{ASCIIString,Any} with 3 entries:\n",
       "  \"A\"      => Dict{ASCIIString,Any}(\"A\"=>1x17 sparse matrix with 17 Float64 ent…\n",
       "  \"tm\"     => 345000x1 Array{Float64,2}:…\n",
       "  \"signal\" => 345000x1 Array{Float64,2}:…"
      ]
     },
     "execution_count": 12,
     "metadata": {},
     "output_type": "execute_result"
    }
   ],
   "source": [
    "@show typeof(dt)\n",
    "dt[1]"
   ]
  },
  {
   "cell_type": "code",
   "execution_count": null,
   "metadata": {
    "collapsed": false
   },
   "outputs": [],
   "source": [
    "# Plot a signal\n",
    "using PlotlyJS\n",
    "plot(PlotlyJS.scattergl(;y = dt[1][\"signal\"][:]))"
   ]
  },
  {
   "cell_type": "code",
   "execution_count": 13,
   "metadata": {
    "collapsed": false
   },
   "outputs": [
    {
     "data": {
      "text/plain": [
       "345000-element Array{Complex{Float64},1}:\n",
       "  13341.5+0.0im    \n",
       "  4149.56-13970.2im\n",
       "  -2368.8-1152.79im\n",
       "  5407.77+874.87im \n",
       "  7131.39-5189.44im\n",
       " -530.063-9487.38im\n",
       " -6983.82+605.086im\n",
       "  5317.84+6670.13im\n",
       "   9060.2-6496.53im\n",
       " -3092.74-7535.38im\n",
       " -2208.69+2028.72im\n",
       "  5152.03+142.519im\n",
       "  4084.85-6764.49im\n",
       "         ⋮         \n",
       "  4084.85+6764.49im\n",
       "  5152.03-142.519im\n",
       " -2208.69-2028.72im\n",
       " -3092.74+7535.38im\n",
       "   9060.2+6496.53im\n",
       "  5317.84-6670.13im\n",
       " -6983.82-605.086im\n",
       " -530.063+9487.38im\n",
       "  7131.39+5189.44im\n",
       "  5407.77-874.87im \n",
       "  -2368.8+1152.79im\n",
       "  4149.56+13970.2im"
      ]
     },
     "execution_count": 13,
     "metadata": {},
     "output_type": "execute_result"
    }
   ],
   "source": [
    "# custom cleaner functions are fast in Julia\n",
    "# in this exmaple, replace NaNs with zeros\n",
    "x = map(t -> ifelse(isnan(t), 0, t),dt[1][\"signal\"][:]);\n",
    "\n",
    "# fft\n",
    "xfft = fft(x)"
   ]
  },
  {
   "cell_type": "code",
   "execution_count": 15,
   "metadata": {
    "collapsed": false
   },
   "outputs": [
    {
     "name": "stdout",
     "output_type": "stream",
     "text": [
      "  0.006456 seconds (2.94 k allocations: 235.547 KB)\n"
     ]
    },
    {
     "data": {
      "text/plain": [
       "1.6282322583720088"
      ]
     },
     "execution_count": 15,
     "metadata": {},
     "output_type": "execute_result"
    }
   ],
   "source": [
    "# size in GB\n",
    "@time mapreduce(Base.summarysize, +, dt)/1024^3"
   ]
  },
  {
   "cell_type": "code",
   "execution_count": 16,
   "metadata": {
    "collapsed": false
   },
   "outputs": [
    {
     "name": "stdout",
     "output_type": "stream",
     "text": [
      "  0.051641 seconds (7.61 k allocations: 540.323 KB)\n"
     ]
    },
    {
     "data": {
      "text/plain": [
       "187-element DistributedArrays.DArray{Int64,1,Array{Int64,1}}:\n",
       "   345000\n",
       "     5978\n",
       "  2679022\n",
       "  8100000\n",
       "   367500\n",
       "   952500\n",
       "  1807500\n",
       "     4602\n",
       "   145136\n",
       "      768\n",
       "   163584\n",
       "   328464\n",
       "      512\n",
       "        ⋮\n",
       " 11055000\n",
       "   418250\n",
       "      246\n",
       "     1272\n",
       "        8\n",
       "     7474\n",
       "     1478\n",
       "        8\n",
       "     1280\n",
       "      768\n",
       "    11000\n",
       "        8"
      ]
     },
     "execution_count": 16,
     "metadata": {},
     "output_type": "execute_result"
    }
   ],
   "source": [
    "@time lngs = map(t -> length(t[\"signal\"]), dt)"
   ]
  },
  {
   "cell_type": "code",
   "execution_count": null,
   "metadata": {
    "collapsed": false
   },
   "outputs": [],
   "source": [
    "plot(histogram(x = lngs), Layout(yaxis=Dict(\"type\" => \"log\")))"
   ]
  },
  {
   "cell_type": "code",
   "execution_count": 22,
   "metadata": {
    "collapsed": false
   },
   "outputs": [
    {
     "data": {
      "text/plain": [
       "convert (generic function with 547 methods)"
      ]
     },
     "execution_count": 22,
     "metadata": {},
     "output_type": "execute_result"
    }
   ],
   "source": [
    "# My own small package for iterative SVD and a few convenience methods\n",
    "\n",
    "# Pkg.clone(\"https://github.com/andreasnoack/TSVD.jl\")\n",
    "using TSVD\n",
    "\n",
    "# Define method for converting distributed vector of vectors to distributed matrix\n",
    "function Base.hcat{T}(A::DistributedArrays.DArray{Vector{T}})\n",
    "    n = length(A[1])\n",
    "    D = DArray((n, length(A)), A.pids, [1, length(A.pids)]) do I\n",
    "        mB, nB = map(length, I)\n",
    "        # Create new DArray from the distributed vector of vectors.\n",
    "        # For now, we assume that each vector is only located on a single\n",
    "        # worker. Eventually, we'd like to find a more flexible solution.\n",
    "        B = Array(eltype(A[1]), mB, nB)\n",
    "        for i = 1:nB\n",
    "            B[:,i] = A[I[2][i]][I[1]]\n",
    "        end\n",
    "        B\n",
    "    end\n",
    "    return D\n",
    "end\n",
    "\n",
    "# convenience function for concatenating distributed vectors collected in a vector\n",
    "# @everywhere function Base.hcat{T<:DistributedArrays.DVector}(x::Vector{T})\n",
    "#     l    = length(x)\n",
    "#     if l == 0\n",
    "#         throw(ArgumentError(\"cannot flatten empty vector\"))\n",
    "#     else\n",
    "#         x1   = x[1]\n",
    "#         m, n = size(x1, 1), size(x1, 2)\n",
    "#         B    = DArray((m, l*n)) do I\n",
    "#             B_local = Array(eltype(x1), map(length, I))\n",
    "#             for j = 1:length(I[2])\n",
    "#                 B_local[:, j] = x[I[2][j]][I[1]]\n",
    "#             end\n",
    "#             return B_local\n",
    "#         end\n",
    "#         return B\n",
    "#     end\n",
    "# end\n",
    "\n",
    "@everywhere Base.procs(A::Array) = fill(myid(), 1, 1)\n",
    "\n",
    "Base.convert{S,T,N,D<:DArray}(::Type{Array{S,N}}, s::SubArray{T,N,D}) = begin\n",
    "    I = s.indexes\n",
    "    d = s.parent\n",
    "#     println(\"Hej\", isa(I,Tuple{Vararg{UnitRange{Int}}}))\n",
    "#     if isa(I,Tuple{Vararg{UnitRange{Int}}}) && S<:T && T<:S\n",
    "    l = DistributedArrays.locate(d, map(first, I)...)\n",
    "        if isequal(d.indexes[l...], I)\n",
    "            # SubDArray corresponds to a chunk\n",
    "        return DistributedArrays.chunk(d, l...)\n",
    "        end\n",
    "#     end\n",
    "#     a = Array(S, size(s))\n",
    "#     a[[1:size(a,i) for i=1:N]...] = s\n",
    "#     return a\n",
    "end"
   ]
  },
  {
   "cell_type": "code",
   "execution_count": 17,
   "metadata": {
    "collapsed": false
   },
   "outputs": [],
   "source": [
    "# Necesarry to define our own rep function because Julia's repeat is a bit slow\n",
    "@everywhere function rep(x::Vector, l)\n",
    "    y = similar(x, l)\n",
    "    cx = cycle(x)\n",
    "    s = start(cx)\n",
    "    @inbounds @simd for i = 1:l\n",
    "        (yi, s) = next(cx, s)\n",
    "        y[i] = ifelse(isnan(yi), zero(yi), yi)\n",
    "    end\n",
    "    return y\n",
    "end"
   ]
  },
  {
   "cell_type": "code",
   "execution_count": 18,
   "metadata": {
    "collapsed": false
   },
   "outputs": [
    {
     "name": "stdout",
     "output_type": "stream",
     "text": [
      "  0.259672 seconds (32.09 k allocations: 1.600 MB, 4.17% gc time)\n"
     ]
    }
   ],
   "source": [
    "# Compute a distributed vector of vectors of equal lengths\n",
    "@time dt1 = let n = 50000\n",
    "    map(t -> rep(vec(t[\"signal\"]), n), dt);\n",
    "end;"
   ]
  },
  {
   "cell_type": "code",
   "execution_count": 21,
   "metadata": {
    "collapsed": false
   },
   "outputs": [
    {
     "name": "stdout",
     "output_type": "stream",
     "text": [
      "  1.257840 seconds (431.32 k allocations: 19.012 MB, 0.40% gc time)\n"
     ]
    }
   ],
   "source": [
    "# Convert to a distributed matrix\n",
    "@time A = hcat(dt1);"
   ]
  },
  {
   "cell_type": "code",
   "execution_count": 15,
   "metadata": {
    "collapsed": false
   },
   "outputs": [
    {
     "ename": "LoadError",
     "evalue": "LoadError: UndefVarError: A not defined\nwhile loading In[15], in expression starting on line 155",
     "output_type": "error",
     "traceback": [
      "LoadError: UndefVarError: A not defined\nwhile loading In[15], in expression starting on line 155",
      ""
     ]
    }
   ],
   "source": [
    "# Apply the fft along the first dimension of the matrix\n",
    "@time B = mapslices(fft, A, 1)"
   ]
  },
  {
   "cell_type": "code",
   "execution_count": null,
   "metadata": {
    "collapsed": true
   },
   "outputs": [],
   "source": [
    "# Similar to \n",
    "map(fft, dt1)"
   ]
  },
  {
   "cell_type": "code",
   "execution_count": null,
   "metadata": {
    "collapsed": false
   },
   "outputs": [
    {
     "name": "stdout",
     "output_type": "stream",
     "text": [
      "τ = 0.007648707318601342\n",
      "Reorth v\n",
      "τ = 0.007648707318601342\n",
      "Reorth u\n",
      "τ = 0.007648707318601342\n",
      "Reorth v\n",
      "τ = 0.007648707318601342\n",
      "Reorth u\n"
     ]
    }
   ],
   "source": [
    "# Created initial vector. Has to be distributed.\n",
    "v0 = DArray(I -> rand(Complex64, length(I[1])), (size(A, 1),), A.pids[:,1])\n",
    "\n",
    "# Compute the SVD\n",
    "@time U, s, V = TSVD.tsvd(A, 5, initVec = v0, stepSize = 5, debug = true);"
   ]
  }
 ],
 "metadata": {
  "kernelspec": {
   "display_name": "Julia 0.4.5-pre",
   "language": "julia",
   "name": "julia-0.4"
  },
  "language_info": {
   "file_extension": ".jl",
   "mimetype": "application/julia",
   "name": "julia",
   "version": "0.4.5"
  }
 },
 "nbformat": 4,
 "nbformat_minor": 0
}
