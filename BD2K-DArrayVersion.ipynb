{
 "cells": [
  {
   "cell_type": "markdown",
   "metadata": {},
   "source": [
    "# Using DArrays for reading and manipulating data\n",
    "## Parallel Workshop JuliaCon 2016"
   ]
  },
  {
   "cell_type": "code",
   "execution_count": 1,
   "metadata": {
    "collapsed": false
   },
   "outputs": [],
   "source": [
    "# Add processes\n",
    "addprocs(8)\n",
    "# Use package for distributed arrays\n",
    "using DistributedArrays"
   ]
  },
  {
   "cell_type": "markdown",
   "metadata": {},
   "source": [
    "SOME GENERAL INTRODUCTION TO DARRAYs that I'm worknig on now"
   ]
  },
  {
   "cell_type": "code",
   "execution_count": 5,
   "metadata": {
    "collapsed": false
   },
   "outputs": [
    {
     "data": {
      "text/plain": [
       "22-element Array{UTF8String,1}:\n",
       " \"/data/MIMICII/s00124\"\n",
       " \"/data/MIMICII/s00177\"\n",
       " \"/data/MIMICII/s00184\"\n",
       " \"/data/MIMICII/s00283\"\n",
       " \"/data/MIMICII/s00308\"\n",
       " \"/data/MIMICII/s00377\"\n",
       " \"/data/MIMICII/s00408\"\n",
       " \"/data/MIMICII/s00491\"\n",
       " \"/data/MIMICII/s00521\"\n",
       " \"/data/MIMICII/s00565\"\n",
       " \"/data/MIMICII/s00593\"\n",
       " \"/data/MIMICII/s00618\"\n",
       " \"/data/MIMICII/s00631\"\n",
       " \"/data/MIMICII/s00634\"\n",
       " \"/data/MIMICII/s00668\"\n",
       " \"/data/MIMICII/s00682\"\n",
       " \"/data/MIMICII/s00700\"\n",
       " \"/data/MIMICII/s00719\"\n",
       " \"/data/MIMICII/s00787\"\n",
       " \"/data/MIMICII/s00871\"\n",
       " \"/data/MIMICII/s00985\"\n",
       " \"/data/MIMICII/s00992\""
      ]
     },
     "execution_count": 5,
     "metadata": {},
     "output_type": "execute_result"
    }
   ],
   "source": [
    "# Save the path to the data directory and load a list of subdirectories with the data\n",
    "pth = \"/data/MIMICII\"\n",
    "dirs = filter(isdir, map(t -> joinpath(pth, t), readdir(pth)))"
   ]
  },
  {
   "cell_type": "code",
   "execution_count": 6,
   "metadata": {
    "collapsed": false
   },
   "outputs": [
    {
     "data": {
      "text/plain": [
       "1875-element Array{UTF8String,1}:\n",
       " \"/data/MIMICII/s00124/3255538_0001.mat\"\n",
       " \"/data/MIMICII/s00124/3255538_0002.mat\"\n",
       " \"/data/MIMICII/s00124/3255538_0003.mat\"\n",
       " \"/data/MIMICII/s00124/3255538_0004.mat\"\n",
       " \"/data/MIMICII/s00124/3255538_0005.mat\"\n",
       " \"/data/MIMICII/s00124/3255538_0006.mat\"\n",
       " \"/data/MIMICII/s00124/3526846_0001.mat\"\n",
       " \"/data/MIMICII/s00124/3526846_0002.mat\"\n",
       " \"/data/MIMICII/s00124/3526846_0003.mat\"\n",
       " \"/data/MIMICII/s00124/3526846_0004.mat\"\n",
       " \"/data/MIMICII/s00124/3526846_0005.mat\"\n",
       " \"/data/MIMICII/s00124/3526846_0006.mat\"\n",
       " \"/data/MIMICII/s00124/3526846_0007.mat\"\n",
       " ⋮                                      \n",
       " \"/data/MIMICII/s00992/3108494_0187.mat\"\n",
       " \"/data/MIMICII/s00992/3108494_0188.mat\"\n",
       " \"/data/MIMICII/s00992/3108494_0189.mat\"\n",
       " \"/data/MIMICII/s00992/3108494_0190.mat\"\n",
       " \"/data/MIMICII/s00992/3108494_0191.mat\"\n",
       " \"/data/MIMICII/s00992/3108494_0192.mat\"\n",
       " \"/data/MIMICII/s00992/3108494_0193.mat\"\n",
       " \"/data/MIMICII/s00992/3108494_0194.mat\"\n",
       " \"/data/MIMICII/s00992/3108494_0195.mat\"\n",
       " \"/data/MIMICII/s00992/3108494_0196.mat\"\n",
       " \"/data/MIMICII/s00992/3108494_0197.mat\"\n",
       " \"/data/MIMICII/s00992/3108494_0198.mat\""
      ]
     },
     "execution_count": 6,
     "metadata": {},
     "output_type": "execute_result"
    }
   ],
   "source": [
    "# Extract the data files\n",
    "fls = mapreduce(t -> map(s -> joinpath(t, s), readdir(t)), vcat, dirs)"
   ]
  },
  {
   "cell_type": "code",
   "execution_count": 7,
   "metadata": {
    "collapsed": false
   },
   "outputs": [
    {
     "name": "stdout",
     "output_type": "stream",
     "text": [
      "  0.037466 seconds (19.67 k allocations: 1.062 MB)\n"
     ]
    },
    {
     "data": {
      "text/plain": [
       "23.212903790175915"
      ]
     },
     "execution_count": 7,
     "metadata": {},
     "output_type": "execute_result"
    }
   ],
   "source": [
    "# Size if GB\n",
    "@time sum(map(filesize, fls))/1024^3"
   ]
  },
  {
   "cell_type": "code",
   "execution_count": 8,
   "metadata": {
    "collapsed": false
   },
   "outputs": [
    {
     "name": "stdout",
     "output_type": "stream",
     "text": [
      "  0.000797 seconds (382 allocations: 25.172 KB)\n"
     ]
    },
    {
     "data": {
      "text/plain": [
       "1.6282551661133766"
      ]
     },
     "execution_count": 8,
     "metadata": {},
     "output_type": "execute_result"
    }
   ],
   "source": [
    "flsSmall = fls[1:div(length(fls), 10)]\n",
    "@time sum(map(filesize, flsSmall))/1024^3"
   ]
  },
  {
   "cell_type": "code",
   "execution_count": 9,
   "metadata": {
    "collapsed": false
   },
   "outputs": [],
   "source": [
    "# Use package for reading binary files (written in Julia)\n",
    "using MAT"
   ]
  },
  {
   "cell_type": "code",
   "execution_count": 11,
   "metadata": {
    "collapsed": false
   },
   "outputs": [
    {
     "name": "stdout",
     "output_type": "stream",
     "text": [
      "  0.409801 seconds (29.13 k allocations: 1.614 MB)\n"
     ]
    }
   ],
   "source": [
    "@time dt = map(matread, distribute(flsSmall));"
   ]
  },
  {
   "cell_type": "code",
   "execution_count": 12,
   "metadata": {
    "collapsed": false
   },
   "outputs": [
    {
     "name": "stdout",
     "output_type": "stream",
     "text": [
      "typeof(dt) = DistributedArrays.DArray{Dict{ASCIIString,Any},1,Array{Dict{ASCIIString,Any},1}}\n"
     ]
    },
    {
     "data": {
      "text/plain": [
       "Dict{ASCIIString,Any} with 3 entries:\n",
       "  \"A\"      => Dict{ASCIIString,Any}(\"A\"=>1x17 sparse matrix with 17 Float64 ent…\n",
       "  \"tm\"     => 345000x1 Array{Float64,2}:…\n",
       "  \"signal\" => 345000x1 Array{Float64,2}:…"
      ]
     },
     "execution_count": 12,
     "metadata": {},
     "output_type": "execute_result"
    }
   ],
   "source": [
    "@show typeof(dt)\n",
    "dt[1]"
   ]
  },
  {
   "cell_type": "code",
   "execution_count": null,
   "metadata": {
    "collapsed": false
   },
   "outputs": [],
   "source": [
    "# Plot a signal\n",
    "using PlotlyJS\n",
    "plot(PlotlyJS.scattergl(;y = dt[1][\"signal\"][:]))"
   ]
  },
  {
   "cell_type": "code",
   "execution_count": 13,
   "metadata": {
    "collapsed": false
   },
   "outputs": [
    {
     "data": {
      "text/plain": [
       "345000-element Array{Complex{Float64},1}:\n",
       "  13341.5+0.0im    \n",
       "  4149.56-13970.2im\n",
       "  -2368.8-1152.79im\n",
       "  5407.77+874.87im \n",
       "  7131.39-5189.44im\n",
       " -530.063-9487.38im\n",
       " -6983.82+605.086im\n",
       "  5317.84+6670.13im\n",
       "   9060.2-6496.53im\n",
       " -3092.74-7535.38im\n",
       " -2208.69+2028.72im\n",
       "  5152.03+142.519im\n",
       "  4084.85-6764.49im\n",
       "         ⋮         \n",
       "  4084.85+6764.49im\n",
       "  5152.03-142.519im\n",
       " -2208.69-2028.72im\n",
       " -3092.74+7535.38im\n",
       "   9060.2+6496.53im\n",
       "  5317.84-6670.13im\n",
       " -6983.82-605.086im\n",
       " -530.063+9487.38im\n",
       "  7131.39+5189.44im\n",
       "  5407.77-874.87im \n",
       "  -2368.8+1152.79im\n",
       "  4149.56+13970.2im"
      ]
     },
     "execution_count": 13,
     "metadata": {},
     "output_type": "execute_result"
    }
   ],
   "source": [
    "# custom cleaner functions are fast in Julia\n",
    "# in this exmaple, replace NaNs with zeros\n",
    "x = map(t -> ifelse(isnan(t), 0, t),dt[1][\"signal\"][:]);\n",
    "\n",
    "# fft\n",
    "xfft = fft(x)"
   ]
  },
  {
   "cell_type": "code",
   "execution_count": 15,
   "metadata": {
    "collapsed": false
   },
   "outputs": [
    {
     "name": "stdout",
     "output_type": "stream",
     "text": [
      "  0.006456 seconds (2.94 k allocations: 235.547 KB)\n"
     ]
    },
    {
     "data": {
      "text/plain": [
       "1.6282322583720088"
      ]
     },
     "execution_count": 15,
     "metadata": {},
     "output_type": "execute_result"
    }
   ],
   "source": [
    "# size in GB\n",
    "@time mapreduce(Base.summarysize, +, dt)/1024^3"
   ]
  },
  {
   "cell_type": "code",
   "execution_count": 16,
   "metadata": {
    "collapsed": false
   },
   "outputs": [
    {
     "name": "stdout",
     "output_type": "stream",
     "text": [
      "  0.051641 seconds (7.61 k allocations: 540.323 KB)\n"
     ]
    },
    {
     "data": {
      "text/plain": [
       "187-element DistributedArrays.DArray{Int64,1,Array{Int64,1}}:\n",
       "   345000\n",
       "     5978\n",
       "  2679022\n",
       "  8100000\n",
       "   367500\n",
       "   952500\n",
       "  1807500\n",
       "     4602\n",
       "   145136\n",
       "      768\n",
       "   163584\n",
       "   328464\n",
       "      512\n",
       "        ⋮\n",
       " 11055000\n",
       "   418250\n",
       "      246\n",
       "     1272\n",
       "        8\n",
       "     7474\n",
       "     1478\n",
       "        8\n",
       "     1280\n",
       "      768\n",
       "    11000\n",
       "        8"
      ]
     },
     "execution_count": 16,
     "metadata": {},
     "output_type": "execute_result"
    }
   ],
   "source": [
    "@time lngs = map(t -> length(t[\"signal\"]), dt)"
   ]
  },
  {
   "cell_type": "code",
   "execution_count": null,
   "metadata": {
    "collapsed": false
   },
   "outputs": [],
   "source": [
    "plot(histogram(x = lngs), Layout(yaxis=Dict(\"type\" => \"log\")))"
   ]
  },
  {
   "cell_type": "code",
   "execution_count": 22,
   "metadata": {
    "collapsed": false
   },
   "outputs": [
    {
     "data": {
      "text/plain": [
       "convert (generic function with 547 methods)"
      ]
     },
     "execution_count": 22,
     "metadata": {},
     "output_type": "execute_result"
    }
   ],
   "source": [
    "using TSVD\n",
    "\n",
    "@everywhere function Base.hcat{T<:DistributedArrays.DVector}(x::Vector{T})\n",
    "    l    = length(x)\n",
    "    if l == 0\n",
    "        throw(ArgumentError(\"cannot flatten empty vector\"))\n",
    "    else\n",
    "        x1   = x[1]\n",
    "        m, n = size(x1, 1), size(x1, 2)\n",
    "        B    = DArray((m, l*n)) do I\n",
    "            B_local = Array(eltype(x1), map(length, I))\n",
    "            for j = 1:length(I[2])\n",
    "                B_local[:, j] = x[I[2][j]][I[1]]\n",
    "            end\n",
    "            return B_local\n",
    "        end\n",
    "        return B\n",
    "    end\n",
    "end\n",
    "\n",
    "@everywhere Base.procs(A::Array) = fill(myid(), 1, 1)\n",
    "\n",
    "Base.convert{S,T,N,D<:DArray}(::Type{Array{S,N}}, s::SubArray{T,N,D}) = begin\n",
    "    I = s.indexes\n",
    "    d = s.parent\n",
    "#     println(\"Hej\", isa(I,Tuple{Vararg{UnitRange{Int}}}))\n",
    "#     if isa(I,Tuple{Vararg{UnitRange{Int}}}) && S<:T && T<:S\n",
    "    l = DistributedArrays.locate(d, map(first, I)...)\n",
    "        if isequal(d.indexes[l...], I)\n",
    "            # SubDArray corresponds to a chunk\n",
    "        return DistributedArrays.chunk(d, l...)\n",
    "        end\n",
    "#     end\n",
    "#     a = Array(S, size(s))\n",
    "#     a[[1:size(a,i) for i=1:N]...] = s\n",
    "#     return a\n",
    "end"
   ]
  },
  {
   "cell_type": "code",
   "execution_count": 17,
   "metadata": {
    "collapsed": false
   },
   "outputs": [],
   "source": [
    "# Necesarry to define our own rep function because Julia's repeat is dead slow right now \n",
    "@everywhere function rep(x::Vector, l)\n",
    "    y = similar(x, l)\n",
    "    cx = cycle(x)\n",
    "    s = start(cx)\n",
    "    @inbounds @simd for i = 1:l\n",
    "        (yi, s) = next(cx, s)\n",
    "        y[i] = ifelse(isnan(yi), zero(yi), yi)\n",
    "    end\n",
    "    return y\n",
    "end"
   ]
  },
  {
   "cell_type": "code",
   "execution_count": 18,
   "metadata": {
    "collapsed": false
   },
   "outputs": [
    {
     "name": "stdout",
     "output_type": "stream",
     "text": [
      "  0.259672 seconds (32.09 k allocations: 1.600 MB, 4.17% gc time)\n"
     ]
    }
   ],
   "source": [
    "@time dt1 = let n = 50000\n",
    "    map(t -> rep(vec(t[\"signal\"]), n), dt);\n",
    "end;"
   ]
  },
  {
   "cell_type": "code",
   "execution_count": 20,
   "metadata": {
    "collapsed": false
   },
   "outputs": [
    {
     "data": {
      "text/plain": [
       "hcat (generic function with 15 methods)"
      ]
     },
     "execution_count": 20,
     "metadata": {},
     "output_type": "execute_result"
    }
   ],
   "source": [
    "# Define method for converting distributed vector of vectors to distributed matrix\n",
    "function Base.hcat{T}(A::DistributedArrays.DArray{Vector{T}})\n",
    "    n = length(A[1])\n",
    "    D = DArray((n, length(A)), A.pids, [1, length(A.pids)]) do I\n",
    "        mB, nB = map(length, I)\n",
    "        # Create new DArray from the distributed vector of vectors.\n",
    "        # For now, we assume that each vector is only located on a single\n",
    "        # worker. Eventually, we'd like to find a more flexible solution.\n",
    "        B = Array(eltype(A[1]), mB, nB)\n",
    "        for i = 1:nB\n",
    "            B[:,i] = A[I[2][i]][I[1]]\n",
    "        end\n",
    "        B\n",
    "    end\n",
    "    return D\n",
    "end"
   ]
  },
  {
   "cell_type": "code",
   "execution_count": 21,
   "metadata": {
    "collapsed": false
   },
   "outputs": [
    {
     "name": "stdout",
     "output_type": "stream",
     "text": [
      "  1.257840 seconds (431.32 k allocations: 19.012 MB, 0.40% gc time)\n"
     ]
    }
   ],
   "source": [
    "@time A = hcat(dt1);"
   ]
  },
  {
   "cell_type": "code",
   "execution_count": null,
   "metadata": {
    "collapsed": false
   },
   "outputs": [],
   "source": [
    "# @time B = mapslices(fft, A, 1)\n",
    "fft(A, 1)"
   ]
  },
  {
   "cell_type": "code",
   "execution_count": null,
   "metadata": {
    "collapsed": false
   },
   "outputs": [
    {
     "name": "stdout",
     "output_type": "stream",
     "text": [
      "τ = 0.007648707318601342\n",
      "Reorth v\n",
      "τ = 0.007648707318601342\n",
      "Reorth u\n",
      "τ = 0.007648707318601342\n",
      "Reorth v\n",
      "τ = 0.007648707318601342\n",
      "Reorth u\n"
     ]
    }
   ],
   "source": [
    "v0 = DArray(I -> rand(Complex64, length(I[1])), (size(A, 1),), A.pids[:,1])\n",
    "@time U, s, V = TSVD.tsvd(A, 5, initVec = v0, stepSize = 5, debug = true);"
   ]
  },
  {
   "cell_type": "code",
   "execution_count": null,
   "metadata": {
    "collapsed": true
   },
   "outputs": [],
   "source": []
  }
 ],
 "metadata": {
  "kernelspec": {
   "display_name": "Julia 0.4.5-pre",
   "language": "julia",
   "name": "julia-0.4"
  },
  "language_info": {
   "file_extension": ".jl",
   "mimetype": "application/julia",
   "name": "julia",
   "version": "0.4.5"
  }
 },
 "nbformat": 4,
 "nbformat_minor": 0
}
