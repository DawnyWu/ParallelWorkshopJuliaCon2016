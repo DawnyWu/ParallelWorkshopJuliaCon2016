{
 "cells": [
  {
   "cell_type": "markdown",
   "metadata": {},
   "source": [
    "# ArrayFire Example : BlackScholes"
   ]
  },
  {
   "cell_type": "markdown",
   "metadata": {},
   "source": [
    "Now let us work on a simple example, to show you what ArrayFire can do. \n",
    "\n",
    "### BlackScholes\n",
    "\n",
    "This is the powerhouse of modern financial simulations. From this model, we can estimate the theoretical price of a European style option. This model is fairly used (with some modifications and tuning) by options markets participants. Now we're going to write a simple blacksholes kernel, and accelerate it using ArrayFire."
   ]
  },
  {
   "cell_type": "code",
   "execution_count": 9,
   "metadata": {
    "collapsed": true
   },
   "outputs": [],
   "source": [
    "using ArrayFire"
   ]
  },
  {
   "cell_type": "markdown",
   "metadata": {},
   "source": [
    "Write a simple blackscholes kernel."
   ]
  },
  {
   "cell_type": "code",
   "execution_count": 11,
   "metadata": {
    "collapsed": false
   },
   "outputs": [
    {
     "data": {
      "text/plain": [
       "cndf2 (generic function with 1 method)"
      ]
     },
     "execution_count": 11,
     "metadata": {},
     "output_type": "execute_result"
    }
   ],
   "source": [
    "function blackscholes_serial(sptprice::AbstractArray,\n",
    "                           strike::AbstractArray,\n",
    "                           rate::AbstractArray,\n",
    "                           volatility::AbstractArray,\n",
    "                           time::AbstractArray)\n",
    "    logterm = log10( sptprice ./ strike)\n",
    "    powterm = .5f0 .* volatility .* volatility\n",
    "    den = volatility .* sqrt(time)\n",
    "    d1 = (((rate .+ powterm) .* time) .+ logterm) ./ den\n",
    "    d2 = d1 .- den\n",
    "    NofXd1 = cndf2(d1)\n",
    "    NofXd2 = cndf2(d2)\n",
    "    futureValue = strike .* exp(- rate .* time)\n",
    "    c1 = futureValue .* NofXd2\n",
    "    call_ = sptprice .* NofXd1 .- c1\n",
    "    put  = call_ .- futureValue .+ sptprice\n",
    "end\n",
    "\n",
    "@inline function cndf2(in::AbstractArray{T})\n",
    "    out = 0.5f0 .+ 0.5f0 .* erf(0.707106781f0 .* in)\n",
    "    return out\n",
    "end"
   ]
  },
  {
   "cell_type": "markdown",
   "metadata": {},
   "source": [
    "Create all the arrays: spot price, various initial strike prices, rates and volatility, and time period. We have chosen a million iterations to simulate. "
   ]
  },
  {
   "cell_type": "code",
   "execution_count": 12,
   "metadata": {
    "collapsed": false
   },
   "outputs": [
    {
     "data": {
      "text/plain": [
       "1000000-element Array{Float64,1}:\n",
       " 0.5\n",
       " 0.5\n",
       " 0.5\n",
       " 0.5\n",
       " 0.5\n",
       " 0.5\n",
       " 0.5\n",
       " 0.5\n",
       " 0.5\n",
       " 0.5\n",
       " 0.5\n",
       " 0.5\n",
       " 0.5\n",
       " ⋮  \n",
       " 0.5\n",
       " 0.5\n",
       " 0.5\n",
       " 0.5\n",
       " 0.5\n",
       " 0.5\n",
       " 0.5\n",
       " 0.5\n",
       " 0.5\n",
       " 0.5\n",
       " 0.5\n",
       " 0.5"
      ]
     },
     "execution_count": 12,
     "metadata": {},
     "output_type": "execute_result"
    }
   ],
   "source": [
    "T = Float64\n",
    "iterations = 10^6\n",
    "sptprice   = T[ 42.0 for i = 1:iterations ]\n",
    "initStrike = T[ 40.0 + (i / iterations) for i = 1:iterations ]\n",
    "rate       = T[ 0.5 for i = 1:iterations ]\n",
    "volatility = T[ 0.2 for i = 1:iterations ]\n",
    "time       = T[ 0.5 for i = 1:iterations ]"
   ]
  },
  {
   "cell_type": "markdown",
   "metadata": {},
   "source": [
    "Let's now convert them all to GPU arrays. Now, all these different parameters now reside on the GPU. "
   ]
  },
  {
   "cell_type": "code",
   "execution_count": 13,
   "metadata": {
    "collapsed": false
   },
   "outputs": [
    {
     "data": {
      "text/plain": [
       "1000000-element ArrayFire.AFArray{Float64,1}:\n",
       " 0.5\n",
       " 0.5\n",
       " 0.5\n",
       " 0.5\n",
       " 0.5\n",
       " 0.5\n",
       " 0.5\n",
       " 0.5\n",
       " 0.5\n",
       " 0.5\n",
       " 0.5\n",
       " 0.5\n",
       " 0.5\n",
       " ⋮  \n",
       " 0.5\n",
       " 0.5\n",
       " 0.5\n",
       " 0.5\n",
       " 0.5\n",
       " 0.5\n",
       " 0.5\n",
       " 0.5\n",
       " 0.5\n",
       " 0.5\n",
       " 0.5\n",
       " 0.5"
      ]
     },
     "execution_count": 13,
     "metadata": {},
     "output_type": "execute_result"
    }
   ],
   "source": [
    "sptpriced = AFArray(sptprice)\n",
    "initStriked = AFArray(initStrike)\n",
    "rated = AFArray(rate)\n",
    "volatilityd = AFArray(volatility)\n",
    "timed = AFArray(time)"
   ]
  },
  {
   "cell_type": "markdown",
   "metadata": {},
   "source": [
    "Let's now run the black scholes simulation, and time the execution."
   ]
  },
  {
   "cell_type": "code",
   "execution_count": 14,
   "metadata": {
    "collapsed": false
   },
   "outputs": [
    {
     "name": "stdout",
     "output_type": "stream",
     "text": [
      "sum(put1) = 2.095482055932037e7\n",
      "  0.360503 seconds (8.63 k allocations: 214.031 MB, 27.87% gc time)\n"
     ]
    },
    {
     "data": {
      "text/plain": [
       "2.095482055932037e7"
      ]
     },
     "execution_count": 14,
     "metadata": {},
     "output_type": "execute_result"
    }
   ],
   "source": [
    "@time begin \n",
    "    put1 = blackscholes_serial(sptprice, initStrike, rate, volatility, time)\n",
    "    @show sum(put1)\n",
    "end"
   ]
  },
  {
   "cell_type": "markdown",
   "metadata": {},
   "source": [
    "Now let's run the accelerated blackscholes simulation. Notice that we don't need to change any code. All we need to do is feed in different inputs. \n",
    "\n",
    "This is **multiple dispatch** at work."
   ]
  },
  {
   "cell_type": "code",
   "execution_count": 15,
   "metadata": {
    "collapsed": false
   },
   "outputs": [
    {
     "name": "stdout",
     "output_type": "stream",
     "text": [
      "sum(put2) = 2.0954820559320375e7\n",
      "  0.507914 seconds (328.90 k allocations: 14.810 MB)\n"
     ]
    },
    {
     "data": {
      "text/plain": [
       "2.0954820559320375e7"
      ]
     },
     "execution_count": 15,
     "metadata": {},
     "output_type": "execute_result"
    }
   ],
   "source": [
    "@time begin \n",
    "    put2 = blackscholes_serial(sptpriced, initStriked, rated, volatilityd, timed)\n",
    "    @show sum(put2)\n",
    "end"
   ]
  },
  {
   "cell_type": "code",
   "execution_count": null,
   "metadata": {
    "collapsed": true
   },
   "outputs": [],
   "source": []
  }
 ],
 "metadata": {
  "kernelspec": {
   "display_name": "Julia 0.4.5",
   "language": "julia",
   "name": "julia-0.4"
  },
  "language_info": {
   "file_extension": ".jl",
   "mimetype": "application/julia",
   "name": "julia",
   "version": "0.4.5"
  }
 },
 "nbformat": 4,
 "nbformat_minor": 0
}
