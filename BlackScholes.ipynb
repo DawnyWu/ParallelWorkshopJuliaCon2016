{
 "cells": [
  {
   "cell_type": "markdown",
   "metadata": {},
   "source": [
    "# ArrayFire Example : BlackScholes"
   ]
  },
  {
   "cell_type": "markdown",
   "metadata": {},
   "source": [
    "Now let us work on a simple example, to show you what ArrayFire can do. \n",
    "\n",
    "### BlackScholes\n",
    "\n",
    "This is the powerhouse of modern financial simulations. From this model, we can estimate the theoretical price of a European style option. This model is fairly used (with some modifications and tuning) by options markets participants. \n",
    "\n",
    "Now we're going to write a simple blacksholes kernel, and accelerate it using ArrayFire."
   ]
  },
  {
   "cell_type": "code",
   "execution_count": 1,
   "metadata": {
    "collapsed": true
   },
   "outputs": [],
   "source": [
    "using ArrayFire"
   ]
  },
  {
   "cell_type": "code",
   "execution_count": 2,
   "metadata": {
    "collapsed": false
   },
   "outputs": [
    {
     "data": {
      "text/plain": [
       "Float32"
      ]
     },
     "execution_count": 2,
     "metadata": {},
     "output_type": "execute_result"
    }
   ],
   "source": [
    "T = Float32"
   ]
  },
  {
   "cell_type": "markdown",
   "metadata": {},
   "source": [
    "Write a simple blackscholes kernel."
   ]
  },
  {
   "cell_type": "code",
   "execution_count": 3,
   "metadata": {
    "collapsed": false
   },
   "outputs": [
    {
     "data": {
      "text/plain": [
       "cndf2 (generic function with 1 method)"
      ]
     },
     "execution_count": 3,
     "metadata": {},
     "output_type": "execute_result"
    }
   ],
   "source": [
    "function blackscholes_serial(sptprice::T,\n",
    "                            strike::AbstractArray,\n",
    "                            rate::T,\n",
    "                            volatility::T,\n",
    "                            time::T)\n",
    "    logterm = log10( sptprice ./ strike)\n",
    "    powterm = .5f0 .* volatility .* volatility\n",
    "    den = volatility .* sqrt(time)\n",
    "    d1 = (((rate .+ powterm) .* time) .+ logterm) ./ den\n",
    "    d2 = d1 .- den\n",
    "    NofXd1 = cndf2(d1)\n",
    "    NofXd2 = cndf2(d2)\n",
    "    futureValue = strike .* exp(- rate .* time)\n",
    "    c1 = futureValue .* NofXd2\n",
    "    call_ = sptprice .* NofXd1 .- c1\n",
    "    put  = call_ .- futureValue .+ sptprice\n",
    "end\n",
    "\n",
    "@inline function cndf2(in::AbstractArray)\n",
    "    out =  1/2 + erf(1/√2 .* in) ./ 2\n",
    "    return out\n",
    "end"
   ]
  },
  {
   "cell_type": "markdown",
   "metadata": {},
   "source": [
    "Create all the arrays: spot price, various initial strike prices, rates and volatility, and time period. We have chosen a million iterations to simulate. "
   ]
  },
  {
   "cell_type": "code",
   "execution_count": 4,
   "metadata": {
    "collapsed": false
   },
   "outputs": [
    {
     "data": {
      "text/plain": [
       "0.5f0"
      ]
     },
     "execution_count": 4,
     "metadata": {},
     "output_type": "execute_result"
    }
   ],
   "source": [
    "iterations = 10^7\n",
    "sptprice   = T(42.0)\n",
    "initStrike = T[ 40.0 + (i / iterations) for i = 1:iterations ]\n",
    "rate       = T(0.5) \n",
    "volatility = T(0.2) \n",
    "time       = T(0.5) "
   ]
  },
  {
   "cell_type": "markdown",
   "metadata": {},
   "source": [
    "Let's now convert them all to GPU arrays. Now, all these different parameters now reside on the GPU. "
   ]
  },
  {
   "cell_type": "code",
   "execution_count": 5,
   "metadata": {
    "collapsed": false
   },
   "outputs": [
    {
     "data": {
      "text/plain": [
       "10000000-element ArrayFire.AFArray{Float32,1}:\n",
       " 40.0\n",
       " 40.0\n",
       " 40.0\n",
       " 40.0\n",
       " 40.0\n",
       " 40.0\n",
       " 40.0\n",
       " 40.0\n",
       " 40.0\n",
       " 40.0\n",
       " 40.0\n",
       " 40.0\n",
       " 40.0\n",
       "  ⋮  \n",
       " 41.0\n",
       " 41.0\n",
       " 41.0\n",
       " 41.0\n",
       " 41.0\n",
       " 41.0\n",
       " 41.0\n",
       " 41.0\n",
       " 41.0\n",
       " 41.0\n",
       " 41.0\n",
       " 41.0"
      ]
     },
     "execution_count": 5,
     "metadata": {},
     "output_type": "execute_result"
    }
   ],
   "source": [
    "initStriked = AFArray(initStrike)"
   ]
  },
  {
   "cell_type": "markdown",
   "metadata": {},
   "source": [
    "Let's now run the black scholes simulation, and time the execution."
   ]
  },
  {
   "cell_type": "code",
   "execution_count": 6,
   "metadata": {
    "collapsed": false
   },
   "outputs": [
    {
     "name": "stdout",
     "output_type": "stream",
     "text": [
      "sum(put1) = 2.0954822f8\n",
      "  1.848766 seconds (360.94 k allocations: 741.225 MB, 6.26% gc time)\n"
     ]
    },
    {
     "data": {
      "text/plain": [
       "2.0954822f8"
      ]
     },
     "execution_count": 6,
     "metadata": {},
     "output_type": "execute_result"
    }
   ],
   "source": [
    "@time begin \n",
    "    put1 = blackscholes_serial(sptprice, initStrike, rate, volatility, time)\n",
    "    @show sum(put1)\n",
    "end"
   ]
  },
  {
   "cell_type": "markdown",
   "metadata": {},
   "source": [
    "Now let's run the accelerated blackscholes simulation. Notice that we don't need to change any code. All we need to do is feed in different inputs. \n",
    "\n",
    "This is **multiple dispatch** at work."
   ]
  },
  {
   "cell_type": "code",
   "execution_count": 7,
   "metadata": {
    "collapsed": false
   },
   "outputs": [
    {
     "name": "stdout",
     "output_type": "stream",
     "text": [
      "sum(put2) = 2.0954820959255382e8\n",
      "  0.581040 seconds (418.75 k allocations: 18.451 MB)\n"
     ]
    },
    {
     "data": {
      "text/plain": [
       "2.0954820959255382e8"
      ]
     },
     "execution_count": 7,
     "metadata": {},
     "output_type": "execute_result"
    }
   ],
   "source": [
    "@time begin \n",
    "    put2 = blackscholes_serial(sptprice, initStriked, rate, volatility, time)\n",
    "    @show sum(put2)\n",
    "end"
   ]
  },
  {
   "cell_type": "code",
   "execution_count": null,
   "metadata": {
    "collapsed": true
   },
   "outputs": [],
   "source": []
  }
 ],
 "metadata": {
  "kernelspec": {
   "display_name": "Julia 0.4.5",
   "language": "julia",
   "name": "julia-0.4"
  },
  "language_info": {
   "file_extension": ".jl",
   "mimetype": "application/julia",
   "name": "julia",
   "version": "0.4.5"
  }
 },
 "nbformat": 4,
 "nbformat_minor": 0
}
