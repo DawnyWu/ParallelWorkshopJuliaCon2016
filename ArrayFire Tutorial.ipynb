{
 "cells": [
  {
   "cell_type": "markdown",
   "metadata": {},
   "source": [
    "# Introduction to `ArrayFire.jl`\n",
    "\n",
    "`ArrayFire.jl` is a library for easy GPU computing in Julia. It wraps the library `arrayfire` for Julia. \n",
    "\n",
    "## What's GPU computing?\n",
    "GPU computing is a new frontier of scientific computing. Scientists and engineers can accelerate their codes by using special pieces of hardware on their systems called accelerators. `ArrayFire.jl` lets your harness the power of the GPU on your system.\n",
    "\n",
    "It has several advantages:\n",
    "\n",
    "* Versatile library with accelerated kernels\n",
    "* Easy Julian interface \n",
    "* Applications can easily be accelerated with little or no code changes\n",
    "\n",
    "This is a basic tutorial on how to use the package, and a gentle introduction to the API. \n",
    "\n",
    "First let's load the library."
   ]
  },
  {
   "cell_type": "code",
   "execution_count": 1,
   "metadata": {
    "collapsed": true
   },
   "outputs": [],
   "source": [
    "using ArrayFire"
   ]
  },
  {
   "cell_type": "markdown",
   "metadata": {},
   "source": [
    "## Creating Arrays on the GPU"
   ]
  },
  {
   "cell_type": "markdown",
   "metadata": {},
   "source": [
    "Create an array in Julia. This is a pointer to a section of memory on the CPU."
   ]
  },
  {
   "cell_type": "code",
   "execution_count": 2,
   "metadata": {
    "collapsed": false
   },
   "outputs": [
    {
     "data": {
      "text/plain": [
       "10x10 Array{Float64,2}:\n",
       " 0.945262   0.235927   0.318315  0.246293  …  0.772582   0.301595   0.209846\n",
       " 0.462906   0.632071   0.236092  0.604819     0.671518   0.0161769  0.912962\n",
       " 0.662545   0.459707   0.616708  0.808954     0.358396   0.841475   0.931973\n",
       " 0.781577   0.895834   0.846287  0.327355     0.885888   0.65307    0.403783\n",
       " 0.829194   0.184818   0.403944  0.462473     0.0331192  0.2372     0.985124\n",
       " 0.555246   0.511128   0.842995  0.695255  …  0.859155   0.89722    0.512377\n",
       " 0.621981   0.925312   0.79919   0.228547     0.772835   0.0130797  0.896153\n",
       " 0.225179   0.958952   0.768294  0.581965     0.809324   0.939254   0.320597\n",
       " 0.258524   0.0502485  0.53915   0.440378     0.649671   0.95136    0.830355\n",
       " 0.0303369  0.536389   0.505171  0.380487     0.219382   0.485777   0.650013"
      ]
     },
     "execution_count": 2,
     "metadata": {},
     "output_type": "execute_result"
    }
   ],
   "source": [
    "a = rand(10,10)"
   ]
  },
  {
   "cell_type": "markdown",
   "metadata": {},
   "source": [
    "Let us now transfer this to the GPU. The interface to arrays on the GPU is `AFArray`. Call the constructor on this Array. "
   ]
  },
  {
   "cell_type": "code",
   "execution_count": 3,
   "metadata": {
    "collapsed": false
   },
   "outputs": [
    {
     "data": {
      "text/plain": [
       "10x10 ArrayFire.AFArray{Float64,2}:\n",
       " 0.945262   0.235927   0.318315  0.246293  …  0.772582   0.301595   0.209846\n",
       " 0.462906   0.632071   0.236092  0.604819     0.671518   0.0161769  0.912962\n",
       " 0.662545   0.459707   0.616708  0.808954     0.358396   0.841475   0.931973\n",
       " 0.781577   0.895834   0.846287  0.327355     0.885888   0.65307    0.403783\n",
       " 0.829194   0.184818   0.403944  0.462473     0.0331192  0.2372     0.985124\n",
       " 0.555246   0.511128   0.842995  0.695255  …  0.859155   0.89722    0.512377\n",
       " 0.621981   0.925312   0.79919   0.228547     0.772835   0.0130797  0.896153\n",
       " 0.225179   0.958952   0.768294  0.581965     0.809324   0.939254   0.320597\n",
       " 0.258524   0.0502485  0.53915   0.440378     0.649671   0.95136    0.830355\n",
       " 0.0303369  0.536389   0.505171  0.380487     0.219382   0.485777   0.650013"
      ]
     },
     "execution_count": 3,
     "metadata": {},
     "output_type": "execute_result"
    }
   ],
   "source": [
    "ad = AFArray(a)"
   ]
  },
  {
   "cell_type": "markdown",
   "metadata": {},
   "source": [
    "_**Note**: The reason you're able to see the Array on the GPU is because in this notebook, there is an implicit memory transfer from device to host. This is just for interactivity, and won't happen in a script. In other words, interactive programming lets you see the values. But real applications won't perform these unnecessary transfers._"
   ]
  },
  {
   "cell_type": "markdown",
   "metadata": {},
   "source": [
    "You could directly generate random numbers on the GPU too. "
   ]
  },
  {
   "cell_type": "code",
   "execution_count": 4,
   "metadata": {
    "collapsed": false
   },
   "outputs": [
    {
     "data": {
      "text/plain": [
       "10x10 ArrayFire.AFArray{Float64,2}:\n",
       " 0.438451   0.508414   0.655754   0.139302   …  0.109688  0.794316   0.762549\n",
       " 0.460365   0.65455    0.0453718  0.350453      0.818407  0.293226   0.81892 \n",
       " 0.250215   0.512604   0.41461    0.138603      0.897313  0.194653   0.568026\n",
       " 0.494744   0.2643     0.0572878  0.745912      0.771221  0.905755   0.181485\n",
       " 0.0530111  0.0519806  0.081616   0.0774803     0.652292  0.111517   0.184462\n",
       " 0.337699   0.578997   0.105665   0.0283375  …  0.85391   0.977373   0.194457\n",
       " 0.396763   0.385556   0.800571   0.450337      0.423468  0.0126922  0.786332\n",
       " 0.874419   0.908215   0.691934   0.684978      0.955083  0.0922648  0.265172\n",
       " 0.482167   0.64162    0.93146    0.378957      0.336171  0.924614   0.281818\n",
       " 0.0428398  0.283399   0.952571   0.24779       0.137669  0.419587   0.353466"
      ]
     },
     "execution_count": 4,
     "metadata": {},
     "output_type": "execute_result"
    }
   ],
   "source": [
    "bd = rand(AFArray{Float64}, 10, 10)"
   ]
  },
  {
   "cell_type": "markdown",
   "metadata": {},
   "source": [
    "Let us now transfer this to the CPU now. You can call the `Array` constructor."
   ]
  },
  {
   "cell_type": "code",
   "execution_count": 5,
   "metadata": {
    "collapsed": false
   },
   "outputs": [
    {
     "data": {
      "text/plain": [
       "10x10 Array{Float64,2}:\n",
       " 0.438451   0.508414   0.655754   0.139302   …  0.109688  0.794316   0.762549\n",
       " 0.460365   0.65455    0.0453718  0.350453      0.818407  0.293226   0.81892 \n",
       " 0.250215   0.512604   0.41461    0.138603      0.897313  0.194653   0.568026\n",
       " 0.494744   0.2643     0.0572878  0.745912      0.771221  0.905755   0.181485\n",
       " 0.0530111  0.0519806  0.081616   0.0774803     0.652292  0.111517   0.184462\n",
       " 0.337699   0.578997   0.105665   0.0283375  …  0.85391   0.977373   0.194457\n",
       " 0.396763   0.385556   0.800571   0.450337      0.423468  0.0126922  0.786332\n",
       " 0.874419   0.908215   0.691934   0.684978      0.955083  0.0922648  0.265172\n",
       " 0.482167   0.64162    0.93146    0.378957      0.336171  0.924614   0.281818\n",
       " 0.0428398  0.283399   0.952571   0.24779       0.137669  0.419587   0.353466"
      ]
     },
     "execution_count": 5,
     "metadata": {},
     "output_type": "execute_result"
    }
   ],
   "source": [
    "b = Array(bd)"
   ]
  },
  {
   "cell_type": "markdown",
   "metadata": {},
   "source": [
    "## Simple Operations"
   ]
  },
  {
   "cell_type": "markdown",
   "metadata": {},
   "source": [
    "`ArrayFire.jl` lets you do many things. It is designed to mimic Base Julia. Feel free to step through the following functions and get comfortable with the API. Chances are that you'd be comfortable if you're familiar with Julia's function interfaces. For a list of supported functions, check the [README](https://github.com/JuliaComputing/ArrayFire.jl)."
   ]
  },
  {
   "cell_type": "markdown",
   "metadata": {},
   "source": [
    "### Arithmetic Operations"
   ]
  },
  {
   "cell_type": "code",
   "execution_count": 6,
   "metadata": {
    "collapsed": false
   },
   "outputs": [
    {
     "data": {
      "text/plain": [
       "10x10 ArrayFire.AFArray{Float64,2}:\n",
       " 1.94526  1.23593  1.31831  1.24629  …  1.55038  1.77258  1.3016   1.20985\n",
       " 1.46291  1.63207  1.23609  1.60482     1.14366  1.67152  1.01618  1.91296\n",
       " 1.66255  1.45971  1.61671  1.80895     1.15916  1.3584   1.84147  1.93197\n",
       " 1.78158  1.89583  1.84629  1.32736     1.7157   1.88589  1.65307  1.40378\n",
       " 1.82919  1.18482  1.40394  1.46247     1.78469  1.03312  1.2372   1.98512\n",
       " 1.55525  1.51113  1.84299  1.69526  …  1.77509  1.85915  1.89722  1.51238\n",
       " 1.62198  1.92531  1.79919  1.22855     1.56058  1.77284  1.01308  1.89615\n",
       " 1.22518  1.95895  1.76829  1.58196     1.11493  1.80932  1.93925  1.3206 \n",
       " 1.25852  1.05025  1.53915  1.44038     1.70493  1.64967  1.95136  1.83035\n",
       " 1.03034  1.53639  1.50517  1.38049     1.80059  1.21938  1.48578  1.65001"
      ]
     },
     "execution_count": 6,
     "metadata": {},
     "output_type": "execute_result"
    }
   ],
   "source": [
    "ad + 1"
   ]
  },
  {
   "cell_type": "code",
   "execution_count": 7,
   "metadata": {
    "collapsed": false
   },
   "outputs": [
    {
     "data": {
      "text/plain": [
       "10x10 ArrayFire.AFArray{Float64,2}:\n",
       " 0.472631   0.117964   0.159157  0.123147  …  0.386291   0.150798    0.104923\n",
       " 0.231453   0.316035   0.118046  0.30241      0.335759   0.00808843  0.456481\n",
       " 0.331273   0.229854   0.308354  0.404477     0.179198   0.420737    0.465987\n",
       " 0.390788   0.447917   0.423143  0.163678     0.442944   0.326535    0.201891\n",
       " 0.414597   0.092409   0.201972  0.231236     0.0165596  0.1186      0.492562\n",
       " 0.277623   0.255564   0.421497  0.347628  …  0.429577   0.44861     0.256189\n",
       " 0.310991   0.462656   0.399595  0.114274     0.386418   0.00653985  0.448077\n",
       " 0.112589   0.479476   0.384147  0.290982     0.404662   0.469627    0.160298\n",
       " 0.129262   0.0251242  0.269575  0.220189     0.324835   0.47568     0.415177\n",
       " 0.0151684  0.268195   0.252586  0.190244     0.109691   0.242889    0.325006"
      ]
     },
     "execution_count": 7,
     "metadata": {},
     "output_type": "execute_result"
    }
   ],
   "source": [
    "(ad * 5) / 10 "
   ]
  },
  {
   "cell_type": "code",
   "execution_count": 8,
   "metadata": {
    "collapsed": false
   },
   "outputs": [
    {
     "data": {
      "text/plain": [
       "10x10 ArrayFire.AFArray{Float64,2}:\n",
       " 0.81065    0.233745   0.312966  0.243811  …  0.697987   0.297044   0.208309\n",
       " 0.44655    0.590817   0.233905  0.568613     0.622175   0.0161762  0.791318\n",
       " 0.615126   0.443686   0.578353  0.723566     0.350773   0.745627   0.802798\n",
       " 0.704399   0.78073    0.748824  0.32154      0.774477   0.607627   0.3929  \n",
       " 0.737387   0.183768   0.393048  0.446163     0.0331131  0.234982   0.833341\n",
       " 0.527152   0.489161   0.746639  0.640582  …  0.757291   0.781596   0.490251\n",
       " 0.582646   0.798808   0.716792  0.226563     0.698168   0.0130793  0.78093 \n",
       " 0.223281   0.81859    0.694909  0.549666     0.723821   0.807118   0.315133\n",
       " 0.255654   0.0502273  0.513407  0.426281     0.604924   0.814206   0.738171\n",
       " 0.0303322  0.511036   0.483957  0.371373     0.217627   0.466896   0.605197"
      ]
     },
     "execution_count": 8,
     "metadata": {},
     "output_type": "execute_result"
    }
   ],
   "source": [
    "sin(ad)"
   ]
  },
  {
   "cell_type": "markdown",
   "metadata": {},
   "source": [
    "### Logical Operations"
   ]
  },
  {
   "cell_type": "code",
   "execution_count": 9,
   "metadata": {
    "collapsed": false
   },
   "outputs": [
    {
     "data": {
      "text/plain": [
       "10x10 ArrayFire.AFArray{Bool,2}:\n",
       "  true  false  false   true  false   true  false   true  false  false\n",
       "  true  false   true   true   true  false  false  false  false   true\n",
       "  true  false   true   true  false   true  false  false   true   true\n",
       "  true   true   true  false   true   true   true   true  false   true\n",
       "  true   true   true   true  false  false  false  false   true   true\n",
       "  true  false   true   true  false   true  false   true  false   true\n",
       "  true   true  false  false  false  false  false   true   true   true\n",
       " false   true   true  false   true   true  false  false   true   true\n",
       " false  false  false   true   true  false   true   true   true   true\n",
       " false   true  false   true   true  false   true   true   true   true"
      ]
     },
     "execution_count": 9,
     "metadata": {},
     "output_type": "execute_result"
    }
   ],
   "source": [
    "cd = ad .> bd\n"
   ]
  },
  {
   "cell_type": "code",
   "execution_count": 10,
   "metadata": {
    "collapsed": false
   },
   "outputs": [
    {
     "data": {
      "text/plain": [
       "true"
      ]
     },
     "execution_count": 10,
     "metadata": {},
     "output_type": "execute_result"
    }
   ],
   "source": [
    "any_trues = any(cd)"
   ]
  },
  {
   "cell_type": "markdown",
   "metadata": {},
   "source": [
    "### Indexing\n",
    "\n"
   ]
  },
  {
   "cell_type": "code",
   "execution_count": 11,
   "metadata": {
    "collapsed": false
   },
   "outputs": [
    {
     "data": {
      "text/plain": [
       "10-element ArrayFire.AFArray{Float64,1}:\n",
       " 0.945262 \n",
       " 0.462906 \n",
       " 0.662545 \n",
       " 0.781577 \n",
       " 0.829194 \n",
       " 0.555246 \n",
       " 0.621981 \n",
       " 0.225179 \n",
       " 0.258524 \n",
       " 0.0303369"
      ]
     },
     "execution_count": 11,
     "metadata": {},
     "output_type": "execute_result"
    }
   ],
   "source": [
    "ad[:,1]"
   ]
  },
  {
   "cell_type": "code",
   "execution_count": 12,
   "metadata": {
    "collapsed": false
   },
   "outputs": [
    {
     "data": {
      "text/plain": [
       "1x10 ArrayFire.AFArray{Float64,2}:\n",
       " 0.945262  0.235927  0.318315  0.246293  …  0.772582  0.301595  0.209846"
      ]
     },
     "execution_count": 12,
     "metadata": {},
     "output_type": "execute_result"
    }
   ],
   "source": [
    "ad[1,:]"
   ]
  },
  {
   "cell_type": "code",
   "execution_count": 13,
   "metadata": {
    "collapsed": false
   },
   "outputs": [
    {
     "data": {
      "text/plain": [
       "10-element ArrayFire.AFArray{Float64,1}:\n",
       " 0.945262 \n",
       " 0.462906 \n",
       " 0.662545 \n",
       " 0.781577 \n",
       " 0.829194 \n",
       " 0.555246 \n",
       " 0.621981 \n",
       " 0.225179 \n",
       " 0.258524 \n",
       " 0.0303369"
      ]
     },
     "execution_count": 13,
     "metadata": {},
     "output_type": "execute_result"
    }
   ],
   "source": [
    "ad[:,1]"
   ]
  },
  {
   "cell_type": "code",
   "execution_count": 14,
   "metadata": {
    "collapsed": false
   },
   "outputs": [
    {
     "data": {
      "text/plain": [
       "5x2 ArrayFire.AFArray{Float64,2}:\n",
       " 0.235927  0.318315\n",
       " 0.632071  0.236092\n",
       " 0.459707  0.616708\n",
       " 0.895834  0.846287\n",
       " 0.184818  0.403944"
      ]
     },
     "execution_count": 14,
     "metadata": {},
     "output_type": "execute_result"
    }
   ],
   "source": [
    "ad[1:5, 2:3]"
   ]
  },
  {
   "cell_type": "markdown",
   "metadata": {},
   "source": [
    "### Reduction Operations"
   ]
  },
  {
   "cell_type": "code",
   "execution_count": 15,
   "metadata": {
    "collapsed": false
   },
   "outputs": [
    {
     "data": {
      "text/plain": [
       "0.98512428361863"
      ]
     },
     "execution_count": 15,
     "metadata": {},
     "output_type": "execute_result"
    }
   ],
   "source": [
    "total_max = maximum(ad)\n"
   ]
  },
  {
   "cell_type": "code",
   "execution_count": 16,
   "metadata": {
    "collapsed": false
   },
   "outputs": [
    {
     "data": {
      "text/plain": [
       "10x10 ArrayFire.AFArray{Float64,2}:\n",
       " 0.945262   0.235927   0.318315  0.246293  …  0.772582   0.301595   0.209846\n",
       " 0.462906   0.632071   0.236092  0.604819     0.671518   0.0161769  0.912962\n",
       " 0.662545   0.459707   0.616708  0.808954     0.358396   0.841475   0.931973\n",
       " 0.781577   0.895834   0.846287  0.327355     0.885888   0.65307    0.403783\n",
       " 0.829194   0.184818   0.403944  0.462473     0.0331192  0.2372     0.985124\n",
       " 0.555246   0.511128   0.842995  0.695255  …  0.859155   0.89722    0.512377\n",
       " 0.621981   0.925312   0.79919   0.228547     0.772835   0.0130797  0.896153\n",
       " 0.225179   0.958952   0.768294  0.581965     0.809324   0.939254   0.320597\n",
       " 0.258524   0.0502485  0.53915   0.440378     0.649671   0.95136    0.830355\n",
       " 0.0303369  0.536389   0.505171  0.380487     0.219382   0.485777   0.650013"
      ]
     },
     "execution_count": 16,
     "metadata": {},
     "output_type": "execute_result"
    }
   ],
   "source": [
    "colwise_min = min(ad,2)"
   ]
  },
  {
   "cell_type": "markdown",
   "metadata": {},
   "source": [
    "### Matrix Operations and Linear Algebra"
   ]
  },
  {
   "cell_type": "code",
   "execution_count": 17,
   "metadata": {
    "collapsed": false
   },
   "outputs": [
    {
     "data": {
      "text/plain": [
       "0.008185031872669762"
      ]
     },
     "execution_count": 17,
     "metadata": {},
     "output_type": "execute_result"
    }
   ],
   "source": [
    "det(ad)"
   ]
  },
  {
   "cell_type": "code",
   "execution_count": 18,
   "metadata": {
    "collapsed": false
   },
   "outputs": [
    {
     "data": {
      "text/plain": [
       "(\n",
       "10x10 ArrayFire.AFArray{Float64,2}:\n",
       " -0.261303  -0.234015   -0.53866    …  -0.037303     0.50207     0.211406 \n",
       " -0.270718   0.337164    0.340087      -0.209415    -0.114852   -0.0993117\n",
       " -0.344808  -0.13403    -0.110025       0.120886     0.257891   -0.3668   \n",
       " -0.410746  -0.175263    0.0544903      0.292332    -0.405928   -0.422583 \n",
       " -0.242044   0.522775   -0.278205      -0.0808943   -0.32739     0.429561 \n",
       " -0.371546  -0.14567    -0.168092   …  -0.759662    -0.150595   -0.193882 \n",
       " -0.278009   0.433003   -0.221517       0.246178     0.122357    0.0370094\n",
       " -0.365341  -0.435655    0.435492      -0.00198184  -0.0384284   0.629057 \n",
       " -0.314573  -0.0866822  -0.0790342      0.458258    -0.167616    0.0712945\n",
       " -0.253923   0.321812    0.478005      -0.0211027    0.573623   -0.0897076,\n",
       "\n",
       "10-element ArrayFire.AFArray{Float64,1}:\n",
       " 5.63437 \n",
       " 1.57456 \n",
       " 1.30235 \n",
       " 1.20181 \n",
       " 0.963439\n",
       " 0.841365\n",
       " 0.558079\n",
       " 0.327489\n",
       " 0.103579\n",
       " 0.038413,\n",
       "10x10 ArrayFire.AFArray{Float64,2}:\n",
       " -0.296929  -0.31121     -0.340602    …  -0.349456   -0.31978    -0.356834 \n",
       "  0.139886   0.0715081   -0.00655348     -0.170957   -0.399301    0.564578 \n",
       " -0.577203   0.317768    -0.00812021     -0.0750938   0.101659   -0.0438383\n",
       " -0.193824  -0.576797    -0.0987104      -0.425107    0.507951    0.276358 \n",
       "  0.260105  -0.00816043  -0.271299       -0.116369   -0.17539     0.372282 \n",
       " -0.361115   0.254576     0.391868    …   0.0362364   0.257058    0.250932 \n",
       "  0.328177   0.374091     0.284878       -0.775889    0.0837718  -0.242441 \n",
       " -0.128257   0.0325198    0.0586093      -0.12445     0.0131332   0.456619 \n",
       " -0.372126   0.375734    -0.418184       -0.156726   -0.256846    0.0798847\n",
       "  0.246671   0.342507    -0.622499        0.0734159   0.547677    0.0201394)"
      ]
     },
     "execution_count": 18,
     "metadata": {},
     "output_type": "execute_result"
    }
   ],
   "source": [
    "svd(ad)"
   ]
  },
  {
   "cell_type": "code",
   "execution_count": 19,
   "metadata": {
    "collapsed": false
   },
   "outputs": [
    {
     "data": {
      "text/plain": [
       "(\n",
       "10x10 ArrayFire.AFArray{Float64,2}:\n",
       " 1.0         0.0         0.0          0.0        …  0.0        0.0        0.0\n",
       " 0.238218    1.0         0.0          0.0           0.0        0.0        0.0\n",
       " 0.273494   -0.0158143   1.0          0.0           0.0        0.0        0.0\n",
       " 0.489711    0.572179   -0.682451     1.0           0.0        0.0        0.0\n",
       " 0.700912    0.326052    0.362424     0.735981      0.0        0.0        0.0\n",
       " 0.657998    0.85303    -0.00205898  -0.851933   …  0.0        0.0        0.0\n",
       " 0.826836    0.776251    0.0984048   -0.719135      0.0        0.0        0.0\n",
       " 0.0320936   0.585786    0.192896    -0.0168649     1.0        0.0        0.0\n",
       " 0.877211   -0.0245251   0.306015     0.320389      0.436769   1.0        0.0\n",
       " 0.587399    0.412677    0.799607     0.0668461     0.193803  -0.0469275  1.0,\n",
       "\n",
       "10x10 ArrayFire.AFArray{Float64,2}:\n",
       " 0.945262  0.235927  0.318315  0.246293  …   0.772582   0.301595    0.209846\n",
       " 0.0       0.902749  0.692465  0.523293      0.62528    0.867408    0.270608\n",
       " 0.0       0.0       0.463044  0.381294      0.448263   0.882592    0.777243\n",
       " 0.0       0.0       0.0       0.445003      0.241321  -0.0255046   1.18579 \n",
       " 0.0       0.0       0.0       0.0          -0.727058   0.0461613  -0.457754\n",
       " 0.0       0.0       0.0       0.0       …   0.115305  -0.956488    1.65093 \n",
       " 0.0       0.0       0.0       0.0          -0.819366   0.0131418  -0.220976\n",
       " 0.0       0.0       0.0       0.0          -1.04826    0.0951741  -0.473609\n",
       " 0.0       0.0       0.0       0.0           0.0        0.142664   -0.251144\n",
       " 0.0       0.0       0.0       0.0           0.0        0.0        -0.793266,\n",
       "\n",
       "10-element ArrayFire.AFArray{Int64,1}:\n",
       "  1\n",
       "  8\n",
       "  9\n",
       "  2\n",
       "  3\n",
       "  7\n",
       "  4\n",
       " 10\n",
       "  5\n",
       "  6)"
      ]
     },
     "execution_count": 19,
     "metadata": {},
     "output_type": "execute_result"
    }
   ],
   "source": [
    "lu(ad)"
   ]
  },
  {
   "cell_type": "markdown",
   "metadata": {
    "collapsed": true
   },
   "source": [
    "### FFTs"
   ]
  },
  {
   "cell_type": "code",
   "execution_count": 20,
   "metadata": {
    "collapsed": false
   },
   "outputs": [
    {
     "data": {
      "text/plain": [
       "10x10 ArrayFire.AFArray{Complex{Float64},2}:\n",
       "           55.2819+0.0im       …    1.40434-1.48411im  \n",
       "          -2.44759-1.21819im      -0.991536-0.976085im \n",
       "          -3.57858-0.524262im       2.07405-2.39828im  \n",
       "          -0.28001+1.04625im      -0.371077+1.56003im  \n",
       "           4.09272-0.66577im       -3.87375-1.61834im  \n",
       " -4.29211-3.33067e-16im        …    2.83273-2.69324im  \n",
       "           4.09272+0.66577im       -1.15878-1.87941im  \n",
       "          -0.28001-1.04625im       0.317051+0.0651007im\n",
       "          -3.57858+0.524262im     -0.423613+1.43364im  \n",
       "          -2.44759+1.21819im       -2.90709+0.954397im "
      ]
     },
     "execution_count": 20,
     "metadata": {},
     "output_type": "execute_result"
    }
   ],
   "source": [
    "fast_fourier = fft(ad)"
   ]
  },
  {
   "cell_type": "markdown",
   "metadata": {},
   "source": [
    "## Backends\n",
    "\n",
    "ArrayFire allows you to change backends at runtime. This is allows ArrayFire tremendous versatility, and run on a variety of backends, thereby supporting a number of devices. \n",
    "\n",
    "Run the following command to see which backend you're currently using:"
   ]
  },
  {
   "cell_type": "code",
   "execution_count": 21,
   "metadata": {
    "collapsed": false
   },
   "outputs": [
    {
     "name": "stdout",
     "output_type": "stream",
     "text": [
      "CUDA Backend\n"
     ]
    }
   ],
   "source": [
    "getActiveBackend()"
   ]
  },
  {
   "cell_type": "markdown",
   "metadata": {},
   "source": [
    "What are the available backends on this system?"
   ]
  },
  {
   "cell_type": "code",
   "execution_count": 22,
   "metadata": {
    "collapsed": false
   },
   "outputs": [
    {
     "name": "stdout",
     "output_type": "stream",
     "text": [
      "CPU, CUDA and OpenCL\n"
     ]
    }
   ],
   "source": [
    "getAvailableBackends()"
   ]
  },
  {
   "cell_type": "markdown",
   "metadata": {},
   "source": [
    "Our ArrayFire was built for all three backends. Let us now try switching backends. "
   ]
  },
  {
   "cell_type": "code",
   "execution_count": 23,
   "metadata": {
    "collapsed": false
   },
   "outputs": [
    {
     "data": {
      "text/plain": [
       "true"
      ]
     },
     "execution_count": 23,
     "metadata": {},
     "output_type": "execute_result"
    }
   ],
   "source": [
    "setBackend(AF_BACKEND_CPU)"
   ]
  },
  {
   "cell_type": "code",
   "execution_count": 24,
   "metadata": {
    "collapsed": false
   },
   "outputs": [
    {
     "name": "stdout",
     "output_type": "stream",
     "text": [
      "CPU Backend\n"
     ]
    }
   ],
   "source": [
    "getActiveBackend()"
   ]
  },
  {
   "cell_type": "code",
   "execution_count": null,
   "metadata": {
    "collapsed": true
   },
   "outputs": [],
   "source": []
  }
 ],
 "metadata": {
  "kernelspec": {
   "display_name": "Julia 0.4.5",
   "language": "julia",
   "name": "julia-0.4"
  },
  "language_info": {
   "file_extension": ".jl",
   "mimetype": "application/julia",
   "name": "julia",
   "version": "0.4.5"
  }
 },
 "nbformat": 4,
 "nbformat_minor": 0
}
