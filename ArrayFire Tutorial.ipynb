{
 "cells": [
  {
   "cell_type": "markdown",
   "metadata": {},
   "source": [
    "# Introduction to `ArrayFire.jl`\n",
    "\n",
    "`ArrayFire.jl` is a library for easy GPU computing in Julia. It wraps the library `arrayfire` for Julia. \n",
    "\n",
    "## What's GPU computing?\n",
    "GPU computing is a new frontier of scientific computing. Scientists and engineers can accelerate their codes by using special pieces of hardware on their systems called accelerators. `ArrayFire.jl` lets your harness the power of the GPU on your system.\n",
    "\n",
    "It has several advantages:\n",
    "\n",
    "* Versatile library with accelerated kernels\n",
    "* Easy Julian interface \n",
    "* Applications can easily be accelerated with little or no code changes\n",
    "\n",
    "This is a basic tutorial on how to use the package, and a gentle introduction to the API. \n",
    "\n",
    "First let's load the library."
   ]
  },
  {
   "cell_type": "code",
   "execution_count": 1,
   "metadata": {
    "collapsed": true
   },
   "outputs": [],
   "source": [
    "using ArrayFire"
   ]
  },
  {
   "cell_type": "markdown",
   "metadata": {},
   "source": [
    "Get some basic information about the device hardware you're using and `ArrayFire` version."
   ]
  },
  {
   "cell_type": "code",
   "execution_count": 2,
   "metadata": {
    "collapsed": false
   },
   "outputs": [
    {
     "name": "stdout",
     "output_type": "stream",
     "text": [
      "ArrayFire v3.3.2 (CUDA, 64-bit Linux, build f65dd97)\n",
      "Platform: CUDA Toolkit 7.5, Driver: 352.93\n",
      "[0] GRID K520, 4096 MB, CUDA Compute 3.0\n"
     ]
    }
   ],
   "source": [
    "AFInfo()"
   ]
  },
  {
   "cell_type": "markdown",
   "metadata": {},
   "source": [
    "## Creating Arrays on the GPU"
   ]
  },
  {
   "cell_type": "markdown",
   "metadata": {},
   "source": [
    "Create an array in Julia. This is a pointer to a section of memory on the CPU."
   ]
  },
  {
   "cell_type": "code",
   "execution_count": 3,
   "metadata": {
    "collapsed": false
   },
   "outputs": [
    {
     "data": {
      "text/plain": [
       "10x10 Array{Float64,2}:\n",
       " 0.636734    0.0076107  0.153878  …  0.180846   0.21106    0.264255\n",
       " 0.344502    0.0167777  0.217612     0.864883   0.109131   0.914492\n",
       " 0.934276    0.440163   0.627557     0.327908   0.451161   0.269221\n",
       " 0.777876    0.196442   0.520001     0.110411   0.0929359  0.321133\n",
       " 0.239102    0.249981   0.474862     0.17257    0.873454   0.96188 \n",
       " 0.45416     0.102521   0.650484  …  0.701419   0.762665   0.478366\n",
       " 0.579615    0.531518   0.813988     0.284322   0.288925   0.782168\n",
       " 0.127449    0.881841   0.573872     0.649853   0.20246    0.409499\n",
       " 0.00716678  0.141725   0.369035     0.0264311  0.234529   0.350385\n",
       " 0.773948    0.0635373  0.287991     0.605099   0.371044   0.257828"
      ]
     },
     "execution_count": 3,
     "metadata": {},
     "output_type": "execute_result"
    }
   ],
   "source": [
    "a = rand(10,10)"
   ]
  },
  {
   "cell_type": "markdown",
   "metadata": {},
   "source": [
    "Let us now transfer this to the GPU. The interface to arrays on the GPU is `AFArray`. Call the constructor on this Array. "
   ]
  },
  {
   "cell_type": "code",
   "execution_count": 6,
   "metadata": {
    "collapsed": false
   },
   "outputs": [
    {
     "data": {
      "text/plain": [
       "10x10 ArrayFire.AFArray{Float64,2}:\n",
       " 0.636734    0.0076107  0.153878  …  0.180846   0.21106    0.264255\n",
       " 0.344502    0.0167777  0.217612     0.864883   0.109131   0.914492\n",
       " 0.934276    0.440163   0.627557     0.327908   0.451161   0.269221\n",
       " 0.777876    0.196442   0.520001     0.110411   0.0929359  0.321133\n",
       " 0.239102    0.249981   0.474862     0.17257    0.873454   0.96188 \n",
       " 0.45416     0.102521   0.650484  …  0.701419   0.762665   0.478366\n",
       " 0.579615    0.531518   0.813988     0.284322   0.288925   0.782168\n",
       " 0.127449    0.881841   0.573872     0.649853   0.20246    0.409499\n",
       " 0.00716678  0.141725   0.369035     0.0264311  0.234529   0.350385\n",
       " 0.773948    0.0635373  0.287991     0.605099   0.371044   0.257828"
      ]
     },
     "execution_count": 6,
     "metadata": {},
     "output_type": "execute_result"
    }
   ],
   "source": [
    "ad = AFArray(a)"
   ]
  },
  {
   "cell_type": "markdown",
   "metadata": {},
   "source": [
    "_**Note**: The reason you're able to see the Array on the GPU is because in this notebook, there is an implicit memory transfer from device to host. This is just for interactivity, and won't happen in a script. In other words, interactive programming lets you see the values. But real applications won't perform these unnecessary transfers._"
   ]
  },
  {
   "cell_type": "markdown",
   "metadata": {},
   "source": [
    "You could directly generate random numbers on the GPU too. "
   ]
  },
  {
   "cell_type": "code",
   "execution_count": 12,
   "metadata": {
    "collapsed": false
   },
   "outputs": [
    {
     "data": {
      "text/plain": [
       "10x10 ArrayFire.AFArray{Float64,2}:\n",
       " 0.462508  0.930486   0.00522666  0.434718   …  0.515017   0.773266  0.85788 \n",
       " 0.567271  0.248069   0.987286    0.729502      0.124347   0.449687  0.408228\n",
       " 0.939965  0.156515   0.564372    0.100356      0.571643   0.367537  0.194908\n",
       " 0.976486  0.446689   0.389929    0.732725      0.842081   0.86828   0.202522\n",
       " 0.241424  0.384523   0.639661    0.905463      0.0294814  0.659839  0.343075\n",
       " 0.178102  0.968442   0.971868    0.761931   …  0.589618   0.641351  0.26227 \n",
       " 0.125846  0.0673005  0.642645    0.114108      0.52555    0.740961  0.893598\n",
       " 0.427675  0.114542   0.734931    0.711423      0.299936   0.287126  0.305872\n",
       " 0.858605  0.616594   0.883164    0.0877872     0.647183   0.548211  0.807914\n",
       " 0.913409  0.486554   0.616011    0.384302      0.465308   0.633093  0.339871"
      ]
     },
     "execution_count": 12,
     "metadata": {},
     "output_type": "execute_result"
    }
   ],
   "source": [
    "bd = rand(AFArray{Float64}, 10, 10)"
   ]
  },
  {
   "cell_type": "markdown",
   "metadata": {},
   "source": [
    "Let us now transfer this to the CPU now. You can call the `Array` constructor."
   ]
  },
  {
   "cell_type": "code",
   "execution_count": 13,
   "metadata": {
    "collapsed": false
   },
   "outputs": [
    {
     "data": {
      "text/plain": [
       "10x10 Array{Float64,2}:\n",
       " 0.462508  0.930486   0.00522666  0.434718   …  0.515017   0.773266  0.85788 \n",
       " 0.567271  0.248069   0.987286    0.729502      0.124347   0.449687  0.408228\n",
       " 0.939965  0.156515   0.564372    0.100356      0.571643   0.367537  0.194908\n",
       " 0.976486  0.446689   0.389929    0.732725      0.842081   0.86828   0.202522\n",
       " 0.241424  0.384523   0.639661    0.905463      0.0294814  0.659839  0.343075\n",
       " 0.178102  0.968442   0.971868    0.761931   …  0.589618   0.641351  0.26227 \n",
       " 0.125846  0.0673005  0.642645    0.114108      0.52555    0.740961  0.893598\n",
       " 0.427675  0.114542   0.734931    0.711423      0.299936   0.287126  0.305872\n",
       " 0.858605  0.616594   0.883164    0.0877872     0.647183   0.548211  0.807914\n",
       " 0.913409  0.486554   0.616011    0.384302      0.465308   0.633093  0.339871"
      ]
     },
     "execution_count": 13,
     "metadata": {},
     "output_type": "execute_result"
    }
   ],
   "source": [
    "b = Array(bd)"
   ]
  },
  {
   "cell_type": "markdown",
   "metadata": {},
   "source": [
    "## Simple Operations"
   ]
  },
  {
   "cell_type": "markdown",
   "metadata": {},
   "source": [
    "`ArrayFire.jl` lets you do many things. It is designed to mimic Base Julia. Feel free to step through the following functions and get comfortable with the API. Chances are that you'd be comfortable if you're familiar with Julia's function interfaces. For a list of supported functions, check the [README](https://github.com/JuliaComputing/ArrayFire.jl)."
   ]
  },
  {
   "cell_type": "markdown",
   "metadata": {},
   "source": [
    "### Arithmetic Operations"
   ]
  },
  {
   "cell_type": "code",
   "execution_count": 14,
   "metadata": {
    "collapsed": false
   },
   "outputs": [
    {
     "data": {
      "text/plain": [
       "10x10 ArrayFire.AFArray{Float64,2}:\n",
       " 1.63673  1.00761  1.15388  1.48084  …  1.9736   1.18085  1.21106  1.26425\n",
       " 1.3445   1.01678  1.21761  1.06082     1.97606  1.86488  1.10913  1.91449\n",
       " 1.93428  1.44016  1.62756  1.90554     1.85823  1.32791  1.45116  1.26922\n",
       " 1.77788  1.19644  1.52     1.03838     1.0259   1.11041  1.09294  1.32113\n",
       " 1.2391   1.24998  1.47486  1.53754     1.17901  1.17257  1.87345  1.96188\n",
       " 1.45416  1.10252  1.65048  1.02703  …  1.53327  1.70142  1.76266  1.47837\n",
       " 1.57961  1.53152  1.81399  1.14047     1.15112  1.28432  1.28893  1.78217\n",
       " 1.12745  1.88184  1.57387  1.22987     1.7147   1.64985  1.20246  1.4095 \n",
       " 1.00717  1.14173  1.36903  1.93489     1.56938  1.02643  1.23453  1.35038\n",
       " 1.77395  1.06354  1.28799  1.54113     1.66664  1.6051   1.37104  1.25783"
      ]
     },
     "execution_count": 14,
     "metadata": {},
     "output_type": "execute_result"
    }
   ],
   "source": [
    "ad + 1"
   ]
  },
  {
   "cell_type": "code",
   "execution_count": 15,
   "metadata": {
    "collapsed": false
   },
   "outputs": [
    {
     "data": {
      "text/plain": [
       "10x10 ArrayFire.AFArray{Float64,2}:\n",
       " 0.318367    0.00380535  0.0769392  …  0.0904232  0.10553    0.132127\n",
       " 0.172251    0.00838885  0.108806      0.432442   0.0545654  0.457246\n",
       " 0.467138    0.220082    0.313779      0.163954   0.225581   0.134611\n",
       " 0.388938    0.0982212   0.26          0.0552055  0.0464679  0.160567\n",
       " 0.119551    0.12499     0.237431      0.0862848  0.436727   0.48094 \n",
       " 0.22708     0.0512604   0.325242   …  0.35071    0.381332   0.239183\n",
       " 0.289807    0.265759    0.406994      0.142161   0.144463   0.391084\n",
       " 0.0637244   0.44092     0.286936      0.324927   0.10123    0.204749\n",
       " 0.00358339  0.0708626   0.184517      0.0132155  0.117265   0.175192\n",
       " 0.386974    0.0317687   0.143996      0.30255    0.185522   0.128914"
      ]
     },
     "execution_count": 15,
     "metadata": {},
     "output_type": "execute_result"
    }
   ],
   "source": [
    "(ad * 5) / 10 "
   ]
  },
  {
   "cell_type": "code",
   "execution_count": 16,
   "metadata": {
    "collapsed": false
   },
   "outputs": [
    {
     "data": {
      "text/plain": [
       "10x10 ArrayFire.AFArray{Float64,2}:\n",
       " 0.594573    0.00761062  0.153272  …  0.179862  0.209496   0.26119 \n",
       " 0.337728    0.0167769   0.215899     0.761019  0.108914   0.792253\n",
       " 0.804169    0.426087    0.587169     0.322063  0.436011   0.265981\n",
       " 0.701768    0.195181    0.496881     0.110187  0.0928022  0.315642\n",
       " 0.23683     0.247385    0.457216     0.171714  0.766552   0.820268\n",
       " 0.438708    0.102341    0.605572  …  0.645303  0.69085    0.46033 \n",
       " 0.547702    0.506842    0.727031     0.280507  0.284922   0.704819\n",
       " 0.127104    0.77191     0.542888     0.605069  0.20108    0.39815 \n",
       " 0.00716672  0.141251    0.360715     0.026428  0.232385   0.343259\n",
       " 0.698964    0.0634946   0.284027     0.568844  0.362588   0.254981"
      ]
     },
     "execution_count": 16,
     "metadata": {},
     "output_type": "execute_result"
    }
   ],
   "source": [
    "sin(ad)"
   ]
  },
  {
   "cell_type": "markdown",
   "metadata": {},
   "source": [
    "### Logical Operations"
   ]
  },
  {
   "cell_type": "code",
   "execution_count": 17,
   "metadata": {
    "collapsed": false
   },
   "outputs": [
    {
     "data": {
      "text/plain": [
       "10x10 ArrayFire.AFArray{Bool,2}:\n",
       "  true  false   true   true   true   true   true  false  false  false\n",
       " false  false  false  false   true   true   true   true  false   true\n",
       " false   true   true   true  false  false   true  false   true   true\n",
       " false  false   true  false   true   true  false  false  false   true\n",
       " false  false  false  false  false  false   true   true   true   true\n",
       "  true  false  false  false  false  false   true   true   true   true\n",
       "  true   true   true   true   true   true  false  false  false  false\n",
       " false   true  false  false   true  false  false   true  false   true\n",
       " false  false  false   true   true   true   true  false  false  false\n",
       " false  false  false   true   true   true   true   true  false  false"
      ]
     },
     "execution_count": 17,
     "metadata": {},
     "output_type": "execute_result"
    }
   ],
   "source": [
    "cd = ad .> bd\n"
   ]
  },
  {
   "cell_type": "code",
   "execution_count": 18,
   "metadata": {
    "collapsed": false
   },
   "outputs": [
    {
     "data": {
      "text/plain": [
       "true"
      ]
     },
     "execution_count": 18,
     "metadata": {},
     "output_type": "execute_result"
    }
   ],
   "source": [
    "any_trues = any(cd)"
   ]
  },
  {
   "cell_type": "markdown",
   "metadata": {},
   "source": [
    "### Indexing\n",
    "\n"
   ]
  },
  {
   "cell_type": "code",
   "execution_count": 19,
   "metadata": {
    "collapsed": false
   },
   "outputs": [
    {
     "data": {
      "text/plain": [
       "10-element ArrayFire.AFArray{Float64,1}:\n",
       " 0.636734  \n",
       " 0.344502  \n",
       " 0.934276  \n",
       " 0.777876  \n",
       " 0.239102  \n",
       " 0.45416   \n",
       " 0.579615  \n",
       " 0.127449  \n",
       " 0.00716678\n",
       " 0.773948  "
      ]
     },
     "execution_count": 19,
     "metadata": {},
     "output_type": "execute_result"
    }
   ],
   "source": [
    "ad[:,1]"
   ]
  },
  {
   "cell_type": "code",
   "execution_count": 20,
   "metadata": {
    "collapsed": false
   },
   "outputs": [
    {
     "data": {
      "text/plain": [
       "1x10 ArrayFire.AFArray{Float64,2}:\n",
       " 0.636734  0.0076107  0.153878  0.480845  …  0.180846  0.21106  0.264255"
      ]
     },
     "execution_count": 20,
     "metadata": {},
     "output_type": "execute_result"
    }
   ],
   "source": [
    "ad[1,:]"
   ]
  },
  {
   "cell_type": "code",
   "execution_count": 21,
   "metadata": {
    "collapsed": false
   },
   "outputs": [
    {
     "data": {
      "text/plain": [
       "10-element ArrayFire.AFArray{Float64,1}:\n",
       " 0.636734  \n",
       " 0.344502  \n",
       " 0.934276  \n",
       " 0.777876  \n",
       " 0.239102  \n",
       " 0.45416   \n",
       " 0.579615  \n",
       " 0.127449  \n",
       " 0.00716678\n",
       " 0.773948  "
      ]
     },
     "execution_count": 21,
     "metadata": {},
     "output_type": "execute_result"
    }
   ],
   "source": [
    "ad[:,1]"
   ]
  },
  {
   "cell_type": "code",
   "execution_count": 22,
   "metadata": {
    "collapsed": false
   },
   "outputs": [
    {
     "data": {
      "text/plain": [
       "5x2 ArrayFire.AFArray{Float64,2}:\n",
       " 0.0076107  0.153878\n",
       " 0.0167777  0.217612\n",
       " 0.440163   0.627557\n",
       " 0.196442   0.520001\n",
       " 0.249981   0.474862"
      ]
     },
     "execution_count": 22,
     "metadata": {},
     "output_type": "execute_result"
    }
   ],
   "source": [
    "ad[1:5, 2:3]"
   ]
  },
  {
   "cell_type": "markdown",
   "metadata": {},
   "source": [
    "### Reduction Operations"
   ]
  },
  {
   "cell_type": "code",
   "execution_count": 24,
   "metadata": {
    "collapsed": false
   },
   "outputs": [
    {
     "data": {
      "text/plain": [
       "0.9942394049078851"
      ]
     },
     "execution_count": 24,
     "metadata": {},
     "output_type": "execute_result"
    }
   ],
   "source": [
    "total_max = maximum(ad)\n"
   ]
  },
  {
   "cell_type": "code",
   "execution_count": 25,
   "metadata": {
    "collapsed": false
   },
   "outputs": [
    {
     "data": {
      "text/plain": [
       "10x10 ArrayFire.AFArray{Float64,2}:\n",
       " 0.636734    0.0076107  0.153878  …  0.180846   0.21106    0.264255\n",
       " 0.344502    0.0167777  0.217612     0.864883   0.109131   0.914492\n",
       " 0.934276    0.440163   0.627557     0.327908   0.451161   0.269221\n",
       " 0.777876    0.196442   0.520001     0.110411   0.0929359  0.321133\n",
       " 0.239102    0.249981   0.474862     0.17257    0.873454   0.96188 \n",
       " 0.45416     0.102521   0.650484  …  0.701419   0.762665   0.478366\n",
       " 0.579615    0.531518   0.813988     0.284322   0.288925   0.782168\n",
       " 0.127449    0.881841   0.573872     0.649853   0.20246    0.409499\n",
       " 0.00716678  0.141725   0.369035     0.0264311  0.234529   0.350385\n",
       " 0.773948    0.0635373  0.287991     0.605099   0.371044   0.257828"
      ]
     },
     "execution_count": 25,
     "metadata": {},
     "output_type": "execute_result"
    }
   ],
   "source": [
    "colwise_min = min(ad,2)"
   ]
  },
  {
   "cell_type": "markdown",
   "metadata": {},
   "source": [
    "### Matrix Operations and Linear Algebra"
   ]
  },
  {
   "cell_type": "code",
   "execution_count": 26,
   "metadata": {
    "collapsed": false
   },
   "outputs": [
    {
     "data": {
      "text/plain": [
       "-0.03985866824160378"
      ]
     },
     "execution_count": 26,
     "metadata": {},
     "output_type": "execute_result"
    }
   ],
   "source": [
    "det(ad)"
   ]
  },
  {
   "cell_type": "code",
   "execution_count": 27,
   "metadata": {
    "collapsed": false
   },
   "outputs": [
    {
     "data": {
      "text/plain": [
       "(\n",
       "10x10 ArrayFire.AFArray{Float64,2}:\n",
       " -0.299489   0.444634  -0.289965  …  -0.39613    -0.387945   -0.0257082 \n",
       " -0.340431  -0.381718  -0.443663      0.355136    0.198787    0.106268  \n",
       " -0.372733   0.372349  -0.161684      0.470919    0.342402    0.143832  \n",
       " -0.25131    0.130864   0.362914      0.0623559  -0.148956    0.587221  \n",
       " -0.324876  -0.252147   0.466873     -0.319245    0.307875    0.211964  \n",
       " -0.250856  -0.420285  -0.257703  …   0.033381   -0.52596     0.00558102\n",
       " -0.326813  -0.209837   0.413863      0.19289    -0.0826142  -0.64043   \n",
       " -0.303083  -0.294321  -0.133419     -0.398968    0.0274025   0.182482  \n",
       " -0.306177   0.258473   0.256826      0.273639   -0.400135   -0.0464752 \n",
       " -0.362551   0.251279  -0.147686     -0.342074    0.362561   -0.363263  ,\n",
       "\n",
       "10-element ArrayFire.AFArray{Float64,1}:\n",
       " 4.72363  \n",
       " 1.38802  \n",
       " 1.26264  \n",
       " 1.2211   \n",
       " 1.01625  \n",
       " 0.902777 \n",
       " 0.490787 \n",
       " 0.332489 \n",
       " 0.282946 \n",
       " 0.0930822,\n",
       "10x10 ArrayFire.AFArray{Float64,2}:\n",
       " -0.329016   -0.176931  -0.308992  …  -0.26419    -0.239028  -0.335441 \n",
       "  0.27904    -0.17148   -0.200291     -0.391596   -0.197978  -0.477082 \n",
       " -0.0801662   0.166397   0.247665     -0.475909    0.127047   0.188058 \n",
       "  0.576581    0.198736   0.342675      0.0633368   0.164703  -0.133005 \n",
       " -0.283693    0.224522   0.154041     -0.110347    0.508891  -0.0900132\n",
       "  0.224042   -0.750802  -0.200413  …  -0.0451267   0.508672   0.260809 \n",
       " -0.0966955   0.127094  -0.170562     -0.443522   -0.158462   0.641066 \n",
       "  0.28748    -0.259147   0.435857     -0.117438   -0.504605   0.213439 \n",
       "  0.330738    0.323227  -0.59983       0.300191   -0.103929   0.240459 \n",
       "  0.378092    0.264963  -0.207103     -0.48117     0.228357  -0.127866 )"
      ]
     },
     "execution_count": 27,
     "metadata": {},
     "output_type": "execute_result"
    }
   ],
   "source": [
    "svd(ad)"
   ]
  },
  {
   "cell_type": "code",
   "execution_count": 28,
   "metadata": {
    "collapsed": false
   },
   "outputs": [
    {
     "data": {
      "text/plain": [
       "(\n",
       "10x10 ArrayFire.AFArray{Float64,2}:\n",
       " 1.0          0.0        0.0        0.0       …  0.0         0.0       0.0\n",
       " 0.136414     1.0        0.0        0.0          0.0         0.0       0.0\n",
       " 0.486109    -0.135613   1.0        0.0          0.0         0.0       0.0\n",
       " 0.00767094   0.168349   0.685122   1.0          0.0         0.0       0.0\n",
       " 0.368737    -0.177084   0.176545  -0.155386     0.0         0.0       0.0\n",
       " 0.832597    -0.206908   0.239347  -0.505505  …  0.0         0.0       0.0\n",
       " 0.681527    -0.355772  -0.243194  -0.165175     0.0         0.0       0.0\n",
       " 0.828394    -0.366382  -0.128711  -0.187094     1.0         0.0       0.0\n",
       " 0.255922     0.167113   0.565208   0.433892     0.336735    1.0       0.0\n",
       " 0.620389     0.314488   0.658602  -0.162395     0.0385726  -0.275473  1.0,\n",
       "\n",
       "10x10 ArrayFire.AFArray{Float64,2}:\n",
       " 0.934276  0.440163  0.627557   0.905536  …   0.327908   0.451161   0.269221 \n",
       " 0.0       0.821796  0.488264   0.106343      0.605122   0.140915   0.372773 \n",
       " 0.0       0.0       0.411638  -0.398741      0.624083   0.562461   0.398048 \n",
       " 0.0       0.0       0.0        1.18323      -0.505529  -0.178009   0.0128518\n",
       " 0.0       0.0       0.0        0.0           0.662398  -0.159235   0.812956 \n",
       " 0.0       0.0       0.0        0.0       …  -0.991927  -0.34603   -0.589193 \n",
       " 0.0       0.0       0.0        0.0           0.913275   0.455583   0.539792 \n",
       " 0.0       0.0       0.0        0.0           0.372083   0.367446  -0.249331 \n",
       " 0.0       0.0       0.0        0.0           0.0        0.541597   0.79716  \n",
       " 0.0       0.0       0.0        0.0           0.0        0.0        0.734662 ,\n",
       "\n",
       "10-element ArrayFire.AFArray{Int64,1}:\n",
       "  3\n",
       "  8\n",
       "  6\n",
       "  9\n",
       "  2\n",
       "  4\n",
       "  1\n",
       " 10\n",
       "  5\n",
       "  7)"
      ]
     },
     "execution_count": 28,
     "metadata": {},
     "output_type": "execute_result"
    }
   ],
   "source": [
    "lu(ad)"
   ]
  },
  {
   "cell_type": "markdown",
   "metadata": {
    "collapsed": true
   },
   "source": [
    "### FFTs"
   ]
  },
  {
   "cell_type": "code",
   "execution_count": 29,
   "metadata": {
    "collapsed": false
   },
   "outputs": [
    {
     "data": {
      "text/plain": [
       "10x10 ArrayFire.AFArray{Complex{Float64},2}:\n",
       "          45.4876+0.0im         -3.77385+1.20825im   …   -3.77385-1.20825im \n",
       "         0.677466+0.263855im    -3.04935-1.40941im       -5.49283-2.25709im \n",
       "        -0.673062-1.04755im      1.65264+2.37748im      -0.467699-4.99881im \n",
       "         -1.44153+0.0289776im    1.72119+1.01415im      -0.773862+2.27636im \n",
       "         -2.46323+2.56445im     -0.80606+0.955454im      0.877059+1.26833im \n",
       " 1.53647+1.30104e-16im         -0.106327-3.37468im   …  -0.106327+3.37468im \n",
       "         -2.46323-2.56445im     0.877059-1.26833im       -0.80606-0.955454im\n",
       "         -1.44153-0.0289776im  -0.773862-2.27636im        1.72119-1.01415im \n",
       "        -0.673062+1.04755im    -0.467699+4.99881im        1.65264-2.37748im \n",
       "         0.677466-0.263855im    -5.49283+2.25709im       -3.04935+1.40941im "
      ]
     },
     "execution_count": 29,
     "metadata": {},
     "output_type": "execute_result"
    }
   ],
   "source": [
    "fast_fourier = fft(ad)"
   ]
  },
  {
   "cell_type": "markdown",
   "metadata": {},
   "source": [
    "## Backends\n",
    "\n",
    "ArrayFire allows you to change backends at runtime. This is allows ArrayFire tremendous versatility, and run on a variety of backends, thereby supporting a number of devices. \n",
    "\n",
    "Run the following command to see which backend you're currently using:"
   ]
  },
  {
   "cell_type": "code",
   "execution_count": 30,
   "metadata": {
    "collapsed": false
   },
   "outputs": [
    {
     "name": "stdout",
     "output_type": "stream",
     "text": [
      "CUDA Backend\n"
     ]
    }
   ],
   "source": [
    "getActiveBackend()"
   ]
  },
  {
   "cell_type": "markdown",
   "metadata": {},
   "source": [
    "What are the available backends on this system?"
   ]
  },
  {
   "cell_type": "code",
   "execution_count": 31,
   "metadata": {
    "collapsed": false
   },
   "outputs": [
    {
     "name": "stdout",
     "output_type": "stream",
     "text": [
      "CPU, CUDA and OpenCL\n"
     ]
    }
   ],
   "source": [
    "getAvailableBackends()"
   ]
  },
  {
   "cell_type": "markdown",
   "metadata": {},
   "source": [
    "Our ArrayFire was built for all three backends. Let us now try switching backends. "
   ]
  },
  {
   "cell_type": "code",
   "execution_count": 32,
   "metadata": {
    "collapsed": false
   },
   "outputs": [
    {
     "data": {
      "text/plain": [
       "true"
      ]
     },
     "execution_count": 32,
     "metadata": {},
     "output_type": "execute_result"
    }
   ],
   "source": [
    "setBackend(AF_BACKEND_CPU)"
   ]
  },
  {
   "cell_type": "code",
   "execution_count": 33,
   "metadata": {
    "collapsed": false
   },
   "outputs": [
    {
     "name": "stdout",
     "output_type": "stream",
     "text": [
      "CPU Backend\n"
     ]
    }
   ],
   "source": [
    "getActiveBackend()"
   ]
  },
  {
   "cell_type": "code",
   "execution_count": null,
   "metadata": {
    "collapsed": true
   },
   "outputs": [],
   "source": []
  },
  {
   "cell_type": "code",
   "execution_count": null,
   "metadata": {
    "collapsed": true
   },
   "outputs": [],
   "source": []
  }
 ],
 "metadata": {
  "kernelspec": {
   "display_name": "Julia 0.4.5",
   "language": "julia",
   "name": "julia-0.4"
  },
  "language_info": {
   "file_extension": ".jl",
   "mimetype": "application/julia",
   "name": "julia",
   "version": "0.4.5"
  }
 },
 "nbformat": 4,
 "nbformat_minor": 0
}
