{
 "cells": [
  {
   "cell_type": "markdown",
   "metadata": {},
   "source": [
    "# Introduction to `ArrayFire.jl`\n",
    "\n",
    "`ArrayFire.jl` is a library for easy GPU computing in Julia. It wraps the library `arrayfire` for Julia. \n",
    "\n",
    "## What's GPU computing?\n",
    "GPU computing is a new frontier of scientific computing. Scientists and engineers can accelerate their codes by using special pieces of hardware on their systems called accelerators. `ArrayFire.jl` lets your harness the power of the GPU on your system.\n",
    "\n",
    "It has several advantages:\n",
    "\n",
    "* Versatile library with accelerated kernels\n",
    "* Easy Julian interface \n",
    "* Applications can easily be accelerated with little or no code changes\n",
    "\n",
    "This is a basic tutorial on how to use the package, and a gentle introduction to the API. \n",
    "\n",
    "First let's load the library."
   ]
  },
  {
   "cell_type": "code",
   "execution_count": 1,
   "metadata": {
    "collapsed": true
   },
   "outputs": [],
   "source": [
    "using ArrayFire"
   ]
  },
  {
   "cell_type": "markdown",
   "metadata": {},
   "source": [
    "Get some basic information about the device hardware you're using and `ArrayFire` version."
   ]
  },
  {
   "cell_type": "code",
   "execution_count": 2,
   "metadata": {
    "collapsed": false
   },
   "outputs": [
    {
     "name": "stdout",
     "output_type": "stream",
     "text": [
      "ArrayFire v3.3.2 (CUDA, 64-bit Linux, build f65dd97)\n",
      "Platform: CUDA Toolkit 7.5, Driver: 352.93\n",
      "[0] GRID K520, 4096 MB, CUDA Compute 3.0\n"
     ]
    }
   ],
   "source": [
    "AFInfo()"
   ]
  },
  {
   "cell_type": "markdown",
   "metadata": {},
   "source": [
    "## Creating Arrays on the GPU"
   ]
  },
  {
   "cell_type": "markdown",
   "metadata": {},
   "source": [
    "Create an array in Julia. This is a pointer to a section of memory on the CPU."
   ]
  },
  {
   "cell_type": "code",
   "execution_count": 3,
   "metadata": {
    "collapsed": false
   },
   "outputs": [
    {
     "data": {
      "text/plain": [
       "10x10 Array{Float64,2}:\n",
       " 0.850648   0.509599  0.551742   …  0.142463   0.262445  0.997387  \n",
       " 0.404588   0.959807  0.825402      0.668739   0.526881  0.00230886\n",
       " 0.740777   0.679432  0.632687      0.668384   0.943771  0.702737  \n",
       " 0.936116   0.145503  0.391174      0.892435   0.368432  0.690633  \n",
       " 0.463405   0.835053  0.934286      0.810642   0.272273  0.690738  \n",
       " 0.0427588  0.120828  0.59832    …  0.543716   0.691998  0.572092  \n",
       " 0.860077   0.646616  0.405247      0.152738   0.400603  0.580005  \n",
       " 0.347056   0.324015  0.977277      0.91631    0.389837  0.951371  \n",
       " 0.0446907  0.727383  0.119053      0.0804144  0.275027  0.784798  \n",
       " 0.779985   0.912716  0.0238783     0.099454   0.32698   0.351855  "
      ]
     },
     "execution_count": 3,
     "metadata": {},
     "output_type": "execute_result"
    }
   ],
   "source": [
    "a = rand(10,10)"
   ]
  },
  {
   "cell_type": "markdown",
   "metadata": {},
   "source": [
    "Let us now transfer this to the GPU. The interface to arrays on the GPU is `AFArray`. Call the constructor on this Array. "
   ]
  },
  {
   "cell_type": "code",
   "execution_count": 4,
   "metadata": {
    "collapsed": false
   },
   "outputs": [
    {
     "data": {
      "text/plain": [
       "10x10 ArrayFire.AFArray{Float64,2}:\n",
       " 0.850648   0.509599  0.551742   …  0.142463   0.262445  0.997387  \n",
       " 0.404588   0.959807  0.825402      0.668739   0.526881  0.00230886\n",
       " 0.740777   0.679432  0.632687      0.668384   0.943771  0.702737  \n",
       " 0.936116   0.145503  0.391174      0.892435   0.368432  0.690633  \n",
       " 0.463405   0.835053  0.934286      0.810642   0.272273  0.690738  \n",
       " 0.0427588  0.120828  0.59832    …  0.543716   0.691998  0.572092  \n",
       " 0.860077   0.646616  0.405247      0.152738   0.400603  0.580005  \n",
       " 0.347056   0.324015  0.977277      0.91631    0.389837  0.951371  \n",
       " 0.0446907  0.727383  0.119053      0.0804144  0.275027  0.784798  \n",
       " 0.779985   0.912716  0.0238783     0.099454   0.32698   0.351855  "
      ]
     },
     "execution_count": 4,
     "metadata": {},
     "output_type": "execute_result"
    }
   ],
   "source": [
    "ad = AFArray(a)"
   ]
  },
  {
   "cell_type": "markdown",
   "metadata": {},
   "source": [
    "_**Note**: The reason you're able to see the Array on the GPU is because in this notebook, there is an implicit memory transfer from device to host. This is just for interactivity, and won't happen in a script. In other words, interactive programming lets you see the values. But real applications won't perform these unnecessary transfers._"
   ]
  },
  {
   "cell_type": "markdown",
   "metadata": {},
   "source": [
    "You could directly generate random numbers on the GPU too. "
   ]
  },
  {
   "cell_type": "code",
   "execution_count": 5,
   "metadata": {
    "collapsed": false
   },
   "outputs": [
    {
     "data": {
      "text/plain": [
       "10x10 ArrayFire.AFArray{Float64,2}:\n",
       " 0.438451   0.508414   0.655754   0.139302   …  0.109688  0.794316   0.762549\n",
       " 0.460365   0.65455    0.0453718  0.350453      0.818407  0.293226   0.81892 \n",
       " 0.250215   0.512604   0.41461    0.138603      0.897313  0.194653   0.568026\n",
       " 0.494744   0.2643     0.0572878  0.745912      0.771221  0.905755   0.181485\n",
       " 0.0530111  0.0519806  0.081616   0.0774803     0.652292  0.111517   0.184462\n",
       " 0.337699   0.578997   0.105665   0.0283375  …  0.85391   0.977373   0.194457\n",
       " 0.396763   0.385556   0.800571   0.450337      0.423468  0.0126922  0.786332\n",
       " 0.874419   0.908215   0.691934   0.684978      0.955083  0.0922648  0.265172\n",
       " 0.482167   0.64162    0.93146    0.378957      0.336171  0.924614   0.281818\n",
       " 0.0428398  0.283399   0.952571   0.24779       0.137669  0.419587   0.353466"
      ]
     },
     "execution_count": 5,
     "metadata": {},
     "output_type": "execute_result"
    }
   ],
   "source": [
    "bd = rand(AFArray{Float64}, 10, 10)"
   ]
  },
  {
   "cell_type": "markdown",
   "metadata": {},
   "source": [
    "Let us now transfer this to the CPU now. You can call the `Array` constructor."
   ]
  },
  {
   "cell_type": "code",
   "execution_count": 6,
   "metadata": {
    "collapsed": false
   },
   "outputs": [
    {
     "data": {
      "text/plain": [
       "10x10 Array{Float64,2}:\n",
       " 0.438451   0.508414   0.655754   0.139302   …  0.109688  0.794316   0.762549\n",
       " 0.460365   0.65455    0.0453718  0.350453      0.818407  0.293226   0.81892 \n",
       " 0.250215   0.512604   0.41461    0.138603      0.897313  0.194653   0.568026\n",
       " 0.494744   0.2643     0.0572878  0.745912      0.771221  0.905755   0.181485\n",
       " 0.0530111  0.0519806  0.081616   0.0774803     0.652292  0.111517   0.184462\n",
       " 0.337699   0.578997   0.105665   0.0283375  …  0.85391   0.977373   0.194457\n",
       " 0.396763   0.385556   0.800571   0.450337      0.423468  0.0126922  0.786332\n",
       " 0.874419   0.908215   0.691934   0.684978      0.955083  0.0922648  0.265172\n",
       " 0.482167   0.64162    0.93146    0.378957      0.336171  0.924614   0.281818\n",
       " 0.0428398  0.283399   0.952571   0.24779       0.137669  0.419587   0.353466"
      ]
     },
     "execution_count": 6,
     "metadata": {},
     "output_type": "execute_result"
    }
   ],
   "source": [
    "b = Array(bd)"
   ]
  },
  {
   "cell_type": "markdown",
   "metadata": {},
   "source": [
    "## Simple Operations"
   ]
  },
  {
   "cell_type": "markdown",
   "metadata": {},
   "source": [
    "`ArrayFire.jl` lets you do many things. It is designed to mimic Base Julia. Feel free to step through the following functions and get comfortable with the API. Chances are that you'd be comfortable if you're familiar with Julia's function interfaces. For a list of supported functions, check the [README](https://github.com/JuliaComputing/ArrayFire.jl)."
   ]
  },
  {
   "cell_type": "markdown",
   "metadata": {},
   "source": [
    "### Arithmetic Operations"
   ]
  },
  {
   "cell_type": "code",
   "execution_count": 7,
   "metadata": {
    "collapsed": false
   },
   "outputs": [
    {
     "data": {
      "text/plain": [
       "10x10 ArrayFire.AFArray{Float64,2}:\n",
       " 1.85065  1.5096   1.55174  1.50719  …  1.19936  1.14246  1.26245  1.99739\n",
       " 1.40459  1.95981  1.8254   1.09119     1.96278  1.66874  1.52688  1.00231\n",
       " 1.74078  1.67943  1.63269  1.8859      1.73551  1.66838  1.94377  1.70274\n",
       " 1.93612  1.1455   1.39117  1.22593     1.14665  1.89244  1.36843  1.69063\n",
       " 1.46341  1.83505  1.93429  1.26774     1.24486  1.81064  1.27227  1.69074\n",
       " 1.04276  1.12083  1.59832  1.92261  …  1.77788  1.54372  1.692    1.57209\n",
       " 1.86008  1.64662  1.40525  1.09917     1.25007  1.15274  1.4006   1.58   \n",
       " 1.34706  1.32402  1.97728  1.98376     1.05109  1.91631  1.38984  1.95137\n",
       " 1.04469  1.72738  1.11905  1.36728     1.39915  1.08041  1.27503  1.7848 \n",
       " 1.77999  1.91272  1.02388  1.17785     1.95372  1.09945  1.32698  1.35186"
      ]
     },
     "execution_count": 7,
     "metadata": {},
     "output_type": "execute_result"
    }
   ],
   "source": [
    "ad + 1"
   ]
  },
  {
   "cell_type": "code",
   "execution_count": 8,
   "metadata": {
    "collapsed": false
   },
   "outputs": [
    {
     "data": {
      "text/plain": [
       "10x10 ArrayFire.AFArray{Float64,2}:\n",
       " 0.425324   0.254799   0.275871   …  0.0712314  0.131223  0.498694  \n",
       " 0.202294   0.479904   0.412701      0.334369   0.263441  0.00115443\n",
       " 0.370388   0.339716   0.316344      0.334192   0.471885  0.351369  \n",
       " 0.468058   0.0727516  0.195587      0.446218   0.184216  0.345316  \n",
       " 0.231703   0.417526   0.467143      0.405321   0.136136  0.345369  \n",
       " 0.0213794  0.0604139  0.29916    …  0.271858   0.345999  0.286046  \n",
       " 0.430039   0.323308   0.202623      0.0763691  0.200301  0.290002  \n",
       " 0.173528   0.162008   0.488638      0.458155   0.194919  0.475686  \n",
       " 0.0223454  0.363692   0.0595263     0.0402072  0.137513  0.392399  \n",
       " 0.389993   0.456358   0.0119391     0.049727   0.16349   0.175928  "
      ]
     },
     "execution_count": 8,
     "metadata": {},
     "output_type": "execute_result"
    }
   ],
   "source": [
    "(ad * 5) / 10 "
   ]
  },
  {
   "cell_type": "code",
   "execution_count": 9,
   "metadata": {
    "collapsed": false
   },
   "outputs": [
    {
     "data": {
      "text/plain": [
       "10x10 ArrayFire.AFArray{Float64,2}:\n",
       " 0.751708   0.487827  0.524171  0.48572    …  0.141981   0.259443  0.840057  \n",
       " 0.39364    0.819081  0.73482   0.0910638     0.619997   0.50284   0.00230886\n",
       " 0.674861   0.628351  0.591314  0.774485      0.619719   0.809776  0.646309  \n",
       " 0.805261   0.14499   0.381274  0.224012      0.778602   0.360153  0.637025  \n",
       " 0.446997   0.741332  0.804175  0.264556      0.724729   0.268921  0.637106  \n",
       " 0.0427458  0.120534  0.563255  0.797181   …  0.51732    0.638077  0.541392  \n",
       " 0.757893   0.602489  0.394246  0.0990069     0.152145   0.389973  0.548028  \n",
       " 0.340131   0.318376  0.828978  0.832583      0.79336    0.380038  0.814212  \n",
       " 0.0446759  0.664918  0.118772  0.359078      0.0803278  0.271573  0.706683  \n",
       " 0.703269   0.791168  0.023876  0.176915      0.0992901  0.321185  0.34464   "
      ]
     },
     "execution_count": 9,
     "metadata": {},
     "output_type": "execute_result"
    }
   ],
   "source": [
    "sin(ad)"
   ]
  },
  {
   "cell_type": "markdown",
   "metadata": {},
   "source": [
    "### Logical Operations"
   ]
  },
  {
   "cell_type": "code",
   "execution_count": 10,
   "metadata": {
    "collapsed": false
   },
   "outputs": [
    {
     "data": {
      "text/plain": [
       "10x10 ArrayFire.AFArray{Bool,2}:\n",
       "  true   true  false   true   true   true  false   true  false   true\n",
       " false   true   true  false  false  false   true  false   true  false\n",
       "  true   true   true   true  false   true  false  false   true   true\n",
       "  true  false   true  false   true  false  false   true  false   true\n",
       "  true   true   true   true  false   true  false   true   true   true\n",
       " false  false   true   true   true   true  false  false  false   true\n",
       "  true   true  false  false  false  false  false  false   true  false\n",
       " false  false   true   true   true   true  false  false   true   true\n",
       " false   true  false  false  false  false  false  false  false   true\n",
       "  true   true  false  false  false   true   true  false  false  false"
      ]
     },
     "execution_count": 10,
     "metadata": {},
     "output_type": "execute_result"
    }
   ],
   "source": [
    "cd = ad .> bd\n"
   ]
  },
  {
   "cell_type": "code",
   "execution_count": 11,
   "metadata": {
    "collapsed": false
   },
   "outputs": [
    {
     "data": {
      "text/plain": [
       "true"
      ]
     },
     "execution_count": 11,
     "metadata": {},
     "output_type": "execute_result"
    }
   ],
   "source": [
    "any_trues = any(cd)"
   ]
  },
  {
   "cell_type": "markdown",
   "metadata": {},
   "source": [
    "### Indexing\n",
    "\n"
   ]
  },
  {
   "cell_type": "code",
   "execution_count": 12,
   "metadata": {
    "collapsed": false
   },
   "outputs": [
    {
     "data": {
      "text/plain": [
       "10-element ArrayFire.AFArray{Float64,1}:\n",
       " 0.850648 \n",
       " 0.404588 \n",
       " 0.740777 \n",
       " 0.936116 \n",
       " 0.463405 \n",
       " 0.0427588\n",
       " 0.860077 \n",
       " 0.347056 \n",
       " 0.0446907\n",
       " 0.779985 "
      ]
     },
     "execution_count": 12,
     "metadata": {},
     "output_type": "execute_result"
    }
   ],
   "source": [
    "ad[:,1]"
   ]
  },
  {
   "cell_type": "code",
   "execution_count": 13,
   "metadata": {
    "collapsed": false
   },
   "outputs": [
    {
     "data": {
      "text/plain": [
       "1x10 ArrayFire.AFArray{Float64,2}:\n",
       " 0.850648  0.509599  0.551742  0.507187  …  0.142463  0.262445  0.997387"
      ]
     },
     "execution_count": 13,
     "metadata": {},
     "output_type": "execute_result"
    }
   ],
   "source": [
    "ad[1,:]"
   ]
  },
  {
   "cell_type": "code",
   "execution_count": 14,
   "metadata": {
    "collapsed": false
   },
   "outputs": [
    {
     "data": {
      "text/plain": [
       "10-element ArrayFire.AFArray{Float64,1}:\n",
       " 0.850648 \n",
       " 0.404588 \n",
       " 0.740777 \n",
       " 0.936116 \n",
       " 0.463405 \n",
       " 0.0427588\n",
       " 0.860077 \n",
       " 0.347056 \n",
       " 0.0446907\n",
       " 0.779985 "
      ]
     },
     "execution_count": 14,
     "metadata": {},
     "output_type": "execute_result"
    }
   ],
   "source": [
    "ad[:,1]"
   ]
  },
  {
   "cell_type": "code",
   "execution_count": 15,
   "metadata": {
    "collapsed": false
   },
   "outputs": [
    {
     "data": {
      "text/plain": [
       "5x2 ArrayFire.AFArray{Float64,2}:\n",
       " 0.509599  0.551742\n",
       " 0.959807  0.825402\n",
       " 0.679432  0.632687\n",
       " 0.145503  0.391174\n",
       " 0.835053  0.934286"
      ]
     },
     "execution_count": 15,
     "metadata": {},
     "output_type": "execute_result"
    }
   ],
   "source": [
    "ad[1:5, 2:3]"
   ]
  },
  {
   "cell_type": "markdown",
   "metadata": {},
   "source": [
    "### Reduction Operations"
   ]
  },
  {
   "cell_type": "code",
   "execution_count": 16,
   "metadata": {
    "collapsed": false
   },
   "outputs": [
    {
     "data": {
      "text/plain": [
       "0.9973873758193104"
      ]
     },
     "execution_count": 16,
     "metadata": {},
     "output_type": "execute_result"
    }
   ],
   "source": [
    "total_max = maximum(ad)\n"
   ]
  },
  {
   "cell_type": "code",
   "execution_count": 17,
   "metadata": {
    "collapsed": false
   },
   "outputs": [
    {
     "data": {
      "text/plain": [
       "10x10 ArrayFire.AFArray{Float64,2}:\n",
       " 0.850648   0.509599  0.551742   …  0.142463   0.262445  0.997387  \n",
       " 0.404588   0.959807  0.825402      0.668739   0.526881  0.00230886\n",
       " 0.740777   0.679432  0.632687      0.668384   0.943771  0.702737  \n",
       " 0.936116   0.145503  0.391174      0.892435   0.368432  0.690633  \n",
       " 0.463405   0.835053  0.934286      0.810642   0.272273  0.690738  \n",
       " 0.0427588  0.120828  0.59832    …  0.543716   0.691998  0.572092  \n",
       " 0.860077   0.646616  0.405247      0.152738   0.400603  0.580005  \n",
       " 0.347056   0.324015  0.977277      0.91631    0.389837  0.951371  \n",
       " 0.0446907  0.727383  0.119053      0.0804144  0.275027  0.784798  \n",
       " 0.779985   0.912716  0.0238783     0.099454   0.32698   0.351855  "
      ]
     },
     "execution_count": 17,
     "metadata": {},
     "output_type": "execute_result"
    }
   ],
   "source": [
    "colwise_min = min(ad,2)"
   ]
  },
  {
   "cell_type": "markdown",
   "metadata": {},
   "source": [
    "### Matrix Operations and Linear Algebra"
   ]
  },
  {
   "cell_type": "code",
   "execution_count": 18,
   "metadata": {
    "collapsed": false
   },
   "outputs": [
    {
     "data": {
      "text/plain": [
       "0.0063807428606410185"
      ]
     },
     "execution_count": 18,
     "metadata": {},
     "output_type": "execute_result"
    }
   ],
   "source": [
    "det(ad)"
   ]
  },
  {
   "cell_type": "code",
   "execution_count": 19,
   "metadata": {
    "collapsed": false
   },
   "outputs": [
    {
     "data": {
      "text/plain": [
       "(\n",
       "10x10 ArrayFire.AFArray{Float64,2}:\n",
       " -0.313169  -0.0728446  -0.39406      …  -0.109904    0.428708   -0.472757 \n",
       " -0.302509   0.41031     0.26691         -0.250162    0.435094   -0.116101 \n",
       " -0.445768   0.0535002   0.233114        -0.419856   -0.503528   -0.34567  \n",
       " -0.264462  -0.22278    -0.438104         0.290968    0.13541    -0.0881808\n",
       " -0.344179  -0.107288   -0.162701         0.378457   -0.512499   -0.133523 \n",
       " -0.31535   -0.254988    0.540663     …   0.201097    0.0920345   0.16576  \n",
       " -0.240185   0.157973   -0.441264        -0.467096   -0.15401     0.612364 \n",
       " -0.381838  -0.505288    0.11674         -0.0393874   0.241498    0.394804 \n",
       " -0.194417   0.123034    0.00833061       0.0384355   0.0269871  -0.0596087\n",
       " -0.287353   0.633962   -0.000342207      0.509433    0.0336435   0.236728 ,\n",
       "\n",
       "10-element ArrayFire.AFArray{Float64,1}:\n",
       " 5.16542 \n",
       " 1.61888 \n",
       " 1.30156 \n",
       " 1.16527 \n",
       " 0.872052\n",
       " 0.815467\n",
       " 0.498861\n",
       " 0.407482\n",
       " 0.231483\n",
       " 0.015035,\n",
       "10x10 ArrayFire.AFArray{Float64,2}:\n",
       " -0.331332   -0.348378   -0.352093   …  -0.321779   -0.283452   -0.38397 \n",
       "  0.206926    0.523063   -0.251793      -0.303041    0.0415419  -0.294912\n",
       " -0.657539   -0.124683    0.066637       0.0687384   0.22785    -0.363175\n",
       "  0.0174905  -0.112311   -0.432082      -0.518946   -0.0116748   0.397134\n",
       "  0.392447   -0.4981     -0.34586       -0.0142238   0.371496   -0.102179\n",
       " -0.386488    0.311179    0.0206515  …  -0.347224    0.0254439   0.417919\n",
       "  0.108687   -0.111411    0.431758      -0.489495   -0.229781   -0.28958 \n",
       " -0.161245   -0.0505046  -0.383022       0.389094   -0.571367    0.179618\n",
       "  0.171555   -0.320445    0.362516      -0.11145    -0.468937    0.174345\n",
       "  0.210014    0.338074   -0.192122       0.0800494  -0.357853   -0.37996 )"
      ]
     },
     "execution_count": 19,
     "metadata": {},
     "output_type": "execute_result"
    }
   ],
   "source": [
    "svd(ad)"
   ]
  },
  {
   "cell_type": "code",
   "execution_count": 20,
   "metadata": {
    "collapsed": false
   },
   "outputs": [
    {
     "data": {
      "text/plain": [
       "(\n",
       "10x10 ArrayFire.AFArray{Float64,2}:\n",
       " 1.0        0.0        0.0        …   0.0       0.0       0.0       0.0\n",
       " 0.432199   1.0        0.0            0.0       0.0       0.0       0.0\n",
       " 0.833214   0.882442   1.0            0.0       0.0       0.0       0.0\n",
       " 0.0456768  0.127304  -0.563867       0.0       0.0       0.0       0.0\n",
       " 0.37074    0.301109  -0.720155       0.0       0.0       0.0       0.0\n",
       " 0.0477406  0.803234   0.484338   …   0.0       0.0       0.0       0.0\n",
       " 0.49503    0.850715  -0.206856       1.0       0.0       0.0       0.0\n",
       " 0.908699   0.420751   0.0906361      0.269301  1.0       0.0       0.0\n",
       " 0.79133    0.629142   0.101891      -0.198653  0.144041  1.0       0.0\n",
       " 0.918772   0.571881   0.373907       0.305605  0.859156  0.517231  1.0,\n",
       "\n",
       "10x10 ArrayFire.AFArray{Float64,2}:\n",
       " 0.936116  0.145503   0.391174  …   0.892435    0.368432    0.690633 \n",
       " 0.0       0.896921   0.656337      0.283029    0.367645   -0.296182 \n",
       " 0.0       0.0       -0.881232     -0.893893   -0.304428    0.037773 \n",
       " 0.0       0.0        0.0          -0.0371149   0.45671     0.599551 \n",
       " 0.0       0.0        0.0          -0.106887   -0.527428    0.220003 \n",
       " 0.0       0.0        0.0       …   0.277916    0.024035    0.691294 \n",
       " 0.0       0.0        0.0           0.037266   -0.559184    0.908713 \n",
       " 0.0       0.0        0.0          -0.696586   -0.0995607  -0.0310477\n",
       " 0.0       0.0        0.0           0.0         0.336167   -0.29248  \n",
       " 0.0       0.0        0.0           0.0         0.0        -0.0637559,\n",
       "\n",
       "10-element ArrayFire.AFArray{Int64,1}:\n",
       "  4\n",
       "  2\n",
       " 10\n",
       "  6\n",
       "  8\n",
       "  9\n",
       "  5\n",
       "  1\n",
       "  3\n",
       "  7)"
      ]
     },
     "execution_count": 20,
     "metadata": {},
     "output_type": "execute_result"
    }
   ],
   "source": [
    "lu(ad)"
   ]
  },
  {
   "cell_type": "markdown",
   "metadata": {
    "collapsed": true
   },
   "source": [
    "### FFTs"
   ]
  },
  {
   "cell_type": "code",
   "execution_count": 21,
   "metadata": {
    "collapsed": false
   },
   "outputs": [
    {
     "data": {
      "text/plain": [
       "10x10 ArrayFire.AFArray{Complex{Float64},2}:\n",
       "            49.9215+0.0im         4.19014+0.43302im   …    4.19014-0.43302im \n",
       "          -0.168803-3.47083im     1.37611+0.526002im     -0.541282-0.169453im\n",
       "          -0.487556-2.20675im    -1.13887-1.06387im      -0.346743+1.21406im \n",
       "          -0.512639-0.396899im    1.70543-0.020714im       4.39249+1.59508im \n",
       "            1.37913+6.65045im   -0.209985-2.32303im       -2.19831-1.79236im \n",
       " -0.679374+5.55112e-17im          3.73888-1.4337im    …    3.73888+1.4337im  \n",
       "            1.37913-6.65045im    -2.19831+1.79236im      -0.209985+2.32303im \n",
       "          -0.512639+0.396899im    4.39249-1.59508im        1.70543+0.020714im\n",
       "          -0.487556+2.20675im   -0.346743-1.21406im       -1.13887+1.06387im \n",
       "          -0.168803+3.47083im   -0.541282+0.169453im       1.37611-0.526002im"
      ]
     },
     "execution_count": 21,
     "metadata": {},
     "output_type": "execute_result"
    }
   ],
   "source": [
    "fast_fourier = fft(ad)"
   ]
  },
  {
   "cell_type": "markdown",
   "metadata": {},
   "source": [
    "## Backends\n",
    "\n",
    "ArrayFire allows you to change backends at runtime. This is allows ArrayFire tremendous versatility, and run on a variety of backends, thereby supporting a number of devices. \n",
    "\n",
    "Run the following command to see which backend you're currently using:"
   ]
  },
  {
   "cell_type": "code",
   "execution_count": 22,
   "metadata": {
    "collapsed": false
   },
   "outputs": [
    {
     "name": "stdout",
     "output_type": "stream",
     "text": [
      "CUDA Backend\n"
     ]
    }
   ],
   "source": [
    "getActiveBackend()"
   ]
  },
  {
   "cell_type": "markdown",
   "metadata": {},
   "source": [
    "What are the available backends on this system?"
   ]
  },
  {
   "cell_type": "code",
   "execution_count": 23,
   "metadata": {
    "collapsed": false
   },
   "outputs": [
    {
     "name": "stdout",
     "output_type": "stream",
     "text": [
      "CPU, CUDA and OpenCL\n"
     ]
    }
   ],
   "source": [
    "getAvailableBackends()"
   ]
  },
  {
   "cell_type": "markdown",
   "metadata": {},
   "source": [
    "Our ArrayFire was built for all three backends. Let us now try switching backends. "
   ]
  },
  {
   "cell_type": "code",
   "execution_count": 24,
   "metadata": {
    "collapsed": false
   },
   "outputs": [
    {
     "data": {
      "text/plain": [
       "true"
      ]
     },
     "execution_count": 24,
     "metadata": {},
     "output_type": "execute_result"
    }
   ],
   "source": [
    "setBackend(AF_BACKEND_CPU)"
   ]
  },
  {
   "cell_type": "code",
   "execution_count": 25,
   "metadata": {
    "collapsed": false
   },
   "outputs": [
    {
     "name": "stdout",
     "output_type": "stream",
     "text": [
      "CPU Backend\n"
     ]
    }
   ],
   "source": [
    "getActiveBackend()"
   ]
  },
  {
   "cell_type": "code",
   "execution_count": null,
   "metadata": {
    "collapsed": true
   },
   "outputs": [],
   "source": []
  },
  {
   "cell_type": "code",
   "execution_count": null,
   "metadata": {
    "collapsed": true
   },
   "outputs": [],
   "source": []
  }
 ],
 "metadata": {
  "kernelspec": {
   "display_name": "Julia 0.4.5",
   "language": "julia",
   "name": "julia-0.4"
  },
  "language_info": {
   "file_extension": ".jl",
   "mimetype": "application/julia",
   "name": "julia",
   "version": "0.4.5"
  }
 },
 "nbformat": 4,
 "nbformat_minor": 0
}
