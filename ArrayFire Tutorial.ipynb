{
 "cells": [
  {
   "cell_type": "markdown",
   "metadata": {},
   "source": [
    "# Introduction to ArrayFire\n",
    "\n",
    "ArrayFire.jl is a library for easy GPU computing in Julia. It wraps the library `arrayfire` for Julia. \n",
    "\n",
    "## What's GPU computing?\n",
    "GPU computing is a new frontier of scientific computing. Scientists and engineers can accelerate their codes by using special pieces of hardware on their systems called accelerators. `ArrayFire.jl` lets your harness the power of the GPU on your system.\n",
    "\n",
    "It has several advantages:\n",
    "\n",
    "* Versatile library with accelerated kernels\n",
    "* Easy Julian interface \n",
    "* Applications can easily be accelerated with little or no code changes\n",
    "\n",
    "This is a basic tutorial on how to use the package, and a gentle introduction to the API. \n",
    "\n",
    "First let's load the library."
   ]
  },
  {
   "cell_type": "code",
   "execution_count": 3,
   "metadata": {
    "collapsed": true
   },
   "outputs": [],
   "source": [
    "using ArrayFire"
   ]
  },
  {
   "cell_type": "markdown",
   "metadata": {},
   "source": [
    "## Creating Arrays on the GPU"
   ]
  },
  {
   "cell_type": "markdown",
   "metadata": {},
   "source": [
    "Create an array in Julia. This is a pointer to a section of memory on the CPU."
   ]
  },
  {
   "cell_type": "code",
   "execution_count": 4,
   "metadata": {
    "collapsed": false
   },
   "outputs": [
    {
     "data": {
      "text/plain": [
       "10x10 Array{Float64,2}:\n",
       " 0.739227   0.177136  0.818879   0.0786135  …  0.90051    0.831444  0.807995\n",
       " 0.579058   0.492482  0.0810992  0.194218      0.922065   0.100666  0.710964\n",
       " 0.382741   0.797624  0.542018   0.894958      0.369436   0.638637  0.476762\n",
       " 0.0694213  0.857096  0.678129   0.488981      0.53618    0.599004  0.320919\n",
       " 0.0450154  0.382709  0.918919   0.621951      0.401299   0.185916  0.89937 \n",
       " 0.212781   0.171445  0.206282   0.833725   …  0.979409   0.746143  0.932396\n",
       " 0.979472   0.904124  0.851251   0.101318      0.49867    0.120228  0.47049 \n",
       " 0.159704   0.279094  0.755979   0.304163      0.447355   0.335648  0.720583\n",
       " 0.950161   0.964287  0.380149   0.621023      0.0151696  0.98015   0.914852\n",
       " 0.427073   0.171438  0.217534   0.833214      0.210113   0.869068  0.588594"
      ]
     },
     "execution_count": 4,
     "metadata": {},
     "output_type": "execute_result"
    }
   ],
   "source": [
    "a = rand(10,10)"
   ]
  },
  {
   "cell_type": "markdown",
   "metadata": {},
   "source": [
    "Let us now transfer this to the GPU. The interface to arrays on the GPU is `AFArray`. Call the constructor on this Array. "
   ]
  },
  {
   "cell_type": "code",
   "execution_count": 5,
   "metadata": {
    "collapsed": false
   },
   "outputs": [
    {
     "data": {
      "text/plain": [
       "10x10 ArrayFire.AFArray{Float64,2}:\n",
       " 0.739227   0.177136  0.818879   0.0786135  …  0.90051    0.831444  0.807995\n",
       " 0.579058   0.492482  0.0810992  0.194218      0.922065   0.100666  0.710964\n",
       " 0.382741   0.797624  0.542018   0.894958      0.369436   0.638637  0.476762\n",
       " 0.0694213  0.857096  0.678129   0.488981      0.53618    0.599004  0.320919\n",
       " 0.0450154  0.382709  0.918919   0.621951      0.401299   0.185916  0.89937 \n",
       " 0.212781   0.171445  0.206282   0.833725   …  0.979409   0.746143  0.932396\n",
       " 0.979472   0.904124  0.851251   0.101318      0.49867    0.120228  0.47049 \n",
       " 0.159704   0.279094  0.755979   0.304163      0.447355   0.335648  0.720583\n",
       " 0.950161   0.964287  0.380149   0.621023      0.0151696  0.98015   0.914852\n",
       " 0.427073   0.171438  0.217534   0.833214      0.210113   0.869068  0.588594"
      ]
     },
     "execution_count": 5,
     "metadata": {},
     "output_type": "execute_result"
    }
   ],
   "source": [
    "ad = AFArray(a)"
   ]
  },
  {
   "cell_type": "markdown",
   "metadata": {},
   "source": [
    "_**Note**: The reason you're able to see the Array on the GPU is because in this notebook, there is an implicit memory transfer from device to host. This is just for interactivity, and won't happen in a script. In other words, interactive programming lets you see the values. But real applications won't perform these unnecessary transfers._"
   ]
  },
  {
   "cell_type": "markdown",
   "metadata": {},
   "source": [
    "You could directly generate random numbers on the GPU too. "
   ]
  },
  {
   "cell_type": "code",
   "execution_count": 6,
   "metadata": {
    "collapsed": false
   },
   "outputs": [
    {
     "data": {
      "text/plain": [
       "10x10 ArrayFire.AFArray{Float64,2}:\n",
       " 0.438451   0.508414   0.655754   0.139302   …  0.109688  0.794316   0.762549\n",
       " 0.460365   0.65455    0.0453718  0.350453      0.818407  0.293226   0.81892 \n",
       " 0.250215   0.512604   0.41461    0.138603      0.897313  0.194653   0.568026\n",
       " 0.494744   0.2643     0.0572878  0.745912      0.771221  0.905755   0.181485\n",
       " 0.0530111  0.0519806  0.081616   0.0774803     0.652292  0.111517   0.184462\n",
       " 0.337699   0.578997   0.105665   0.0283375  …  0.85391   0.977373   0.194457\n",
       " 0.396763   0.385556   0.800571   0.450337      0.423468  0.0126922  0.786332\n",
       " 0.874419   0.908215   0.691934   0.684978      0.955083  0.0922648  0.265172\n",
       " 0.482167   0.64162    0.93146    0.378957      0.336171  0.924614   0.281818\n",
       " 0.0428398  0.283399   0.952571   0.24779       0.137669  0.419587   0.353466"
      ]
     },
     "execution_count": 6,
     "metadata": {},
     "output_type": "execute_result"
    }
   ],
   "source": [
    "bd = rand(AFArray{Float64}, 10, 10)"
   ]
  },
  {
   "cell_type": "markdown",
   "metadata": {},
   "source": [
    "Let us now transfer this to the CPU now. You can call the `Array` constructor."
   ]
  },
  {
   "cell_type": "code",
   "execution_count": 7,
   "metadata": {
    "collapsed": false
   },
   "outputs": [
    {
     "data": {
      "text/plain": [
       "10x10 Array{Float64,2}:\n",
       " 0.438451   0.508414   0.655754   0.139302   …  0.109688  0.794316   0.762549\n",
       " 0.460365   0.65455    0.0453718  0.350453      0.818407  0.293226   0.81892 \n",
       " 0.250215   0.512604   0.41461    0.138603      0.897313  0.194653   0.568026\n",
       " 0.494744   0.2643     0.0572878  0.745912      0.771221  0.905755   0.181485\n",
       " 0.0530111  0.0519806  0.081616   0.0774803     0.652292  0.111517   0.184462\n",
       " 0.337699   0.578997   0.105665   0.0283375  …  0.85391   0.977373   0.194457\n",
       " 0.396763   0.385556   0.800571   0.450337      0.423468  0.0126922  0.786332\n",
       " 0.874419   0.908215   0.691934   0.684978      0.955083  0.0922648  0.265172\n",
       " 0.482167   0.64162    0.93146    0.378957      0.336171  0.924614   0.281818\n",
       " 0.0428398  0.283399   0.952571   0.24779       0.137669  0.419587   0.353466"
      ]
     },
     "execution_count": 7,
     "metadata": {},
     "output_type": "execute_result"
    }
   ],
   "source": [
    "b = Array(bd)"
   ]
  },
  {
   "cell_type": "markdown",
   "metadata": {},
   "source": [
    "## Simple Operations"
   ]
  },
  {
   "cell_type": "markdown",
   "metadata": {},
   "source": [
    "`ArrayFire.jl` lets you do many things. It is designed to mimic Base Julia. Feel free to step through the following functions and get comfortable with the API. Chances are that you'd be comfortable if you're familiar with Julia's function interfaces. For a list of supported functions, check the [README](https://github.com/JuliaComputing/ArrayFire.jl)."
   ]
  },
  {
   "cell_type": "markdown",
   "metadata": {},
   "source": [
    "### Arithmetic Operations"
   ]
  },
  {
   "cell_type": "code",
   "execution_count": 8,
   "metadata": {
    "collapsed": false
   },
   "outputs": [
    {
     "data": {
      "text/plain": [
       "10x10 ArrayFire.AFArray{Float64,2}:\n",
       " 1.73923  1.17714  1.81888  1.07861  …  1.00345  1.90051  1.83144  1.80799\n",
       " 1.57906  1.49248  1.0811   1.19422     1.81319  1.92207  1.10067  1.71096\n",
       " 1.38274  1.79762  1.54202  1.89496     1.02551  1.36944  1.63864  1.47676\n",
       " 1.06942  1.8571   1.67813  1.48898     1.10338  1.53618  1.599    1.32092\n",
       " 1.04502  1.38271  1.91892  1.62195     1.82066  1.4013   1.18592  1.89937\n",
       " 1.21278  1.17144  1.20628  1.83372  …  1.28082  1.97941  1.74614  1.9324 \n",
       " 1.97947  1.90412  1.85125  1.10132     1.78655  1.49867  1.12023  1.47049\n",
       " 1.1597   1.27909  1.75598  1.30416     1.86403  1.44736  1.33565  1.72058\n",
       " 1.95016  1.96429  1.38015  1.62102     1.56343  1.01517  1.98015  1.91485\n",
       " 1.42707  1.17144  1.21753  1.83321     1.111    1.21011  1.86907  1.58859"
      ]
     },
     "execution_count": 8,
     "metadata": {},
     "output_type": "execute_result"
    }
   ],
   "source": [
    "ad + 1"
   ]
  },
  {
   "cell_type": "code",
   "execution_count": 9,
   "metadata": {
    "collapsed": false
   },
   "outputs": [
    {
     "data": {
      "text/plain": [
       "10x10 ArrayFire.AFArray{Float64,2}:\n",
       " 0.369613   0.0885678  0.409439   …  0.450255    0.415722   0.403997\n",
       " 0.289529   0.246241   0.0405496     0.461033    0.050333   0.355482\n",
       " 0.19137    0.398812   0.271009      0.184718    0.319318   0.238381\n",
       " 0.0347107  0.428548   0.339065      0.26809     0.299502   0.160459\n",
       " 0.0225077  0.191354   0.459459      0.200649    0.092958   0.449685\n",
       " 0.10639    0.0857224  0.103141   …  0.489705    0.373071   0.466198\n",
       " 0.489736   0.452062   0.425626      0.249335    0.0601142  0.235245\n",
       " 0.0798519  0.139547   0.377989      0.223678    0.167824   0.360291\n",
       " 0.47508    0.482144   0.190075      0.00758478  0.490075   0.457426\n",
       " 0.213536   0.085719   0.108767      0.105056    0.434534   0.294297"
      ]
     },
     "execution_count": 9,
     "metadata": {},
     "output_type": "execute_result"
    }
   ],
   "source": [
    "(ad * 5) / 10 "
   ]
  },
  {
   "cell_type": "code",
   "execution_count": 10,
   "metadata": {
    "collapsed": false
   },
   "outputs": [
    {
     "data": {
      "text/plain": [
       "10x10 ArrayFire.AFArray{Float64,2}:\n",
       " 0.673717   0.176211  0.73038    0.0785326  …  0.783644  0.738905  0.722903\n",
       " 0.547236   0.472814  0.0810103  0.192999      0.796851  0.100496  0.652565\n",
       " 0.373464   0.715698  0.515865   0.780183      0.36109   0.596101  0.458905\n",
       " 0.0693656  0.755945  0.627337   0.469727      0.510856  0.56382   0.315438\n",
       " 0.0450002  0.373435  0.794946   0.582622      0.390614  0.184847  0.782935\n",
       " 0.211179   0.170606  0.204822   0.74044    …  0.830168  0.678812  0.80305 \n",
       " 0.830203   0.785884  0.752106   0.101144      0.478258  0.119939  0.453323\n",
       " 0.159026   0.275485  0.686001   0.299495      0.432582  0.329381  0.659823\n",
       " 0.813509   0.821643  0.371059   0.581868      0.015169  0.830581  0.792472\n",
       " 0.414208   0.170599  0.215822   0.740097      0.20857   0.763728  0.555193"
      ]
     },
     "execution_count": 10,
     "metadata": {},
     "output_type": "execute_result"
    }
   ],
   "source": [
    "sin(ad)"
   ]
  },
  {
   "cell_type": "markdown",
   "metadata": {},
   "source": [
    "### Logical Operations"
   ]
  },
  {
   "cell_type": "code",
   "execution_count": 11,
   "metadata": {
    "collapsed": false
   },
   "outputs": [
    {
     "data": {
      "text/plain": [
       "10x10 ArrayFire.AFArray{Bool,2}:\n",
       "  true  false   true  false   true   true  false   true   true   true\n",
       "  true  false   true  false   true  false   true   true  false  false\n",
       "  true   true   true   true   true   true  false  false   true  false\n",
       " false   true   true  false   true  false  false  false  false   true\n",
       " false   true   true   true   true   true   true  false   true   true\n",
       " false  false   true   true  false   true  false   true  false   true\n",
       "  true   true   true  false  false  false   true   true   true  false\n",
       " false  false   true  false   true   true   true  false   true   true\n",
       "  true   true  false   true   true  false   true  false   true   true\n",
       "  true  false  false   true   true   true  false   true   true   true"
      ]
     },
     "execution_count": 11,
     "metadata": {},
     "output_type": "execute_result"
    }
   ],
   "source": [
    "cd = ad .> bd\n"
   ]
  },
  {
   "cell_type": "code",
   "execution_count": 13,
   "metadata": {
    "collapsed": false
   },
   "outputs": [
    {
     "data": {
      "text/plain": [
       "true"
      ]
     },
     "execution_count": 13,
     "metadata": {},
     "output_type": "execute_result"
    }
   ],
   "source": [
    "any_trues = any(cd)"
   ]
  },
  {
   "cell_type": "markdown",
   "metadata": {},
   "source": [
    "### Indexing\n",
    "\n"
   ]
  },
  {
   "cell_type": "code",
   "execution_count": 67,
   "metadata": {
    "collapsed": false
   },
   "outputs": [
    {
     "data": {
      "text/plain": [
       "10-element ArrayFire.AFArray{Float64,1}:\n",
       " 0.152995\n",
       " 0.955469\n",
       " 0.176844\n",
       " 0.663473\n",
       " 0.856652\n",
       " 0.447839\n",
       " 0.416463\n",
       " 0.456768\n",
       " 0.495323\n",
       " 0.913784"
      ]
     },
     "execution_count": 67,
     "metadata": {},
     "output_type": "execute_result"
    }
   ],
   "source": [
    "ad[:,1]"
   ]
  },
  {
   "cell_type": "code",
   "execution_count": 68,
   "metadata": {
    "collapsed": false
   },
   "outputs": [
    {
     "data": {
      "text/plain": [
       "1x10 ArrayFire.AFArray{Float64,2}:\n",
       " 0.152995  0.794585  0.200785  0.813348  …  0.905061  0.501731  0.632157"
      ]
     },
     "execution_count": 68,
     "metadata": {},
     "output_type": "execute_result"
    }
   ],
   "source": [
    "ad[1,:]"
   ]
  },
  {
   "cell_type": "code",
   "execution_count": 49,
   "metadata": {
    "collapsed": false
   },
   "outputs": [
    {
     "data": {
      "text/plain": [
       "10-element ArrayFire.AFArray{Float64,1}:\n",
       " 0.66476 \n",
       " 0.872586\n",
       " 0.333457\n",
       " 0.910138\n",
       " 0.551748\n",
       " 0.662168\n",
       " 0.31465 \n",
       " 0.142643\n",
       " 0.048001\n",
       " 0.915836"
      ]
     },
     "execution_count": 49,
     "metadata": {},
     "output_type": "execute_result"
    }
   ],
   "source": [
    "ad[:,1]"
   ]
  },
  {
   "cell_type": "code",
   "execution_count": 51,
   "metadata": {
    "collapsed": false
   },
   "outputs": [
    {
     "data": {
      "text/plain": [
       "5x2 ArrayFire.AFArray{Float64,2}:\n",
       " 0.189671   0.519371\n",
       " 0.0251531  0.146488\n",
       " 0.699679   0.996611\n",
       " 0.923479   0.503104\n",
       " 0.641624   0.51145 "
      ]
     },
     "execution_count": 51,
     "metadata": {},
     "output_type": "execute_result"
    }
   ],
   "source": [
    "ad[1:5, 2:3]"
   ]
  },
  {
   "cell_type": "markdown",
   "metadata": {},
   "source": [
    "### Reduction Operations"
   ]
  },
  {
   "cell_type": "code",
   "execution_count": 55,
   "metadata": {
    "collapsed": false
   },
   "outputs": [
    {
     "data": {
      "text/plain": [
       "0.9966108609281346"
      ]
     },
     "execution_count": 55,
     "metadata": {},
     "output_type": "execute_result"
    }
   ],
   "source": [
    "total_max = maximum(ad)\n"
   ]
  },
  {
   "cell_type": "code",
   "execution_count": 56,
   "metadata": {
    "collapsed": false
   },
   "outputs": [
    {
     "data": {
      "text/plain": [
       "10x10 ArrayFire.AFArray{Float64,2}:\n",
       " 0.66476   0.189671    0.519371  0.662404   …  0.623938   0.495667   0.442686\n",
       " 0.872586  0.0251531   0.146488  0.0685135     0.794094   0.416196   0.751396\n",
       " 0.333457  0.699679    0.996611  0.447525      0.262573   0.185601   0.387176\n",
       " 0.910138  0.923479    0.503104  0.643436      0.167292   0.441051   0.649108\n",
       " 0.551748  0.641624    0.51145   0.693909      0.0015113  0.821794   0.550585\n",
       " 0.662168  0.898047    0.267292  0.780975   …  0.916332   0.600123   0.571412\n",
       " 0.31465   0.423677    0.974838  0.734648      0.598479   0.0246532  0.178192\n",
       " 0.142643  0.168039    0.46959   0.956668      0.427506   0.237539   0.212495\n",
       " 0.048001  0.560429    0.202971  0.323088      0.137547   0.802406   0.199354\n",
       " 0.915836  0.00319441  0.12652   0.784247      0.281619   0.462123   0.797501"
      ]
     },
     "execution_count": 56,
     "metadata": {},
     "output_type": "execute_result"
    }
   ],
   "source": [
    "colwise_min = min(ad,2)"
   ]
  },
  {
   "cell_type": "markdown",
   "metadata": {},
   "source": [
    "### Matrix Operations and Linear Algebra"
   ]
  },
  {
   "cell_type": "code",
   "execution_count": 69,
   "metadata": {
    "collapsed": false
   },
   "outputs": [
    {
     "data": {
      "text/plain": [
       "-0.04600600687726762"
      ]
     },
     "execution_count": 69,
     "metadata": {},
     "output_type": "execute_result"
    }
   ],
   "source": [
    "det(ad)"
   ]
  },
  {
   "cell_type": "code",
   "execution_count": 70,
   "metadata": {
    "collapsed": false
   },
   "outputs": [
    {
     "data": {
      "text/plain": [
       "(\n",
       "10x10 ArrayFire.AFArray{Float64,2}:\n",
       " -0.376664   0.180525   -0.187548   …  -0.30556    -0.154167    0.0645086\n",
       " -0.244914   0.386393    0.377311       0.150356    0.028687    0.429446 \n",
       " -0.258864   0.388163    0.132376      -0.144819    0.410999    0.239383 \n",
       " -0.300167  -0.0567043   0.140011      -0.119993    0.087057    0.08686  \n",
       " -0.352792  -0.44407     0.0610391     -0.314808   -0.0929499   0.303221 \n",
       " -0.342344  -0.347806   -0.210112   …   0.0363701  -0.411437    0.177447 \n",
       " -0.348194   0.302747   -0.577918      -0.18051     0.167656   -0.41062  \n",
       " -0.245711   0.34082     0.0117452      0.538055   -0.564427   -0.101073 \n",
       " -0.345334  -0.351342   -0.128852       0.640201    0.523092   -0.0242249\n",
       " -0.313847  -0.121666    0.621878      -0.12761    -0.0260264  -0.666126 ,\n",
       "\n",
       "10-element ArrayFire.AFArray{Float64,1}:\n",
       " 5.56472 \n",
       " 1.48863 \n",
       " 1.26081 \n",
       " 1.09414 \n",
       " 0.946004\n",
       " 0.721054\n",
       " 0.601509\n",
       " 0.358807\n",
       " 0.243519\n",
       " 0.112297,\n",
       "10x10 ArrayFire.AFArray{Float64,2}:\n",
       " -0.306788   -0.262306   -0.247135  -0.413333   …  -0.355578   -0.309189  \n",
       " -0.0750975  -0.0238383  -0.199024  -0.199328      -0.169006   -0.124534  \n",
       "  0.535715   -0.217392   -0.420473   0.0707732      0.15245    -0.370577  \n",
       " -0.49346     0.25823    -0.58889   -0.103713       0.1808     -0.00985637\n",
       "  0.349235    0.277313   -0.292877   0.122303      -0.495787    0.445308  \n",
       "  0.0310872   0.782946    0.220688  -0.309744   …  -0.0995731  -0.199467  \n",
       " -0.0548575  -0.0912732   0.161398   0.24565       -0.697585   -0.366365  \n",
       "  0.304856    0.0399048   0.243042  -0.37412        0.168967   -0.399848  \n",
       " -0.337922    0.113834    0.170657   0.592682       0.118556   -0.318596  \n",
       "  0.191518    0.322331   -0.356374   0.333434       0.0642     -0.343187  )"
      ]
     },
     "execution_count": 70,
     "metadata": {},
     "output_type": "execute_result"
    }
   ],
   "source": [
    "svd(ad)"
   ]
  },
  {
   "cell_type": "code",
   "execution_count": 71,
   "metadata": {
    "collapsed": false
   },
   "outputs": [
    {
     "data": {
      "text/plain": [
       "(\n",
       "10x10 ArrayFire.AFArray{Float64,2}:\n",
       " 1.0       0.0         0.0        …   0.0        0.0       0.0       0.0\n",
       " 0.160126  1.0         0.0            0.0        0.0       0.0       0.0\n",
       " 0.694395  0.362718    1.0            0.0        0.0       0.0       0.0\n",
       " 0.478056  0.660728    0.108827       0.0        0.0       0.0       0.0\n",
       " 0.435873  0.664599    0.902773       0.0        0.0       0.0       0.0\n",
       " 0.896577  0.991802    0.240523   …   0.0        0.0       0.0       0.0\n",
       " 0.468711  0.0821394   0.81529        1.0        0.0       0.0       0.0\n",
       " 0.518408  0.780681    0.531219       0.818056   1.0       0.0       0.0\n",
       " 0.185086  0.366906   -0.110486      -0.499676  -0.22501   1.0       0.0\n",
       " 0.956372  0.145226   -0.0780799      0.204296   0.504336  0.458951  1.0,\n",
       "\n",
       "10x10 ArrayFire.AFArray{Float64,2}:\n",
       " 0.955469  0.0886413  0.101251  …   0.358069    0.124455    0.294425\n",
       " 0.0       0.780391   0.184572      0.847725    0.481803    0.585012\n",
       " 0.0       0.0        0.780729      0.14607     0.389666   -0.318164\n",
       " 0.0       0.0        0.0          -0.204978    0.116582   -0.180054\n",
       " 0.0       0.0        0.0          -0.0546338  -0.355403    0.737138\n",
       " 0.0       0.0        0.0       …  -0.80637     0.0364039   0.114561\n",
       " 0.0       0.0        0.0          -0.499587    0.732904    0.602765\n",
       " 0.0       0.0        0.0          -0.344556   -0.404944   -0.500654\n",
       " 0.0       0.0        0.0           0.0         1.014       0.148491\n",
       " 0.0       0.0        0.0           0.0         0.0         0.468413,\n",
       "\n",
       "10-element ArrayFire.AFArray{Int64,1}:\n",
       "  2\n",
       "  1\n",
       "  4\n",
       "  8\n",
       "  7\n",
       "  5\n",
       "  6\n",
       "  9\n",
       "  3\n",
       " 10)"
      ]
     },
     "execution_count": 71,
     "metadata": {},
     "output_type": "execute_result"
    }
   ],
   "source": [
    "lu(ad)"
   ]
  },
  {
   "cell_type": "markdown",
   "metadata": {
    "collapsed": true
   },
   "source": [
    "### FFTs"
   ]
  },
  {
   "cell_type": "code",
   "execution_count": 15,
   "metadata": {
    "collapsed": false
   },
   "outputs": [
    {
     "data": {
      "text/plain": [
       "10x10 ArrayFire.AFArray{Complex{Float64},2}:\n",
       "           53.7389+0.0im        …   0.471191-0.0703014im\n",
       "          0.509465-0.159805im        2.18338+1.92295im  \n",
       "          0.701106-0.0622702im      -2.33187-3.01037im  \n",
       "         -0.491248-0.87388im        -2.82138+2.08031im  \n",
       "         0.0420829-1.17636im         0.74756-3.70225im  \n",
       " 0.625981+1.66533e-16im         …    6.70498+2.14499im  \n",
       "         0.0420829+1.17636im         2.56021+0.623778im \n",
       "         -0.491248+0.87388im        0.902759-0.409639im \n",
       "          0.701106+0.0622702im     -0.343438-3.03938im  \n",
       "          0.509465+0.159805im       -1.25439-2.89312im  "
      ]
     },
     "execution_count": 15,
     "metadata": {},
     "output_type": "execute_result"
    }
   ],
   "source": [
    "fast_fourier = fft(ad)"
   ]
  },
  {
   "cell_type": "code",
   "execution_count": null,
   "metadata": {
    "collapsed": true
   },
   "outputs": [],
   "source": []
  }
 ],
 "metadata": {
  "kernelspec": {
   "display_name": "Julia 0.4.5",
   "language": "julia",
   "name": "julia-0.4"
  },
  "language_info": {
   "file_extension": ".jl",
   "mimetype": "application/julia",
   "name": "julia",
   "version": "0.4.5"
  }
 },
 "nbformat": 4,
 "nbformat_minor": 0
}
